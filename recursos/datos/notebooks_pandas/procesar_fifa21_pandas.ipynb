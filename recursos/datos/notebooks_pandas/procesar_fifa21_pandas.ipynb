{
 "cells": [
  {
   "cell_type": "markdown",
   "metadata": {
    "slideshow": {
     "slide_type": "slide"
    }
   },
   "source": [
    "# PROCESAMIENTO DEL DATA SET: [FIFA_2021](https://www.kaggle.com/datasets/aayushmishra1512/fifa-2021-complete-player-data?resource=download)"
   ]
  },
  {
   "cell_type": "markdown",
   "metadata": {
    "slideshow": {
     "slide_type": "slide"
    }
   },
   "source": [
    "\n",
    "* Para realizar los cambios necesarios se utilizará la librería [Pandas](https://pandas.pydata.org/)"
   ]
  },
  {
   "cell_type": "markdown",
   "metadata": {
    "slideshow": {
     "slide_type": "slide"
    }
   },
   "source": [
    "* DataSet original:"
   ]
  },
  {
   "cell_type": "code",
   "execution_count": 1,
   "metadata": {
    "slideshow": {
     "slide_type": "slide"
    }
   },
   "outputs": [],
   "source": [
    "import pandas as pd\n",
    "from os import path\n",
    "\n",
    "try:\n",
    "    ruta_completa = path.join(path.realpath('..'), \"csv_originales\" ,\"FIFA-21 Complete.csv\")\n",
    "    data_set_fifa = pd.read_csv(ruta_completa, encoding='utf-8', delimiter=';')\n",
    "except FileNotFoundError:\n",
    "    print(\"Archivo csv 'FIFA-21 complete.csv' no encontrado\")"
   ]
  },
  {
   "cell_type": "code",
   "execution_count": 2,
   "metadata": {},
   "outputs": [
    {
     "data": {
      "text/html": [
       "<div>\n",
       "<style scoped>\n",
       "    .dataframe tbody tr th:only-of-type {\n",
       "        vertical-align: middle;\n",
       "    }\n",
       "\n",
       "    .dataframe tbody tr th {\n",
       "        vertical-align: top;\n",
       "    }\n",
       "\n",
       "    .dataframe thead th {\n",
       "        text-align: right;\n",
       "    }\n",
       "</style>\n",
       "<table border=\"1\" class=\"dataframe\">\n",
       "  <thead>\n",
       "    <tr style=\"text-align: right;\">\n",
       "      <th></th>\n",
       "      <th>player_id</th>\n",
       "      <th>name</th>\n",
       "      <th>nationality</th>\n",
       "      <th>position</th>\n",
       "      <th>overall</th>\n",
       "      <th>age</th>\n",
       "      <th>hits</th>\n",
       "      <th>potential</th>\n",
       "      <th>team</th>\n",
       "    </tr>\n",
       "  </thead>\n",
       "  <tbody>\n",
       "    <tr>\n",
       "      <th>0</th>\n",
       "      <td>158023</td>\n",
       "      <td>Lionel Messi</td>\n",
       "      <td>Argentina</td>\n",
       "      <td>ST|CF|RW</td>\n",
       "      <td>94</td>\n",
       "      <td>33</td>\n",
       "      <td>299</td>\n",
       "      <td>94</td>\n",
       "      <td>FC Barcelona</td>\n",
       "    </tr>\n",
       "    <tr>\n",
       "      <th>1</th>\n",
       "      <td>20801</td>\n",
       "      <td>Cristiano Ronaldo</td>\n",
       "      <td>Portugal</td>\n",
       "      <td>ST|LW</td>\n",
       "      <td>93</td>\n",
       "      <td>35</td>\n",
       "      <td>276</td>\n",
       "      <td>93</td>\n",
       "      <td>Juventus</td>\n",
       "    </tr>\n",
       "    <tr>\n",
       "      <th>2</th>\n",
       "      <td>190871</td>\n",
       "      <td>Neymar Jr</td>\n",
       "      <td>Brazil</td>\n",
       "      <td>CAM|LW</td>\n",
       "      <td>92</td>\n",
       "      <td>28</td>\n",
       "      <td>186</td>\n",
       "      <td>92</td>\n",
       "      <td>Paris Saint-Germain</td>\n",
       "    </tr>\n",
       "    <tr>\n",
       "      <th>3</th>\n",
       "      <td>203376</td>\n",
       "      <td>Virgil van Dijk</td>\n",
       "      <td>Netherlands</td>\n",
       "      <td>CB</td>\n",
       "      <td>91</td>\n",
       "      <td>29</td>\n",
       "      <td>127</td>\n",
       "      <td>92</td>\n",
       "      <td>Liverpool</td>\n",
       "    </tr>\n",
       "    <tr>\n",
       "      <th>4</th>\n",
       "      <td>200389</td>\n",
       "      <td>Jan Oblak</td>\n",
       "      <td>Slovenia</td>\n",
       "      <td>GK</td>\n",
       "      <td>91</td>\n",
       "      <td>27</td>\n",
       "      <td>47</td>\n",
       "      <td>93</td>\n",
       "      <td>Atlético Madrid</td>\n",
       "    </tr>\n",
       "    <tr>\n",
       "      <th>...</th>\n",
       "      <td>...</td>\n",
       "      <td>...</td>\n",
       "      <td>...</td>\n",
       "      <td>...</td>\n",
       "      <td>...</td>\n",
       "      <td>...</td>\n",
       "      <td>...</td>\n",
       "      <td>...</td>\n",
       "      <td>...</td>\n",
       "    </tr>\n",
       "    <tr>\n",
       "      <th>17976</th>\n",
       "      <td>256093</td>\n",
       "      <td>Jaime Ortíz</td>\n",
       "      <td>Ecuador</td>\n",
       "      <td>ST</td>\n",
       "      <td>56</td>\n",
       "      <td>21</td>\n",
       "      <td>0</td>\n",
       "      <td>64</td>\n",
       "      <td>Sociedad Deportiva Aucas</td>\n",
       "    </tr>\n",
       "    <tr>\n",
       "      <th>17977</th>\n",
       "      <td>256088</td>\n",
       "      <td>Michael Carcelén</td>\n",
       "      <td>Ecuador</td>\n",
       "      <td>CM</td>\n",
       "      <td>56</td>\n",
       "      <td>23</td>\n",
       "      <td>0</td>\n",
       "      <td>64</td>\n",
       "      <td>Club Deportivo El Nacional</td>\n",
       "    </tr>\n",
       "    <tr>\n",
       "      <th>17978</th>\n",
       "      <td>256074</td>\n",
       "      <td>Davide Luzi</td>\n",
       "      <td>Venezuela</td>\n",
       "      <td>ST</td>\n",
       "      <td>56</td>\n",
       "      <td>18</td>\n",
       "      <td>1</td>\n",
       "      <td>68</td>\n",
       "      <td>Zamora Fútbol Club</td>\n",
       "    </tr>\n",
       "    <tr>\n",
       "      <th>17979</th>\n",
       "      <td>256073</td>\n",
       "      <td>Sergio Sulbarán</td>\n",
       "      <td>Venezuela</td>\n",
       "      <td>RW</td>\n",
       "      <td>56</td>\n",
       "      <td>22</td>\n",
       "      <td>0</td>\n",
       "      <td>62</td>\n",
       "      <td>Zamora Fútbol Club</td>\n",
       "    </tr>\n",
       "    <tr>\n",
       "      <th>17980</th>\n",
       "      <td>256072</td>\n",
       "      <td>Luis Peña</td>\n",
       "      <td>Venezuela</td>\n",
       "      <td>CM</td>\n",
       "      <td>56</td>\n",
       "      <td>18</td>\n",
       "      <td>0</td>\n",
       "      <td>69</td>\n",
       "      <td>Zamora Fútbol Club</td>\n",
       "    </tr>\n",
       "  </tbody>\n",
       "</table>\n",
       "<p>17981 rows × 9 columns</p>\n",
       "</div>"
      ],
      "text/plain": [
       "       player_id               name  nationality  position  overall  age  \\\n",
       "0         158023       Lionel Messi    Argentina  ST|CF|RW       94   33   \n",
       "1          20801  Cristiano Ronaldo     Portugal     ST|LW       93   35   \n",
       "2         190871          Neymar Jr       Brazil    CAM|LW       92   28   \n",
       "3         203376    Virgil van Dijk  Netherlands        CB       91   29   \n",
       "4         200389          Jan Oblak     Slovenia        GK       91   27   \n",
       "...          ...                ...          ...       ...      ...  ...   \n",
       "17976     256093        Jaime Ortíz      Ecuador        ST       56   21   \n",
       "17977     256088   Michael Carcelén      Ecuador        CM       56   23   \n",
       "17978     256074        Davide Luzi    Venezuela        ST       56   18   \n",
       "17979     256073    Sergio Sulbarán    Venezuela        RW       56   22   \n",
       "17980     256072          Luis Peña    Venezuela        CM       56   18   \n",
       "\n",
       "       hits  potential                         team  \n",
       "0       299         94                FC Barcelona   \n",
       "1       276         93                    Juventus   \n",
       "2       186         92         Paris Saint-Germain   \n",
       "3       127         92                   Liverpool   \n",
       "4        47         93             Atlético Madrid   \n",
       "...     ...        ...                          ...  \n",
       "17976     0         64    Sociedad Deportiva Aucas   \n",
       "17977     0         64  Club Deportivo El Nacional   \n",
       "17978     1         68          Zamora Fútbol Club   \n",
       "17979     0         62          Zamora Fútbol Club   \n",
       "17980     0         69          Zamora Fútbol Club   \n",
       "\n",
       "[17981 rows x 9 columns]"
      ]
     },
     "execution_count": 2,
     "metadata": {},
     "output_type": "execute_result"
    }
   ],
   "source": [
    "data_set_fifa"
   ]
  },
  {
   "cell_type": "markdown",
   "metadata": {
    "slideshow": {
     "slide_type": "slide"
    }
   },
   "source": [
    "* Primero necesitamos eliminar las columnas: <font color='red'>\"player_id\", \"overall\", \"hits\"</font>\n",
    "* Luego, debemos reacomodar las columnas, para lograr el siguiente orden: <font color='aqua'>\"team\", \"nationality\", \"position\", \"age\", \"potential\", \"name\"</font>"
   ]
  },
  {
   "cell_type": "code",
   "execution_count": 3,
   "metadata": {
    "slideshow": {
     "slide_type": "slide"
    }
   },
   "outputs": [],
   "source": [
    "columnas_sin_uso = ['player_id', 'overall', 'hits']\n",
    "data_set_fifa = data_set_fifa.drop(columnas_sin_uso, axis='columns')"
   ]
  },
  {
   "cell_type": "markdown",
   "metadata": {},
   "source": [
    "* ELIMINO LAS COLUMNAS SIN USO:"
   ]
  },
  {
   "cell_type": "code",
   "execution_count": 4,
   "metadata": {},
   "outputs": [
    {
     "data": {
      "text/html": [
       "<div>\n",
       "<style scoped>\n",
       "    .dataframe tbody tr th:only-of-type {\n",
       "        vertical-align: middle;\n",
       "    }\n",
       "\n",
       "    .dataframe tbody tr th {\n",
       "        vertical-align: top;\n",
       "    }\n",
       "\n",
       "    .dataframe thead th {\n",
       "        text-align: right;\n",
       "    }\n",
       "</style>\n",
       "<table border=\"1\" class=\"dataframe\">\n",
       "  <thead>\n",
       "    <tr style=\"text-align: right;\">\n",
       "      <th></th>\n",
       "      <th>name</th>\n",
       "      <th>nationality</th>\n",
       "      <th>position</th>\n",
       "      <th>age</th>\n",
       "      <th>potential</th>\n",
       "      <th>team</th>\n",
       "    </tr>\n",
       "  </thead>\n",
       "  <tbody>\n",
       "    <tr>\n",
       "      <th>0</th>\n",
       "      <td>Lionel Messi</td>\n",
       "      <td>Argentina</td>\n",
       "      <td>ST|CF|RW</td>\n",
       "      <td>33</td>\n",
       "      <td>94</td>\n",
       "      <td>FC Barcelona</td>\n",
       "    </tr>\n",
       "    <tr>\n",
       "      <th>1</th>\n",
       "      <td>Cristiano Ronaldo</td>\n",
       "      <td>Portugal</td>\n",
       "      <td>ST|LW</td>\n",
       "      <td>35</td>\n",
       "      <td>93</td>\n",
       "      <td>Juventus</td>\n",
       "    </tr>\n",
       "    <tr>\n",
       "      <th>2</th>\n",
       "      <td>Neymar Jr</td>\n",
       "      <td>Brazil</td>\n",
       "      <td>CAM|LW</td>\n",
       "      <td>28</td>\n",
       "      <td>92</td>\n",
       "      <td>Paris Saint-Germain</td>\n",
       "    </tr>\n",
       "    <tr>\n",
       "      <th>3</th>\n",
       "      <td>Virgil van Dijk</td>\n",
       "      <td>Netherlands</td>\n",
       "      <td>CB</td>\n",
       "      <td>29</td>\n",
       "      <td>92</td>\n",
       "      <td>Liverpool</td>\n",
       "    </tr>\n",
       "    <tr>\n",
       "      <th>4</th>\n",
       "      <td>Jan Oblak</td>\n",
       "      <td>Slovenia</td>\n",
       "      <td>GK</td>\n",
       "      <td>27</td>\n",
       "      <td>93</td>\n",
       "      <td>Atlético Madrid</td>\n",
       "    </tr>\n",
       "    <tr>\n",
       "      <th>...</th>\n",
       "      <td>...</td>\n",
       "      <td>...</td>\n",
       "      <td>...</td>\n",
       "      <td>...</td>\n",
       "      <td>...</td>\n",
       "      <td>...</td>\n",
       "    </tr>\n",
       "    <tr>\n",
       "      <th>17976</th>\n",
       "      <td>Jaime Ortíz</td>\n",
       "      <td>Ecuador</td>\n",
       "      <td>ST</td>\n",
       "      <td>21</td>\n",
       "      <td>64</td>\n",
       "      <td>Sociedad Deportiva Aucas</td>\n",
       "    </tr>\n",
       "    <tr>\n",
       "      <th>17977</th>\n",
       "      <td>Michael Carcelén</td>\n",
       "      <td>Ecuador</td>\n",
       "      <td>CM</td>\n",
       "      <td>23</td>\n",
       "      <td>64</td>\n",
       "      <td>Club Deportivo El Nacional</td>\n",
       "    </tr>\n",
       "    <tr>\n",
       "      <th>17978</th>\n",
       "      <td>Davide Luzi</td>\n",
       "      <td>Venezuela</td>\n",
       "      <td>ST</td>\n",
       "      <td>18</td>\n",
       "      <td>68</td>\n",
       "      <td>Zamora Fútbol Club</td>\n",
       "    </tr>\n",
       "    <tr>\n",
       "      <th>17979</th>\n",
       "      <td>Sergio Sulbarán</td>\n",
       "      <td>Venezuela</td>\n",
       "      <td>RW</td>\n",
       "      <td>22</td>\n",
       "      <td>62</td>\n",
       "      <td>Zamora Fútbol Club</td>\n",
       "    </tr>\n",
       "    <tr>\n",
       "      <th>17980</th>\n",
       "      <td>Luis Peña</td>\n",
       "      <td>Venezuela</td>\n",
       "      <td>CM</td>\n",
       "      <td>18</td>\n",
       "      <td>69</td>\n",
       "      <td>Zamora Fútbol Club</td>\n",
       "    </tr>\n",
       "  </tbody>\n",
       "</table>\n",
       "<p>17981 rows × 6 columns</p>\n",
       "</div>"
      ],
      "text/plain": [
       "                    name  nationality  position  age  potential  \\\n",
       "0           Lionel Messi    Argentina  ST|CF|RW   33         94   \n",
       "1      Cristiano Ronaldo     Portugal     ST|LW   35         93   \n",
       "2              Neymar Jr       Brazil    CAM|LW   28         92   \n",
       "3        Virgil van Dijk  Netherlands        CB   29         92   \n",
       "4              Jan Oblak     Slovenia        GK   27         93   \n",
       "...                  ...          ...       ...  ...        ...   \n",
       "17976        Jaime Ortíz      Ecuador        ST   21         64   \n",
       "17977   Michael Carcelén      Ecuador        CM   23         64   \n",
       "17978        Davide Luzi    Venezuela        ST   18         68   \n",
       "17979    Sergio Sulbarán    Venezuela        RW   22         62   \n",
       "17980          Luis Peña    Venezuela        CM   18         69   \n",
       "\n",
       "                              team  \n",
       "0                    FC Barcelona   \n",
       "1                        Juventus   \n",
       "2             Paris Saint-Germain   \n",
       "3                       Liverpool   \n",
       "4                 Atlético Madrid   \n",
       "...                            ...  \n",
       "17976    Sociedad Deportiva Aucas   \n",
       "17977  Club Deportivo El Nacional   \n",
       "17978          Zamora Fútbol Club   \n",
       "17979          Zamora Fútbol Club   \n",
       "17980          Zamora Fútbol Club   \n",
       "\n",
       "[17981 rows x 6 columns]"
      ]
     },
     "execution_count": 4,
     "metadata": {},
     "output_type": "execute_result"
    }
   ],
   "source": [
    "data_set_fifa"
   ]
  },
  {
   "cell_type": "code",
   "execution_count": 5,
   "metadata": {
    "slideshow": {
     "slide_type": "slide"
    }
   },
   "outputs": [],
   "source": [
    "nuevo_orden_columnas = ['team', 'nationality', 'position', 'age', 'potential', 'name']\n",
    "data_set_fifa = data_set_fifa.reindex(columns=nuevo_orden_columnas)"
   ]
  },
  {
   "cell_type": "markdown",
   "metadata": {},
   "source": [
    "* REACOMODO LAS COLUMNAS:"
   ]
  },
  {
   "cell_type": "code",
   "execution_count": 6,
   "metadata": {},
   "outputs": [
    {
     "data": {
      "text/html": [
       "<div>\n",
       "<style scoped>\n",
       "    .dataframe tbody tr th:only-of-type {\n",
       "        vertical-align: middle;\n",
       "    }\n",
       "\n",
       "    .dataframe tbody tr th {\n",
       "        vertical-align: top;\n",
       "    }\n",
       "\n",
       "    .dataframe thead th {\n",
       "        text-align: right;\n",
       "    }\n",
       "</style>\n",
       "<table border=\"1\" class=\"dataframe\">\n",
       "  <thead>\n",
       "    <tr style=\"text-align: right;\">\n",
       "      <th></th>\n",
       "      <th>team</th>\n",
       "      <th>nationality</th>\n",
       "      <th>position</th>\n",
       "      <th>age</th>\n",
       "      <th>potential</th>\n",
       "      <th>name</th>\n",
       "    </tr>\n",
       "  </thead>\n",
       "  <tbody>\n",
       "    <tr>\n",
       "      <th>0</th>\n",
       "      <td>FC Barcelona</td>\n",
       "      <td>Argentina</td>\n",
       "      <td>ST|CF|RW</td>\n",
       "      <td>33</td>\n",
       "      <td>94</td>\n",
       "      <td>Lionel Messi</td>\n",
       "    </tr>\n",
       "    <tr>\n",
       "      <th>1</th>\n",
       "      <td>Juventus</td>\n",
       "      <td>Portugal</td>\n",
       "      <td>ST|LW</td>\n",
       "      <td>35</td>\n",
       "      <td>93</td>\n",
       "      <td>Cristiano Ronaldo</td>\n",
       "    </tr>\n",
       "    <tr>\n",
       "      <th>2</th>\n",
       "      <td>Paris Saint-Germain</td>\n",
       "      <td>Brazil</td>\n",
       "      <td>CAM|LW</td>\n",
       "      <td>28</td>\n",
       "      <td>92</td>\n",
       "      <td>Neymar Jr</td>\n",
       "    </tr>\n",
       "    <tr>\n",
       "      <th>3</th>\n",
       "      <td>Liverpool</td>\n",
       "      <td>Netherlands</td>\n",
       "      <td>CB</td>\n",
       "      <td>29</td>\n",
       "      <td>92</td>\n",
       "      <td>Virgil van Dijk</td>\n",
       "    </tr>\n",
       "    <tr>\n",
       "      <th>4</th>\n",
       "      <td>Atlético Madrid</td>\n",
       "      <td>Slovenia</td>\n",
       "      <td>GK</td>\n",
       "      <td>27</td>\n",
       "      <td>93</td>\n",
       "      <td>Jan Oblak</td>\n",
       "    </tr>\n",
       "    <tr>\n",
       "      <th>...</th>\n",
       "      <td>...</td>\n",
       "      <td>...</td>\n",
       "      <td>...</td>\n",
       "      <td>...</td>\n",
       "      <td>...</td>\n",
       "      <td>...</td>\n",
       "    </tr>\n",
       "    <tr>\n",
       "      <th>17976</th>\n",
       "      <td>Sociedad Deportiva Aucas</td>\n",
       "      <td>Ecuador</td>\n",
       "      <td>ST</td>\n",
       "      <td>21</td>\n",
       "      <td>64</td>\n",
       "      <td>Jaime Ortíz</td>\n",
       "    </tr>\n",
       "    <tr>\n",
       "      <th>17977</th>\n",
       "      <td>Club Deportivo El Nacional</td>\n",
       "      <td>Ecuador</td>\n",
       "      <td>CM</td>\n",
       "      <td>23</td>\n",
       "      <td>64</td>\n",
       "      <td>Michael Carcelén</td>\n",
       "    </tr>\n",
       "    <tr>\n",
       "      <th>17978</th>\n",
       "      <td>Zamora Fútbol Club</td>\n",
       "      <td>Venezuela</td>\n",
       "      <td>ST</td>\n",
       "      <td>18</td>\n",
       "      <td>68</td>\n",
       "      <td>Davide Luzi</td>\n",
       "    </tr>\n",
       "    <tr>\n",
       "      <th>17979</th>\n",
       "      <td>Zamora Fútbol Club</td>\n",
       "      <td>Venezuela</td>\n",
       "      <td>RW</td>\n",
       "      <td>22</td>\n",
       "      <td>62</td>\n",
       "      <td>Sergio Sulbarán</td>\n",
       "    </tr>\n",
       "    <tr>\n",
       "      <th>17980</th>\n",
       "      <td>Zamora Fútbol Club</td>\n",
       "      <td>Venezuela</td>\n",
       "      <td>CM</td>\n",
       "      <td>18</td>\n",
       "      <td>69</td>\n",
       "      <td>Luis Peña</td>\n",
       "    </tr>\n",
       "  </tbody>\n",
       "</table>\n",
       "<p>17981 rows × 6 columns</p>\n",
       "</div>"
      ],
      "text/plain": [
       "                              team  nationality  position  age  potential  \\\n",
       "0                    FC Barcelona     Argentina  ST|CF|RW   33         94   \n",
       "1                        Juventus      Portugal     ST|LW   35         93   \n",
       "2             Paris Saint-Germain        Brazil    CAM|LW   28         92   \n",
       "3                       Liverpool   Netherlands        CB   29         92   \n",
       "4                 Atlético Madrid      Slovenia        GK   27         93   \n",
       "...                            ...          ...       ...  ...        ...   \n",
       "17976    Sociedad Deportiva Aucas       Ecuador        ST   21         64   \n",
       "17977  Club Deportivo El Nacional       Ecuador        CM   23         64   \n",
       "17978          Zamora Fútbol Club     Venezuela        ST   18         68   \n",
       "17979          Zamora Fútbol Club     Venezuela        RW   22         62   \n",
       "17980          Zamora Fútbol Club     Venezuela        CM   18         69   \n",
       "\n",
       "                    name  \n",
       "0           Lionel Messi  \n",
       "1      Cristiano Ronaldo  \n",
       "2              Neymar Jr  \n",
       "3        Virgil van Dijk  \n",
       "4              Jan Oblak  \n",
       "...                  ...  \n",
       "17976        Jaime Ortíz  \n",
       "17977   Michael Carcelén  \n",
       "17978        Davide Luzi  \n",
       "17979    Sergio Sulbarán  \n",
       "17980          Luis Peña  \n",
       "\n",
       "[17981 rows x 6 columns]"
      ]
     },
     "execution_count": 6,
     "metadata": {},
     "output_type": "execute_result"
    }
   ],
   "source": [
    "data_set_fifa"
   ]
  },
  {
   "cell_type": "markdown",
   "metadata": {
    "slideshow": {
     "slide_type": "slide"
    }
   },
   "source": [
    "* El siguiente paso es traducir al español las <font color='Fuchsia'>posiciones de cada jugador</font>, de su abreviatura en ingles, a su <font color='Aqua'>traducción sin abreviar en español</font>. Para ello se utilizará un archivo json con las traducciones contempladas: "
   ]
  },
  {
   "cell_type": "code",
   "execution_count": 7,
   "metadata": {
    "slideshow": {
     "slide_type": "slide"
    }
   },
   "outputs": [],
   "source": [
    "import json\n",
    "\n",
    "try:\n",
    "    ruta_completa = path.join(path.realpath('..'), \"csv_originales\" ,\"fifa_pos_ENG_ESP.json\")\n",
    "    with open(ruta_completa, 'r', encoding=\"utf-8\") as trad:\n",
    "        traduccion = json.load(trad)\n",
    "except FileNotFoundError:\n",
    "    print (\"Archivo fifa_pos_ENG_ESP.json,  no encontrado\")\n",
    "else:\n",
    "    valores = (data_set_fifa['position'].str.split('|'))\n",
    "    nuevas_pos = []\n",
    "    for pos in valores:\n",
    "        pos = '|'.join(list((map(lambda pos: traduccion[pos], pos))))\n",
    "        nuevas_pos.append(pos) # me guardo las posiciones traducidas\n",
    "\n",
    "    data_set_fifa['position'] = nuevas_pos"
   ]
  },
  {
   "cell_type": "markdown",
   "metadata": {},
   "source": [
    "* TRADUCCION DE LAS POSICIONES:"
   ]
  },
  {
   "cell_type": "code",
   "execution_count": 8,
   "metadata": {},
   "outputs": [
    {
     "data": {
      "text/plain": [
       "0        Delantero Centro|Media punta|Extremo izquierdo\n",
       "1                    Delantero Centro|Extremo izquierdo\n",
       "2               Medio centro ofensivo|Extremo izquierdo\n",
       "3                                       Defensa central\n",
       "4                                               Portero\n",
       "                              ...                      \n",
       "17976                                  Delantero Centro\n",
       "17977                                      Medio centro\n",
       "17978                                  Delantero Centro\n",
       "17979                                 Extremo izquierdo\n",
       "17980                                      Medio centro\n",
       "Name: position, Length: 17981, dtype: object"
      ]
     },
     "execution_count": 8,
     "metadata": {},
     "output_type": "execute_result"
    }
   ],
   "source": [
    "data_set_fifa['position']"
   ]
  },
  {
   "cell_type": "markdown",
   "metadata": {
    "slideshow": {
     "slide_type": "slide"
    }
   },
   "source": [
    "* Por último, necesitamos reemplazar los valores de la columna <font color='Fuchsia'>'potential'</font> por su <font color='Aqua'>equivalente en string</font>, dado su valor numérico:"
   ]
  },
  {
   "cell_type": "code",
   "execution_count": 9,
   "metadata": {
    "slideshow": {
     "slide_type": "slide"
    }
   },
   "outputs": [],
   "source": [
    "def conversion_del_potencial(potencial):\n",
    "    \"\"\"\n",
    "    :param potencial: el valor de la columna 'Potential'\n",
    "    :return: el equivalente a potencial en string\n",
    "    \"\"\"\n",
    "    if(potencial < 60):\n",
    "        potencial = \"Regular\"\n",
    "    elif(potencial > 60 and potencial <= 79):\n",
    "        potencial = \"Bueno\"\n",
    "    elif(potencial > 79 and potencial <= 89):\n",
    "        potencial = \"Muy bueno\"\n",
    "    else:\n",
    "        potencial = \"Sobresaliente\"\n",
    "    return potencial\n",
    "\n",
    "data_set_fifa['potential'] = list(map(lambda potencial: conversion_del_potencial(potencial), data_set_fifa['potential']))"
   ]
  },
  {
   "cell_type": "markdown",
   "metadata": {},
   "source": [
    "* CONVERSION DEL POTENCIAL DE ENTERO A STRING:"
   ]
  },
  {
   "cell_type": "code",
   "execution_count": 10,
   "metadata": {},
   "outputs": [
    {
     "data": {
      "text/plain": [
       "0        Sobresaliente\n",
       "1        Sobresaliente\n",
       "2        Sobresaliente\n",
       "3        Sobresaliente\n",
       "4        Sobresaliente\n",
       "             ...      \n",
       "17976            Bueno\n",
       "17977            Bueno\n",
       "17978            Bueno\n",
       "17979            Bueno\n",
       "17980            Bueno\n",
       "Name: potential, Length: 17981, dtype: object"
      ]
     },
     "execution_count": 10,
     "metadata": {},
     "output_type": "execute_result"
    }
   ],
   "source": [
    "data_set_fifa['potential']"
   ]
  },
  {
   "cell_type": "markdown",
   "metadata": {
    "slideshow": {
     "slide_type": "slide"
    }
   },
   "source": [
    "* Finalmente, obtenemos, <font color='Aqua'>el nuevo data set de fifa_2021</font>, con las modificaciones requeridas para ser utilizado por  <font color='Fuchsia'>FiguRace</font>: "
   ]
  },
  {
   "cell_type": "markdown",
   "metadata": {},
   "source": [
    "* DATASET FINAL:"
   ]
  },
  {
   "cell_type": "code",
   "execution_count": 49,
   "metadata": {
    "slideshow": {
     "slide_type": "slide"
    }
   },
   "outputs": [
    {
     "name": "stdout",
     "output_type": "stream",
     "text": [
      "DATASET FINAL: \n"
     ]
    },
    {
     "data": {
      "text/html": [
       "<div>\n",
       "<style scoped>\n",
       "    .dataframe tbody tr th:only-of-type {\n",
       "        vertical-align: middle;\n",
       "    }\n",
       "\n",
       "    .dataframe tbody tr th {\n",
       "        vertical-align: top;\n",
       "    }\n",
       "\n",
       "    .dataframe thead th {\n",
       "        text-align: right;\n",
       "    }\n",
       "</style>\n",
       "<table border=\"1\" class=\"dataframe\">\n",
       "  <thead>\n",
       "    <tr style=\"text-align: right;\">\n",
       "      <th></th>\n",
       "      <th>team</th>\n",
       "      <th>nationality</th>\n",
       "      <th>position</th>\n",
       "      <th>age</th>\n",
       "      <th>potential</th>\n",
       "      <th>name</th>\n",
       "    </tr>\n",
       "  </thead>\n",
       "  <tbody>\n",
       "    <tr>\n",
       "      <th>0</th>\n",
       "      <td>FC Barcelona</td>\n",
       "      <td>Argentina</td>\n",
       "      <td>Delantero Centro|Media punta|Extremo izquierdo</td>\n",
       "      <td>33</td>\n",
       "      <td>Sobresaliente</td>\n",
       "      <td>Lionel Messi</td>\n",
       "    </tr>\n",
       "    <tr>\n",
       "      <th>1</th>\n",
       "      <td>Juventus</td>\n",
       "      <td>Portugal</td>\n",
       "      <td>Delantero Centro|Extremo izquierdo</td>\n",
       "      <td>35</td>\n",
       "      <td>Sobresaliente</td>\n",
       "      <td>Cristiano Ronaldo</td>\n",
       "    </tr>\n",
       "    <tr>\n",
       "      <th>2</th>\n",
       "      <td>Paris Saint-Germain</td>\n",
       "      <td>Brazil</td>\n",
       "      <td>Medio centro ofensivo|Extremo izquierdo</td>\n",
       "      <td>28</td>\n",
       "      <td>Sobresaliente</td>\n",
       "      <td>Neymar Jr</td>\n",
       "    </tr>\n",
       "    <tr>\n",
       "      <th>3</th>\n",
       "      <td>Liverpool</td>\n",
       "      <td>Netherlands</td>\n",
       "      <td>Defensa central</td>\n",
       "      <td>29</td>\n",
       "      <td>Sobresaliente</td>\n",
       "      <td>Virgil van Dijk</td>\n",
       "    </tr>\n",
       "    <tr>\n",
       "      <th>4</th>\n",
       "      <td>Atlético Madrid</td>\n",
       "      <td>Slovenia</td>\n",
       "      <td>Portero</td>\n",
       "      <td>27</td>\n",
       "      <td>Sobresaliente</td>\n",
       "      <td>Jan Oblak</td>\n",
       "    </tr>\n",
       "    <tr>\n",
       "      <th>...</th>\n",
       "      <td>...</td>\n",
       "      <td>...</td>\n",
       "      <td>...</td>\n",
       "      <td>...</td>\n",
       "      <td>...</td>\n",
       "      <td>...</td>\n",
       "    </tr>\n",
       "    <tr>\n",
       "      <th>17976</th>\n",
       "      <td>Sociedad Deportiva Aucas</td>\n",
       "      <td>Ecuador</td>\n",
       "      <td>Delantero Centro</td>\n",
       "      <td>21</td>\n",
       "      <td>Bueno</td>\n",
       "      <td>Jaime Ortíz</td>\n",
       "    </tr>\n",
       "    <tr>\n",
       "      <th>17977</th>\n",
       "      <td>Club Deportivo El Nacional</td>\n",
       "      <td>Ecuador</td>\n",
       "      <td>Medio centro</td>\n",
       "      <td>23</td>\n",
       "      <td>Bueno</td>\n",
       "      <td>Michael Carcelén</td>\n",
       "    </tr>\n",
       "    <tr>\n",
       "      <th>17978</th>\n",
       "      <td>Zamora Fútbol Club</td>\n",
       "      <td>Venezuela</td>\n",
       "      <td>Delantero Centro</td>\n",
       "      <td>18</td>\n",
       "      <td>Bueno</td>\n",
       "      <td>Davide Luzi</td>\n",
       "    </tr>\n",
       "    <tr>\n",
       "      <th>17979</th>\n",
       "      <td>Zamora Fútbol Club</td>\n",
       "      <td>Venezuela</td>\n",
       "      <td>Extremo izquierdo</td>\n",
       "      <td>22</td>\n",
       "      <td>Bueno</td>\n",
       "      <td>Sergio Sulbarán</td>\n",
       "    </tr>\n",
       "    <tr>\n",
       "      <th>17980</th>\n",
       "      <td>Zamora Fútbol Club</td>\n",
       "      <td>Venezuela</td>\n",
       "      <td>Medio centro</td>\n",
       "      <td>18</td>\n",
       "      <td>Bueno</td>\n",
       "      <td>Luis Peña</td>\n",
       "    </tr>\n",
       "  </tbody>\n",
       "</table>\n",
       "<p>17981 rows × 6 columns</p>\n",
       "</div>"
      ],
      "text/plain": [
       "                              team  nationality  \\\n",
       "0                    FC Barcelona     Argentina   \n",
       "1                        Juventus      Portugal   \n",
       "2             Paris Saint-Germain        Brazil   \n",
       "3                       Liverpool   Netherlands   \n",
       "4                 Atlético Madrid      Slovenia   \n",
       "...                            ...          ...   \n",
       "17976    Sociedad Deportiva Aucas       Ecuador   \n",
       "17977  Club Deportivo El Nacional       Ecuador   \n",
       "17978          Zamora Fútbol Club     Venezuela   \n",
       "17979          Zamora Fútbol Club     Venezuela   \n",
       "17980          Zamora Fútbol Club     Venezuela   \n",
       "\n",
       "                                             position  age      potential  \\\n",
       "0      Delantero Centro|Media punta|Extremo izquierdo   33  Sobresaliente   \n",
       "1                  Delantero Centro|Extremo izquierdo   35  Sobresaliente   \n",
       "2             Medio centro ofensivo|Extremo izquierdo   28  Sobresaliente   \n",
       "3                                     Defensa central   29  Sobresaliente   \n",
       "4                                             Portero   27  Sobresaliente   \n",
       "...                                               ...  ...            ...   \n",
       "17976                                Delantero Centro   21          Bueno   \n",
       "17977                                    Medio centro   23          Bueno   \n",
       "17978                                Delantero Centro   18          Bueno   \n",
       "17979                               Extremo izquierdo   22          Bueno   \n",
       "17980                                    Medio centro   18          Bueno   \n",
       "\n",
       "                    name  \n",
       "0           Lionel Messi  \n",
       "1      Cristiano Ronaldo  \n",
       "2              Neymar Jr  \n",
       "3        Virgil van Dijk  \n",
       "4              Jan Oblak  \n",
       "...                  ...  \n",
       "17976        Jaime Ortíz  \n",
       "17977   Michael Carcelén  \n",
       "17978        Davide Luzi  \n",
       "17979    Sergio Sulbarán  \n",
       "17980          Luis Peña  \n",
       "\n",
       "[17981 rows x 6 columns]"
      ]
     },
     "execution_count": 49,
     "metadata": {},
     "output_type": "execute_result"
    }
   ],
   "source": [
    "data_set_fifa"
   ]
  },
  {
   "cell_type": "code",
   "execution_count": 7,
   "metadata": {},
   "outputs": [],
   "source": [
    "\n",
    "ruta_completa = path.join(path.realpath('..'), \"dataset_fifa.csv\")\n",
    "data_set_fifa.to_csv(ruta_completa, index=False)"
   ]
  }
 ],
 "metadata": {
  "celltoolbar": "Slideshow",
  "kernelspec": {
   "display_name": "Python 3.10.2 ('venv': venv)",
   "language": "python",
   "name": "python3"
  },
  "language_info": {
   "codemirror_mode": {
    "name": "ipython",
    "version": 3
   },
   "file_extension": ".py",
   "mimetype": "text/x-python",
   "name": "python",
   "nbconvert_exporter": "python",
   "pygments_lexer": "ipython3",
   "version": "3.10.2"
  },
  "vscode": {
   "interpreter": {
    "hash": "5dfe342e989f4cba730e21fba9c97b2ddf6474f7c6b1ff374d0cabb2201fa71f"
   }
  }
 },
 "nbformat": 4,
 "nbformat_minor": 4
}
