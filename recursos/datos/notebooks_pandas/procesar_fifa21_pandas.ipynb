{
 "cells": [
  {
   "cell_type": "markdown",
   "metadata": {
    "slideshow": {
     "slide_type": "slide"
    }
   },
   "source": [
    "# PROCESAMIENTO DEL DATA SET: [FIFA_2021](https://www.kaggle.com/datasets/aayushmishra1512/fifa-2021-complete-player-data?resource=download)"
   ]
  },
  {
   "cell_type": "markdown",
   "metadata": {
    "slideshow": {
     "slide_type": "slide"
    }
   },
   "source": [
    "\n",
    "* Para realizar los cambios necesarios se utilizará la librería [Pandas](https://pandas.pydata.org/)"
   ]
  },
  {
   "cell_type": "markdown",
   "metadata": {
    "slideshow": {
     "slide_type": "slide"
    }
   },
   "source": [
    "* DataSet original:"
   ]
  },
  {
   "cell_type": "code",
   "execution_count": 8,
   "metadata": {
    "slideshow": {
     "slide_type": "slide"
    }
   },
   "outputs": [
    {
     "name": "stdout",
     "output_type": "stream",
     "text": [
      "       player_id               name  nationality  position  overall  age  \\\n",
      "0         158023       Lionel Messi    Argentina  ST|CF|RW       94   33   \n",
      "1          20801  Cristiano Ronaldo     Portugal     ST|LW       93   35   \n",
      "2         190871          Neymar Jr       Brazil    CAM|LW       92   28   \n",
      "3         203376    Virgil van Dijk  Netherlands        CB       91   29   \n",
      "4         200389          Jan Oblak     Slovenia        GK       91   27   \n",
      "...          ...                ...          ...       ...      ...  ...   \n",
      "17976     256093        Jaime Ortíz      Ecuador        ST       56   21   \n",
      "17977     256088   Michael Carcelén      Ecuador        CM       56   23   \n",
      "17978     256074        Davide Luzi    Venezuela        ST       56   18   \n",
      "17979     256073    Sergio Sulbarán    Venezuela        RW       56   22   \n",
      "17980     256072          Luis Peña    Venezuela        CM       56   18   \n",
      "\n",
      "       hits  potential                         team  \n",
      "0       299         94                FC Barcelona   \n",
      "1       276         93                    Juventus   \n",
      "2       186         92         Paris Saint-Germain   \n",
      "3       127         92                   Liverpool   \n",
      "4        47         93             Atlético Madrid   \n",
      "...     ...        ...                          ...  \n",
      "17976     0         64    Sociedad Deportiva Aucas   \n",
      "17977     0         64  Club Deportivo El Nacional   \n",
      "17978     1         68          Zamora Fútbol Club   \n",
      "17979     0         62          Zamora Fútbol Club   \n",
      "17980     0         69          Zamora Fútbol Club   \n",
      "\n",
      "[17981 rows x 9 columns]\n"
     ]
    }
   ],
   "source": [
    "import pandas as pd\n",
    "from os import path\n",
    "\n",
    "try:\n",
    "    ruta_completa = path.join(path.realpath('..'), \"csv_originales\" ,\"FIFA-21 Complete.csv\")\n",
    "    data_set_fifa = pd.read_csv(ruta_completa, encoding='utf-8', delimiter=';')\n",
    "except FileNotFoundError:\n",
    "    print(\"Archivo csv 'FIFA-21 complete.csv' no encontrado\")\n",
    "else:\n",
    "    print(data_set_fifa)"
   ]
  },
  {
   "cell_type": "markdown",
   "metadata": {
    "slideshow": {
     "slide_type": "slide"
    }
   },
   "source": [
    "* Primero necesitamos eliminar las columnas: <font color='red'>\"player_id\", \"overall\", \"hits\"</font>\n",
    "* Luego, debemos reacomodar las columnas, para lograr el siguiente orden: <font color='aqua'>\"team\", \"nationality\", \"position\", \"age\", \"potential\", \"name\"</font>"
   ]
  },
  {
   "cell_type": "code",
   "execution_count": 9,
   "metadata": {
    "slideshow": {
     "slide_type": "slide"
    }
   },
   "outputs": [
    {
     "name": "stdout",
     "output_type": "stream",
     "text": [
      "ELIMINO LAS COLUMNAS SIN USO: \n",
      "                    name  nationality  position  age  potential  \\\n",
      "0           Lionel Messi    Argentina  ST|CF|RW   33         94   \n",
      "1      Cristiano Ronaldo     Portugal     ST|LW   35         93   \n",
      "2              Neymar Jr       Brazil    CAM|LW   28         92   \n",
      "3        Virgil van Dijk  Netherlands        CB   29         92   \n",
      "4              Jan Oblak     Slovenia        GK   27         93   \n",
      "...                  ...          ...       ...  ...        ...   \n",
      "17976        Jaime Ortíz      Ecuador        ST   21         64   \n",
      "17977   Michael Carcelén      Ecuador        CM   23         64   \n",
      "17978        Davide Luzi    Venezuela        ST   18         68   \n",
      "17979    Sergio Sulbarán    Venezuela        RW   22         62   \n",
      "17980          Luis Peña    Venezuela        CM   18         69   \n",
      "\n",
      "                              team  \n",
      "0                    FC Barcelona   \n",
      "1                        Juventus   \n",
      "2             Paris Saint-Germain   \n",
      "3                       Liverpool   \n",
      "4                 Atlético Madrid   \n",
      "...                            ...  \n",
      "17976    Sociedad Deportiva Aucas   \n",
      "17977  Club Deportivo El Nacional   \n",
      "17978          Zamora Fútbol Club   \n",
      "17979          Zamora Fútbol Club   \n",
      "17980          Zamora Fútbol Club   \n",
      "\n",
      "[17981 rows x 6 columns]\n"
     ]
    }
   ],
   "source": [
    "print('ELIMINO LAS COLUMNAS SIN USO: ', end='\\n')\n",
    "columnas_sin_uso = ['player_id', 'overall', 'hits']\n",
    "data_set_fifa = data_set_fifa.drop(columnas_sin_uso, axis='columns')\n",
    "print(data_set_fifa)"
   ]
  },
  {
   "cell_type": "code",
   "execution_count": 10,
   "metadata": {
    "slideshow": {
     "slide_type": "slide"
    }
   },
   "outputs": [
    {
     "name": "stdout",
     "output_type": "stream",
     "text": [
      "REACOMODO LAS COLUMNAS: \n",
      "                              team  nationality  position  age  potential  \\\n",
      "0                    FC Barcelona     Argentina  ST|CF|RW   33         94   \n",
      "1                        Juventus      Portugal     ST|LW   35         93   \n",
      "2             Paris Saint-Germain        Brazil    CAM|LW   28         92   \n",
      "3                       Liverpool   Netherlands        CB   29         92   \n",
      "4                 Atlético Madrid      Slovenia        GK   27         93   \n",
      "...                            ...          ...       ...  ...        ...   \n",
      "17976    Sociedad Deportiva Aucas       Ecuador        ST   21         64   \n",
      "17977  Club Deportivo El Nacional       Ecuador        CM   23         64   \n",
      "17978          Zamora Fútbol Club     Venezuela        ST   18         68   \n",
      "17979          Zamora Fútbol Club     Venezuela        RW   22         62   \n",
      "17980          Zamora Fútbol Club     Venezuela        CM   18         69   \n",
      "\n",
      "                    name  \n",
      "0           Lionel Messi  \n",
      "1      Cristiano Ronaldo  \n",
      "2              Neymar Jr  \n",
      "3        Virgil van Dijk  \n",
      "4              Jan Oblak  \n",
      "...                  ...  \n",
      "17976        Jaime Ortíz  \n",
      "17977   Michael Carcelén  \n",
      "17978        Davide Luzi  \n",
      "17979    Sergio Sulbarán  \n",
      "17980          Luis Peña  \n",
      "\n",
      "[17981 rows x 6 columns]\n"
     ]
    }
   ],
   "source": [
    "print('REACOMODO LAS COLUMNAS: ', end='\\n')\n",
    "nuevo_orden_columnas = ['team', 'nationality', 'position', 'age', 'potential', 'name']\n",
    "data_set_fifa = data_set_fifa.reindex(columns=nuevo_orden_columnas)\n",
    "print(data_set_fifa)"
   ]
  },
  {
   "cell_type": "markdown",
   "metadata": {
    "slideshow": {
     "slide_type": "slide"
    }
   },
   "source": [
    "* El siguiente paso es traducir al español las <font color='Fuchsia'>posiciones de cada jugador</font>, de su abreviatura en ingles, a su <font color='Aqua'>traducción sin abreviar en español</font>. Para ello se utilizará un archivo json con las traducciones contempladas: "
   ]
  },
  {
   "cell_type": "code",
   "execution_count": 11,
   "metadata": {
    "slideshow": {
     "slide_type": "slide"
    }
   },
   "outputs": [
    {
     "name": "stdout",
     "output_type": "stream",
     "text": [
      "TRADUCCION DE LAS POSICIONES: \n",
      "0        Delantero Centro|Media punta|Extremo izquierdo\n",
      "1                    Delantero Centro|Extremo izquierdo\n",
      "2               Medio centro ofensivo|Extremo izquierdo\n",
      "3                                       Defensa central\n",
      "4                                               Portero\n",
      "                              ...                      \n",
      "17976                                  Delantero Centro\n",
      "17977                                      Medio centro\n",
      "17978                                  Delantero Centro\n",
      "17979                                 Extremo izquierdo\n",
      "17980                                      Medio centro\n",
      "Name: position, Length: 17981, dtype: object\n"
     ]
    }
   ],
   "source": [
    "import json\n",
    "\n",
    "try:\n",
    "    ruta_completa = path.join(path.realpath('..'), \"csv_originales\" ,\"fifa_pos_ENG_ESP.json\")\n",
    "    with open(ruta_completa, 'r', encoding=\"utf-8\") as trad:\n",
    "        traduccion = json.load(trad)\n",
    "except FileNotFoundError:\n",
    "    print (\"Archivo fifa_pos_ENG_ESP.json,  no encontrado\")\n",
    "else:\n",
    "    print('TRADUCCION DE LAS POSICIONES: ', end='\\n')\n",
    "    valores = (data_set_fifa['position'].str.split('|'))\n",
    "    nuevas_pos = []\n",
    "    for pos in valores:\n",
    "        pos = '|'.join(list((map(lambda pos: traduccion[pos], pos))))\n",
    "        nuevas_pos.append(pos) # me guardo las posiciones traducidas\n",
    "\n",
    "    data_set_fifa['position'] = nuevas_pos\n",
    "    print(data_set_fifa['position'])"
   ]
  },
  {
   "cell_type": "markdown",
   "metadata": {
    "slideshow": {
     "slide_type": "slide"
    }
   },
   "source": [
    "* Por último, necesitamos reemplazar los valores de la columna <font color='Fuchsia'>'potential'</font> por su <font color='Aqua'>equivalente en string</font>, dado su valor numérico:"
   ]
  },
  {
   "cell_type": "code",
   "execution_count": 12,
   "metadata": {
    "slideshow": {
     "slide_type": "slide"
    }
   },
   "outputs": [
    {
     "name": "stdout",
     "output_type": "stream",
     "text": [
      "CONVERSION DEL POTENCIAL DE ENTERO A STRING: \n",
      "0        Sobresaliente\n",
      "1        Sobresaliente\n",
      "2        Sobresaliente\n",
      "3        Sobresaliente\n",
      "4        Sobresaliente\n",
      "             ...      \n",
      "17976            Bueno\n",
      "17977            Bueno\n",
      "17978            Bueno\n",
      "17979            Bueno\n",
      "17980            Bueno\n",
      "Name: potential, Length: 17981, dtype: object\n"
     ]
    }
   ],
   "source": [
    "def conversion_del_potencial(potencial):\n",
    "    \"\"\"\n",
    "    :param potencial: el valor de la columna 'Potential'\n",
    "    :return: el equivalente a potencial en string\n",
    "    \"\"\"\n",
    "    if(potencial < 60):\n",
    "        potencial = \"Regular\"\n",
    "    elif(potencial > 60 and potencial <= 79):\n",
    "        potencial = \"Bueno\"\n",
    "    elif(potencial > 79 and potencial <= 89):\n",
    "        potencial = \"Muy bueno\"\n",
    "    else:\n",
    "        potencial = \"Sobresaliente\"\n",
    "    return potencial\n",
    "\n",
    "print('CONVERSION DEL POTENCIAL DE ENTERO A STRING: ', end='\\n')\n",
    "data_set_fifa['potential'] = list(map(lambda potencial: conversion_del_potencial(potencial), data_set_fifa['potential']))\n",
    "print(data_set_fifa['potential'])"
   ]
  },
  {
   "cell_type": "markdown",
   "metadata": {
    "slideshow": {
     "slide_type": "slide"
    }
   },
   "source": [
    "* Finalmente, obtenemos, <font color='Aqua'>el nuevo data set de fifa_2021</font>, con las modificaciones requeridas para ser utilizado por  <font color='Fuchsia'>FiguRace</font>: "
   ]
  },
  {
   "cell_type": "code",
   "execution_count": 13,
   "metadata": {
    "slideshow": {
     "slide_type": "slide"
    }
   },
   "outputs": [
    {
     "name": "stdout",
     "output_type": "stream",
     "text": [
      "DATASET FINAL: \n",
      "                              team  nationality  \\\n",
      "0                    FC Barcelona     Argentina   \n",
      "1                        Juventus      Portugal   \n",
      "2             Paris Saint-Germain        Brazil   \n",
      "3                       Liverpool   Netherlands   \n",
      "4                 Atlético Madrid      Slovenia   \n",
      "...                            ...          ...   \n",
      "17976    Sociedad Deportiva Aucas       Ecuador   \n",
      "17977  Club Deportivo El Nacional       Ecuador   \n",
      "17978          Zamora Fútbol Club     Venezuela   \n",
      "17979          Zamora Fútbol Club     Venezuela   \n",
      "17980          Zamora Fútbol Club     Venezuela   \n",
      "\n",
      "                                             position  age      potential  \\\n",
      "0      Delantero Centro|Media punta|Extremo izquierdo   33  Sobresaliente   \n",
      "1                  Delantero Centro|Extremo izquierdo   35  Sobresaliente   \n",
      "2             Medio centro ofensivo|Extremo izquierdo   28  Sobresaliente   \n",
      "3                                     Defensa central   29  Sobresaliente   \n",
      "4                                             Portero   27  Sobresaliente   \n",
      "...                                               ...  ...            ...   \n",
      "17976                                Delantero Centro   21          Bueno   \n",
      "17977                                    Medio centro   23          Bueno   \n",
      "17978                                Delantero Centro   18          Bueno   \n",
      "17979                               Extremo izquierdo   22          Bueno   \n",
      "17980                                    Medio centro   18          Bueno   \n",
      "\n",
      "                    name  \n",
      "0           Lionel Messi  \n",
      "1      Cristiano Ronaldo  \n",
      "2              Neymar Jr  \n",
      "3        Virgil van Dijk  \n",
      "4              Jan Oblak  \n",
      "...                  ...  \n",
      "17976        Jaime Ortíz  \n",
      "17977   Michael Carcelén  \n",
      "17978        Davide Luzi  \n",
      "17979    Sergio Sulbarán  \n",
      "17980          Luis Peña  \n",
      "\n",
      "[17981 rows x 6 columns]\n"
     ]
    }
   ],
   "source": [
    "print('DATASET FINAL: ', end='\\n')\n",
    "print(data_set_fifa)\n",
    "\n",
    "ruta_completa = path.join(path.realpath('..'), \"dataset_fifa.csv\")\n",
    "data_set_fifa.to_csv(ruta_completa, index=False)"
   ]
  }
 ],
 "metadata": {
  "celltoolbar": "Slideshow",
  "kernelspec": {
   "display_name": "Python 3.10.2 ('venv': venv)",
   "language": "python",
   "name": "python3"
  },
  "language_info": {
   "codemirror_mode": {
    "name": "ipython",
    "version": 3
   },
   "file_extension": ".py",
   "mimetype": "text/x-python",
   "name": "python",
   "nbconvert_exporter": "python",
   "pygments_lexer": "ipython3",
   "version": "3.10.2"
  },
  "vscode": {
   "interpreter": {
    "hash": "5dfe342e989f4cba730e21fba9c97b2ddf6474f7c6b1ff374d0cabb2201fa71f"
   }
  }
 },
 "nbformat": 4,
 "nbformat_minor": 4
}
