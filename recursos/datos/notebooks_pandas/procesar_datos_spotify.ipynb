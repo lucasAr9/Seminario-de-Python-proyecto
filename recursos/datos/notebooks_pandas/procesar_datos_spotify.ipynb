{
 "cells": [
  {
   "cell_type": "markdown",
   "id": "e9018c3a-1cb1-441e-9b3d-bb48df71d1ef",
   "metadata": {
    "pycharm": {
     "name": "#%% md\n"
    }
   },
   "source": [
    "# Data Set Spotify\n",
    "* Archivo en -> [Spotify 2010 - 2019 Top 100.csv](https://www.kaggle.com/datasets/muhmores/spotify-top-100-songs-of-20152019)\n",
    "\n",
    "1. conocer el dataset.\n",
    "2. Se utilizarán como datos de las tarjetas “Top Genre”, “Artist Type”, “Year Released”, “Top Year”, “BPM”. Como dato a adivinar se utilizará “Artist”.\n",
    "3. Se quiere reemplazar los nombres de los géneros a title case exceptuando las palabras con iniciales.\n",
    "4. Exportar a un archivo csv.\n",
    "___"
   ]
  },
  {
   "cell_type": "markdown",
   "id": "6e1b9088-ad69-442c-b87c-28c0a0c931eb",
   "metadata": {
    "pycharm": {
     "name": "#%% md\n"
    }
   },
   "source": [
    "* Instalar las librerías para el procesamiento del dataset"
   ]
  },
  {
   "cell_type": "code",
   "execution_count": 1,
   "id": "a489f56a-2e34-4203-89e5-e71cba38a582",
   "metadata": {
    "pycharm": {
     "is_executing": true,
     "name": "#%%\n"
    }
   },
   "outputs": [
    {
     "name": "stdout",
     "output_type": "stream",
     "text": [
      "Requirement already satisfied: pandas in d:\\anaconda3\\envs\\grupo10\\lib\\site-packages (1.4.2)\n",
      "Requirement already satisfied: pytz>=2020.1 in d:\\anaconda3\\envs\\grupo10\\lib\\site-packages (from pandas) (2022.1)\n",
      "Requirement already satisfied: numpy>=1.21.0 in d:\\anaconda3\\envs\\grupo10\\lib\\site-packages (from pandas) (1.22.4)\n",
      "Requirement already satisfied: python-dateutil>=2.8.1 in d:\\anaconda3\\envs\\grupo10\\lib\\site-packages (from pandas) (2.8.2)\n",
      "Requirement already satisfied: six>=1.5 in d:\\anaconda3\\envs\\grupo10\\lib\\site-packages (from python-dateutil>=2.8.1->pandas) (1.16.0)\n"
     ]
    }
   ],
   "source": [
    "!pip install pandas"
   ]
  },
  {
   "cell_type": "code",
   "execution_count": 2,
   "id": "eb0f268b-a923-4e68-a8b1-6d8e409f72d2",
   "metadata": {
    "pycharm": {
     "name": "#%%\n"
    }
   },
   "outputs": [],
   "source": [
    "import pandas as pd\n",
    "import os"
   ]
  },
  {
   "cell_type": "markdown",
   "id": "6dfd5ce9-6573-4d3e-9afc-ae448af79b7a",
   "metadata": {
    "pycharm": {
     "name": "#%% md\n"
    }
   },
   "source": [
    "* Importar el dataset y crear el DataFrame"
   ]
  },
  {
   "cell_type": "code",
   "execution_count": 3,
   "id": "c8eedea0-5ee6-4821-a3c3-717b4e2e1452",
   "metadata": {
    "pycharm": {
     "name": "#%%\n"
    }
   },
   "outputs": [],
   "source": [
    "archivo = 'Spotify 2010 - 2019 Top 100.csv'\n",
    "carpeta = os.path.join(os.getcwd(), '..', 'csv_originales', archivo)"
   ]
  },
  {
   "cell_type": "code",
   "execution_count": 4,
   "id": "47736be1",
   "metadata": {
    "collapsed": false,
    "jupyter": {
     "outputs_hidden": false
    },
    "pycharm": {
     "name": "#%%\n"
    }
   },
   "outputs": [],
   "source": [
    "try:\n",
    "    spotify = pd.read_csv(carpeta, encoding='utf-8')\n",
    "except FileNotFoundError:\n",
    "    print('No se encontro el archivo seleccionado')"
   ]
  },
  {
   "cell_type": "markdown",
   "id": "292d561d",
   "metadata": {
    "pycharm": {
     "name": "#%% md\n"
    }
   },
   "source": [
    "### 1. Conocer el dataset"
   ]
  },
  {
   "cell_type": "code",
   "execution_count": 5,
   "id": "c4d0cd5e-929b-49ac-b6d4-df2aa0c87d0d",
   "metadata": {
    "pycharm": {
     "name": "#%%\n"
    }
   },
   "outputs": [
    {
     "name": "stdout",
     "output_type": "stream",
     "text": [
      "<class 'pandas.core.frame.DataFrame'>\n",
      "RangeIndex: 1003 entries, 0 to 1002\n",
      "Data columns (total 17 columns):\n",
      " #   Column         Non-Null Count  Dtype  \n",
      "---  ------         --------------  -----  \n",
      " 0   title          1000 non-null   object \n",
      " 1   artist         1000 non-null   object \n",
      " 2   top genre      1000 non-null   object \n",
      " 3   year released  1000 non-null   float64\n",
      " 4   added          1000 non-null   object \n",
      " 5   bpm            1000 non-null   float64\n",
      " 6   nrgy           1000 non-null   float64\n",
      " 7   dnce           1000 non-null   float64\n",
      " 8   dB             1000 non-null   float64\n",
      " 9   live           1000 non-null   float64\n",
      " 10  val            1000 non-null   float64\n",
      " 11  dur            1000 non-null   float64\n",
      " 12  acous          1000 non-null   float64\n",
      " 13  spch           1000 non-null   float64\n",
      " 14  pop            1000 non-null   float64\n",
      " 15  top year       1000 non-null   float64\n",
      " 16  artist type    1000 non-null   object \n",
      "dtypes: float64(12), object(5)\n",
      "memory usage: 133.3+ KB\n"
     ]
    }
   ],
   "source": [
    "# ver las columnas, cuantos registros tiene cada columna y el tipo de dato\n",
    "spotify.info()"
   ]
  },
  {
   "cell_type": "code",
   "execution_count": 6,
   "id": "84501da9-66ba-4201-a15c-8500b1d72051",
   "metadata": {
    "pycharm": {
     "name": "#%%\n"
    }
   },
   "outputs": [
    {
     "data": {
      "text/html": [
       "<div>\n",
       "<style scoped>\n",
       "    .dataframe tbody tr th:only-of-type {\n",
       "        vertical-align: middle;\n",
       "    }\n",
       "\n",
       "    .dataframe tbody tr th {\n",
       "        vertical-align: top;\n",
       "    }\n",
       "\n",
       "    .dataframe thead th {\n",
       "        text-align: right;\n",
       "    }\n",
       "</style>\n",
       "<table border=\"1\" class=\"dataframe\">\n",
       "  <thead>\n",
       "    <tr style=\"text-align: right;\">\n",
       "      <th></th>\n",
       "      <th>title</th>\n",
       "      <th>artist</th>\n",
       "      <th>top genre</th>\n",
       "      <th>year released</th>\n",
       "      <th>added</th>\n",
       "      <th>bpm</th>\n",
       "      <th>nrgy</th>\n",
       "      <th>dnce</th>\n",
       "      <th>dB</th>\n",
       "      <th>live</th>\n",
       "      <th>val</th>\n",
       "      <th>dur</th>\n",
       "      <th>acous</th>\n",
       "      <th>spch</th>\n",
       "      <th>pop</th>\n",
       "      <th>top year</th>\n",
       "      <th>artist type</th>\n",
       "    </tr>\n",
       "  </thead>\n",
       "  <tbody>\n",
       "    <tr>\n",
       "      <th>0</th>\n",
       "      <td>STARSTRUKK (feat. Katy Perry)</td>\n",
       "      <td>3OH!3</td>\n",
       "      <td>dance pop</td>\n",
       "      <td>2009.0</td>\n",
       "      <td>2022‑02‑17</td>\n",
       "      <td>140.0</td>\n",
       "      <td>81.0</td>\n",
       "      <td>61.0</td>\n",
       "      <td>-6.0</td>\n",
       "      <td>23.0</td>\n",
       "      <td>23.0</td>\n",
       "      <td>203.0</td>\n",
       "      <td>0.0</td>\n",
       "      <td>6.0</td>\n",
       "      <td>70.0</td>\n",
       "      <td>2010.0</td>\n",
       "      <td>Duo</td>\n",
       "    </tr>\n",
       "    <tr>\n",
       "      <th>1</th>\n",
       "      <td>My First Kiss (feat. Ke$ha)</td>\n",
       "      <td>3OH!3</td>\n",
       "      <td>dance pop</td>\n",
       "      <td>2010.0</td>\n",
       "      <td>2022‑02‑17</td>\n",
       "      <td>138.0</td>\n",
       "      <td>89.0</td>\n",
       "      <td>68.0</td>\n",
       "      <td>-4.0</td>\n",
       "      <td>36.0</td>\n",
       "      <td>83.0</td>\n",
       "      <td>192.0</td>\n",
       "      <td>1.0</td>\n",
       "      <td>8.0</td>\n",
       "      <td>68.0</td>\n",
       "      <td>2010.0</td>\n",
       "      <td>Duo</td>\n",
       "    </tr>\n",
       "    <tr>\n",
       "      <th>2</th>\n",
       "      <td>I Need A Dollar</td>\n",
       "      <td>Aloe Blacc</td>\n",
       "      <td>pop soul</td>\n",
       "      <td>2010.0</td>\n",
       "      <td>2022‑02‑17</td>\n",
       "      <td>95.0</td>\n",
       "      <td>48.0</td>\n",
       "      <td>84.0</td>\n",
       "      <td>-7.0</td>\n",
       "      <td>9.0</td>\n",
       "      <td>96.0</td>\n",
       "      <td>243.0</td>\n",
       "      <td>20.0</td>\n",
       "      <td>3.0</td>\n",
       "      <td>72.0</td>\n",
       "      <td>2010.0</td>\n",
       "      <td>Solo</td>\n",
       "    </tr>\n",
       "    <tr>\n",
       "      <th>3</th>\n",
       "      <td>Airplanes (feat. Hayley Williams of Paramore)</td>\n",
       "      <td>B.o.B</td>\n",
       "      <td>atl hip hop</td>\n",
       "      <td>2010.0</td>\n",
       "      <td>2022‑02‑17</td>\n",
       "      <td>93.0</td>\n",
       "      <td>87.0</td>\n",
       "      <td>66.0</td>\n",
       "      <td>-4.0</td>\n",
       "      <td>4.0</td>\n",
       "      <td>38.0</td>\n",
       "      <td>180.0</td>\n",
       "      <td>11.0</td>\n",
       "      <td>12.0</td>\n",
       "      <td>80.0</td>\n",
       "      <td>2010.0</td>\n",
       "      <td>Solo</td>\n",
       "    </tr>\n",
       "    <tr>\n",
       "      <th>4</th>\n",
       "      <td>Nothin' on You (feat. Bruno Mars)</td>\n",
       "      <td>B.o.B</td>\n",
       "      <td>atl hip hop</td>\n",
       "      <td>2010.0</td>\n",
       "      <td>2022‑02‑17</td>\n",
       "      <td>104.0</td>\n",
       "      <td>85.0</td>\n",
       "      <td>69.0</td>\n",
       "      <td>-6.0</td>\n",
       "      <td>9.0</td>\n",
       "      <td>74.0</td>\n",
       "      <td>268.0</td>\n",
       "      <td>39.0</td>\n",
       "      <td>5.0</td>\n",
       "      <td>79.0</td>\n",
       "      <td>2010.0</td>\n",
       "      <td>Solo</td>\n",
       "    </tr>\n",
       "  </tbody>\n",
       "</table>\n",
       "</div>"
      ],
      "text/plain": [
       "                                           title      artist    top genre  \\\n",
       "0                  STARSTRUKK (feat. Katy Perry)       3OH!3    dance pop   \n",
       "1                    My First Kiss (feat. Ke$ha)       3OH!3    dance pop   \n",
       "2                                I Need A Dollar  Aloe Blacc     pop soul   \n",
       "3  Airplanes (feat. Hayley Williams of Paramore)       B.o.B  atl hip hop   \n",
       "4              Nothin' on You (feat. Bruno Mars)       B.o.B  atl hip hop   \n",
       "\n",
       "   year released       added    bpm  nrgy  dnce   dB  live   val    dur  \\\n",
       "0         2009.0  2022‑02‑17  140.0  81.0  61.0 -6.0  23.0  23.0  203.0   \n",
       "1         2010.0  2022‑02‑17  138.0  89.0  68.0 -4.0  36.0  83.0  192.0   \n",
       "2         2010.0  2022‑02‑17   95.0  48.0  84.0 -7.0   9.0  96.0  243.0   \n",
       "3         2010.0  2022‑02‑17   93.0  87.0  66.0 -4.0   4.0  38.0  180.0   \n",
       "4         2010.0  2022‑02‑17  104.0  85.0  69.0 -6.0   9.0  74.0  268.0   \n",
       "\n",
       "   acous  spch   pop  top year artist type  \n",
       "0    0.0   6.0  70.0    2010.0         Duo  \n",
       "1    1.0   8.0  68.0    2010.0         Duo  \n",
       "2   20.0   3.0  72.0    2010.0        Solo  \n",
       "3   11.0  12.0  80.0    2010.0        Solo  \n",
       "4   39.0   5.0  79.0    2010.0        Solo  "
      ]
     },
     "execution_count": 6,
     "metadata": {},
     "output_type": "execute_result"
    }
   ],
   "source": [
    "# ver las primeras 5 lineas y todas sus columnas\n",
    "spotify.head(5)"
   ]
  },
  {
   "cell_type": "markdown",
   "id": "7470478f-ed6a-428f-91ba-6f6662b72098",
   "metadata": {
    "pycharm": {
     "name": "#%% md\n"
    }
   },
   "source": [
    "### 2. Seleccionar las columnas que nos interesan y ordenarlas"
   ]
  },
  {
   "cell_type": "code",
   "execution_count": 7,
   "id": "98fa7516-8495-4770-9577-75a385d68da1",
   "metadata": {
    "pycharm": {
     "name": "#%%\n"
    }
   },
   "outputs": [
    {
     "data": {
      "text/html": [
       "<div>\n",
       "<style scoped>\n",
       "    .dataframe tbody tr th:only-of-type {\n",
       "        vertical-align: middle;\n",
       "    }\n",
       "\n",
       "    .dataframe tbody tr th {\n",
       "        vertical-align: top;\n",
       "    }\n",
       "\n",
       "    .dataframe thead th {\n",
       "        text-align: right;\n",
       "    }\n",
       "</style>\n",
       "<table border=\"1\" class=\"dataframe\">\n",
       "  <thead>\n",
       "    <tr style=\"text-align: right;\">\n",
       "      <th></th>\n",
       "      <th>top genre</th>\n",
       "      <th>artist type</th>\n",
       "      <th>year released</th>\n",
       "      <th>top year</th>\n",
       "      <th>bpm</th>\n",
       "      <th>artist</th>\n",
       "    </tr>\n",
       "  </thead>\n",
       "  <tbody>\n",
       "    <tr>\n",
       "      <th>0</th>\n",
       "      <td>dance pop</td>\n",
       "      <td>Duo</td>\n",
       "      <td>2009.0</td>\n",
       "      <td>2010.0</td>\n",
       "      <td>140.0</td>\n",
       "      <td>3OH!3</td>\n",
       "    </tr>\n",
       "    <tr>\n",
       "      <th>1</th>\n",
       "      <td>dance pop</td>\n",
       "      <td>Duo</td>\n",
       "      <td>2010.0</td>\n",
       "      <td>2010.0</td>\n",
       "      <td>138.0</td>\n",
       "      <td>3OH!3</td>\n",
       "    </tr>\n",
       "    <tr>\n",
       "      <th>2</th>\n",
       "      <td>pop soul</td>\n",
       "      <td>Solo</td>\n",
       "      <td>2010.0</td>\n",
       "      <td>2010.0</td>\n",
       "      <td>95.0</td>\n",
       "      <td>Aloe Blacc</td>\n",
       "    </tr>\n",
       "    <tr>\n",
       "      <th>3</th>\n",
       "      <td>atl hip hop</td>\n",
       "      <td>Solo</td>\n",
       "      <td>2010.0</td>\n",
       "      <td>2010.0</td>\n",
       "      <td>93.0</td>\n",
       "      <td>B.o.B</td>\n",
       "    </tr>\n",
       "    <tr>\n",
       "      <th>4</th>\n",
       "      <td>atl hip hop</td>\n",
       "      <td>Solo</td>\n",
       "      <td>2010.0</td>\n",
       "      <td>2010.0</td>\n",
       "      <td>104.0</td>\n",
       "      <td>B.o.B</td>\n",
       "    </tr>\n",
       "  </tbody>\n",
       "</table>\n",
       "</div>"
      ],
      "text/plain": [
       "     top genre artist type  year released  top year    bpm      artist\n",
       "0    dance pop         Duo         2009.0    2010.0  140.0       3OH!3\n",
       "1    dance pop         Duo         2010.0    2010.0  138.0       3OH!3\n",
       "2     pop soul        Solo         2010.0    2010.0   95.0  Aloe Blacc\n",
       "3  atl hip hop        Solo         2010.0    2010.0   93.0       B.o.B\n",
       "4  atl hip hop        Solo         2010.0    2010.0  104.0       B.o.B"
      ]
     },
     "execution_count": 7,
     "metadata": {},
     "output_type": "execute_result"
    }
   ],
   "source": [
    "spotify = spotify[['top genre', 'artist type', 'year released', 'top year', 'bpm', 'artist']]\n",
    "spotify.head(5)"
   ]
  },
  {
   "cell_type": "markdown",
   "id": "b38aa7b3-cf50-4233-8ff3-d45df365374f",
   "metadata": {
    "pycharm": {
     "name": "#%% md\n"
    }
   },
   "source": [
    "### 3. Reemplazar los nombres de los géneros a title case o mayúsculas"
   ]
  },
  {
   "cell_type": "code",
   "execution_count": 8,
   "id": "1441bb11-3627-45df-8863-544212541e3a",
   "metadata": {
    "tags": []
   },
   "outputs": [],
   "source": [
    "def cambiar_genero(genero):\n",
    "    \"\"\"\n",
    "    Primero pasar el objeto pasado por parametro a string, despues recorrer las palabras\n",
    "    y cambiar a upper o title segun la condicion\n",
    "    \"\"\"\n",
    "    siglas = ['edm', 'dfw', 'uk', 'r&b', 'lgbtq+']\n",
    "    p = str(genero)\n",
    "    titulo = []\n",
    "\n",
    "    for palabra in p.split(' '):\n",
    "        if palabra in siglas:\n",
    "            titulo.append(palabra.upper())\n",
    "        else:\n",
    "            titulo.append(palabra.title())\n",
    "    # por ultimo pasar de lista a string\n",
    "    return ' '.join(titulo)"
   ]
  },
  {
   "cell_type": "code",
   "execution_count": 9,
   "id": "9660a58a-b9fd-4fe8-8fe9-8db1abfaf0dd",
   "metadata": {
    "scrolled": true,
    "tags": []
   },
   "outputs": [
    {
     "data": {
      "text/html": [
       "<div>\n",
       "<style scoped>\n",
       "    .dataframe tbody tr th:only-of-type {\n",
       "        vertical-align: middle;\n",
       "    }\n",
       "\n",
       "    .dataframe tbody tr th {\n",
       "        vertical-align: top;\n",
       "    }\n",
       "\n",
       "    .dataframe thead th {\n",
       "        text-align: right;\n",
       "    }\n",
       "</style>\n",
       "<table border=\"1\" class=\"dataframe\">\n",
       "  <thead>\n",
       "    <tr style=\"text-align: right;\">\n",
       "      <th></th>\n",
       "      <th>top genre</th>\n",
       "      <th>artist type</th>\n",
       "      <th>year released</th>\n",
       "      <th>top year</th>\n",
       "      <th>bpm</th>\n",
       "      <th>artist</th>\n",
       "    </tr>\n",
       "  </thead>\n",
       "  <tbody>\n",
       "    <tr>\n",
       "      <th>990</th>\n",
       "      <td>Dance Pop</td>\n",
       "      <td>Solo</td>\n",
       "      <td>2019</td>\n",
       "      <td>2019</td>\n",
       "      <td>120</td>\n",
       "      <td>Sigrid</td>\n",
       "    </tr>\n",
       "    <tr>\n",
       "      <th>991</th>\n",
       "      <td>Grime</td>\n",
       "      <td>Solo</td>\n",
       "      <td>2019</td>\n",
       "      <td>2019</td>\n",
       "      <td>188</td>\n",
       "      <td>Stormzy</td>\n",
       "    </tr>\n",
       "    <tr>\n",
       "      <th>992</th>\n",
       "      <td>Pop</td>\n",
       "      <td>Solo</td>\n",
       "      <td>2019</td>\n",
       "      <td>2019</td>\n",
       "      <td>69</td>\n",
       "      <td>Taylor Swift</td>\n",
       "    </tr>\n",
       "    <tr>\n",
       "      <th>993</th>\n",
       "      <td>Pop</td>\n",
       "      <td>Solo</td>\n",
       "      <td>2019</td>\n",
       "      <td>2019</td>\n",
       "      <td>170</td>\n",
       "      <td>Taylor Swift</td>\n",
       "    </tr>\n",
       "    <tr>\n",
       "      <th>994</th>\n",
       "      <td>Pop</td>\n",
       "      <td>Solo</td>\n",
       "      <td>2019</td>\n",
       "      <td>2019</td>\n",
       "      <td>85</td>\n",
       "      <td>Taylor Swift</td>\n",
       "    </tr>\n",
       "    <tr>\n",
       "      <th>995</th>\n",
       "      <td>Hip Hop</td>\n",
       "      <td>Solo</td>\n",
       "      <td>2018</td>\n",
       "      <td>2019</td>\n",
       "      <td>155</td>\n",
       "      <td>Travis Scott</td>\n",
       "    </tr>\n",
       "    <tr>\n",
       "      <th>996</th>\n",
       "      <td>Hip Hop</td>\n",
       "      <td>Solo</td>\n",
       "      <td>2019</td>\n",
       "      <td>2019</td>\n",
       "      <td>80</td>\n",
       "      <td>Tyler, The Creator</td>\n",
       "    </tr>\n",
       "    <tr>\n",
       "      <th>997</th>\n",
       "      <td>Grime</td>\n",
       "      <td>Solo</td>\n",
       "      <td>2019</td>\n",
       "      <td>2019</td>\n",
       "      <td>103</td>\n",
       "      <td>Wiley</td>\n",
       "    </tr>\n",
       "    <tr>\n",
       "      <th>998</th>\n",
       "      <td>Afroswing</td>\n",
       "      <td>Duo</td>\n",
       "      <td>2019</td>\n",
       "      <td>2019</td>\n",
       "      <td>138</td>\n",
       "      <td>Young T &amp; Bugsey</td>\n",
       "    </tr>\n",
       "    <tr>\n",
       "      <th>999</th>\n",
       "      <td>Atl Hip Hop</td>\n",
       "      <td>Solo</td>\n",
       "      <td>2019</td>\n",
       "      <td>2019</td>\n",
       "      <td>98</td>\n",
       "      <td>Young Thug</td>\n",
       "    </tr>\n",
       "  </tbody>\n",
       "</table>\n",
       "</div>"
      ],
      "text/plain": [
       "       top genre artist type  year released  top year  bpm              artist\n",
       "990    Dance Pop        Solo           2019      2019  120              Sigrid\n",
       "991        Grime        Solo           2019      2019  188             Stormzy\n",
       "992          Pop        Solo           2019      2019   69        Taylor Swift\n",
       "993          Pop        Solo           2019      2019  170        Taylor Swift\n",
       "994          Pop        Solo           2019      2019   85        Taylor Swift\n",
       "995      Hip Hop        Solo           2018      2019  155        Travis Scott\n",
       "996      Hip Hop        Solo           2019      2019   80  Tyler, The Creator\n",
       "997        Grime        Solo           2019      2019  103               Wiley\n",
       "998    Afroswing         Duo           2019      2019  138    Young T & Bugsey\n",
       "999  Atl Hip Hop        Solo           2019      2019   98          Young Thug"
      ]
     },
     "execution_count": 9,
     "metadata": {},
     "output_type": "execute_result"
    }
   ],
   "source": [
    "# aplicar los cambios en los generos\n",
    "spotify['top genre'] = spotify['top genre'].apply(cambiar_genero)\n",
    "\n",
    "# quitar las finas con valores NaN\n",
    "spotify = spotify.dropna()\n",
    "\n",
    "# convertir las columnas con flotante a entero\n",
    "spotify['bpm'] = spotify['bpm'].astype(int)\n",
    "spotify['year released'] = spotify['year released'].astype(int)\n",
    "spotify['top year'] = spotify['top year'].astype(int)\n",
    "\n",
    "spotify.tail(10)"
   ]
  },
  {
   "cell_type": "markdown",
   "id": "a79906fc-9278-4b85-8493-344002158046",
   "metadata": {},
   "source": [
    "### 4. Exportar a un archivo csv."
   ]
  },
  {
   "cell_type": "code",
   "execution_count": 10,
   "id": "070bc5e2-655d-4679-bd43-66478db2c094",
   "metadata": {},
   "outputs": [],
   "source": [
    "# ruta de destino un directorio anterior y nuevo nombre de archivo\n",
    "archivo = 'dataset_spotify.csv'\n",
    "carpeta = os.path.join(os.getcwd(), '..', archivo)"
   ]
  },
  {
   "cell_type": "code",
   "execution_count": 11,
   "id": "817c8a49-e2df-4b02-be15-11de91042b54",
   "metadata": {},
   "outputs": [],
   "source": [
    "spotify.to_csv(carpeta, encoding='utf-8', index=False)"
   ]
  }
 ],
 "metadata": {
  "kernelspec": {
   "display_name": "Python 3 (ipykernel)",
   "language": "python",
   "name": "python3"
  },
  "language_info": {
   "codemirror_mode": {
    "name": "ipython",
    "version": 3
   },
   "file_extension": ".py",
   "mimetype": "text/x-python",
   "name": "python",
   "nbconvert_exporter": "python",
   "pygments_lexer": "ipython3",
   "version": "3.10.4"
  },
  "toc-autonumbering": false,
  "toc-showmarkdowntxt": false
 },
 "nbformat": 4,
 "nbformat_minor": 5
}
