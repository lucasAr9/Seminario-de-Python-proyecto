{
 "cells": [
  {
   "cell_type": "markdown",
   "metadata": {
    "pycharm": {
     "name": "#%% md\n"
    }
   },
   "source": [
    "<center>\n",
    "\n",
    "# **Análisis de las jugadas**\n",
    "\n",
    "</center>\n",
    "\n",
    "___"
   ]
  },
  {
   "cell_type": "code",
   "execution_count": null,
   "metadata": {
    "pycharm": {
     "name": "#%%\n"
    }
   },
   "outputs": [],
   "source": [
    "# Instalar las librerias para el analisis de las partidas\n",
    "! pip install pandas\n",
    "! pip install matplotlib"
   ]
  },
  {
   "cell_type": "code",
   "execution_count": 1,
   "metadata": {
    "pycharm": {
     "name": "#%%\n"
    }
   },
   "outputs": [],
   "source": [
    "import pandas as pd\n",
    "import matplotlib.pyplot as plt\n",
    "import os"
   ]
  },
  {
   "cell_type": "markdown",
   "metadata": {
    "pycharm": {
     "name": "#%% md\n"
    }
   },
   "source": [
    "### Importamos el archivo con los datos y crear el DataFrame."
   ]
  },
  {
   "cell_type": "code",
   "execution_count": 6,
   "metadata": {
    "pycharm": {
     "name": "#%%\n"
    }
   },
   "outputs": [],
   "source": [
    "archivo = \"datos_de_jugadas.csv\"\n",
    "carpeta = os.path.join(os.getcwd(), \"..\", \"..\", \"registros\", archivo)"
   ]
  },
  {
   "cell_type": "code",
   "execution_count": 24,
   "metadata": {
    "pycharm": {
     "name": "#%%\n"
    }
   },
   "outputs": [],
   "source": [
    "partidas = pd.read_csv(carpeta)"
   ]
  },
  {
   "cell_type": "markdown",
   "metadata": {
    "pycharm": {
     "name": "#%% md\n"
    }
   },
   "source": [
    "### Conocer el DataFrame."
   ]
  },
  {
   "cell_type": "code",
   "execution_count": 6,
   "metadata": {
    "pycharm": {
     "name": "#%%\n"
    }
   },
   "outputs": [
    {
     "name": "stdout",
     "output_type": "stream",
     "text": [
      "<class 'pandas.core.frame.DataFrame'>\n",
      "RangeIndex: 209 entries, 0 to 208\n",
      "Data columns (total 10 columns):\n",
      " #   Column           Non-Null Count  Dtype  \n",
      "---  ------           --------------  -----  \n",
      " 0   timestamp        209 non-null    float64\n",
      " 1   id               209 non-null    object \n",
      " 2   evento           209 non-null    object \n",
      " 3   nombre_jugador   209 non-null    object \n",
      " 4   edad_jugador     209 non-null    int64  \n",
      " 5   genero_jugador   209 non-null    object \n",
      " 6   estado           164 non-null    object \n",
      " 7   texto_ingresado  140 non-null    object \n",
      " 8   respuesta        161 non-null    object \n",
      " 9   nivel            209 non-null    object \n",
      "dtypes: float64(1), int64(1), object(8)\n",
      "memory usage: 16.5+ KB\n"
     ]
    }
   ],
   "source": [
    "# Ver las columnas, cuantos registros tiene cada columna y el tipo de dato\n",
    "partidas.info()"
   ]
  },
  {
   "cell_type": "code",
   "execution_count": 7,
   "metadata": {
    "pycharm": {
     "name": "#%%\n"
    }
   },
   "outputs": [
    {
     "data": {
      "text/html": [
       "<div>\n",
       "<style scoped>\n",
       "    .dataframe tbody tr th:only-of-type {\n",
       "        vertical-align: middle;\n",
       "    }\n",
       "\n",
       "    .dataframe tbody tr th {\n",
       "        vertical-align: top;\n",
       "    }\n",
       "\n",
       "    .dataframe thead th {\n",
       "        text-align: right;\n",
       "    }\n",
       "</style>\n",
       "<table border=\"1\" class=\"dataframe\">\n",
       "  <thead>\n",
       "    <tr style=\"text-align: right;\">\n",
       "      <th></th>\n",
       "      <th>timestamp</th>\n",
       "      <th>id</th>\n",
       "      <th>evento</th>\n",
       "      <th>nombre_jugador</th>\n",
       "      <th>edad_jugador</th>\n",
       "      <th>genero_jugador</th>\n",
       "      <th>estado</th>\n",
       "      <th>texto_ingresado</th>\n",
       "      <th>respuesta</th>\n",
       "      <th>nivel</th>\n",
       "    </tr>\n",
       "  </thead>\n",
       "  <tbody>\n",
       "    <tr>\n",
       "      <th>0</th>\n",
       "      <td>1.655432e+09</td>\n",
       "      <td>db74505f-3fe3-476c-866d-872fea96a3b2</td>\n",
       "      <td>inicio_partida</td>\n",
       "      <td>NEO</td>\n",
       "      <td>80</td>\n",
       "      <td>Masculino</td>\n",
       "      <td>NaN</td>\n",
       "      <td>NaN</td>\n",
       "      <td>NaN</td>\n",
       "      <td>Facil</td>\n",
       "    </tr>\n",
       "    <tr>\n",
       "      <th>1</th>\n",
       "      <td>1.655432e+09</td>\n",
       "      <td>db74505f-3fe3-476c-866d-872fea96a3b2</td>\n",
       "      <td>intento</td>\n",
       "      <td>NEO</td>\n",
       "      <td>80</td>\n",
       "      <td>Masculino</td>\n",
       "      <td>ok</td>\n",
       "      <td>Christina Perri</td>\n",
       "      <td>Christina Perri</td>\n",
       "      <td>Facil</td>\n",
       "    </tr>\n",
       "    <tr>\n",
       "      <th>2</th>\n",
       "      <td>1.655432e+09</td>\n",
       "      <td>db74505f-3fe3-476c-866d-872fea96a3b2</td>\n",
       "      <td>intento</td>\n",
       "      <td>NEO</td>\n",
       "      <td>80</td>\n",
       "      <td>Masculino</td>\n",
       "      <td>error</td>\n",
       "      <td>Bazzi</td>\n",
       "      <td>Calvin Harris</td>\n",
       "      <td>Facil</td>\n",
       "    </tr>\n",
       "    <tr>\n",
       "      <th>3</th>\n",
       "      <td>1.655432e+09</td>\n",
       "      <td>db74505f-3fe3-476c-866d-872fea96a3b2</td>\n",
       "      <td>intento</td>\n",
       "      <td>NEO</td>\n",
       "      <td>80</td>\n",
       "      <td>Masculino</td>\n",
       "      <td>error</td>\n",
       "      <td>Selena Gomez</td>\n",
       "      <td>Rae Sremmurd</td>\n",
       "      <td>Facil</td>\n",
       "    </tr>\n",
       "    <tr>\n",
       "      <th>4</th>\n",
       "      <td>1.655432e+09</td>\n",
       "      <td>db74505f-3fe3-476c-866d-872fea96a3b2</td>\n",
       "      <td>intento</td>\n",
       "      <td>NEO</td>\n",
       "      <td>80</td>\n",
       "      <td>Masculino</td>\n",
       "      <td>error</td>\n",
       "      <td>Lauv</td>\n",
       "      <td>Edward Maya</td>\n",
       "      <td>Facil</td>\n",
       "    </tr>\n",
       "  </tbody>\n",
       "</table>\n",
       "</div>"
      ],
      "text/plain": [
       "      timestamp                                    id          evento  \\\n",
       "0  1.655432e+09  db74505f-3fe3-476c-866d-872fea96a3b2  inicio_partida   \n",
       "1  1.655432e+09  db74505f-3fe3-476c-866d-872fea96a3b2         intento   \n",
       "2  1.655432e+09  db74505f-3fe3-476c-866d-872fea96a3b2         intento   \n",
       "3  1.655432e+09  db74505f-3fe3-476c-866d-872fea96a3b2         intento   \n",
       "4  1.655432e+09  db74505f-3fe3-476c-866d-872fea96a3b2         intento   \n",
       "\n",
       "  nombre_jugador  edad_jugador genero_jugador estado  texto_ingresado  \\\n",
       "0            NEO            80      Masculino    NaN              NaN   \n",
       "1            NEO            80      Masculino     ok  Christina Perri   \n",
       "2            NEO            80      Masculino  error            Bazzi   \n",
       "3            NEO            80      Masculino  error     Selena Gomez   \n",
       "4            NEO            80      Masculino  error             Lauv   \n",
       "\n",
       "         respuesta  nivel  \n",
       "0              NaN  Facil  \n",
       "1  Christina Perri  Facil  \n",
       "2    Calvin Harris  Facil  \n",
       "3     Rae Sremmurd  Facil  \n",
       "4      Edward Maya  Facil  "
      ]
     },
     "execution_count": 7,
     "metadata": {},
     "output_type": "execute_result"
    }
   ],
   "source": [
    "partidas.head()"
   ]
  },
  {
   "cell_type": "code",
   "execution_count": 8,
   "metadata": {
    "pycharm": {
     "name": "#%%\n"
    }
   },
   "outputs": [
    {
     "data": {
      "text/html": [
       "<div>\n",
       "<style scoped>\n",
       "    .dataframe tbody tr th:only-of-type {\n",
       "        vertical-align: middle;\n",
       "    }\n",
       "\n",
       "    .dataframe tbody tr th {\n",
       "        vertical-align: top;\n",
       "    }\n",
       "\n",
       "    .dataframe thead th {\n",
       "        text-align: right;\n",
       "    }\n",
       "</style>\n",
       "<table border=\"1\" class=\"dataframe\">\n",
       "  <thead>\n",
       "    <tr style=\"text-align: right;\">\n",
       "      <th></th>\n",
       "      <th>timestamp</th>\n",
       "      <th>edad_jugador</th>\n",
       "    </tr>\n",
       "  </thead>\n",
       "  <tbody>\n",
       "    <tr>\n",
       "      <th>count</th>\n",
       "      <td>2.090000e+02</td>\n",
       "      <td>209.000000</td>\n",
       "    </tr>\n",
       "    <tr>\n",
       "      <th>mean</th>\n",
       "      <td>1.655643e+09</td>\n",
       "      <td>70.411483</td>\n",
       "    </tr>\n",
       "    <tr>\n",
       "      <th>std</th>\n",
       "      <td>1.519654e+05</td>\n",
       "      <td>14.700637</td>\n",
       "    </tr>\n",
       "    <tr>\n",
       "      <th>min</th>\n",
       "      <td>1.655432e+09</td>\n",
       "      <td>55.000000</td>\n",
       "    </tr>\n",
       "    <tr>\n",
       "      <th>25%</th>\n",
       "      <td>1.655525e+09</td>\n",
       "      <td>55.000000</td>\n",
       "    </tr>\n",
       "    <tr>\n",
       "      <th>50%</th>\n",
       "      <td>1.655598e+09</td>\n",
       "      <td>80.000000</td>\n",
       "    </tr>\n",
       "    <tr>\n",
       "      <th>75%</th>\n",
       "      <td>1.655818e+09</td>\n",
       "      <td>80.000000</td>\n",
       "    </tr>\n",
       "    <tr>\n",
       "      <th>max</th>\n",
       "      <td>1.655855e+09</td>\n",
       "      <td>90.000000</td>\n",
       "    </tr>\n",
       "  </tbody>\n",
       "</table>\n",
       "</div>"
      ],
      "text/plain": [
       "          timestamp  edad_jugador\n",
       "count  2.090000e+02    209.000000\n",
       "mean   1.655643e+09     70.411483\n",
       "std    1.519654e+05     14.700637\n",
       "min    1.655432e+09     55.000000\n",
       "25%    1.655525e+09     55.000000\n",
       "50%    1.655598e+09     80.000000\n",
       "75%    1.655818e+09     80.000000\n",
       "max    1.655855e+09     90.000000"
      ]
     },
     "execution_count": 8,
     "metadata": {},
     "output_type": "execute_result"
    }
   ],
   "source": [
    "# Para conocer las medidas de tendencia central y de dispercion de las columnas cuantitativas del DataFrame\n",
    "partidas.describe()"
   ]
  },
  {
   "cell_type": "markdown",
   "metadata": {
    "pycharm": {
     "name": "#%% md\n"
    }
   },
   "source": [
    "# Estadísticas y gráficos"
   ]
  },
  {
   "cell_type": "markdown",
   "metadata": {
    "pycharm": {
     "name": "#%% md\n"
    }
   },
   "source": [
    "### Top 10 de palabras que se encuentran primero de todas las partidas."
   ]
  },
  {
   "cell_type": "code",
   "execution_count": 9,
   "metadata": {
    "pycharm": {
     "name": "#%%\n"
    }
   },
   "outputs": [],
   "source": [
    "# pendiente"
   ]
  },
  {
   "cell_type": "code",
   "execution_count": 10,
   "metadata": {
    "pycharm": {
     "name": "#%%\n"
    }
   },
   "outputs": [],
   "source": [
    "# pendiente"
   ]
  },
  {
   "cell_type": "markdown",
   "metadata": {
    "pycharm": {
     "name": "#%% md\n"
    }
   },
   "source": [
    "###  Gráfico que muestra el porcentaje de partidas por estado (error, ok, cancelado, finalizada)."
   ]
  },
  {
   "cell_type": "code",
   "execution_count": 11,
   "metadata": {
    "pycharm": {
     "name": "#%%\n"
    }
   },
   "outputs": [],
   "source": [
    "estado = partidas['estado'].value_counts()"
   ]
  },
  {
   "cell_type": "code",
   "execution_count": 12,
   "metadata": {
    "pycharm": {
     "name": "#%%\n"
    }
   },
   "outputs": [
    {
     "data": {
      "image/png": "[encoded data removed]",
      "text/plain": [
       "<Figure size 432x432 with 1 Axes>"
      ]
     },
     "metadata": {},
     "output_type": "display_data"
    }
   ],
   "source": [
    "estado.plot(kind='pie', autopct='%1.1f%%', startangle=90, figsize=(6, 6), pctdistance=0.8, radius=1.2,\n",
    "            textprops={'fontsize': 16, 'color': 'black', 'backgroundcolor': 'c'},\n",
    "            wedgeprops={'linewidth': 1, 'edgecolor': 'black'})\n",
    "plt.title(\"Porcentaje de partidas según su estado\", pad=35, loc=\"center\",\n",
    "          fontdict={'fontsize': 20, 'fontweight': 'bold', 'backgroundcolor': 'white'})\n",
    "plt.show()"
   ]
  },
  {
   "cell_type": "code",
   "execution_count": 13,
   "metadata": {
    "pycharm": {
     "name": "#%%\n"
    }
   },
   "outputs": [
    {
     "data": {
      "image/png": "[encoded data removed]",
      "text/plain": [
       "<Figure size 360x360 with 1 Axes>"
      ]
     },
     "metadata": {},
     "output_type": "display_data"
    }
   ],
   "source": [
    "estado_fin = estado[['finalizada', 'cancelada']]\n",
    "\n",
    "estado_fin.plot(kind='pie', autopct='%1.1f%%', startangle=90, figsize=(5, 5), pctdistance=0.8, radius=1.0,\n",
    "                textprops={'fontsize': 16, 'color': 'black', 'backgroundcolor': 'c'},\n",
    "                wedgeprops={'linewidth': 1, 'edgecolor': 'black'})\n",
    "plt.title(\"Porcentaje de partidas finalizadas o canceladas\", pad=35, loc=\"center\",\n",
    "          fontdict={'fontsize': 20, 'fontweight': 'bold', 'backgroundcolor': 'white'})\n",
    "plt.show()"
   ]
  },
  {
   "cell_type": "code",
   "execution_count": 14,
   "metadata": {
    "pycharm": {
     "name": "#%%\n"
    }
   },
   "outputs": [
    {
     "data": {
      "image/png": "[encoded data removed]",
      "text/plain": [
       "<Figure size 360x360 with 1 Axes>"
      ]
     },
     "metadata": {},
     "output_type": "display_data"
    }
   ],
   "source": [
    "estado_respuestas = estado[['error', 'ok']]\n",
    "\n",
    "estado_respuestas.plot(kind='pie', autopct='%1.1f%%', startangle=90, figsize=(5, 5), pctdistance=0.8, radius=1.0,\n",
    "                       textprops={'fontsize': 16, 'color': 'black', 'backgroundcolor': 'c'},\n",
    "                       wedgeprops={'linewidth': 1, 'edgecolor': 'black'})\n",
    "plt.title(\"Porcentaje de rondas por errores o aciertos\", pad=35, loc=\"center\",\n",
    "          fontdict={'fontsize': 20, 'fontweight': 'bold', 'backgroundcolor': 'white'})\n",
    "plt.show()"
   ]
  },
  {
   "cell_type": "markdown",
   "metadata": {
    "pycharm": {
     "name": "#%% md\n"
    }
   },
   "source": [
    "### Gráfico que muestra el porcentaje de partidas finalizadas según género."
   ]
  },
  {
   "cell_type": "code",
   "execution_count": 15,
   "metadata": {
    "pycharm": {
     "name": "#%%\n"
    }
   },
   "outputs": [
    {
     "data": {
      "image/png": "[encoded data removed]",
      "text/plain": [
       "<Figure size 432x432 with 1 Axes>"
      ]
     },
     "metadata": {},
     "output_type": "display_data"
    }
   ],
   "source": [
    "estado_finalizadas = partidas[partidas['estado'] == 'finalizada']\n",
    "agrupar_genero = estado_finalizadas.groupby('genero_jugador')\n",
    "agrupar_genero = agrupar_genero.size()\n",
    "\n",
    "agrupar_genero.plot(kind='pie', autopct='%1.1f%%', startangle=90, figsize=(6, 6), pctdistance=0.8, radius=1.2,\n",
    "                    textprops={'fontsize': 16, 'color': 'black', 'backgroundcolor': 'c'},\n",
    "                    wedgeprops={'linewidth': 1, 'edgecolor': 'black'})\n",
    "plt.title(\"Porcentaje de partidas finalizadas por género\", pad=35, loc=\"center\",\n",
    "          fontdict={'fontsize': 20, 'fontweight': 'bold', 'backgroundcolor': 'white'})\n",
    "plt.show()"
   ]
  },
  {
   "cell_type": "markdown",
   "metadata": {
    "pycharm": {
     "name": "#%% md\n"
    }
   },
   "source": [
    "### Gráfico que muestra el porcentaje de partidas finalizadas según nivel."
   ]
  },
  {
   "cell_type": "code",
   "execution_count": 16,
   "metadata": {
    "pycharm": {
     "name": "#%%\n"
    }
   },
   "outputs": [
    {
     "data": {
      "image/png": "[encoded data removed]",
      "text/plain": [
       "<Figure size 432x432 with 1 Axes>"
      ]
     },
     "metadata": {},
     "output_type": "display_data"
    }
   ],
   "source": [
    "nivel = partidas['nivel'].value_counts()\n",
    "\n",
    "nivel.plot(kind='pie', autopct='%1.1f%%', startangle=90, figsize=(6, 6), pctdistance=0.8, radius=1.2,\n",
    "           textprops={'fontsize': 16, 'color': 'black', 'backgroundcolor': 'c'},\n",
    "           wedgeprops={'linewidth': 1, 'edgecolor': 'black'})\n",
    "plt.title(\"Porcentaje de partidas finalizadas por género\", pad=35, loc=\"center\",\n",
    "          fontdict={'fontsize': 20, 'fontweight': 'bold', 'backgroundcolor': 'white'})\n",
    "plt.show()"
   ]
  },
  {
   "cell_type": "markdown",
   "metadata": {},
   "source": [
    "### Promedio de tiempo de partidas finalizadas por nivel."
   ]
  },
  {
   "cell_type": "code",
   "execution_count": null,
   "metadata": {},
   "outputs": [],
   "source": []
  },
  {
   "cell_type": "markdown",
   "metadata": {},
   "source": [
    "### Duración total de la partida (desde que el usuarie empieza a jugar hasta que presiona salir o pasan las N rondas definidas para el nivel de dificultad actual)."
   ]
  },
  {
   "cell_type": "code",
   "execution_count": 44,
   "metadata": {},
   "outputs": [
    {
     "data": {
      "text/html": [
       "<div>\n",
       "<style scoped>\n",
       "    .dataframe tbody tr th:only-of-type {\n",
       "        vertical-align: middle;\n",
       "    }\n",
       "\n",
       "    .dataframe tbody tr th {\n",
       "        vertical-align: top;\n",
       "    }\n",
       "\n",
       "    .dataframe thead th {\n",
       "        text-align: right;\n",
       "    }\n",
       "</style>\n",
       "<table border=\"1\" class=\"dataframe\">\n",
       "  <thead>\n",
       "    <tr style=\"text-align: right;\">\n",
       "      <th></th>\n",
       "      <th>timestamp</th>\n",
       "      <th>id</th>\n",
       "      <th>evento</th>\n",
       "      <th>nombre_jugador</th>\n",
       "      <th>edad_jugador</th>\n",
       "      <th>genero_jugador</th>\n",
       "      <th>estado</th>\n",
       "      <th>texto_ingresado</th>\n",
       "      <th>respuesta</th>\n",
       "      <th>nivel</th>\n",
       "    </tr>\n",
       "  </thead>\n",
       "  <tbody>\n",
       "    <tr>\n",
       "      <th>0</th>\n",
       "      <td>1.655432e+09</td>\n",
       "      <td>db74505f-3fe3-476c-866d-872fea96a3b2</td>\n",
       "      <td>inicio_partida</td>\n",
       "      <td>NEO</td>\n",
       "      <td>80</td>\n",
       "      <td>Masculino</td>\n",
       "      <td>NaN</td>\n",
       "      <td>NaN</td>\n",
       "      <td>NaN</td>\n",
       "      <td>Facil</td>\n",
       "    </tr>\n",
       "    <tr>\n",
       "      <th>1</th>\n",
       "      <td>1.655432e+09</td>\n",
       "      <td>db74505f-3fe3-476c-866d-872fea96a3b2</td>\n",
       "      <td>intento</td>\n",
       "      <td>NEO</td>\n",
       "      <td>80</td>\n",
       "      <td>Masculino</td>\n",
       "      <td>ok</td>\n",
       "      <td>Christina Perri</td>\n",
       "      <td>Christina Perri</td>\n",
       "      <td>Facil</td>\n",
       "    </tr>\n",
       "    <tr>\n",
       "      <th>2</th>\n",
       "      <td>1.655432e+09</td>\n",
       "      <td>db74505f-3fe3-476c-866d-872fea96a3b2</td>\n",
       "      <td>intento</td>\n",
       "      <td>NEO</td>\n",
       "      <td>80</td>\n",
       "      <td>Masculino</td>\n",
       "      <td>error</td>\n",
       "      <td>Bazzi</td>\n",
       "      <td>Calvin Harris</td>\n",
       "      <td>Facil</td>\n",
       "    </tr>\n",
       "    <tr>\n",
       "      <th>3</th>\n",
       "      <td>1.655432e+09</td>\n",
       "      <td>db74505f-3fe3-476c-866d-872fea96a3b2</td>\n",
       "      <td>intento</td>\n",
       "      <td>NEO</td>\n",
       "      <td>80</td>\n",
       "      <td>Masculino</td>\n",
       "      <td>error</td>\n",
       "      <td>Selena Gomez</td>\n",
       "      <td>Rae Sremmurd</td>\n",
       "      <td>Facil</td>\n",
       "    </tr>\n",
       "    <tr>\n",
       "      <th>4</th>\n",
       "      <td>1.655432e+09</td>\n",
       "      <td>db74505f-3fe3-476c-866d-872fea96a3b2</td>\n",
       "      <td>intento</td>\n",
       "      <td>NEO</td>\n",
       "      <td>80</td>\n",
       "      <td>Masculino</td>\n",
       "      <td>error</td>\n",
       "      <td>Lauv</td>\n",
       "      <td>Edward Maya</td>\n",
       "      <td>Facil</td>\n",
       "    </tr>\n",
       "    <tr>\n",
       "      <th>5</th>\n",
       "      <td>1.655432e+09</td>\n",
       "      <td>db74505f-3fe3-476c-866d-872fea96a3b2</td>\n",
       "      <td>pasar</td>\n",
       "      <td>NEO</td>\n",
       "      <td>80</td>\n",
       "      <td>Masculino</td>\n",
       "      <td>NaN</td>\n",
       "      <td>NaN</td>\n",
       "      <td>Natalie La Rose</td>\n",
       "      <td>Facil</td>\n",
       "    </tr>\n",
       "    <tr>\n",
       "      <th>6</th>\n",
       "      <td>1.655432e+09</td>\n",
       "      <td>db74505f-3fe3-476c-866d-872fea96a3b2</td>\n",
       "      <td>intento</td>\n",
       "      <td>NEO</td>\n",
       "      <td>80</td>\n",
       "      <td>Masculino</td>\n",
       "      <td>error</td>\n",
       "      <td>XXXTENTACION</td>\n",
       "      <td>Adele</td>\n",
       "      <td>Facil</td>\n",
       "    </tr>\n",
       "    <tr>\n",
       "      <th>7</th>\n",
       "      <td>1.655432e+09</td>\n",
       "      <td>db74505f-3fe3-476c-866d-872fea96a3b2</td>\n",
       "      <td>intento</td>\n",
       "      <td>NEO</td>\n",
       "      <td>80</td>\n",
       "      <td>Masculino</td>\n",
       "      <td>error</td>\n",
       "      <td>Migos</td>\n",
       "      <td>Future</td>\n",
       "      <td>Facil</td>\n",
       "    </tr>\n",
       "    <tr>\n",
       "      <th>8</th>\n",
       "      <td>1.655432e+09</td>\n",
       "      <td>db74505f-3fe3-476c-866d-872fea96a3b2</td>\n",
       "      <td>pasar</td>\n",
       "      <td>NEO</td>\n",
       "      <td>80</td>\n",
       "      <td>Masculino</td>\n",
       "      <td>NaN</td>\n",
       "      <td>NaN</td>\n",
       "      <td>Taylor Swift</td>\n",
       "      <td>Facil</td>\n",
       "    </tr>\n",
       "    <tr>\n",
       "      <th>9</th>\n",
       "      <td>1.655432e+09</td>\n",
       "      <td>db74505f-3fe3-476c-866d-872fea96a3b2</td>\n",
       "      <td>intento</td>\n",
       "      <td>NEO</td>\n",
       "      <td>80</td>\n",
       "      <td>Masculino</td>\n",
       "      <td>error</td>\n",
       "      <td>Daya</td>\n",
       "      <td>Iyaz</td>\n",
       "      <td>Facil</td>\n",
       "    </tr>\n",
       "    <tr>\n",
       "      <th>10</th>\n",
       "      <td>1.655432e+09</td>\n",
       "      <td>db74505f-3fe3-476c-866d-872fea96a3b2</td>\n",
       "      <td>intento</td>\n",
       "      <td>NEO</td>\n",
       "      <td>80</td>\n",
       "      <td>Masculino</td>\n",
       "      <td>error</td>\n",
       "      <td>NF</td>\n",
       "      <td>Lana Del Rey</td>\n",
       "      <td>Facil</td>\n",
       "    </tr>\n",
       "    <tr>\n",
       "      <th>11</th>\n",
       "      <td>1.655432e+09</td>\n",
       "      <td>db74505f-3fe3-476c-866d-872fea96a3b2</td>\n",
       "      <td>fin</td>\n",
       "      <td>NEO</td>\n",
       "      <td>80</td>\n",
       "      <td>Masculino</td>\n",
       "      <td>finalizada</td>\n",
       "      <td>NaN</td>\n",
       "      <td>NaN</td>\n",
       "      <td>Facil</td>\n",
       "    </tr>\n",
       "  </tbody>\n",
       "</table>\n",
       "</div>"
      ],
      "text/plain": [
       "       timestamp                                    id          evento  \\\n",
       "0   1.655432e+09  db74505f-3fe3-476c-866d-872fea96a3b2  inicio_partida   \n",
       "1   1.655432e+09  db74505f-3fe3-476c-866d-872fea96a3b2         intento   \n",
       "2   1.655432e+09  db74505f-3fe3-476c-866d-872fea96a3b2         intento   \n",
       "3   1.655432e+09  db74505f-3fe3-476c-866d-872fea96a3b2         intento   \n",
       "4   1.655432e+09  db74505f-3fe3-476c-866d-872fea96a3b2         intento   \n",
       "5   1.655432e+09  db74505f-3fe3-476c-866d-872fea96a3b2           pasar   \n",
       "6   1.655432e+09  db74505f-3fe3-476c-866d-872fea96a3b2         intento   \n",
       "7   1.655432e+09  db74505f-3fe3-476c-866d-872fea96a3b2         intento   \n",
       "8   1.655432e+09  db74505f-3fe3-476c-866d-872fea96a3b2           pasar   \n",
       "9   1.655432e+09  db74505f-3fe3-476c-866d-872fea96a3b2         intento   \n",
       "10  1.655432e+09  db74505f-3fe3-476c-866d-872fea96a3b2         intento   \n",
       "11  1.655432e+09  db74505f-3fe3-476c-866d-872fea96a3b2             fin   \n",
       "\n",
       "   nombre_jugador  edad_jugador genero_jugador      estado  texto_ingresado  \\\n",
       "0             NEO            80      Masculino         NaN              NaN   \n",
       "1             NEO            80      Masculino          ok  Christina Perri   \n",
       "2             NEO            80      Masculino       error            Bazzi   \n",
       "3             NEO            80      Masculino       error     Selena Gomez   \n",
       "4             NEO            80      Masculino       error             Lauv   \n",
       "5             NEO            80      Masculino         NaN              NaN   \n",
       "6             NEO            80      Masculino       error     XXXTENTACION   \n",
       "7             NEO            80      Masculino       error            Migos   \n",
       "8             NEO            80      Masculino         NaN              NaN   \n",
       "9             NEO            80      Masculino       error             Daya   \n",
       "10            NEO            80      Masculino       error               NF   \n",
       "11            NEO            80      Masculino  finalizada              NaN   \n",
       "\n",
       "          respuesta  nivel  \n",
       "0               NaN  Facil  \n",
       "1   Christina Perri  Facil  \n",
       "2     Calvin Harris  Facil  \n",
       "3      Rae Sremmurd  Facil  \n",
       "4       Edward Maya  Facil  \n",
       "5   Natalie La Rose  Facil  \n",
       "6             Adele  Facil  \n",
       "7            Future  Facil  \n",
       "8      Taylor Swift  Facil  \n",
       "9              Iyaz  Facil  \n",
       "10     Lana Del Rey  Facil  \n",
       "11              NaN  Facil  "
      ]
     },
     "execution_count": 44,
     "metadata": {},
     "output_type": "execute_result"
    }
   ],
   "source": [
    "# Una partida en Facil dura 10 rondas, mas el registro de inicio y fin de partida son 12 lineas\n",
    "# por partida en esa dificultad. En las demas dificultades la cantidad de lineas es menor,\n",
    "# por eso mostrar 12 lineas para empezar el calculo del tiempo y ver que necesitamos del DataFrame.\n",
    "partidas.head(12)"
   ]
  },
  {
   "cell_type": "markdown",
   "metadata": {},
   "source": [
    "* Separar en dos DataFrame los inicios de partida y los fin de partida."
   ]
  },
  {
   "cell_type": "code",
   "execution_count": 48,
   "metadata": {},
   "outputs": [],
   "source": [
    "# filtrar por las columnas que necesitamos\n",
    "columnas = partidas[['id', 'timestamp', 'evento']]\n",
    "\n",
    "# filtrar en dos DataFrames los inicios y fin\n",
    "inicio = columnas[columnas['evento'].isin(['inicio_partida'])]\n",
    "fin = columnas[columnas['evento'].isin(['fin'])]\n",
    "\n",
    "# cambiar el nombre de la columna timestamp por el nombre del evento de cada DataFrame\n",
    "inicio = inicio.rename(columns={'timestamp': 'tiempo_inicio'})\n",
    "fin = fin.rename(columns={'timestamp': 'tiempo_fin'})\n",
    "\n",
    "# eliminar la columna evento\n",
    "inicio = inicio.drop(columns=['evento'])\n",
    "fin = fin.drop(columns=['evento'])"
   ]
  },
  {
   "cell_type": "code",
   "execution_count": 54,
   "metadata": {},
   "outputs": [
    {
     "data": {
      "text/html": [
       "<div>\n",
       "<style scoped>\n",
       "    .dataframe tbody tr th:only-of-type {\n",
       "        vertical-align: middle;\n",
       "    }\n",
       "\n",
       "    .dataframe tbody tr th {\n",
       "        vertical-align: top;\n",
       "    }\n",
       "\n",
       "    .dataframe thead th {\n",
       "        text-align: right;\n",
       "    }\n",
       "</style>\n",
       "<table border=\"1\" class=\"dataframe\">\n",
       "  <thead>\n",
       "    <tr style=\"text-align: right;\">\n",
       "      <th></th>\n",
       "      <th>id</th>\n",
       "      <th>tiempo_inicio</th>\n",
       "    </tr>\n",
       "  </thead>\n",
       "  <tbody>\n",
       "    <tr>\n",
       "      <th>0</th>\n",
       "      <td>db74505f-3fe3-476c-866d-872fea96a3b2</td>\n",
       "      <td>1.655432e+09</td>\n",
       "    </tr>\n",
       "    <tr>\n",
       "      <th>12</th>\n",
       "      <td>b8d68931-5986-4704-99ac-1f606dac48ae</td>\n",
       "      <td>1.655432e+09</td>\n",
       "    </tr>\n",
       "    <tr>\n",
       "      <th>24</th>\n",
       "      <td>3c3f6710-3cef-459e-9013-0fbaf8af05f5</td>\n",
       "      <td>1.655432e+09</td>\n",
       "    </tr>\n",
       "  </tbody>\n",
       "</table>\n",
       "</div>"
      ],
      "text/plain": [
       "                                      id  tiempo_inicio\n",
       "0   db74505f-3fe3-476c-866d-872fea96a3b2   1.655432e+09\n",
       "12  b8d68931-5986-4704-99ac-1f606dac48ae   1.655432e+09\n",
       "24  3c3f6710-3cef-459e-9013-0fbaf8af05f5   1.655432e+09"
      ]
     },
     "execution_count": 54,
     "metadata": {},
     "output_type": "execute_result"
    }
   ],
   "source": [
    "inicio.head(3)"
   ]
  },
  {
   "cell_type": "code",
   "execution_count": 55,
   "metadata": {},
   "outputs": [
    {
     "data": {
      "text/html": [
       "<div>\n",
       "<style scoped>\n",
       "    .dataframe tbody tr th:only-of-type {\n",
       "        vertical-align: middle;\n",
       "    }\n",
       "\n",
       "    .dataframe tbody tr th {\n",
       "        vertical-align: top;\n",
       "    }\n",
       "\n",
       "    .dataframe thead th {\n",
       "        text-align: right;\n",
       "    }\n",
       "</style>\n",
       "<table border=\"1\" class=\"dataframe\">\n",
       "  <thead>\n",
       "    <tr style=\"text-align: right;\">\n",
       "      <th></th>\n",
       "      <th>id</th>\n",
       "      <th>tiempo_fin</th>\n",
       "    </tr>\n",
       "  </thead>\n",
       "  <tbody>\n",
       "    <tr>\n",
       "      <th>11</th>\n",
       "      <td>db74505f-3fe3-476c-866d-872fea96a3b2</td>\n",
       "      <td>1.655432e+09</td>\n",
       "    </tr>\n",
       "    <tr>\n",
       "      <th>23</th>\n",
       "      <td>b8d68931-5986-4704-99ac-1f606dac48ae</td>\n",
       "      <td>1.655432e+09</td>\n",
       "    </tr>\n",
       "    <tr>\n",
       "      <th>29</th>\n",
       "      <td>3c3f6710-3cef-459e-9013-0fbaf8af05f5</td>\n",
       "      <td>1.655432e+09</td>\n",
       "    </tr>\n",
       "  </tbody>\n",
       "</table>\n",
       "</div>"
      ],
      "text/plain": [
       "                                      id    tiempo_fin\n",
       "11  db74505f-3fe3-476c-866d-872fea96a3b2  1.655432e+09\n",
       "23  b8d68931-5986-4704-99ac-1f606dac48ae  1.655432e+09\n",
       "29  3c3f6710-3cef-459e-9013-0fbaf8af05f5  1.655432e+09"
      ]
     },
     "execution_count": 55,
     "metadata": {},
     "output_type": "execute_result"
    }
   ],
   "source": [
    "fin.head(3)"
   ]
  },
  {
   "cell_type": "markdown",
   "metadata": {},
   "source": [
    "* Merge de las columnas de tiempo."
   ]
  },
  {
   "cell_type": "code",
   "execution_count": 64,
   "metadata": {},
   "outputs": [
    {
     "data": {
      "text/html": [
       "<div>\n",
       "<style scoped>\n",
       "    .dataframe tbody tr th:only-of-type {\n",
       "        vertical-align: middle;\n",
       "    }\n",
       "\n",
       "    .dataframe tbody tr th {\n",
       "        vertical-align: top;\n",
       "    }\n",
       "\n",
       "    .dataframe thead th {\n",
       "        text-align: right;\n",
       "    }\n",
       "</style>\n",
       "<table border=\"1\" class=\"dataframe\">\n",
       "  <thead>\n",
       "    <tr style=\"text-align: right;\">\n",
       "      <th></th>\n",
       "      <th>id</th>\n",
       "      <th>tiempo_inicio</th>\n",
       "      <th>tiempo_fin</th>\n",
       "    </tr>\n",
       "  </thead>\n",
       "  <tbody>\n",
       "    <tr>\n",
       "      <th>0</th>\n",
       "      <td>db74505f-3fe3-476c-866d-872fea96a3b2</td>\n",
       "      <td>1.655432e+09</td>\n",
       "      <td>1.655432e+09</td>\n",
       "    </tr>\n",
       "    <tr>\n",
       "      <th>1</th>\n",
       "      <td>b8d68931-5986-4704-99ac-1f606dac48ae</td>\n",
       "      <td>1.655432e+09</td>\n",
       "      <td>1.655432e+09</td>\n",
       "    </tr>\n",
       "    <tr>\n",
       "      <th>2</th>\n",
       "      <td>3c3f6710-3cef-459e-9013-0fbaf8af05f5</td>\n",
       "      <td>1.655432e+09</td>\n",
       "      <td>1.655432e+09</td>\n",
       "    </tr>\n",
       "    <tr>\n",
       "      <th>3</th>\n",
       "      <td>e1edc516-b996-42e9-97c3-a56a4080eaab</td>\n",
       "      <td>1.655495e+09</td>\n",
       "      <td>1.655495e+09</td>\n",
       "    </tr>\n",
       "    <tr>\n",
       "      <th>4</th>\n",
       "      <td>40d2a50d-2f04-44cc-9665-44a0f720d9a7</td>\n",
       "      <td>1.655525e+09</td>\n",
       "      <td>1.655525e+09</td>\n",
       "    </tr>\n",
       "  </tbody>\n",
       "</table>\n",
       "</div>"
      ],
      "text/plain": [
       "                                     id  tiempo_inicio    tiempo_fin\n",
       "0  db74505f-3fe3-476c-866d-872fea96a3b2   1.655432e+09  1.655432e+09\n",
       "1  b8d68931-5986-4704-99ac-1f606dac48ae   1.655432e+09  1.655432e+09\n",
       "2  3c3f6710-3cef-459e-9013-0fbaf8af05f5   1.655432e+09  1.655432e+09\n",
       "3  e1edc516-b996-42e9-97c3-a56a4080eaab   1.655495e+09  1.655495e+09\n",
       "4  40d2a50d-2f04-44cc-9665-44a0f720d9a7   1.655525e+09  1.655525e+09"
      ]
     },
     "execution_count": 64,
     "metadata": {},
     "output_type": "execute_result"
    }
   ],
   "source": [
    "tiempos = pd.merge(inicio, fin[['id', 'tiempo_fin']], how='left')\n",
    "tiempos.head(5)"
   ]
  },
  {
   "cell_type": "markdown",
   "metadata": {},
   "source": [
    "* Restar el tiempo_fin por el tiempo_inicio y obtener el tiempo de cada partida en segundos."
   ]
  },
  {
   "cell_type": "code",
   "execution_count": 67,
   "metadata": {},
   "outputs": [
    {
     "data": {
      "text/html": [
       "<div>\n",
       "<style scoped>\n",
       "    .dataframe tbody tr th:only-of-type {\n",
       "        vertical-align: middle;\n",
       "    }\n",
       "\n",
       "    .dataframe tbody tr th {\n",
       "        vertical-align: top;\n",
       "    }\n",
       "\n",
       "    .dataframe thead th {\n",
       "        text-align: right;\n",
       "    }\n",
       "</style>\n",
       "<table border=\"1\" class=\"dataframe\">\n",
       "  <thead>\n",
       "    <tr style=\"text-align: right;\">\n",
       "      <th></th>\n",
       "      <th>id</th>\n",
       "      <th>tiempo_inicio</th>\n",
       "      <th>tiempo_fin</th>\n",
       "      <th>duracion</th>\n",
       "    </tr>\n",
       "  </thead>\n",
       "  <tbody>\n",
       "    <tr>\n",
       "      <th>0</th>\n",
       "      <td>db74505f-3fe3-476c-866d-872fea96a3b2</td>\n",
       "      <td>1.655432e+09</td>\n",
       "      <td>1.655432e+09</td>\n",
       "      <td>40.810952</td>\n",
       "    </tr>\n",
       "    <tr>\n",
       "      <th>1</th>\n",
       "      <td>b8d68931-5986-4704-99ac-1f606dac48ae</td>\n",
       "      <td>1.655432e+09</td>\n",
       "      <td>1.655432e+09</td>\n",
       "      <td>32.292118</td>\n",
       "    </tr>\n",
       "    <tr>\n",
       "      <th>2</th>\n",
       "      <td>3c3f6710-3cef-459e-9013-0fbaf8af05f5</td>\n",
       "      <td>1.655432e+09</td>\n",
       "      <td>1.655432e+09</td>\n",
       "      <td>13.458615</td>\n",
       "    </tr>\n",
       "    <tr>\n",
       "      <th>3</th>\n",
       "      <td>e1edc516-b996-42e9-97c3-a56a4080eaab</td>\n",
       "      <td>1.655495e+09</td>\n",
       "      <td>1.655495e+09</td>\n",
       "      <td>2.230888</td>\n",
       "    </tr>\n",
       "    <tr>\n",
       "      <th>4</th>\n",
       "      <td>40d2a50d-2f04-44cc-9665-44a0f720d9a7</td>\n",
       "      <td>1.655525e+09</td>\n",
       "      <td>1.655525e+09</td>\n",
       "      <td>64.529064</td>\n",
       "    </tr>\n",
       "  </tbody>\n",
       "</table>\n",
       "</div>"
      ],
      "text/plain": [
       "                                     id  tiempo_inicio    tiempo_fin  \\\n",
       "0  db74505f-3fe3-476c-866d-872fea96a3b2   1.655432e+09  1.655432e+09   \n",
       "1  b8d68931-5986-4704-99ac-1f606dac48ae   1.655432e+09  1.655432e+09   \n",
       "2  3c3f6710-3cef-459e-9013-0fbaf8af05f5   1.655432e+09  1.655432e+09   \n",
       "3  e1edc516-b996-42e9-97c3-a56a4080eaab   1.655495e+09  1.655495e+09   \n",
       "4  40d2a50d-2f04-44cc-9665-44a0f720d9a7   1.655525e+09  1.655525e+09   \n",
       "\n",
       "    duracion  \n",
       "0  40.810952  \n",
       "1  32.292118  \n",
       "2  13.458615  \n",
       "3   2.230888  \n",
       "4  64.529064  "
      ]
     },
     "execution_count": 67,
     "metadata": {},
     "output_type": "execute_result"
    }
   ],
   "source": [
    "tiempos['duracion'] = tiempos['tiempo_fin'] - tiempos['tiempo_inicio']\n",
    "tiempos.head(5)"
   ]
  },
  {
   "cell_type": "markdown",
   "metadata": {},
   "source": [
    "### Porcentaje de palabras encontradas en las partidas \"timeout\", es decir que finalizaron por falta de tiempo para completar."
   ]
  },
  {
   "cell_type": "code",
   "execution_count": null,
   "metadata": {},
   "outputs": [],
   "source": []
  }
 ],
 "metadata": {
  "kernelspec": {
   "display_name": "Python 3 (ipykernel)",
   "language": "python",
   "name": "python3"
  },
  "language_info": {
   "codemirror_mode": {
    "name": "ipython",
    "version": 3
   },
   "file_extension": ".py",
   "mimetype": "text/x-python",
   "name": "python",
   "nbconvert_exporter": "python",
   "pygments_lexer": "ipython3",
   "version": "3.10.4"
  },
  "vscode": {
   "interpreter": {
    "hash": "f74958d2c2063dfa50096d28483b11c3f9df58d37b8ca249bcb33f0785b7e6e5"
   }
  }
 },
 "nbformat": 4,
 "nbformat_minor": 4
}
