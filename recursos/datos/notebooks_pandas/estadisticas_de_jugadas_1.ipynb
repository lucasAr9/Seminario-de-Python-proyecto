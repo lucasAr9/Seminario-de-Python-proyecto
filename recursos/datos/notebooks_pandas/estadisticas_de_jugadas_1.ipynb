{
 "cells": [
  {
   "cell_type": "markdown",
   "metadata": {
    "pycharm": {
     "name": "#%% md\n"
    }
   },
   "source": [
    "# **Análisis de las partidas**"
   ]
  },
  {
   "cell_type": "markdown",
   "metadata": {
    "pycharm": {
     "name": "#%% md\n"
    }
   },
   "source": [
    "### Instalar e importar las librerias para el analisis de las partidas"
   ]
  },
  {
   "cell_type": "code",
   "execution_count": 311,
   "metadata": {
    "pycharm": {
     "name": "#%%\n"
    }
   },
   "outputs": [
    {
     "name": "stdout",
     "output_type": "stream",
     "text": [
      "Requirement already satisfied: pandas in d:\\anaconda3\\envs\\grupo10\\lib\\site-packages (1.4.2)\n",
      "Requirement already satisfied: python-dateutil>=2.8.1 in d:\\anaconda3\\envs\\grupo10\\lib\\site-packages (from pandas) (2.8.2)\n",
      "Requirement already satisfied: numpy>=1.21.0 in d:\\anaconda3\\envs\\grupo10\\lib\\site-packages (from pandas) (1.22.4)\n",
      "Requirement already satisfied: pytz>=2020.1 in d:\\anaconda3\\envs\\grupo10\\lib\\site-packages (from pandas) (2022.1)\n",
      "Requirement already satisfied: six>=1.5 in d:\\anaconda3\\envs\\grupo10\\lib\\site-packages (from python-dateutil>=2.8.1->pandas) (1.16.0)\n",
      "Requirement already satisfied: matplotlib in d:\\anaconda3\\envs\\grupo10\\lib\\site-packages (3.5.2)\n",
      "Requirement already satisfied: numpy>=1.17 in d:\\anaconda3\\envs\\grupo10\\lib\\site-packages (from matplotlib) (1.22.4)\n",
      "Requirement already satisfied: fonttools>=4.22.0 in d:\\anaconda3\\envs\\grupo10\\lib\\site-packages (from matplotlib) (4.33.3)\n",
      "Requirement already satisfied: pyparsing>=2.2.1 in d:\\anaconda3\\envs\\grupo10\\lib\\site-packages (from matplotlib) (3.0.9)\n",
      "Requirement already satisfied: pillow>=6.2.0 in d:\\anaconda3\\envs\\grupo10\\lib\\site-packages (from matplotlib) (9.1.1)\n",
      "Requirement already satisfied: kiwisolver>=1.0.1 in d:\\anaconda3\\envs\\grupo10\\lib\\site-packages (from matplotlib) (1.4.3)\n",
      "Requirement already satisfied: cycler>=0.10 in d:\\anaconda3\\envs\\grupo10\\lib\\site-packages (from matplotlib) (0.11.0)\n",
      "Requirement already satisfied: packaging>=20.0 in d:\\anaconda3\\envs\\grupo10\\lib\\site-packages (from matplotlib) (21.3)\n",
      "Requirement already satisfied: python-dateutil>=2.7 in d:\\anaconda3\\envs\\grupo10\\lib\\site-packages (from matplotlib) (2.8.2)\n",
      "Requirement already satisfied: six>=1.5 in d:\\anaconda3\\envs\\grupo10\\lib\\site-packages (from python-dateutil>=2.7->matplotlib) (1.16.0)\n"
     ]
    }
   ],
   "source": [
    "! pip install pandas\n",
    "! pip install matplotlib"
   ]
  },
  {
   "cell_type": "code",
   "execution_count": 312,
   "metadata": {
    "pycharm": {
     "name": "#%%\n"
    }
   },
   "outputs": [],
   "source": [
    "import pandas as pd\n",
    "import matplotlib.pyplot as plt\n",
    "import os"
   ]
  },
  {
   "cell_type": "markdown",
   "metadata": {
    "pycharm": {
     "name": "#%% md\n"
    }
   },
   "source": [
    "### Importamos el archivo con los datos y crear el DataFrame."
   ]
  },
  {
   "cell_type": "code",
   "execution_count": 313,
   "metadata": {
    "pycharm": {
     "name": "#%%\n"
    }
   },
   "outputs": [],
   "source": [
    "archivo = \"datos_de_jugadas.csv\"\n",
    "carpeta = os.path.join(os.path.realpath('..'), '..', 'registros', archivo)"
   ]
  },
  {
   "cell_type": "code",
   "execution_count": 314,
   "metadata": {
    "pycharm": {
     "name": "#%%\n"
    }
   },
   "outputs": [],
   "source": [
    "try:\n",
    "    partidas = pd.read_csv(carpeta)\n",
    "except FileNotFoundError:\n",
    "    print(f\"No se encontro el archivo {archivo}\")"
   ]
  },
  {
   "cell_type": "markdown",
   "metadata": {
    "pycharm": {
     "name": "#%% md\n"
    }
   },
   "source": [
    "### Conocer el DataFrame."
   ]
  },
  {
   "cell_type": "markdown",
   "metadata": {
    "pycharm": {
     "name": "#%% md\n"
    }
   },
   "source": [
    "* Ver las columnas, cuantos registros tiene cada columna y el tipo de dato."
   ]
  },
  {
   "cell_type": "code",
   "execution_count": 315,
   "metadata": {
    "pycharm": {
     "name": "#%%\n"
    }
   },
   "outputs": [
    {
     "name": "stdout",
     "output_type": "stream",
     "text": [
      "<class 'pandas.core.frame.DataFrame'>\n",
      "RangeIndex: 370 entries, 0 to 369\n",
      "Data columns (total 10 columns):\n",
      " #   Column           Non-Null Count  Dtype  \n",
      "---  ------           --------------  -----  \n",
      " 0   timestamp        370 non-null    float64\n",
      " 1   id               370 non-null    object \n",
      " 2   evento           370 non-null    object \n",
      " 3   nombre_jugador   370 non-null    object \n",
      " 4   edad_jugador     370 non-null    int64  \n",
      " 5   genero_jugador   370 non-null    object \n",
      " 6   estado           296 non-null    object \n",
      " 7   texto_ingresado  238 non-null    object \n",
      " 8   respuesta        283 non-null    object \n",
      " 9   nivel            370 non-null    object \n",
      "dtypes: float64(1), int64(1), object(8)\n",
      "memory usage: 29.0+ KB\n"
     ]
    }
   ],
   "source": [
    "partidas.info()"
   ]
  },
  {
   "cell_type": "markdown",
   "metadata": {
    "pycharm": {
     "name": "#%% md\n"
    }
   },
   "source": [
    "* Conocer la estructura del dataset."
   ]
  },
  {
   "cell_type": "code",
   "execution_count": 316,
   "metadata": {
    "pycharm": {
     "name": "#%%\n"
    }
   },
   "outputs": [
    {
     "data": {
      "text/html": [
       "<div>\n",
       "<style scoped>\n",
       "    .dataframe tbody tr th:only-of-type {\n",
       "        vertical-align: middle;\n",
       "    }\n",
       "\n",
       "    .dataframe tbody tr th {\n",
       "        vertical-align: top;\n",
       "    }\n",
       "\n",
       "    .dataframe thead th {\n",
       "        text-align: right;\n",
       "    }\n",
       "</style>\n",
       "<table border=\"1\" class=\"dataframe\">\n",
       "  <thead>\n",
       "    <tr style=\"text-align: right;\">\n",
       "      <th></th>\n",
       "      <th>timestamp</th>\n",
       "      <th>id</th>\n",
       "      <th>evento</th>\n",
       "      <th>nombre_jugador</th>\n",
       "      <th>edad_jugador</th>\n",
       "      <th>genero_jugador</th>\n",
       "      <th>estado</th>\n",
       "      <th>texto_ingresado</th>\n",
       "      <th>respuesta</th>\n",
       "      <th>nivel</th>\n",
       "    </tr>\n",
       "  </thead>\n",
       "  <tbody>\n",
       "    <tr>\n",
       "      <th>0</th>\n",
       "      <td>1.655432e+09</td>\n",
       "      <td>db74505f-3fe3-476c-866d-872fea96a3b2</td>\n",
       "      <td>inicio_partida</td>\n",
       "      <td>NEO</td>\n",
       "      <td>80</td>\n",
       "      <td>Masculino</td>\n",
       "      <td>NaN</td>\n",
       "      <td>NaN</td>\n",
       "      <td>NaN</td>\n",
       "      <td>Facil</td>\n",
       "    </tr>\n",
       "    <tr>\n",
       "      <th>1</th>\n",
       "      <td>1.655432e+09</td>\n",
       "      <td>db74505f-3fe3-476c-866d-872fea96a3b2</td>\n",
       "      <td>intento</td>\n",
       "      <td>NEO</td>\n",
       "      <td>80</td>\n",
       "      <td>Masculino</td>\n",
       "      <td>ok</td>\n",
       "      <td>Christina Perri</td>\n",
       "      <td>Christina Perri</td>\n",
       "      <td>Facil</td>\n",
       "    </tr>\n",
       "    <tr>\n",
       "      <th>2</th>\n",
       "      <td>1.655432e+09</td>\n",
       "      <td>db74505f-3fe3-476c-866d-872fea96a3b2</td>\n",
       "      <td>intento</td>\n",
       "      <td>NEO</td>\n",
       "      <td>80</td>\n",
       "      <td>Masculino</td>\n",
       "      <td>error</td>\n",
       "      <td>Bazzi</td>\n",
       "      <td>Calvin Harris</td>\n",
       "      <td>Facil</td>\n",
       "    </tr>\n",
       "    <tr>\n",
       "      <th>3</th>\n",
       "      <td>1.655432e+09</td>\n",
       "      <td>db74505f-3fe3-476c-866d-872fea96a3b2</td>\n",
       "      <td>intento</td>\n",
       "      <td>NEO</td>\n",
       "      <td>80</td>\n",
       "      <td>Masculino</td>\n",
       "      <td>error</td>\n",
       "      <td>Selena Gomez</td>\n",
       "      <td>Rae Sremmurd</td>\n",
       "      <td>Facil</td>\n",
       "    </tr>\n",
       "    <tr>\n",
       "      <th>4</th>\n",
       "      <td>1.655432e+09</td>\n",
       "      <td>db74505f-3fe3-476c-866d-872fea96a3b2</td>\n",
       "      <td>intento</td>\n",
       "      <td>NEO</td>\n",
       "      <td>80</td>\n",
       "      <td>Masculino</td>\n",
       "      <td>error</td>\n",
       "      <td>Lauv</td>\n",
       "      <td>Edward Maya</td>\n",
       "      <td>Facil</td>\n",
       "    </tr>\n",
       "    <tr>\n",
       "      <th>5</th>\n",
       "      <td>1.655432e+09</td>\n",
       "      <td>db74505f-3fe3-476c-866d-872fea96a3b2</td>\n",
       "      <td>pasar</td>\n",
       "      <td>NEO</td>\n",
       "      <td>80</td>\n",
       "      <td>Masculino</td>\n",
       "      <td>NaN</td>\n",
       "      <td>NaN</td>\n",
       "      <td>Natalie La Rose</td>\n",
       "      <td>Facil</td>\n",
       "    </tr>\n",
       "    <tr>\n",
       "      <th>6</th>\n",
       "      <td>1.655432e+09</td>\n",
       "      <td>db74505f-3fe3-476c-866d-872fea96a3b2</td>\n",
       "      <td>intento</td>\n",
       "      <td>NEO</td>\n",
       "      <td>80</td>\n",
       "      <td>Masculino</td>\n",
       "      <td>error</td>\n",
       "      <td>XXXTENTACION</td>\n",
       "      <td>Adele</td>\n",
       "      <td>Facil</td>\n",
       "    </tr>\n",
       "    <tr>\n",
       "      <th>7</th>\n",
       "      <td>1.655432e+09</td>\n",
       "      <td>db74505f-3fe3-476c-866d-872fea96a3b2</td>\n",
       "      <td>intento</td>\n",
       "      <td>NEO</td>\n",
       "      <td>80</td>\n",
       "      <td>Masculino</td>\n",
       "      <td>error</td>\n",
       "      <td>Migos</td>\n",
       "      <td>Future</td>\n",
       "      <td>Facil</td>\n",
       "    </tr>\n",
       "    <tr>\n",
       "      <th>8</th>\n",
       "      <td>1.655432e+09</td>\n",
       "      <td>db74505f-3fe3-476c-866d-872fea96a3b2</td>\n",
       "      <td>pasar</td>\n",
       "      <td>NEO</td>\n",
       "      <td>80</td>\n",
       "      <td>Masculino</td>\n",
       "      <td>NaN</td>\n",
       "      <td>NaN</td>\n",
       "      <td>Taylor Swift</td>\n",
       "      <td>Facil</td>\n",
       "    </tr>\n",
       "    <tr>\n",
       "      <th>9</th>\n",
       "      <td>1.655432e+09</td>\n",
       "      <td>db74505f-3fe3-476c-866d-872fea96a3b2</td>\n",
       "      <td>intento</td>\n",
       "      <td>NEO</td>\n",
       "      <td>80</td>\n",
       "      <td>Masculino</td>\n",
       "      <td>error</td>\n",
       "      <td>Daya</td>\n",
       "      <td>Iyaz</td>\n",
       "      <td>Facil</td>\n",
       "    </tr>\n",
       "    <tr>\n",
       "      <th>10</th>\n",
       "      <td>1.655432e+09</td>\n",
       "      <td>db74505f-3fe3-476c-866d-872fea96a3b2</td>\n",
       "      <td>intento</td>\n",
       "      <td>NEO</td>\n",
       "      <td>80</td>\n",
       "      <td>Masculino</td>\n",
       "      <td>error</td>\n",
       "      <td>NF</td>\n",
       "      <td>Lana Del Rey</td>\n",
       "      <td>Facil</td>\n",
       "    </tr>\n",
       "    <tr>\n",
       "      <th>11</th>\n",
       "      <td>1.655432e+09</td>\n",
       "      <td>b8d68931-5986-4704-99ac-1f606dac48ae</td>\n",
       "      <td>inicio_partida</td>\n",
       "      <td>El Jose</td>\n",
       "      <td>80</td>\n",
       "      <td>Masculino</td>\n",
       "      <td>NaN</td>\n",
       "      <td>NaN</td>\n",
       "      <td>NaN</td>\n",
       "      <td>Facil</td>\n",
       "    </tr>\n",
       "    <tr>\n",
       "      <th>12</th>\n",
       "      <td>1.655432e+09</td>\n",
       "      <td>b8d68931-5986-4704-99ac-1f606dac48ae</td>\n",
       "      <td>intento</td>\n",
       "      <td>El Jose</td>\n",
       "      <td>80</td>\n",
       "      <td>Masculino</td>\n",
       "      <td>ok</td>\n",
       "      <td>David Guetta</td>\n",
       "      <td>David Guetta</td>\n",
       "      <td>Facil</td>\n",
       "    </tr>\n",
       "    <tr>\n",
       "      <th>13</th>\n",
       "      <td>1.655432e+09</td>\n",
       "      <td>b8d68931-5986-4704-99ac-1f606dac48ae</td>\n",
       "      <td>pasar</td>\n",
       "      <td>El Jose</td>\n",
       "      <td>80</td>\n",
       "      <td>Masculino</td>\n",
       "      <td>NaN</td>\n",
       "      <td>NaN</td>\n",
       "      <td>Usher</td>\n",
       "      <td>Facil</td>\n",
       "    </tr>\n",
       "    <tr>\n",
       "      <th>14</th>\n",
       "      <td>1.655432e+09</td>\n",
       "      <td>b8d68931-5986-4704-99ac-1f606dac48ae</td>\n",
       "      <td>pasar</td>\n",
       "      <td>El Jose</td>\n",
       "      <td>80</td>\n",
       "      <td>Masculino</td>\n",
       "      <td>NaN</td>\n",
       "      <td>NaN</td>\n",
       "      <td>Rihanna</td>\n",
       "      <td>Facil</td>\n",
       "    </tr>\n",
       "  </tbody>\n",
       "</table>\n",
       "</div>"
      ],
      "text/plain": [
       "       timestamp                                    id          evento  \\\n",
       "0   1.655432e+09  db74505f-3fe3-476c-866d-872fea96a3b2  inicio_partida   \n",
       "1   1.655432e+09  db74505f-3fe3-476c-866d-872fea96a3b2         intento   \n",
       "2   1.655432e+09  db74505f-3fe3-476c-866d-872fea96a3b2         intento   \n",
       "3   1.655432e+09  db74505f-3fe3-476c-866d-872fea96a3b2         intento   \n",
       "4   1.655432e+09  db74505f-3fe3-476c-866d-872fea96a3b2         intento   \n",
       "5   1.655432e+09  db74505f-3fe3-476c-866d-872fea96a3b2           pasar   \n",
       "6   1.655432e+09  db74505f-3fe3-476c-866d-872fea96a3b2         intento   \n",
       "7   1.655432e+09  db74505f-3fe3-476c-866d-872fea96a3b2         intento   \n",
       "8   1.655432e+09  db74505f-3fe3-476c-866d-872fea96a3b2           pasar   \n",
       "9   1.655432e+09  db74505f-3fe3-476c-866d-872fea96a3b2         intento   \n",
       "10  1.655432e+09  db74505f-3fe3-476c-866d-872fea96a3b2         intento   \n",
       "11  1.655432e+09  b8d68931-5986-4704-99ac-1f606dac48ae  inicio_partida   \n",
       "12  1.655432e+09  b8d68931-5986-4704-99ac-1f606dac48ae         intento   \n",
       "13  1.655432e+09  b8d68931-5986-4704-99ac-1f606dac48ae           pasar   \n",
       "14  1.655432e+09  b8d68931-5986-4704-99ac-1f606dac48ae           pasar   \n",
       "\n",
       "   nombre_jugador  edad_jugador genero_jugador estado  texto_ingresado  \\\n",
       "0             NEO            80      Masculino    NaN              NaN   \n",
       "1             NEO            80      Masculino     ok  Christina Perri   \n",
       "2             NEO            80      Masculino  error            Bazzi   \n",
       "3             NEO            80      Masculino  error     Selena Gomez   \n",
       "4             NEO            80      Masculino  error             Lauv   \n",
       "5             NEO            80      Masculino    NaN              NaN   \n",
       "6             NEO            80      Masculino  error     XXXTENTACION   \n",
       "7             NEO            80      Masculino  error            Migos   \n",
       "8             NEO            80      Masculino    NaN              NaN   \n",
       "9             NEO            80      Masculino  error             Daya   \n",
       "10            NEO            80      Masculino  error               NF   \n",
       "11        El Jose            80      Masculino    NaN              NaN   \n",
       "12        El Jose            80      Masculino     ok     David Guetta   \n",
       "13        El Jose            80      Masculino    NaN              NaN   \n",
       "14        El Jose            80      Masculino    NaN              NaN   \n",
       "\n",
       "          respuesta  nivel  \n",
       "0               NaN  Facil  \n",
       "1   Christina Perri  Facil  \n",
       "2     Calvin Harris  Facil  \n",
       "3      Rae Sremmurd  Facil  \n",
       "4       Edward Maya  Facil  \n",
       "5   Natalie La Rose  Facil  \n",
       "6             Adele  Facil  \n",
       "7            Future  Facil  \n",
       "8      Taylor Swift  Facil  \n",
       "9              Iyaz  Facil  \n",
       "10     Lana Del Rey  Facil  \n",
       "11              NaN  Facil  \n",
       "12     David Guetta  Facil  \n",
       "13            Usher  Facil  \n",
       "14          Rihanna  Facil  "
      ]
     },
     "execution_count": 316,
     "metadata": {},
     "output_type": "execute_result"
    }
   ],
   "source": [
    "partidas.head(15)"
   ]
  },
  {
   "cell_type": "markdown",
   "metadata": {
    "pycharm": {
     "name": "#%% md\n"
    }
   },
   "source": [
    "* Para conocer las medidas de tendencia central y de dispercion de las columnas cuantitativas del DataFrame.\n",
    "* En este caso solo es útil la columna de \"edad del jugador\"."
   ]
  },
  {
   "cell_type": "code",
   "execution_count": 317,
   "metadata": {
    "pycharm": {
     "name": "#%%\n"
    }
   },
   "outputs": [
    {
     "data": {
      "text/html": [
       "<div>\n",
       "<style scoped>\n",
       "    .dataframe tbody tr th:only-of-type {\n",
       "        vertical-align: middle;\n",
       "    }\n",
       "\n",
       "    .dataframe tbody tr th {\n",
       "        vertical-align: top;\n",
       "    }\n",
       "\n",
       "    .dataframe thead th {\n",
       "        text-align: right;\n",
       "    }\n",
       "</style>\n",
       "<table border=\"1\" class=\"dataframe\">\n",
       "  <thead>\n",
       "    <tr style=\"text-align: right;\">\n",
       "      <th></th>\n",
       "      <th>timestamp</th>\n",
       "      <th>edad_jugador</th>\n",
       "    </tr>\n",
       "  </thead>\n",
       "  <tbody>\n",
       "    <tr>\n",
       "      <th>count</th>\n",
       "      <td>3.700000e+02</td>\n",
       "      <td>370.000000</td>\n",
       "    </tr>\n",
       "    <tr>\n",
       "      <th>mean</th>\n",
       "      <td>1.655813e+09</td>\n",
       "      <td>57.802703</td>\n",
       "    </tr>\n",
       "    <tr>\n",
       "      <th>std</th>\n",
       "      <td>2.282590e+05</td>\n",
       "      <td>24.836844</td>\n",
       "    </tr>\n",
       "    <tr>\n",
       "      <th>min</th>\n",
       "      <td>1.655432e+09</td>\n",
       "      <td>19.000000</td>\n",
       "    </tr>\n",
       "    <tr>\n",
       "      <th>25%</th>\n",
       "      <td>1.655557e+09</td>\n",
       "      <td>30.000000</td>\n",
       "    </tr>\n",
       "    <tr>\n",
       "      <th>50%</th>\n",
       "      <td>1.655855e+09</td>\n",
       "      <td>56.000000</td>\n",
       "    </tr>\n",
       "    <tr>\n",
       "      <th>75%</th>\n",
       "      <td>1.656011e+09</td>\n",
       "      <td>80.000000</td>\n",
       "    </tr>\n",
       "    <tr>\n",
       "      <th>max</th>\n",
       "      <td>1.656100e+09</td>\n",
       "      <td>90.000000</td>\n",
       "    </tr>\n",
       "  </tbody>\n",
       "</table>\n",
       "</div>"
      ],
      "text/plain": [
       "          timestamp  edad_jugador\n",
       "count  3.700000e+02    370.000000\n",
       "mean   1.655813e+09     57.802703\n",
       "std    2.282590e+05     24.836844\n",
       "min    1.655432e+09     19.000000\n",
       "25%    1.655557e+09     30.000000\n",
       "50%    1.655855e+09     56.000000\n",
       "75%    1.656011e+09     80.000000\n",
       "max    1.656100e+09     90.000000"
      ]
     },
     "execution_count": 317,
     "metadata": {},
     "output_type": "execute_result"
    }
   ],
   "source": [
    "partidas.describe()"
   ]
  },
  {
   "cell_type": "markdown",
   "metadata": {
    "pycharm": {
     "name": "#%% md\n"
    }
   },
   "source": [
    "# Estadísticas y gráficos"
   ]
  },
  {
   "cell_type": "markdown",
   "metadata": {
    "pycharm": {
     "name": "#%% md\n"
    }
   },
   "source": [
    "###  Gráfico que muestra el porcentaje de partidas por estado (error, ok, cancelado, finalizada)."
   ]
  },
  {
   "cell_type": "markdown",
   "metadata": {
    "pycharm": {
     "name": "#%% md\n"
    }
   },
   "source": [
    "* Sumar la cantidad de veces que aparece cada registro repetido en el dataset en la columna de \"estado\"."
   ]
  },
  {
   "cell_type": "code",
   "execution_count": 318,
   "metadata": {},
   "outputs": [],
   "source": [
    "inicio = partidas[partidas['evento'].isin(['inicio_partida'])]\n",
    "fin = partidas[partidas['evento'].isin(['fin'])]"
   ]
  },
  {
   "cell_type": "code",
   "execution_count": 319,
   "metadata": {},
   "outputs": [
    {
     "data": {
      "text/html": [
       "<div>\n",
       "<style scoped>\n",
       "    .dataframe tbody tr th:only-of-type {\n",
       "        vertical-align: middle;\n",
       "    }\n",
       "\n",
       "    .dataframe tbody tr th {\n",
       "        vertical-align: top;\n",
       "    }\n",
       "\n",
       "    .dataframe thead th {\n",
       "        text-align: right;\n",
       "    }\n",
       "</style>\n",
       "<table border=\"1\" class=\"dataframe\">\n",
       "  <thead>\n",
       "    <tr style=\"text-align: right;\">\n",
       "      <th></th>\n",
       "      <th>timestamp</th>\n",
       "      <th>id</th>\n",
       "      <th>evento</th>\n",
       "      <th>nombre_jugador</th>\n",
       "      <th>edad_jugador</th>\n",
       "      <th>genero_jugador</th>\n",
       "      <th>estado</th>\n",
       "      <th>texto_ingresado</th>\n",
       "      <th>respuesta</th>\n",
       "      <th>nivel</th>\n",
       "    </tr>\n",
       "  </thead>\n",
       "  <tbody>\n",
       "    <tr>\n",
       "      <th>0</th>\n",
       "      <td>1.655432e+09</td>\n",
       "      <td>db74505f-3fe3-476c-866d-872fea96a3b2</td>\n",
       "      <td>inicio_partida</td>\n",
       "      <td>NEO</td>\n",
       "      <td>80</td>\n",
       "      <td>Masculino</td>\n",
       "      <td>NaN</td>\n",
       "      <td>NaN</td>\n",
       "      <td>NaN</td>\n",
       "      <td>Facil</td>\n",
       "    </tr>\n",
       "    <tr>\n",
       "      <th>11</th>\n",
       "      <td>1.655432e+09</td>\n",
       "      <td>b8d68931-5986-4704-99ac-1f606dac48ae</td>\n",
       "      <td>inicio_partida</td>\n",
       "      <td>El Jose</td>\n",
       "      <td>80</td>\n",
       "      <td>Masculino</td>\n",
       "      <td>NaN</td>\n",
       "      <td>NaN</td>\n",
       "      <td>NaN</td>\n",
       "      <td>Facil</td>\n",
       "    </tr>\n",
       "    <tr>\n",
       "      <th>23</th>\n",
       "      <td>1.655432e+09</td>\n",
       "      <td>3c3f6710-3cef-459e-9013-0fbaf8af05f5</td>\n",
       "      <td>inicio_partida</td>\n",
       "      <td>El Jose</td>\n",
       "      <td>80</td>\n",
       "      <td>Masculino</td>\n",
       "      <td>NaN</td>\n",
       "      <td>NaN</td>\n",
       "      <td>NaN</td>\n",
       "      <td>Facil</td>\n",
       "    </tr>\n",
       "  </tbody>\n",
       "</table>\n",
       "</div>"
      ],
      "text/plain": [
       "       timestamp                                    id          evento  \\\n",
       "0   1.655432e+09  db74505f-3fe3-476c-866d-872fea96a3b2  inicio_partida   \n",
       "11  1.655432e+09  b8d68931-5986-4704-99ac-1f606dac48ae  inicio_partida   \n",
       "23  1.655432e+09  3c3f6710-3cef-459e-9013-0fbaf8af05f5  inicio_partida   \n",
       "\n",
       "   nombre_jugador  edad_jugador genero_jugador estado texto_ingresado  \\\n",
       "0             NEO            80      Masculino    NaN             NaN   \n",
       "11        El Jose            80      Masculino    NaN             NaN   \n",
       "23        El Jose            80      Masculino    NaN             NaN   \n",
       "\n",
       "   respuesta  nivel  \n",
       "0        NaN  Facil  \n",
       "11       NaN  Facil  \n",
       "23       NaN  Facil  "
      ]
     },
     "execution_count": 319,
     "metadata": {},
     "output_type": "execute_result"
    }
   ],
   "source": [
    "inicio.head(3)"
   ]
  },
  {
   "cell_type": "code",
   "execution_count": 320,
   "metadata": {},
   "outputs": [
    {
     "data": {
      "text/html": [
       "<div>\n",
       "<style scoped>\n",
       "    .dataframe tbody tr th:only-of-type {\n",
       "        vertical-align: middle;\n",
       "    }\n",
       "\n",
       "    .dataframe tbody tr th {\n",
       "        vertical-align: top;\n",
       "    }\n",
       "\n",
       "    .dataframe thead th {\n",
       "        text-align: right;\n",
       "    }\n",
       "</style>\n",
       "<table border=\"1\" class=\"dataframe\">\n",
       "  <thead>\n",
       "    <tr style=\"text-align: right;\">\n",
       "      <th></th>\n",
       "      <th>timestamp</th>\n",
       "      <th>id</th>\n",
       "      <th>evento</th>\n",
       "      <th>nombre_jugador</th>\n",
       "      <th>edad_jugador</th>\n",
       "      <th>genero_jugador</th>\n",
       "      <th>estado</th>\n",
       "      <th>texto_ingresado</th>\n",
       "      <th>respuesta</th>\n",
       "      <th>nivel</th>\n",
       "    </tr>\n",
       "  </thead>\n",
       "  <tbody>\n",
       "    <tr>\n",
       "      <th>22</th>\n",
       "      <td>1.655432e+09</td>\n",
       "      <td>b8d68931-5986-4704-99ac-1f606dac48ae</td>\n",
       "      <td>fin</td>\n",
       "      <td>El Jose</td>\n",
       "      <td>80</td>\n",
       "      <td>Masculino</td>\n",
       "      <td>finalizada</td>\n",
       "      <td>NaN</td>\n",
       "      <td>NaN</td>\n",
       "      <td>Facil</td>\n",
       "    </tr>\n",
       "    <tr>\n",
       "      <th>28</th>\n",
       "      <td>1.655432e+09</td>\n",
       "      <td>3c3f6710-3cef-459e-9013-0fbaf8af05f5</td>\n",
       "      <td>fin</td>\n",
       "      <td>El Jose</td>\n",
       "      <td>80</td>\n",
       "      <td>Masculino</td>\n",
       "      <td>cancelada</td>\n",
       "      <td>NaN</td>\n",
       "      <td>NaN</td>\n",
       "      <td>Facil</td>\n",
       "    </tr>\n",
       "    <tr>\n",
       "      <th>30</th>\n",
       "      <td>1.655495e+09</td>\n",
       "      <td>e1edc516-b996-42e9-97c3-a56a4080eaab</td>\n",
       "      <td>fin</td>\n",
       "      <td>NEO</td>\n",
       "      <td>80</td>\n",
       "      <td>Masculino</td>\n",
       "      <td>cancelada</td>\n",
       "      <td>NaN</td>\n",
       "      <td>NaN</td>\n",
       "      <td>Personalizado</td>\n",
       "    </tr>\n",
       "  </tbody>\n",
       "</table>\n",
       "</div>"
      ],
      "text/plain": [
       "       timestamp                                    id evento nombre_jugador  \\\n",
       "22  1.655432e+09  b8d68931-5986-4704-99ac-1f606dac48ae    fin        El Jose   \n",
       "28  1.655432e+09  3c3f6710-3cef-459e-9013-0fbaf8af05f5    fin        El Jose   \n",
       "30  1.655495e+09  e1edc516-b996-42e9-97c3-a56a4080eaab    fin            NEO   \n",
       "\n",
       "    edad_jugador genero_jugador      estado texto_ingresado respuesta  \\\n",
       "22            80      Masculino  finalizada             NaN       NaN   \n",
       "28            80      Masculino   cancelada             NaN       NaN   \n",
       "30            80      Masculino   cancelada             NaN       NaN   \n",
       "\n",
       "            nivel  \n",
       "22          Facil  \n",
       "28          Facil  \n",
       "30  Personalizado  "
      ]
     },
     "execution_count": 320,
     "metadata": {},
     "output_type": "execute_result"
    }
   ],
   "source": [
    "fin.head(3)"
   ]
  },
  {
   "cell_type": "code",
   "execution_count": 321,
   "metadata": {},
   "outputs": [
    {
     "data": {
      "text/plain": [
       "44"
      ]
     },
     "execution_count": 321,
     "metadata": {},
     "output_type": "execute_result"
    }
   ],
   "source": [
    "len(inicio)"
   ]
  },
  {
   "cell_type": "code",
   "execution_count": 322,
   "metadata": {},
   "outputs": [
    {
     "data": {
      "text/plain": [
       "43"
      ]
     },
     "execution_count": 322,
     "metadata": {},
     "output_type": "execute_result"
    }
   ],
   "source": [
    "len(fin)"
   ]
  },
  {
   "cell_type": "code",
   "execution_count": 323,
   "metadata": {},
   "outputs": [
    {
     "data": {
      "text/plain": [
       "error         196\n",
       "ok             57\n",
       "finalizada     35\n",
       "cancelada       8\n",
       "Name: estado, dtype: int64"
      ]
     },
     "execution_count": 323,
     "metadata": {},
     "output_type": "execute_result"
    }
   ],
   "source": [
    "estado = partidas['estado'].value_counts()\n",
    "estado"
   ]
  },
  {
   "cell_type": "code",
   "execution_count": 324,
   "metadata": {},
   "outputs": [
    {
     "name": "stderr",
     "output_type": "stream",
     "text": [
      "C:\\Users\\Lucas Arrigoni\\AppData\\Local\\Temp\\ipykernel_6676\\2635015528.py:4: FutureWarning: The series.append method is deprecated and will be removed from pandas in a future version. Use pandas.concat instead.\n",
      "  estado = estado.append(nuevo_estado)\n"
     ]
    },
    {
     "data": {
      "text/plain": [
       "error         196\n",
       "ok             57\n",
       "finalizada     35\n",
       "cancelada       8\n",
       "sin fin         1\n",
       "dtype: int64"
      ]
     },
     "execution_count": 324,
     "metadata": {},
     "output_type": "execute_result"
    }
   ],
   "source": [
    "sin_fin = len(inicio) - len(fin)\n",
    "nuevo_estado = pd.Series([sin_fin], index=[\"sin fin\"])\n",
    "\n",
    "estado = estado.append(nuevo_estado)\n",
    "estado"
   ]
  },
  {
   "cell_type": "code",
   "execution_count": 325,
   "metadata": {
    "pycharm": {
     "name": "#%%\n"
    }
   },
   "outputs": [
    {
     "data": {
      "image/png": "[encoded data removed]",
      "text/plain": [
       "<Figure size 1080x504 with 1 Axes>"
      ]
     },
     "metadata": {},
     "output_type": "display_data"
    }
   ],
   "source": [
    "colores = [\"#EE6055\", \"#60D394\", \"#AAF683\", \"#FFD97D\", \"#FF9B85\"]\n",
    "\n",
    "estado.plot(kind='pie', autopct='%1.1f%%', startangle=90, figsize=(15, 7),\n",
    "            pctdistance=0.7, radius=1.2, shadow=True, colors=colores,\n",
    "            textprops={'fontsize': 15, 'color': 'black', 'backgroundcolor': 'c'},\n",
    "            wedgeprops={'linewidth': 0.1, 'edgecolor': 'black'})\n",
    "\n",
    "plt.title(\"Porcentaje de partidas según su estado\", pad=35, loc=\"center\",\n",
    "          fontdict={'fontsize': 25, 'fontweight': 'bold', 'backgroundcolor': 'white'})\n",
    "\n",
    "plt.legend(loc=2, fontsize=12)\n",
    "plt.axis('equal')\n",
    "plt.show()"
   ]
  },
  {
   "cell_type": "markdown",
   "metadata": {
    "pycharm": {
     "name": "#%% md\n"
    }
   },
   "source": [
    "* Cálculo con los registros de partidas \"finalizada\" o \"cancelada\"."
   ]
  },
  {
   "cell_type": "code",
   "execution_count": 326,
   "metadata": {},
   "outputs": [],
   "source": [
    "estado_fin = estado[['finalizada', 'cancelada', 'sin fin']]"
   ]
  },
  {
   "cell_type": "code",
   "execution_count": 327,
   "metadata": {
    "pycharm": {
     "name": "#%%\n"
    }
   },
   "outputs": [
    {
     "data": {
      "image/png": "[encoded data removed]",
      "text/plain": [
       "<Figure size 792x360 with 1 Axes>"
      ]
     },
     "metadata": {},
     "output_type": "display_data"
    }
   ],
   "source": [
    "colores = [\"#AAF683\", \"#FFD97D\", \"#FF9B85\"]\n",
    "explode = 0.07, 0.07, 0.07\n",
    "\n",
    "estado_fin.plot(kind='pie', autopct='%1.1f%%', startangle=90, figsize=(11, 5),\n",
    "                pctdistance=0.7, radius=1.2, shadow=True, colors=colores, explode=explode,\n",
    "                textprops={'fontsize': 15, 'color': 'black', 'backgroundcolor': 'c'},\n",
    "                wedgeprops={'linewidth': 0.1, 'edgecolor': 'black'})\n",
    "\n",
    "plt.title(\"Porcentaje de partidas finalizadas o canceladas\", pad=35, loc=\"center\",\n",
    "          fontdict={'fontsize': 25, 'fontweight': 'bold', 'backgroundcolor': 'white'})\n",
    "\n",
    "plt.legend(loc=2, fontsize=12)\n",
    "plt.axis('equal')\n",
    "plt.show()"
   ]
  },
  {
   "cell_type": "markdown",
   "metadata": {
    "pycharm": {
     "name": "#%% md\n"
    }
   },
   "source": [
    "* Cálculo con los registros con rondas por \"error\" o \"ok\"."
   ]
  },
  {
   "cell_type": "code",
   "execution_count": 328,
   "metadata": {},
   "outputs": [],
   "source": [
    "estado_respuestas = estado[['error', 'ok']]"
   ]
  },
  {
   "cell_type": "code",
   "execution_count": 329,
   "metadata": {
    "pycharm": {
     "name": "#%%\n"
    }
   },
   "outputs": [
    {
     "data": {
      "image/png": "[encoded data removed]",
      "text/plain": [
       "<Figure size 792x360 with 1 Axes>"
      ]
     },
     "metadata": {},
     "output_type": "display_data"
    }
   ],
   "source": [
    "colores = [\"#EE6055\", \"#60D394\"]\n",
    "explode = 0,0.1\n",
    "\n",
    "estado_respuestas.plot(kind='pie', autopct='%1.1f%%', startangle=90, figsize=(11, 5),\n",
    "                       pctdistance=0.7, radius=1.2, shadow=True, colors=colores, explode=explode,\n",
    "                       textprops={'fontsize': 15, 'color': 'black', 'backgroundcolor': 'c'},\n",
    "                       wedgeprops={'linewidth': 0.1, 'edgecolor': 'black'})\n",
    "\n",
    "plt.title(\"Porcentaje de rondas por errores o aciertos\", pad=35, loc=\"center\",\n",
    "          fontdict={'fontsize': 25, 'fontweight': 'bold', 'backgroundcolor': 'white'})\n",
    "\n",
    "plt.legend(loc=2, fontsize=12)\n",
    "plt.axis('equal')\n",
    "plt.show()"
   ]
  },
  {
   "cell_type": "markdown",
   "metadata": {
    "pycharm": {
     "name": "#%% md\n"
    }
   },
   "source": [
    "### Duración total de la partida (desde que el usuarie empieza a jugar hasta que presiona salir o pasan las N rondas definidas para el nivel de dificultad actual)."
   ]
  },
  {
   "cell_type": "code",
   "execution_count": 330,
   "metadata": {
    "pycharm": {
     "name": "#%%\n"
    }
   },
   "outputs": [
    {
     "data": {
      "text/html": [
       "<div>\n",
       "<style scoped>\n",
       "    .dataframe tbody tr th:only-of-type {\n",
       "        vertical-align: middle;\n",
       "    }\n",
       "\n",
       "    .dataframe tbody tr th {\n",
       "        vertical-align: top;\n",
       "    }\n",
       "\n",
       "    .dataframe thead th {\n",
       "        text-align: right;\n",
       "    }\n",
       "</style>\n",
       "<table border=\"1\" class=\"dataframe\">\n",
       "  <thead>\n",
       "    <tr style=\"text-align: right;\">\n",
       "      <th></th>\n",
       "      <th>timestamp</th>\n",
       "      <th>id</th>\n",
       "      <th>evento</th>\n",
       "      <th>nombre_jugador</th>\n",
       "      <th>edad_jugador</th>\n",
       "      <th>genero_jugador</th>\n",
       "      <th>estado</th>\n",
       "      <th>texto_ingresado</th>\n",
       "      <th>respuesta</th>\n",
       "      <th>nivel</th>\n",
       "    </tr>\n",
       "  </thead>\n",
       "  <tbody>\n",
       "    <tr>\n",
       "      <th>0</th>\n",
       "      <td>1.655432e+09</td>\n",
       "      <td>db74505f-3fe3-476c-866d-872fea96a3b2</td>\n",
       "      <td>inicio_partida</td>\n",
       "      <td>NEO</td>\n",
       "      <td>80</td>\n",
       "      <td>Masculino</td>\n",
       "      <td>NaN</td>\n",
       "      <td>NaN</td>\n",
       "      <td>NaN</td>\n",
       "      <td>Facil</td>\n",
       "    </tr>\n",
       "    <tr>\n",
       "      <th>1</th>\n",
       "      <td>1.655432e+09</td>\n",
       "      <td>db74505f-3fe3-476c-866d-872fea96a3b2</td>\n",
       "      <td>intento</td>\n",
       "      <td>NEO</td>\n",
       "      <td>80</td>\n",
       "      <td>Masculino</td>\n",
       "      <td>ok</td>\n",
       "      <td>Christina Perri</td>\n",
       "      <td>Christina Perri</td>\n",
       "      <td>Facil</td>\n",
       "    </tr>\n",
       "    <tr>\n",
       "      <th>2</th>\n",
       "      <td>1.655432e+09</td>\n",
       "      <td>db74505f-3fe3-476c-866d-872fea96a3b2</td>\n",
       "      <td>intento</td>\n",
       "      <td>NEO</td>\n",
       "      <td>80</td>\n",
       "      <td>Masculino</td>\n",
       "      <td>error</td>\n",
       "      <td>Bazzi</td>\n",
       "      <td>Calvin Harris</td>\n",
       "      <td>Facil</td>\n",
       "    </tr>\n",
       "    <tr>\n",
       "      <th>3</th>\n",
       "      <td>1.655432e+09</td>\n",
       "      <td>db74505f-3fe3-476c-866d-872fea96a3b2</td>\n",
       "      <td>intento</td>\n",
       "      <td>NEO</td>\n",
       "      <td>80</td>\n",
       "      <td>Masculino</td>\n",
       "      <td>error</td>\n",
       "      <td>Selena Gomez</td>\n",
       "      <td>Rae Sremmurd</td>\n",
       "      <td>Facil</td>\n",
       "    </tr>\n",
       "    <tr>\n",
       "      <th>4</th>\n",
       "      <td>1.655432e+09</td>\n",
       "      <td>db74505f-3fe3-476c-866d-872fea96a3b2</td>\n",
       "      <td>intento</td>\n",
       "      <td>NEO</td>\n",
       "      <td>80</td>\n",
       "      <td>Masculino</td>\n",
       "      <td>error</td>\n",
       "      <td>Lauv</td>\n",
       "      <td>Edward Maya</td>\n",
       "      <td>Facil</td>\n",
       "    </tr>\n",
       "    <tr>\n",
       "      <th>5</th>\n",
       "      <td>1.655432e+09</td>\n",
       "      <td>db74505f-3fe3-476c-866d-872fea96a3b2</td>\n",
       "      <td>pasar</td>\n",
       "      <td>NEO</td>\n",
       "      <td>80</td>\n",
       "      <td>Masculino</td>\n",
       "      <td>NaN</td>\n",
       "      <td>NaN</td>\n",
       "      <td>Natalie La Rose</td>\n",
       "      <td>Facil</td>\n",
       "    </tr>\n",
       "    <tr>\n",
       "      <th>6</th>\n",
       "      <td>1.655432e+09</td>\n",
       "      <td>db74505f-3fe3-476c-866d-872fea96a3b2</td>\n",
       "      <td>intento</td>\n",
       "      <td>NEO</td>\n",
       "      <td>80</td>\n",
       "      <td>Masculino</td>\n",
       "      <td>error</td>\n",
       "      <td>XXXTENTACION</td>\n",
       "      <td>Adele</td>\n",
       "      <td>Facil</td>\n",
       "    </tr>\n",
       "    <tr>\n",
       "      <th>7</th>\n",
       "      <td>1.655432e+09</td>\n",
       "      <td>db74505f-3fe3-476c-866d-872fea96a3b2</td>\n",
       "      <td>intento</td>\n",
       "      <td>NEO</td>\n",
       "      <td>80</td>\n",
       "      <td>Masculino</td>\n",
       "      <td>error</td>\n",
       "      <td>Migos</td>\n",
       "      <td>Future</td>\n",
       "      <td>Facil</td>\n",
       "    </tr>\n",
       "    <tr>\n",
       "      <th>8</th>\n",
       "      <td>1.655432e+09</td>\n",
       "      <td>db74505f-3fe3-476c-866d-872fea96a3b2</td>\n",
       "      <td>pasar</td>\n",
       "      <td>NEO</td>\n",
       "      <td>80</td>\n",
       "      <td>Masculino</td>\n",
       "      <td>NaN</td>\n",
       "      <td>NaN</td>\n",
       "      <td>Taylor Swift</td>\n",
       "      <td>Facil</td>\n",
       "    </tr>\n",
       "    <tr>\n",
       "      <th>9</th>\n",
       "      <td>1.655432e+09</td>\n",
       "      <td>db74505f-3fe3-476c-866d-872fea96a3b2</td>\n",
       "      <td>intento</td>\n",
       "      <td>NEO</td>\n",
       "      <td>80</td>\n",
       "      <td>Masculino</td>\n",
       "      <td>error</td>\n",
       "      <td>Daya</td>\n",
       "      <td>Iyaz</td>\n",
       "      <td>Facil</td>\n",
       "    </tr>\n",
       "    <tr>\n",
       "      <th>10</th>\n",
       "      <td>1.655432e+09</td>\n",
       "      <td>db74505f-3fe3-476c-866d-872fea96a3b2</td>\n",
       "      <td>intento</td>\n",
       "      <td>NEO</td>\n",
       "      <td>80</td>\n",
       "      <td>Masculino</td>\n",
       "      <td>error</td>\n",
       "      <td>NF</td>\n",
       "      <td>Lana Del Rey</td>\n",
       "      <td>Facil</td>\n",
       "    </tr>\n",
       "    <tr>\n",
       "      <th>11</th>\n",
       "      <td>1.655432e+09</td>\n",
       "      <td>b8d68931-5986-4704-99ac-1f606dac48ae</td>\n",
       "      <td>inicio_partida</td>\n",
       "      <td>El Jose</td>\n",
       "      <td>80</td>\n",
       "      <td>Masculino</td>\n",
       "      <td>NaN</td>\n",
       "      <td>NaN</td>\n",
       "      <td>NaN</td>\n",
       "      <td>Facil</td>\n",
       "    </tr>\n",
       "  </tbody>\n",
       "</table>\n",
       "</div>"
      ],
      "text/plain": [
       "       timestamp                                    id          evento  \\\n",
       "0   1.655432e+09  db74505f-3fe3-476c-866d-872fea96a3b2  inicio_partida   \n",
       "1   1.655432e+09  db74505f-3fe3-476c-866d-872fea96a3b2         intento   \n",
       "2   1.655432e+09  db74505f-3fe3-476c-866d-872fea96a3b2         intento   \n",
       "3   1.655432e+09  db74505f-3fe3-476c-866d-872fea96a3b2         intento   \n",
       "4   1.655432e+09  db74505f-3fe3-476c-866d-872fea96a3b2         intento   \n",
       "5   1.655432e+09  db74505f-3fe3-476c-866d-872fea96a3b2           pasar   \n",
       "6   1.655432e+09  db74505f-3fe3-476c-866d-872fea96a3b2         intento   \n",
       "7   1.655432e+09  db74505f-3fe3-476c-866d-872fea96a3b2         intento   \n",
       "8   1.655432e+09  db74505f-3fe3-476c-866d-872fea96a3b2           pasar   \n",
       "9   1.655432e+09  db74505f-3fe3-476c-866d-872fea96a3b2         intento   \n",
       "10  1.655432e+09  db74505f-3fe3-476c-866d-872fea96a3b2         intento   \n",
       "11  1.655432e+09  b8d68931-5986-4704-99ac-1f606dac48ae  inicio_partida   \n",
       "\n",
       "   nombre_jugador  edad_jugador genero_jugador estado  texto_ingresado  \\\n",
       "0             NEO            80      Masculino    NaN              NaN   \n",
       "1             NEO            80      Masculino     ok  Christina Perri   \n",
       "2             NEO            80      Masculino  error            Bazzi   \n",
       "3             NEO            80      Masculino  error     Selena Gomez   \n",
       "4             NEO            80      Masculino  error             Lauv   \n",
       "5             NEO            80      Masculino    NaN              NaN   \n",
       "6             NEO            80      Masculino  error     XXXTENTACION   \n",
       "7             NEO            80      Masculino  error            Migos   \n",
       "8             NEO            80      Masculino    NaN              NaN   \n",
       "9             NEO            80      Masculino  error             Daya   \n",
       "10            NEO            80      Masculino  error               NF   \n",
       "11        El Jose            80      Masculino    NaN              NaN   \n",
       "\n",
       "          respuesta  nivel  \n",
       "0               NaN  Facil  \n",
       "1   Christina Perri  Facil  \n",
       "2     Calvin Harris  Facil  \n",
       "3      Rae Sremmurd  Facil  \n",
       "4       Edward Maya  Facil  \n",
       "5   Natalie La Rose  Facil  \n",
       "6             Adele  Facil  \n",
       "7            Future  Facil  \n",
       "8      Taylor Swift  Facil  \n",
       "9              Iyaz  Facil  \n",
       "10     Lana Del Rey  Facil  \n",
       "11              NaN  Facil  "
      ]
     },
     "execution_count": 330,
     "metadata": {},
     "output_type": "execute_result"
    }
   ],
   "source": [
    "partidas.head(12)"
   ]
  },
  {
   "cell_type": "markdown",
   "metadata": {
    "pycharm": {
     "name": "#%% md\n"
    }
   },
   "source": [
    "* Separar en dos DataFrame los inicios de partida y los fin de partida.\n",
    "1. Seleccionar las columnas que necesitamos.\n",
    "2. Filtrar en dos DataFrames los inicios y fin de partida segun el \"evento\".\n",
    "3. Cambiar el nombre de la columna timestamp por el nombre del evento de cada DataFrame.\n",
    "4. Eliminar la columna evento que ya no se necesita."
   ]
  },
  {
   "cell_type": "code",
   "execution_count": 331,
   "metadata": {
    "pycharm": {
     "name": "#%%\n"
    }
   },
   "outputs": [],
   "source": [
    "columnas = partidas[['id', 'timestamp', 'evento']]\n",
    "\n",
    "inicio = columnas[columnas['evento'].isin(['inicio_partida'])]\n",
    "fin = columnas[columnas['evento'].isin(['fin'])]\n",
    "\n",
    "inicio = inicio.rename(columns={'timestamp': 'tiempo_inicio'})\n",
    "fin = fin.rename(columns={'timestamp': 'tiempo_fin'})\n",
    "\n",
    "inicio = inicio.drop(columns=['evento'])\n",
    "fin = fin.drop(columns=['evento'])"
   ]
  },
  {
   "cell_type": "code",
   "execution_count": 332,
   "metadata": {
    "pycharm": {
     "name": "#%%\n"
    }
   },
   "outputs": [
    {
     "data": {
      "text/html": [
       "<div>\n",
       "<style scoped>\n",
       "    .dataframe tbody tr th:only-of-type {\n",
       "        vertical-align: middle;\n",
       "    }\n",
       "\n",
       "    .dataframe tbody tr th {\n",
       "        vertical-align: top;\n",
       "    }\n",
       "\n",
       "    .dataframe thead th {\n",
       "        text-align: right;\n",
       "    }\n",
       "</style>\n",
       "<table border=\"1\" class=\"dataframe\">\n",
       "  <thead>\n",
       "    <tr style=\"text-align: right;\">\n",
       "      <th></th>\n",
       "      <th>id</th>\n",
       "      <th>tiempo_inicio</th>\n",
       "    </tr>\n",
       "  </thead>\n",
       "  <tbody>\n",
       "    <tr>\n",
       "      <th>0</th>\n",
       "      <td>db74505f-3fe3-476c-866d-872fea96a3b2</td>\n",
       "      <td>1.655432e+09</td>\n",
       "    </tr>\n",
       "    <tr>\n",
       "      <th>11</th>\n",
       "      <td>b8d68931-5986-4704-99ac-1f606dac48ae</td>\n",
       "      <td>1.655432e+09</td>\n",
       "    </tr>\n",
       "    <tr>\n",
       "      <th>23</th>\n",
       "      <td>3c3f6710-3cef-459e-9013-0fbaf8af05f5</td>\n",
       "      <td>1.655432e+09</td>\n",
       "    </tr>\n",
       "  </tbody>\n",
       "</table>\n",
       "</div>"
      ],
      "text/plain": [
       "                                      id  tiempo_inicio\n",
       "0   db74505f-3fe3-476c-866d-872fea96a3b2   1.655432e+09\n",
       "11  b8d68931-5986-4704-99ac-1f606dac48ae   1.655432e+09\n",
       "23  3c3f6710-3cef-459e-9013-0fbaf8af05f5   1.655432e+09"
      ]
     },
     "execution_count": 332,
     "metadata": {},
     "output_type": "execute_result"
    }
   ],
   "source": [
    "inicio.head(3)"
   ]
  },
  {
   "cell_type": "code",
   "execution_count": 333,
   "metadata": {
    "pycharm": {
     "name": "#%%\n"
    }
   },
   "outputs": [
    {
     "data": {
      "text/html": [
       "<div>\n",
       "<style scoped>\n",
       "    .dataframe tbody tr th:only-of-type {\n",
       "        vertical-align: middle;\n",
       "    }\n",
       "\n",
       "    .dataframe tbody tr th {\n",
       "        vertical-align: top;\n",
       "    }\n",
       "\n",
       "    .dataframe thead th {\n",
       "        text-align: right;\n",
       "    }\n",
       "</style>\n",
       "<table border=\"1\" class=\"dataframe\">\n",
       "  <thead>\n",
       "    <tr style=\"text-align: right;\">\n",
       "      <th></th>\n",
       "      <th>id</th>\n",
       "      <th>tiempo_fin</th>\n",
       "    </tr>\n",
       "  </thead>\n",
       "  <tbody>\n",
       "    <tr>\n",
       "      <th>22</th>\n",
       "      <td>b8d68931-5986-4704-99ac-1f606dac48ae</td>\n",
       "      <td>1.655432e+09</td>\n",
       "    </tr>\n",
       "    <tr>\n",
       "      <th>28</th>\n",
       "      <td>3c3f6710-3cef-459e-9013-0fbaf8af05f5</td>\n",
       "      <td>1.655432e+09</td>\n",
       "    </tr>\n",
       "    <tr>\n",
       "      <th>30</th>\n",
       "      <td>e1edc516-b996-42e9-97c3-a56a4080eaab</td>\n",
       "      <td>1.655495e+09</td>\n",
       "    </tr>\n",
       "  </tbody>\n",
       "</table>\n",
       "</div>"
      ],
      "text/plain": [
       "                                      id    tiempo_fin\n",
       "22  b8d68931-5986-4704-99ac-1f606dac48ae  1.655432e+09\n",
       "28  3c3f6710-3cef-459e-9013-0fbaf8af05f5  1.655432e+09\n",
       "30  e1edc516-b996-42e9-97c3-a56a4080eaab  1.655495e+09"
      ]
     },
     "execution_count": 333,
     "metadata": {},
     "output_type": "execute_result"
    }
   ],
   "source": [
    "fin.head(3)"
   ]
  },
  {
   "cell_type": "markdown",
   "metadata": {
    "pycharm": {
     "name": "#%% md\n"
    }
   },
   "source": [
    "* Merge de las columnas de tiempo.\n",
    "* En el caso del \"id\" va a coincidir, y en el caso de los tiempos, se va a corresponder cada uno en la linea del \"id\"."
   ]
  },
  {
   "cell_type": "code",
   "execution_count": 334,
   "metadata": {
    "pycharm": {
     "name": "#%%\n"
    }
   },
   "outputs": [
    {
     "data": {
      "text/html": [
       "<div>\n",
       "<style scoped>\n",
       "    .dataframe tbody tr th:only-of-type {\n",
       "        vertical-align: middle;\n",
       "    }\n",
       "\n",
       "    .dataframe tbody tr th {\n",
       "        vertical-align: top;\n",
       "    }\n",
       "\n",
       "    .dataframe thead th {\n",
       "        text-align: right;\n",
       "    }\n",
       "</style>\n",
       "<table border=\"1\" class=\"dataframe\">\n",
       "  <thead>\n",
       "    <tr style=\"text-align: right;\">\n",
       "      <th></th>\n",
       "      <th>id</th>\n",
       "      <th>tiempo_inicio</th>\n",
       "      <th>tiempo_fin</th>\n",
       "    </tr>\n",
       "  </thead>\n",
       "  <tbody>\n",
       "    <tr>\n",
       "      <th>0</th>\n",
       "      <td>b8d68931-5986-4704-99ac-1f606dac48ae</td>\n",
       "      <td>1.655432e+09</td>\n",
       "      <td>1.655432e+09</td>\n",
       "    </tr>\n",
       "    <tr>\n",
       "      <th>1</th>\n",
       "      <td>3c3f6710-3cef-459e-9013-0fbaf8af05f5</td>\n",
       "      <td>1.655432e+09</td>\n",
       "      <td>1.655432e+09</td>\n",
       "    </tr>\n",
       "    <tr>\n",
       "      <th>2</th>\n",
       "      <td>e1edc516-b996-42e9-97c3-a56a4080eaab</td>\n",
       "      <td>1.655495e+09</td>\n",
       "      <td>1.655495e+09</td>\n",
       "    </tr>\n",
       "    <tr>\n",
       "      <th>3</th>\n",
       "      <td>40d2a50d-2f04-44cc-9665-44a0f720d9a7</td>\n",
       "      <td>1.655525e+09</td>\n",
       "      <td>1.655525e+09</td>\n",
       "    </tr>\n",
       "    <tr>\n",
       "      <th>4</th>\n",
       "      <td>8bb4f470-0e9b-4584-a181-df7cf94d801d</td>\n",
       "      <td>1.655525e+09</td>\n",
       "      <td>1.655525e+09</td>\n",
       "    </tr>\n",
       "    <tr>\n",
       "      <th>5</th>\n",
       "      <td>0d173ffa-5cb1-4980-bb53-a21beb15b960</td>\n",
       "      <td>1.655525e+09</td>\n",
       "      <td>1.655525e+09</td>\n",
       "    </tr>\n",
       "    <tr>\n",
       "      <th>6</th>\n",
       "      <td>5eb7f781-192d-4851-a93b-f9ed8cd99af4</td>\n",
       "      <td>1.655525e+09</td>\n",
       "      <td>1.655526e+09</td>\n",
       "    </tr>\n",
       "    <tr>\n",
       "      <th>7</th>\n",
       "      <td>6b9d2661-0e18-4985-8a64-39ae8618154f</td>\n",
       "      <td>1.655526e+09</td>\n",
       "      <td>1.655526e+09</td>\n",
       "    </tr>\n",
       "    <tr>\n",
       "      <th>8</th>\n",
       "      <td>734bd10c-d566-450d-89c7-c3296dcb487b</td>\n",
       "      <td>1.655554e+09</td>\n",
       "      <td>1.655554e+09</td>\n",
       "    </tr>\n",
       "    <tr>\n",
       "      <th>9</th>\n",
       "      <td>281241cf-bbc9-42d8-9ce2-5ea4efbd7793</td>\n",
       "      <td>1.655555e+09</td>\n",
       "      <td>1.655555e+09</td>\n",
       "    </tr>\n",
       "    <tr>\n",
       "      <th>10</th>\n",
       "      <td>718a9b56-c344-4ac3-bb30-869ace043bac</td>\n",
       "      <td>1.655556e+09</td>\n",
       "      <td>1.655556e+09</td>\n",
       "    </tr>\n",
       "    <tr>\n",
       "      <th>11</th>\n",
       "      <td>62f039e0-2ca2-4635-b067-8785e3c73a3f</td>\n",
       "      <td>1.655557e+09</td>\n",
       "      <td>1.655557e+09</td>\n",
       "    </tr>\n",
       "    <tr>\n",
       "      <th>12</th>\n",
       "      <td>d053a3d5-d2f3-4099-b89b-1b545af68f22</td>\n",
       "      <td>1.655598e+09</td>\n",
       "      <td>1.655598e+09</td>\n",
       "    </tr>\n",
       "    <tr>\n",
       "      <th>13</th>\n",
       "      <td>9bd27b9a-cb82-47ea-bd48-101902dba60b</td>\n",
       "      <td>1.655599e+09</td>\n",
       "      <td>1.655599e+09</td>\n",
       "    </tr>\n",
       "    <tr>\n",
       "      <th>14</th>\n",
       "      <td>abfb306f-6836-4214-ad94-7d59c08930dc</td>\n",
       "      <td>1.655671e+09</td>\n",
       "      <td>1.655671e+09</td>\n",
       "    </tr>\n",
       "  </tbody>\n",
       "</table>\n",
       "</div>"
      ],
      "text/plain": [
       "                                      id  tiempo_inicio    tiempo_fin\n",
       "0   b8d68931-5986-4704-99ac-1f606dac48ae   1.655432e+09  1.655432e+09\n",
       "1   3c3f6710-3cef-459e-9013-0fbaf8af05f5   1.655432e+09  1.655432e+09\n",
       "2   e1edc516-b996-42e9-97c3-a56a4080eaab   1.655495e+09  1.655495e+09\n",
       "3   40d2a50d-2f04-44cc-9665-44a0f720d9a7   1.655525e+09  1.655525e+09\n",
       "4   8bb4f470-0e9b-4584-a181-df7cf94d801d   1.655525e+09  1.655525e+09\n",
       "5   0d173ffa-5cb1-4980-bb53-a21beb15b960   1.655525e+09  1.655525e+09\n",
       "6   5eb7f781-192d-4851-a93b-f9ed8cd99af4   1.655525e+09  1.655526e+09\n",
       "7   6b9d2661-0e18-4985-8a64-39ae8618154f   1.655526e+09  1.655526e+09\n",
       "8   734bd10c-d566-450d-89c7-c3296dcb487b   1.655554e+09  1.655554e+09\n",
       "9   281241cf-bbc9-42d8-9ce2-5ea4efbd7793   1.655555e+09  1.655555e+09\n",
       "10  718a9b56-c344-4ac3-bb30-869ace043bac   1.655556e+09  1.655556e+09\n",
       "11  62f039e0-2ca2-4635-b067-8785e3c73a3f   1.655557e+09  1.655557e+09\n",
       "12  d053a3d5-d2f3-4099-b89b-1b545af68f22   1.655598e+09  1.655598e+09\n",
       "13  9bd27b9a-cb82-47ea-bd48-101902dba60b   1.655599e+09  1.655599e+09\n",
       "14  abfb306f-6836-4214-ad94-7d59c08930dc   1.655671e+09  1.655671e+09"
      ]
     },
     "execution_count": 334,
     "metadata": {},
     "output_type": "execute_result"
    }
   ],
   "source": [
    "tiempos = pd.merge(inicio, fin[['id', 'tiempo_fin']], how='right')\n",
    "tiempos.head(15)"
   ]
  },
  {
   "cell_type": "markdown",
   "metadata": {
    "pycharm": {
     "name": "#%% md\n"
    }
   },
   "source": [
    "* Restar el tiempo_fin por el tiempo_inicio y obtener el tiempo de cada partida en segundos.\n",
    "* Y agregarlo al DataFrame creando una nueva columna y ese es el tiempo que le corresponde a cada partida según su \"id\"."
   ]
  },
  {
   "cell_type": "code",
   "execution_count": 335,
   "metadata": {
    "pycharm": {
     "name": "#%%\n"
    }
   },
   "outputs": [
    {
     "data": {
      "text/html": [
       "<div>\n",
       "<style scoped>\n",
       "    .dataframe tbody tr th:only-of-type {\n",
       "        vertical-align: middle;\n",
       "    }\n",
       "\n",
       "    .dataframe tbody tr th {\n",
       "        vertical-align: top;\n",
       "    }\n",
       "\n",
       "    .dataframe thead th {\n",
       "        text-align: right;\n",
       "    }\n",
       "</style>\n",
       "<table border=\"1\" class=\"dataframe\">\n",
       "  <thead>\n",
       "    <tr style=\"text-align: right;\">\n",
       "      <th></th>\n",
       "      <th>id</th>\n",
       "      <th>tiempo_inicio</th>\n",
       "      <th>tiempo_fin</th>\n",
       "      <th>duracion</th>\n",
       "    </tr>\n",
       "  </thead>\n",
       "  <tbody>\n",
       "    <tr>\n",
       "      <th>0</th>\n",
       "      <td>b8d68931-5986-4704-99ac-1f606dac48ae</td>\n",
       "      <td>1.655432e+09</td>\n",
       "      <td>1.655432e+09</td>\n",
       "      <td>32.292118</td>\n",
       "    </tr>\n",
       "    <tr>\n",
       "      <th>1</th>\n",
       "      <td>3c3f6710-3cef-459e-9013-0fbaf8af05f5</td>\n",
       "      <td>1.655432e+09</td>\n",
       "      <td>1.655432e+09</td>\n",
       "      <td>13.458615</td>\n",
       "    </tr>\n",
       "    <tr>\n",
       "      <th>2</th>\n",
       "      <td>e1edc516-b996-42e9-97c3-a56a4080eaab</td>\n",
       "      <td>1.655495e+09</td>\n",
       "      <td>1.655495e+09</td>\n",
       "      <td>2.230888</td>\n",
       "    </tr>\n",
       "    <tr>\n",
       "      <th>3</th>\n",
       "      <td>40d2a50d-2f04-44cc-9665-44a0f720d9a7</td>\n",
       "      <td>1.655525e+09</td>\n",
       "      <td>1.655525e+09</td>\n",
       "      <td>64.529064</td>\n",
       "    </tr>\n",
       "    <tr>\n",
       "      <th>4</th>\n",
       "      <td>8bb4f470-0e9b-4584-a181-df7cf94d801d</td>\n",
       "      <td>1.655525e+09</td>\n",
       "      <td>1.655525e+09</td>\n",
       "      <td>31.441335</td>\n",
       "    </tr>\n",
       "    <tr>\n",
       "      <th>5</th>\n",
       "      <td>0d173ffa-5cb1-4980-bb53-a21beb15b960</td>\n",
       "      <td>1.655525e+09</td>\n",
       "      <td>1.655525e+09</td>\n",
       "      <td>122.371170</td>\n",
       "    </tr>\n",
       "    <tr>\n",
       "      <th>6</th>\n",
       "      <td>5eb7f781-192d-4851-a93b-f9ed8cd99af4</td>\n",
       "      <td>1.655525e+09</td>\n",
       "      <td>1.655526e+09</td>\n",
       "      <td>27.083303</td>\n",
       "    </tr>\n",
       "    <tr>\n",
       "      <th>7</th>\n",
       "      <td>6b9d2661-0e18-4985-8a64-39ae8618154f</td>\n",
       "      <td>1.655526e+09</td>\n",
       "      <td>1.655526e+09</td>\n",
       "      <td>20.756703</td>\n",
       "    </tr>\n",
       "    <tr>\n",
       "      <th>8</th>\n",
       "      <td>734bd10c-d566-450d-89c7-c3296dcb487b</td>\n",
       "      <td>1.655554e+09</td>\n",
       "      <td>1.655554e+09</td>\n",
       "      <td>15.560828</td>\n",
       "    </tr>\n",
       "    <tr>\n",
       "      <th>9</th>\n",
       "      <td>281241cf-bbc9-42d8-9ce2-5ea4efbd7793</td>\n",
       "      <td>1.655555e+09</td>\n",
       "      <td>1.655555e+09</td>\n",
       "      <td>12.928923</td>\n",
       "    </tr>\n",
       "    <tr>\n",
       "      <th>10</th>\n",
       "      <td>718a9b56-c344-4ac3-bb30-869ace043bac</td>\n",
       "      <td>1.655556e+09</td>\n",
       "      <td>1.655556e+09</td>\n",
       "      <td>39.182354</td>\n",
       "    </tr>\n",
       "    <tr>\n",
       "      <th>11</th>\n",
       "      <td>62f039e0-2ca2-4635-b067-8785e3c73a3f</td>\n",
       "      <td>1.655557e+09</td>\n",
       "      <td>1.655557e+09</td>\n",
       "      <td>17.329165</td>\n",
       "    </tr>\n",
       "    <tr>\n",
       "      <th>12</th>\n",
       "      <td>d053a3d5-d2f3-4099-b89b-1b545af68f22</td>\n",
       "      <td>1.655598e+09</td>\n",
       "      <td>1.655598e+09</td>\n",
       "      <td>34.556975</td>\n",
       "    </tr>\n",
       "    <tr>\n",
       "      <th>13</th>\n",
       "      <td>9bd27b9a-cb82-47ea-bd48-101902dba60b</td>\n",
       "      <td>1.655599e+09</td>\n",
       "      <td>1.655599e+09</td>\n",
       "      <td>3.633057</td>\n",
       "    </tr>\n",
       "    <tr>\n",
       "      <th>14</th>\n",
       "      <td>abfb306f-6836-4214-ad94-7d59c08930dc</td>\n",
       "      <td>1.655671e+09</td>\n",
       "      <td>1.655671e+09</td>\n",
       "      <td>60.410771</td>\n",
       "    </tr>\n",
       "  </tbody>\n",
       "</table>\n",
       "</div>"
      ],
      "text/plain": [
       "                                      id  tiempo_inicio    tiempo_fin  \\\n",
       "0   b8d68931-5986-4704-99ac-1f606dac48ae   1.655432e+09  1.655432e+09   \n",
       "1   3c3f6710-3cef-459e-9013-0fbaf8af05f5   1.655432e+09  1.655432e+09   \n",
       "2   e1edc516-b996-42e9-97c3-a56a4080eaab   1.655495e+09  1.655495e+09   \n",
       "3   40d2a50d-2f04-44cc-9665-44a0f720d9a7   1.655525e+09  1.655525e+09   \n",
       "4   8bb4f470-0e9b-4584-a181-df7cf94d801d   1.655525e+09  1.655525e+09   \n",
       "5   0d173ffa-5cb1-4980-bb53-a21beb15b960   1.655525e+09  1.655525e+09   \n",
       "6   5eb7f781-192d-4851-a93b-f9ed8cd99af4   1.655525e+09  1.655526e+09   \n",
       "7   6b9d2661-0e18-4985-8a64-39ae8618154f   1.655526e+09  1.655526e+09   \n",
       "8   734bd10c-d566-450d-89c7-c3296dcb487b   1.655554e+09  1.655554e+09   \n",
       "9   281241cf-bbc9-42d8-9ce2-5ea4efbd7793   1.655555e+09  1.655555e+09   \n",
       "10  718a9b56-c344-4ac3-bb30-869ace043bac   1.655556e+09  1.655556e+09   \n",
       "11  62f039e0-2ca2-4635-b067-8785e3c73a3f   1.655557e+09  1.655557e+09   \n",
       "12  d053a3d5-d2f3-4099-b89b-1b545af68f22   1.655598e+09  1.655598e+09   \n",
       "13  9bd27b9a-cb82-47ea-bd48-101902dba60b   1.655599e+09  1.655599e+09   \n",
       "14  abfb306f-6836-4214-ad94-7d59c08930dc   1.655671e+09  1.655671e+09   \n",
       "\n",
       "      duracion  \n",
       "0    32.292118  \n",
       "1    13.458615  \n",
       "2     2.230888  \n",
       "3    64.529064  \n",
       "4    31.441335  \n",
       "5   122.371170  \n",
       "6    27.083303  \n",
       "7    20.756703  \n",
       "8    15.560828  \n",
       "9    12.928923  \n",
       "10   39.182354  \n",
       "11   17.329165  \n",
       "12   34.556975  \n",
       "13    3.633057  \n",
       "14   60.410771  "
      ]
     },
     "execution_count": 335,
     "metadata": {},
     "output_type": "execute_result"
    }
   ],
   "source": [
    "tiempos['duracion'] = tiempos['tiempo_fin'] - tiempos['tiempo_inicio']\n",
    "tiempos.head(15)"
   ]
  },
  {
   "cell_type": "markdown",
   "metadata": {
    "pycharm": {
     "name": "#%% md\n"
    }
   },
   "source": [
    "### Gráfico que muestra el porcentaje de partidas finalizadas según nivel."
   ]
  },
  {
   "cell_type": "markdown",
   "metadata": {
    "pycharm": {
     "name": "#%% md\n"
    }
   },
   "source": [
    "* Sumar la cantidad de veces que aparece cada registro repetido en el dataset en la columna de \"nivel\"."
   ]
  },
  {
   "cell_type": "code",
   "execution_count": 336,
   "metadata": {},
   "outputs": [],
   "source": [
    "estado_finalizadas = partidas[partidas['estado'] == 'finalizada']\n",
    "nivel = estado_finalizadas.groupby('nivel')\n",
    "nivel = nivel.size()"
   ]
  },
  {
   "cell_type": "code",
   "execution_count": 337,
   "metadata": {
    "pycharm": {
     "name": "#%%\n"
    }
   },
   "outputs": [
    {
     "data": {
      "image/png": "[encoded data removed]",
      "text/plain": [
       "<Figure size 1080x504 with 1 Axes>"
      ]
     },
     "metadata": {},
     "output_type": "display_data"
    }
   ],
   "source": [
    "colores = [\"#BD4267\", \"#39B7AC\", \"#CC7832\", \"#6897BB\", \"#AAF683\", \"#FFD97D\"]\n",
    "\n",
    "nivel.plot(kind='pie', autopct='%1.1f%%', startangle=90, figsize=(15, 7),\n",
    "           pctdistance=0.7, radius=1.2, shadow=True, colors=colores,\n",
    "           textprops={'fontsize': 15, 'color': 'black', 'backgroundcolor': 'white'},\n",
    "           wedgeprops={'linewidth': 0.1, 'edgecolor': 'black'})\n",
    "\n",
    "plt.title(\"Porcentaje de partidas finalizadas por nivel\", pad=35, loc=\"center\",\n",
    "          fontdict={'fontsize': 25, 'fontweight': 'bold', 'backgroundcolor': 'white'})\n",
    "\n",
    "plt.legend(loc=2, fontsize=12)\n",
    "plt.axis('equal')\n",
    "plt.show()"
   ]
  },
  {
   "cell_type": "markdown",
   "metadata": {
    "pycharm": {
     "name": "#%% md\n"
    }
   },
   "source": [
    "### Promedio de tiempo de partidas finalizadas por nivel."
   ]
  },
  {
   "cell_type": "code",
   "execution_count": 338,
   "metadata": {
    "pycharm": {
     "name": "#%%\n"
    }
   },
   "outputs": [
    {
     "data": {
      "text/html": [
       "<div>\n",
       "<style scoped>\n",
       "    .dataframe tbody tr th:only-of-type {\n",
       "        vertical-align: middle;\n",
       "    }\n",
       "\n",
       "    .dataframe tbody tr th {\n",
       "        vertical-align: top;\n",
       "    }\n",
       "\n",
       "    .dataframe thead th {\n",
       "        text-align: right;\n",
       "    }\n",
       "</style>\n",
       "<table border=\"1\" class=\"dataframe\">\n",
       "  <thead>\n",
       "    <tr style=\"text-align: right;\">\n",
       "      <th></th>\n",
       "      <th>timestamp</th>\n",
       "      <th>id</th>\n",
       "      <th>evento</th>\n",
       "      <th>nombre_jugador</th>\n",
       "      <th>edad_jugador</th>\n",
       "      <th>genero_jugador</th>\n",
       "      <th>estado</th>\n",
       "      <th>texto_ingresado</th>\n",
       "      <th>respuesta</th>\n",
       "      <th>nivel</th>\n",
       "    </tr>\n",
       "  </thead>\n",
       "  <tbody>\n",
       "    <tr>\n",
       "      <th>0</th>\n",
       "      <td>1.655432e+09</td>\n",
       "      <td>db74505f-3fe3-476c-866d-872fea96a3b2</td>\n",
       "      <td>inicio_partida</td>\n",
       "      <td>NEO</td>\n",
       "      <td>80</td>\n",
       "      <td>Masculino</td>\n",
       "      <td>NaN</td>\n",
       "      <td>NaN</td>\n",
       "      <td>NaN</td>\n",
       "      <td>Facil</td>\n",
       "    </tr>\n",
       "    <tr>\n",
       "      <th>1</th>\n",
       "      <td>1.655432e+09</td>\n",
       "      <td>db74505f-3fe3-476c-866d-872fea96a3b2</td>\n",
       "      <td>intento</td>\n",
       "      <td>NEO</td>\n",
       "      <td>80</td>\n",
       "      <td>Masculino</td>\n",
       "      <td>ok</td>\n",
       "      <td>Christina Perri</td>\n",
       "      <td>Christina Perri</td>\n",
       "      <td>Facil</td>\n",
       "    </tr>\n",
       "    <tr>\n",
       "      <th>2</th>\n",
       "      <td>1.655432e+09</td>\n",
       "      <td>db74505f-3fe3-476c-866d-872fea96a3b2</td>\n",
       "      <td>intento</td>\n",
       "      <td>NEO</td>\n",
       "      <td>80</td>\n",
       "      <td>Masculino</td>\n",
       "      <td>error</td>\n",
       "      <td>Bazzi</td>\n",
       "      <td>Calvin Harris</td>\n",
       "      <td>Facil</td>\n",
       "    </tr>\n",
       "    <tr>\n",
       "      <th>3</th>\n",
       "      <td>1.655432e+09</td>\n",
       "      <td>db74505f-3fe3-476c-866d-872fea96a3b2</td>\n",
       "      <td>intento</td>\n",
       "      <td>NEO</td>\n",
       "      <td>80</td>\n",
       "      <td>Masculino</td>\n",
       "      <td>error</td>\n",
       "      <td>Selena Gomez</td>\n",
       "      <td>Rae Sremmurd</td>\n",
       "      <td>Facil</td>\n",
       "    </tr>\n",
       "    <tr>\n",
       "      <th>4</th>\n",
       "      <td>1.655432e+09</td>\n",
       "      <td>db74505f-3fe3-476c-866d-872fea96a3b2</td>\n",
       "      <td>intento</td>\n",
       "      <td>NEO</td>\n",
       "      <td>80</td>\n",
       "      <td>Masculino</td>\n",
       "      <td>error</td>\n",
       "      <td>Lauv</td>\n",
       "      <td>Edward Maya</td>\n",
       "      <td>Facil</td>\n",
       "    </tr>\n",
       "    <tr>\n",
       "      <th>5</th>\n",
       "      <td>1.655432e+09</td>\n",
       "      <td>db74505f-3fe3-476c-866d-872fea96a3b2</td>\n",
       "      <td>pasar</td>\n",
       "      <td>NEO</td>\n",
       "      <td>80</td>\n",
       "      <td>Masculino</td>\n",
       "      <td>NaN</td>\n",
       "      <td>NaN</td>\n",
       "      <td>Natalie La Rose</td>\n",
       "      <td>Facil</td>\n",
       "    </tr>\n",
       "    <tr>\n",
       "      <th>6</th>\n",
       "      <td>1.655432e+09</td>\n",
       "      <td>db74505f-3fe3-476c-866d-872fea96a3b2</td>\n",
       "      <td>intento</td>\n",
       "      <td>NEO</td>\n",
       "      <td>80</td>\n",
       "      <td>Masculino</td>\n",
       "      <td>error</td>\n",
       "      <td>XXXTENTACION</td>\n",
       "      <td>Adele</td>\n",
       "      <td>Facil</td>\n",
       "    </tr>\n",
       "    <tr>\n",
       "      <th>7</th>\n",
       "      <td>1.655432e+09</td>\n",
       "      <td>db74505f-3fe3-476c-866d-872fea96a3b2</td>\n",
       "      <td>intento</td>\n",
       "      <td>NEO</td>\n",
       "      <td>80</td>\n",
       "      <td>Masculino</td>\n",
       "      <td>error</td>\n",
       "      <td>Migos</td>\n",
       "      <td>Future</td>\n",
       "      <td>Facil</td>\n",
       "    </tr>\n",
       "    <tr>\n",
       "      <th>8</th>\n",
       "      <td>1.655432e+09</td>\n",
       "      <td>db74505f-3fe3-476c-866d-872fea96a3b2</td>\n",
       "      <td>pasar</td>\n",
       "      <td>NEO</td>\n",
       "      <td>80</td>\n",
       "      <td>Masculino</td>\n",
       "      <td>NaN</td>\n",
       "      <td>NaN</td>\n",
       "      <td>Taylor Swift</td>\n",
       "      <td>Facil</td>\n",
       "    </tr>\n",
       "    <tr>\n",
       "      <th>9</th>\n",
       "      <td>1.655432e+09</td>\n",
       "      <td>db74505f-3fe3-476c-866d-872fea96a3b2</td>\n",
       "      <td>intento</td>\n",
       "      <td>NEO</td>\n",
       "      <td>80</td>\n",
       "      <td>Masculino</td>\n",
       "      <td>error</td>\n",
       "      <td>Daya</td>\n",
       "      <td>Iyaz</td>\n",
       "      <td>Facil</td>\n",
       "    </tr>\n",
       "    <tr>\n",
       "      <th>10</th>\n",
       "      <td>1.655432e+09</td>\n",
       "      <td>db74505f-3fe3-476c-866d-872fea96a3b2</td>\n",
       "      <td>intento</td>\n",
       "      <td>NEO</td>\n",
       "      <td>80</td>\n",
       "      <td>Masculino</td>\n",
       "      <td>error</td>\n",
       "      <td>NF</td>\n",
       "      <td>Lana Del Rey</td>\n",
       "      <td>Facil</td>\n",
       "    </tr>\n",
       "    <tr>\n",
       "      <th>11</th>\n",
       "      <td>1.655432e+09</td>\n",
       "      <td>b8d68931-5986-4704-99ac-1f606dac48ae</td>\n",
       "      <td>inicio_partida</td>\n",
       "      <td>El Jose</td>\n",
       "      <td>80</td>\n",
       "      <td>Masculino</td>\n",
       "      <td>NaN</td>\n",
       "      <td>NaN</td>\n",
       "      <td>NaN</td>\n",
       "      <td>Facil</td>\n",
       "    </tr>\n",
       "  </tbody>\n",
       "</table>\n",
       "</div>"
      ],
      "text/plain": [
       "       timestamp                                    id          evento  \\\n",
       "0   1.655432e+09  db74505f-3fe3-476c-866d-872fea96a3b2  inicio_partida   \n",
       "1   1.655432e+09  db74505f-3fe3-476c-866d-872fea96a3b2         intento   \n",
       "2   1.655432e+09  db74505f-3fe3-476c-866d-872fea96a3b2         intento   \n",
       "3   1.655432e+09  db74505f-3fe3-476c-866d-872fea96a3b2         intento   \n",
       "4   1.655432e+09  db74505f-3fe3-476c-866d-872fea96a3b2         intento   \n",
       "5   1.655432e+09  db74505f-3fe3-476c-866d-872fea96a3b2           pasar   \n",
       "6   1.655432e+09  db74505f-3fe3-476c-866d-872fea96a3b2         intento   \n",
       "7   1.655432e+09  db74505f-3fe3-476c-866d-872fea96a3b2         intento   \n",
       "8   1.655432e+09  db74505f-3fe3-476c-866d-872fea96a3b2           pasar   \n",
       "9   1.655432e+09  db74505f-3fe3-476c-866d-872fea96a3b2         intento   \n",
       "10  1.655432e+09  db74505f-3fe3-476c-866d-872fea96a3b2         intento   \n",
       "11  1.655432e+09  b8d68931-5986-4704-99ac-1f606dac48ae  inicio_partida   \n",
       "\n",
       "   nombre_jugador  edad_jugador genero_jugador estado  texto_ingresado  \\\n",
       "0             NEO            80      Masculino    NaN              NaN   \n",
       "1             NEO            80      Masculino     ok  Christina Perri   \n",
       "2             NEO            80      Masculino  error            Bazzi   \n",
       "3             NEO            80      Masculino  error     Selena Gomez   \n",
       "4             NEO            80      Masculino  error             Lauv   \n",
       "5             NEO            80      Masculino    NaN              NaN   \n",
       "6             NEO            80      Masculino  error     XXXTENTACION   \n",
       "7             NEO            80      Masculino  error            Migos   \n",
       "8             NEO            80      Masculino    NaN              NaN   \n",
       "9             NEO            80      Masculino  error             Daya   \n",
       "10            NEO            80      Masculino  error               NF   \n",
       "11        El Jose            80      Masculino    NaN              NaN   \n",
       "\n",
       "          respuesta  nivel  \n",
       "0               NaN  Facil  \n",
       "1   Christina Perri  Facil  \n",
       "2     Calvin Harris  Facil  \n",
       "3      Rae Sremmurd  Facil  \n",
       "4       Edward Maya  Facil  \n",
       "5   Natalie La Rose  Facil  \n",
       "6             Adele  Facil  \n",
       "7            Future  Facil  \n",
       "8      Taylor Swift  Facil  \n",
       "9              Iyaz  Facil  \n",
       "10     Lana Del Rey  Facil  \n",
       "11              NaN  Facil  "
      ]
     },
     "execution_count": 338,
     "metadata": {},
     "output_type": "execute_result"
    }
   ],
   "source": [
    "partidas.head(12)"
   ]
  },
  {
   "cell_type": "markdown",
   "metadata": {
    "pycharm": {
     "name": "#%% md\n"
    }
   },
   "source": [
    "* Separar en dos DataFrame los \"inicios de partida\" y los \"fin de partida\", pero ahora con el estado y nivel para calcular.\n",
    "1. Seleccionar las columnas que necesitamos.\n",
    "2. Filtrar en dos DataFrames los inicios y fin de partida segun el \"evento\".\n",
    "3. Cambiar el nombre de la columna timestamp por el nombre del evento de cada DataFrame."
   ]
  },
  {
   "cell_type": "code",
   "execution_count": 339,
   "metadata": {
    "pycharm": {
     "name": "#%%\n"
    }
   },
   "outputs": [],
   "source": [
    "columnas = partidas[['id', 'timestamp', 'evento', 'estado', 'nivel']]\n",
    "\n",
    "inicio = columnas[columnas['evento'].isin(['inicio_partida'])]\n",
    "fin = columnas[columnas['evento'].isin(['fin'])]\n",
    "\n",
    "inicio = inicio.rename(columns={'timestamp': 'tiempo_inicio'})\n",
    "fin = fin.rename(columns={'timestamp': 'tiempo_fin'})"
   ]
  },
  {
   "cell_type": "code",
   "execution_count": 340,
   "metadata": {
    "pycharm": {
     "name": "#%%\n"
    }
   },
   "outputs": [
    {
     "data": {
      "text/html": [
       "<div>\n",
       "<style scoped>\n",
       "    .dataframe tbody tr th:only-of-type {\n",
       "        vertical-align: middle;\n",
       "    }\n",
       "\n",
       "    .dataframe tbody tr th {\n",
       "        vertical-align: top;\n",
       "    }\n",
       "\n",
       "    .dataframe thead th {\n",
       "        text-align: right;\n",
       "    }\n",
       "</style>\n",
       "<table border=\"1\" class=\"dataframe\">\n",
       "  <thead>\n",
       "    <tr style=\"text-align: right;\">\n",
       "      <th></th>\n",
       "      <th>id</th>\n",
       "      <th>tiempo_inicio</th>\n",
       "      <th>evento</th>\n",
       "      <th>estado</th>\n",
       "      <th>nivel</th>\n",
       "    </tr>\n",
       "  </thead>\n",
       "  <tbody>\n",
       "    <tr>\n",
       "      <th>0</th>\n",
       "      <td>db74505f-3fe3-476c-866d-872fea96a3b2</td>\n",
       "      <td>1.655432e+09</td>\n",
       "      <td>inicio_partida</td>\n",
       "      <td>NaN</td>\n",
       "      <td>Facil</td>\n",
       "    </tr>\n",
       "    <tr>\n",
       "      <th>11</th>\n",
       "      <td>b8d68931-5986-4704-99ac-1f606dac48ae</td>\n",
       "      <td>1.655432e+09</td>\n",
       "      <td>inicio_partida</td>\n",
       "      <td>NaN</td>\n",
       "      <td>Facil</td>\n",
       "    </tr>\n",
       "    <tr>\n",
       "      <th>23</th>\n",
       "      <td>3c3f6710-3cef-459e-9013-0fbaf8af05f5</td>\n",
       "      <td>1.655432e+09</td>\n",
       "      <td>inicio_partida</td>\n",
       "      <td>NaN</td>\n",
       "      <td>Facil</td>\n",
       "    </tr>\n",
       "  </tbody>\n",
       "</table>\n",
       "</div>"
      ],
      "text/plain": [
       "                                      id  tiempo_inicio          evento  \\\n",
       "0   db74505f-3fe3-476c-866d-872fea96a3b2   1.655432e+09  inicio_partida   \n",
       "11  b8d68931-5986-4704-99ac-1f606dac48ae   1.655432e+09  inicio_partida   \n",
       "23  3c3f6710-3cef-459e-9013-0fbaf8af05f5   1.655432e+09  inicio_partida   \n",
       "\n",
       "   estado  nivel  \n",
       "0     NaN  Facil  \n",
       "11    NaN  Facil  \n",
       "23    NaN  Facil  "
      ]
     },
     "execution_count": 340,
     "metadata": {},
     "output_type": "execute_result"
    }
   ],
   "source": [
    "inicio.head(3)"
   ]
  },
  {
   "cell_type": "code",
   "execution_count": 341,
   "metadata": {
    "pycharm": {
     "name": "#%%\n"
    }
   },
   "outputs": [
    {
     "data": {
      "text/html": [
       "<div>\n",
       "<style scoped>\n",
       "    .dataframe tbody tr th:only-of-type {\n",
       "        vertical-align: middle;\n",
       "    }\n",
       "\n",
       "    .dataframe tbody tr th {\n",
       "        vertical-align: top;\n",
       "    }\n",
       "\n",
       "    .dataframe thead th {\n",
       "        text-align: right;\n",
       "    }\n",
       "</style>\n",
       "<table border=\"1\" class=\"dataframe\">\n",
       "  <thead>\n",
       "    <tr style=\"text-align: right;\">\n",
       "      <th></th>\n",
       "      <th>id</th>\n",
       "      <th>tiempo_fin</th>\n",
       "      <th>evento</th>\n",
       "      <th>estado</th>\n",
       "      <th>nivel</th>\n",
       "    </tr>\n",
       "  </thead>\n",
       "  <tbody>\n",
       "    <tr>\n",
       "      <th>22</th>\n",
       "      <td>b8d68931-5986-4704-99ac-1f606dac48ae</td>\n",
       "      <td>1.655432e+09</td>\n",
       "      <td>fin</td>\n",
       "      <td>finalizada</td>\n",
       "      <td>Facil</td>\n",
       "    </tr>\n",
       "    <tr>\n",
       "      <th>28</th>\n",
       "      <td>3c3f6710-3cef-459e-9013-0fbaf8af05f5</td>\n",
       "      <td>1.655432e+09</td>\n",
       "      <td>fin</td>\n",
       "      <td>cancelada</td>\n",
       "      <td>Facil</td>\n",
       "    </tr>\n",
       "    <tr>\n",
       "      <th>30</th>\n",
       "      <td>e1edc516-b996-42e9-97c3-a56a4080eaab</td>\n",
       "      <td>1.655495e+09</td>\n",
       "      <td>fin</td>\n",
       "      <td>cancelada</td>\n",
       "      <td>Personalizado</td>\n",
       "    </tr>\n",
       "  </tbody>\n",
       "</table>\n",
       "</div>"
      ],
      "text/plain": [
       "                                      id    tiempo_fin evento      estado  \\\n",
       "22  b8d68931-5986-4704-99ac-1f606dac48ae  1.655432e+09    fin  finalizada   \n",
       "28  3c3f6710-3cef-459e-9013-0fbaf8af05f5  1.655432e+09    fin   cancelada   \n",
       "30  e1edc516-b996-42e9-97c3-a56a4080eaab  1.655495e+09    fin   cancelada   \n",
       "\n",
       "            nivel  \n",
       "22          Facil  \n",
       "28          Facil  \n",
       "30  Personalizado  "
      ]
     },
     "execution_count": 341,
     "metadata": {},
     "output_type": "execute_result"
    }
   ],
   "source": [
    "fin.head(3)"
   ]
  },
  {
   "cell_type": "markdown",
   "metadata": {
    "pycharm": {
     "name": "#%% md\n"
    }
   },
   "source": [
    "* Merge de las columnas.\n",
    ">* En el caso de las columnas de \"id\" y \"nivel\" coinciden en las lineas.\n",
    ">* De ambos DataFrames nos interesa unir el valor del tiempo de inicio y fin, así que se unen en la misma linea que coincida el \"id\" y \"nivel\".\n",
    ">* En el caso de la columna de \"estado\" solo hacer merge del \"estado\" del DataFrame de fin para saber si el estado de la partida fue finalizado o cancelado, en el caso del DataFrame de inicio la columna \"estado\" no sirve para este caso.\n",
    "\n",
    "1. Filtrar las lineas según si tiene el valor de \"finalizada\" que son las filas para calcular.\n",
    "2. Restar el tiempo_fin por el tiempo_inicio y obtener el tiempo de cada partida en segundos.\n",
    "3. Crear una nueva columna con la duración en el DataFrame.\n",
    "4. Seleccionar las columnas de \"nivel\" y \"duracion\"."
   ]
  },
  {
   "cell_type": "code",
   "execution_count": 342,
   "metadata": {
    "pycharm": {
     "name": "#%%\n"
    }
   },
   "outputs": [
    {
     "data": {
      "text/html": [
       "<div>\n",
       "<style scoped>\n",
       "    .dataframe tbody tr th:only-of-type {\n",
       "        vertical-align: middle;\n",
       "    }\n",
       "\n",
       "    .dataframe tbody tr th {\n",
       "        vertical-align: top;\n",
       "    }\n",
       "\n",
       "    .dataframe thead th {\n",
       "        text-align: right;\n",
       "    }\n",
       "</style>\n",
       "<table border=\"1\" class=\"dataframe\">\n",
       "  <thead>\n",
       "    <tr style=\"text-align: right;\">\n",
       "      <th></th>\n",
       "      <th>id</th>\n",
       "      <th>tiempo_inicio</th>\n",
       "      <th>nivel</th>\n",
       "      <th>tiempo_fin</th>\n",
       "      <th>estado</th>\n",
       "      <th>duracion</th>\n",
       "    </tr>\n",
       "  </thead>\n",
       "  <tbody>\n",
       "    <tr>\n",
       "      <th>1</th>\n",
       "      <td>b8d68931-5986-4704-99ac-1f606dac48ae</td>\n",
       "      <td>1.655432e+09</td>\n",
       "      <td>Facil</td>\n",
       "      <td>1.655432e+09</td>\n",
       "      <td>finalizada</td>\n",
       "      <td>32.292118</td>\n",
       "    </tr>\n",
       "    <tr>\n",
       "      <th>4</th>\n",
       "      <td>40d2a50d-2f04-44cc-9665-44a0f720d9a7</td>\n",
       "      <td>1.655525e+09</td>\n",
       "      <td>Normal</td>\n",
       "      <td>1.655525e+09</td>\n",
       "      <td>finalizada</td>\n",
       "      <td>64.529064</td>\n",
       "    </tr>\n",
       "    <tr>\n",
       "      <th>5</th>\n",
       "      <td>8bb4f470-0e9b-4584-a181-df7cf94d801d</td>\n",
       "      <td>1.655525e+09</td>\n",
       "      <td>Dificil</td>\n",
       "      <td>1.655525e+09</td>\n",
       "      <td>finalizada</td>\n",
       "      <td>31.441335</td>\n",
       "    </tr>\n",
       "    <tr>\n",
       "      <th>6</th>\n",
       "      <td>0d173ffa-5cb1-4980-bb53-a21beb15b960</td>\n",
       "      <td>1.655525e+09</td>\n",
       "      <td>Facil</td>\n",
       "      <td>1.655525e+09</td>\n",
       "      <td>finalizada</td>\n",
       "      <td>122.371170</td>\n",
       "    </tr>\n",
       "    <tr>\n",
       "      <th>7</th>\n",
       "      <td>5eb7f781-192d-4851-a93b-f9ed8cd99af4</td>\n",
       "      <td>1.655525e+09</td>\n",
       "      <td>Dificil</td>\n",
       "      <td>1.655526e+09</td>\n",
       "      <td>finalizada</td>\n",
       "      <td>27.083303</td>\n",
       "    </tr>\n",
       "  </tbody>\n",
       "</table>\n",
       "</div>"
      ],
      "text/plain": [
       "                                     id  tiempo_inicio    nivel    tiempo_fin  \\\n",
       "1  b8d68931-5986-4704-99ac-1f606dac48ae   1.655432e+09    Facil  1.655432e+09   \n",
       "4  40d2a50d-2f04-44cc-9665-44a0f720d9a7   1.655525e+09   Normal  1.655525e+09   \n",
       "5  8bb4f470-0e9b-4584-a181-df7cf94d801d   1.655525e+09  Dificil  1.655525e+09   \n",
       "6  0d173ffa-5cb1-4980-bb53-a21beb15b960   1.655525e+09    Facil  1.655525e+09   \n",
       "7  5eb7f781-192d-4851-a93b-f9ed8cd99af4   1.655525e+09  Dificil  1.655526e+09   \n",
       "\n",
       "       estado    duracion  \n",
       "1  finalizada   32.292118  \n",
       "4  finalizada   64.529064  \n",
       "5  finalizada   31.441335  \n",
       "6  finalizada  122.371170  \n",
       "7  finalizada   27.083303  "
      ]
     },
     "execution_count": 342,
     "metadata": {},
     "output_type": "execute_result"
    }
   ],
   "source": [
    "por_nivel = pd.merge(inicio[['id', 'tiempo_inicio', 'nivel']], fin[['id', 'tiempo_fin', 'nivel', 'estado']], how='left')\n",
    "\n",
    "las_finalizadas = por_nivel[por_nivel['estado'].isin(['finalizada'])]\n",
    "\n",
    "los_f = las_finalizadas.copy()\n",
    "los_f['duracion'] = las_finalizadas['tiempo_fin'] - las_finalizadas['tiempo_inicio']\n",
    "\n",
    "por_nivel = los_f[['nivel', 'duracion']]\n",
    "los_f.head(5)"
   ]
  },
  {
   "cell_type": "markdown",
   "metadata": {
    "pycharm": {
     "name": "#%% md\n"
    }
   },
   "source": [
    "* El promedio y la tiempo total de la duración en segundos por nivel."
   ]
  },
  {
   "cell_type": "code",
   "execution_count": 343,
   "metadata": {
    "pycharm": {
     "name": "#%%\n"
    }
   },
   "outputs": [
    {
     "data": {
      "text/html": [
       "<div>\n",
       "<style scoped>\n",
       "    .dataframe tbody tr th:only-of-type {\n",
       "        vertical-align: middle;\n",
       "    }\n",
       "\n",
       "    .dataframe tbody tr th {\n",
       "        vertical-align: top;\n",
       "    }\n",
       "\n",
       "    .dataframe thead th {\n",
       "        text-align: right;\n",
       "    }\n",
       "</style>\n",
       "<table border=\"1\" class=\"dataframe\">\n",
       "  <thead>\n",
       "    <tr style=\"text-align: right;\">\n",
       "      <th></th>\n",
       "      <th>promedio</th>\n",
       "      <th>total_seg</th>\n",
       "    </tr>\n",
       "    <tr>\n",
       "      <th>nivel</th>\n",
       "      <th></th>\n",
       "      <th></th>\n",
       "    </tr>\n",
       "  </thead>\n",
       "  <tbody>\n",
       "    <tr>\n",
       "      <th>Dificil</th>\n",
       "      <td>19.589348</td>\n",
       "      <td>254.661529</td>\n",
       "    </tr>\n",
       "    <tr>\n",
       "      <th>Facil</th>\n",
       "      <td>52.221280</td>\n",
       "      <td>626.655360</td>\n",
       "    </tr>\n",
       "    <tr>\n",
       "      <th>Normal</th>\n",
       "      <td>56.300306</td>\n",
       "      <td>168.900919</td>\n",
       "    </tr>\n",
       "    <tr>\n",
       "      <th>Personalizado</th>\n",
       "      <td>27.554431</td>\n",
       "      <td>192.881016</td>\n",
       "    </tr>\n",
       "  </tbody>\n",
       "</table>\n",
       "</div>"
      ],
      "text/plain": [
       "                promedio   total_seg\n",
       "nivel                               \n",
       "Dificil        19.589348  254.661529\n",
       "Facil          52.221280  626.655360\n",
       "Normal         56.300306  168.900919\n",
       "Personalizado  27.554431  192.881016"
      ]
     },
     "execution_count": 343,
     "metadata": {},
     "output_type": "execute_result"
    }
   ],
   "source": [
    "promedio = por_nivel.groupby('nivel').mean('duracion').rename(columns={'duracion': 'promedio'})\n",
    "total_seg = por_nivel.groupby('nivel').sum('duracion').rename(columns={'duracion': 'total_seg'})\n",
    "total_y_promedio = pd.concat([promedio, total_seg], axis=1)\n",
    "\n",
    "total_y_promedio"
   ]
  },
  {
   "cell_type": "markdown",
   "metadata": {
    "pycharm": {
     "name": "#%% md\n"
    }
   },
   "source": [
    "### Gráfico que muestra el porcentaje de partidas finalizadas según género."
   ]
  },
  {
   "cell_type": "markdown",
   "metadata": {
    "pycharm": {
     "name": "#%% md\n"
    }
   },
   "source": [
    "1. Filtrar todas las columnas con estado \"finalizada\".\n",
    "2. Agrupar por genero del jugador."
   ]
  },
  {
   "cell_type": "code",
   "execution_count": 344,
   "metadata": {},
   "outputs": [],
   "source": [
    "estado_finalizadas = partidas[partidas['estado'] == 'finalizada']\n",
    "agrupar_genero = estado_finalizadas.groupby('genero_jugador')\n",
    "agrupar_genero = agrupar_genero.size()"
   ]
  },
  {
   "cell_type": "code",
   "execution_count": 345,
   "metadata": {
    "pycharm": {
     "name": "#%%\n"
    }
   },
   "outputs": [
    {
     "data": {
      "image/png": "[encoded data removed]",
      "text/plain": [
       "<Figure size 1080x504 with 1 Axes>"
      ]
     },
     "metadata": {},
     "output_type": "display_data"
    }
   ],
   "source": [
    "colores = [\"#6897BB\", \"#FFD97D\", \"#BD4267\", \"#39B7AC\", \"#CC7832\", \"#AAF683\",]\n",
    "\n",
    "agrupar_genero.plot(kind='pie', autopct='%1.1f%%', startangle=90, figsize=(15, 7),\n",
    "                    pctdistance=0.7, radius=1.2, shadow=True, colors=colores,\n",
    "                    textprops={'fontsize': 15, 'color': 'black', 'backgroundcolor': 'white'},\n",
    "                    wedgeprops={'linewidth': 0.1, 'edgecolor': 'black'})\n",
    "\n",
    "plt.title(\"Porcentaje de partidas finalizadas por género\", pad=35, loc=\"center\",\n",
    "          fontdict={'fontsize': 25, 'fontweight': 'bold', 'backgroundcolor': 'white'})\n",
    "\n",
    "plt.legend(loc=2, fontsize=12)\n",
    "plt.axis('equal')\n",
    "plt.show()"
   ]
  },
  {
   "cell_type": "markdown",
   "metadata": {
    "pycharm": {
     "name": "#%% md\n"
    }
   },
   "source": [
    "### Top 10 de palabras que se encuentran primero de todas las partidas."
   ]
  },
  {
   "cell_type": "markdown",
   "metadata": {},
   "source": [
    "* Separar en dos el DataFrame para poder restar cada linea con la anterior y poder calcular el tiempo de cada ronda.\n",
    "1. Al DataFrame inicio se le elimina la última linea.\n",
    "2. Al DataFrame fin se le elimina la primera linea."
   ]
  },
  {
   "cell_type": "code",
   "execution_count": 346,
   "metadata": {
    "pycharm": {
     "name": "#%%\n"
    }
   },
   "outputs": [
    {
     "data": {
      "text/html": [
       "<div>\n",
       "<style scoped>\n",
       "    .dataframe tbody tr th:only-of-type {\n",
       "        vertical-align: middle;\n",
       "    }\n",
       "\n",
       "    .dataframe tbody tr th {\n",
       "        vertical-align: top;\n",
       "    }\n",
       "\n",
       "    .dataframe thead th {\n",
       "        text-align: right;\n",
       "    }\n",
       "</style>\n",
       "<table border=\"1\" class=\"dataframe\">\n",
       "  <thead>\n",
       "    <tr style=\"text-align: right;\">\n",
       "      <th></th>\n",
       "      <th>index</th>\n",
       "      <th>timestamp</th>\n",
       "      <th>id</th>\n",
       "      <th>evento</th>\n",
       "      <th>nombre_jugador</th>\n",
       "      <th>edad_jugador</th>\n",
       "      <th>genero_jugador</th>\n",
       "      <th>estado</th>\n",
       "      <th>texto_ingresado</th>\n",
       "      <th>respuesta</th>\n",
       "      <th>nivel</th>\n",
       "    </tr>\n",
       "  </thead>\n",
       "  <tbody>\n",
       "    <tr>\n",
       "      <th>366</th>\n",
       "      <td>366</td>\n",
       "      <td>1.656100e+09</td>\n",
       "      <td>f95db774-0975-4bae-8aea-882cce7e8d49</td>\n",
       "      <td>intento</td>\n",
       "      <td>NEO</td>\n",
       "      <td>80</td>\n",
       "      <td>Masculino</td>\n",
       "      <td>error</td>\n",
       "      <td>Twilight Zone: The Movie</td>\n",
       "      <td>Teen Titans: Trouble in Tokyo</td>\n",
       "      <td>Facil</td>\n",
       "    </tr>\n",
       "    <tr>\n",
       "      <th>367</th>\n",
       "      <td>367</td>\n",
       "      <td>1.656100e+09</td>\n",
       "      <td>f95db774-0975-4bae-8aea-882cce7e8d49</td>\n",
       "      <td>intento</td>\n",
       "      <td>NEO</td>\n",
       "      <td>80</td>\n",
       "      <td>Masculino</td>\n",
       "      <td>error</td>\n",
       "      <td>House of the Witch</td>\n",
       "      <td>Fantastic Four</td>\n",
       "      <td>Facil</td>\n",
       "    </tr>\n",
       "    <tr>\n",
       "      <th>368</th>\n",
       "      <td>368</td>\n",
       "      <td>1.656100e+09</td>\n",
       "      <td>f95db774-0975-4bae-8aea-882cce7e8d49</td>\n",
       "      <td>intento</td>\n",
       "      <td>NEO</td>\n",
       "      <td>80</td>\n",
       "      <td>Masculino</td>\n",
       "      <td>error</td>\n",
       "      <td>Assassination Classroom: Graduation</td>\n",
       "      <td>Tombstone of the Fireflies</td>\n",
       "      <td>Facil</td>\n",
       "    </tr>\n",
       "  </tbody>\n",
       "</table>\n",
       "</div>"
      ],
      "text/plain": [
       "     index     timestamp                                    id   evento  \\\n",
       "366    366  1.656100e+09  f95db774-0975-4bae-8aea-882cce7e8d49  intento   \n",
       "367    367  1.656100e+09  f95db774-0975-4bae-8aea-882cce7e8d49  intento   \n",
       "368    368  1.656100e+09  f95db774-0975-4bae-8aea-882cce7e8d49  intento   \n",
       "\n",
       "    nombre_jugador  edad_jugador genero_jugador estado  \\\n",
       "366            NEO            80      Masculino  error   \n",
       "367            NEO            80      Masculino  error   \n",
       "368            NEO            80      Masculino  error   \n",
       "\n",
       "                         texto_ingresado                      respuesta  nivel  \n",
       "366             Twilight Zone: The Movie  Teen Titans: Trouble in Tokyo  Facil  \n",
       "367                   House of the Witch                 Fantastic Four  Facil  \n",
       "368  Assassination Classroom: Graduation     Tombstone of the Fireflies  Facil  "
      ]
     },
     "execution_count": 346,
     "metadata": {},
     "output_type": "execute_result"
    }
   ],
   "source": [
    "inicio = partidas.drop(len(partidas.index) -1).reset_index()\n",
    "inicio.tail(3)"
   ]
  },
  {
   "cell_type": "code",
   "execution_count": 347,
   "metadata": {},
   "outputs": [
    {
     "data": {
      "text/html": [
       "<div>\n",
       "<style scoped>\n",
       "    .dataframe tbody tr th:only-of-type {\n",
       "        vertical-align: middle;\n",
       "    }\n",
       "\n",
       "    .dataframe tbody tr th {\n",
       "        vertical-align: top;\n",
       "    }\n",
       "\n",
       "    .dataframe thead th {\n",
       "        text-align: right;\n",
       "    }\n",
       "</style>\n",
       "<table border=\"1\" class=\"dataframe\">\n",
       "  <thead>\n",
       "    <tr style=\"text-align: right;\">\n",
       "      <th></th>\n",
       "      <th>index</th>\n",
       "      <th>timestamp</th>\n",
       "      <th>id</th>\n",
       "      <th>evento</th>\n",
       "      <th>nombre_jugador</th>\n",
       "      <th>edad_jugador</th>\n",
       "      <th>genero_jugador</th>\n",
       "      <th>estado</th>\n",
       "      <th>texto_ingresado</th>\n",
       "      <th>respuesta</th>\n",
       "      <th>nivel</th>\n",
       "    </tr>\n",
       "  </thead>\n",
       "  <tbody>\n",
       "    <tr>\n",
       "      <th>0</th>\n",
       "      <td>1</td>\n",
       "      <td>1.655432e+09</td>\n",
       "      <td>db74505f-3fe3-476c-866d-872fea96a3b2</td>\n",
       "      <td>intento</td>\n",
       "      <td>NEO</td>\n",
       "      <td>80</td>\n",
       "      <td>Masculino</td>\n",
       "      <td>ok</td>\n",
       "      <td>Christina Perri</td>\n",
       "      <td>Christina Perri</td>\n",
       "      <td>Facil</td>\n",
       "    </tr>\n",
       "    <tr>\n",
       "      <th>1</th>\n",
       "      <td>2</td>\n",
       "      <td>1.655432e+09</td>\n",
       "      <td>db74505f-3fe3-476c-866d-872fea96a3b2</td>\n",
       "      <td>intento</td>\n",
       "      <td>NEO</td>\n",
       "      <td>80</td>\n",
       "      <td>Masculino</td>\n",
       "      <td>error</td>\n",
       "      <td>Bazzi</td>\n",
       "      <td>Calvin Harris</td>\n",
       "      <td>Facil</td>\n",
       "    </tr>\n",
       "    <tr>\n",
       "      <th>2</th>\n",
       "      <td>3</td>\n",
       "      <td>1.655432e+09</td>\n",
       "      <td>db74505f-3fe3-476c-866d-872fea96a3b2</td>\n",
       "      <td>intento</td>\n",
       "      <td>NEO</td>\n",
       "      <td>80</td>\n",
       "      <td>Masculino</td>\n",
       "      <td>error</td>\n",
       "      <td>Selena Gomez</td>\n",
       "      <td>Rae Sremmurd</td>\n",
       "      <td>Facil</td>\n",
       "    </tr>\n",
       "  </tbody>\n",
       "</table>\n",
       "</div>"
      ],
      "text/plain": [
       "   index     timestamp                                    id   evento  \\\n",
       "0      1  1.655432e+09  db74505f-3fe3-476c-866d-872fea96a3b2  intento   \n",
       "1      2  1.655432e+09  db74505f-3fe3-476c-866d-872fea96a3b2  intento   \n",
       "2      3  1.655432e+09  db74505f-3fe3-476c-866d-872fea96a3b2  intento   \n",
       "\n",
       "  nombre_jugador  edad_jugador genero_jugador estado  texto_ingresado  \\\n",
       "0            NEO            80      Masculino     ok  Christina Perri   \n",
       "1            NEO            80      Masculino  error            Bazzi   \n",
       "2            NEO            80      Masculino  error     Selena Gomez   \n",
       "\n",
       "         respuesta  nivel  \n",
       "0  Christina Perri  Facil  \n",
       "1    Calvin Harris  Facil  \n",
       "2     Rae Sremmurd  Facil  "
      ]
     },
     "execution_count": 347,
     "metadata": {},
     "output_type": "execute_result"
    }
   ],
   "source": [
    "fin = partidas.drop(0).reset_index()\n",
    "fin.head(3)"
   ]
  },
  {
   "cell_type": "markdown",
   "metadata": {},
   "source": [
    "* Restar las lineas (una con su anterior), y agregar una nueva columna con la duracion de cada ronda.\n",
    "> Tiene una excepción porque a los fin de partida se le resta el inicio de partida y ese da como tiempo no valido de una ronda, sino que seria el tiempo que paso desde una partida a otra. Pero para este caso, tenemos que calcular los minimos, que son de pocos segundos."
   ]
  },
  {
   "cell_type": "code",
   "execution_count": 348,
   "metadata": {
    "pycharm": {
     "name": "#%%\n"
    }
   },
   "outputs": [
    {
     "data": {
      "text/html": [
       "<div>\n",
       "<style scoped>\n",
       "    .dataframe tbody tr th:only-of-type {\n",
       "        vertical-align: middle;\n",
       "    }\n",
       "\n",
       "    .dataframe tbody tr th {\n",
       "        vertical-align: top;\n",
       "    }\n",
       "\n",
       "    .dataframe thead th {\n",
       "        text-align: right;\n",
       "    }\n",
       "</style>\n",
       "<table border=\"1\" class=\"dataframe\">\n",
       "  <thead>\n",
       "    <tr style=\"text-align: right;\">\n",
       "      <th></th>\n",
       "      <th>timestamp</th>\n",
       "      <th>id</th>\n",
       "      <th>evento</th>\n",
       "      <th>nombre_jugador</th>\n",
       "      <th>edad_jugador</th>\n",
       "      <th>genero_jugador</th>\n",
       "      <th>estado</th>\n",
       "      <th>texto_ingresado</th>\n",
       "      <th>respuesta</th>\n",
       "      <th>nivel</th>\n",
       "      <th>duracion</th>\n",
       "    </tr>\n",
       "  </thead>\n",
       "  <tbody>\n",
       "    <tr>\n",
       "      <th>0</th>\n",
       "      <td>1.655432e+09</td>\n",
       "      <td>db74505f-3fe3-476c-866d-872fea96a3b2</td>\n",
       "      <td>inicio_partida</td>\n",
       "      <td>NEO</td>\n",
       "      <td>80</td>\n",
       "      <td>Masculino</td>\n",
       "      <td>NaN</td>\n",
       "      <td>NaN</td>\n",
       "      <td>NaN</td>\n",
       "      <td>Facil</td>\n",
       "      <td>8.231454</td>\n",
       "    </tr>\n",
       "    <tr>\n",
       "      <th>1</th>\n",
       "      <td>1.655432e+09</td>\n",
       "      <td>db74505f-3fe3-476c-866d-872fea96a3b2</td>\n",
       "      <td>intento</td>\n",
       "      <td>NEO</td>\n",
       "      <td>80</td>\n",
       "      <td>Masculino</td>\n",
       "      <td>ok</td>\n",
       "      <td>Christina Perri</td>\n",
       "      <td>Christina Perri</td>\n",
       "      <td>Facil</td>\n",
       "      <td>2.912129</td>\n",
       "    </tr>\n",
       "    <tr>\n",
       "      <th>2</th>\n",
       "      <td>1.655432e+09</td>\n",
       "      <td>db74505f-3fe3-476c-866d-872fea96a3b2</td>\n",
       "      <td>intento</td>\n",
       "      <td>NEO</td>\n",
       "      <td>80</td>\n",
       "      <td>Masculino</td>\n",
       "      <td>error</td>\n",
       "      <td>Bazzi</td>\n",
       "      <td>Calvin Harris</td>\n",
       "      <td>Facil</td>\n",
       "      <td>5.803136</td>\n",
       "    </tr>\n",
       "    <tr>\n",
       "      <th>3</th>\n",
       "      <td>1.655432e+09</td>\n",
       "      <td>db74505f-3fe3-476c-866d-872fea96a3b2</td>\n",
       "      <td>intento</td>\n",
       "      <td>NEO</td>\n",
       "      <td>80</td>\n",
       "      <td>Masculino</td>\n",
       "      <td>error</td>\n",
       "      <td>Selena Gomez</td>\n",
       "      <td>Rae Sremmurd</td>\n",
       "      <td>Facil</td>\n",
       "      <td>2.938909</td>\n",
       "    </tr>\n",
       "    <tr>\n",
       "      <th>4</th>\n",
       "      <td>1.655432e+09</td>\n",
       "      <td>db74505f-3fe3-476c-866d-872fea96a3b2</td>\n",
       "      <td>intento</td>\n",
       "      <td>NEO</td>\n",
       "      <td>80</td>\n",
       "      <td>Masculino</td>\n",
       "      <td>error</td>\n",
       "      <td>Lauv</td>\n",
       "      <td>Edward Maya</td>\n",
       "      <td>Facil</td>\n",
       "      <td>2.487448</td>\n",
       "    </tr>\n",
       "    <tr>\n",
       "      <th>5</th>\n",
       "      <td>1.655432e+09</td>\n",
       "      <td>db74505f-3fe3-476c-866d-872fea96a3b2</td>\n",
       "      <td>pasar</td>\n",
       "      <td>NEO</td>\n",
       "      <td>80</td>\n",
       "      <td>Masculino</td>\n",
       "      <td>NaN</td>\n",
       "      <td>NaN</td>\n",
       "      <td>Natalie La Rose</td>\n",
       "      <td>Facil</td>\n",
       "      <td>3.411873</td>\n",
       "    </tr>\n",
       "    <tr>\n",
       "      <th>6</th>\n",
       "      <td>1.655432e+09</td>\n",
       "      <td>db74505f-3fe3-476c-866d-872fea96a3b2</td>\n",
       "      <td>intento</td>\n",
       "      <td>NEO</td>\n",
       "      <td>80</td>\n",
       "      <td>Masculino</td>\n",
       "      <td>error</td>\n",
       "      <td>XXXTENTACION</td>\n",
       "      <td>Adele</td>\n",
       "      <td>Facil</td>\n",
       "      <td>2.898650</td>\n",
       "    </tr>\n",
       "    <tr>\n",
       "      <th>7</th>\n",
       "      <td>1.655432e+09</td>\n",
       "      <td>db74505f-3fe3-476c-866d-872fea96a3b2</td>\n",
       "      <td>intento</td>\n",
       "      <td>NEO</td>\n",
       "      <td>80</td>\n",
       "      <td>Masculino</td>\n",
       "      <td>error</td>\n",
       "      <td>Migos</td>\n",
       "      <td>Future</td>\n",
       "      <td>Facil</td>\n",
       "      <td>2.527012</td>\n",
       "    </tr>\n",
       "    <tr>\n",
       "      <th>8</th>\n",
       "      <td>1.655432e+09</td>\n",
       "      <td>db74505f-3fe3-476c-866d-872fea96a3b2</td>\n",
       "      <td>pasar</td>\n",
       "      <td>NEO</td>\n",
       "      <td>80</td>\n",
       "      <td>Masculino</td>\n",
       "      <td>NaN</td>\n",
       "      <td>NaN</td>\n",
       "      <td>Taylor Swift</td>\n",
       "      <td>Facil</td>\n",
       "      <td>3.172239</td>\n",
       "    </tr>\n",
       "    <tr>\n",
       "      <th>9</th>\n",
       "      <td>1.655432e+09</td>\n",
       "      <td>db74505f-3fe3-476c-866d-872fea96a3b2</td>\n",
       "      <td>intento</td>\n",
       "      <td>NEO</td>\n",
       "      <td>80</td>\n",
       "      <td>Masculino</td>\n",
       "      <td>error</td>\n",
       "      <td>Daya</td>\n",
       "      <td>Iyaz</td>\n",
       "      <td>Facil</td>\n",
       "      <td>3.349771</td>\n",
       "    </tr>\n",
       "    <tr>\n",
       "      <th>10</th>\n",
       "      <td>1.655432e+09</td>\n",
       "      <td>db74505f-3fe3-476c-866d-872fea96a3b2</td>\n",
       "      <td>intento</td>\n",
       "      <td>NEO</td>\n",
       "      <td>80</td>\n",
       "      <td>Masculino</td>\n",
       "      <td>error</td>\n",
       "      <td>NF</td>\n",
       "      <td>Lana Del Rey</td>\n",
       "      <td>Facil</td>\n",
       "      <td>63.821497</td>\n",
       "    </tr>\n",
       "    <tr>\n",
       "      <th>11</th>\n",
       "      <td>1.655432e+09</td>\n",
       "      <td>b8d68931-5986-4704-99ac-1f606dac48ae</td>\n",
       "      <td>inicio_partida</td>\n",
       "      <td>El Jose</td>\n",
       "      <td>80</td>\n",
       "      <td>Masculino</td>\n",
       "      <td>NaN</td>\n",
       "      <td>NaN</td>\n",
       "      <td>NaN</td>\n",
       "      <td>Facil</td>\n",
       "      <td>1.737765</td>\n",
       "    </tr>\n",
       "    <tr>\n",
       "      <th>12</th>\n",
       "      <td>1.655432e+09</td>\n",
       "      <td>b8d68931-5986-4704-99ac-1f606dac48ae</td>\n",
       "      <td>intento</td>\n",
       "      <td>El Jose</td>\n",
       "      <td>80</td>\n",
       "      <td>Masculino</td>\n",
       "      <td>ok</td>\n",
       "      <td>David Guetta</td>\n",
       "      <td>David Guetta</td>\n",
       "      <td>Facil</td>\n",
       "      <td>2.554827</td>\n",
       "    </tr>\n",
       "    <tr>\n",
       "      <th>13</th>\n",
       "      <td>1.655432e+09</td>\n",
       "      <td>b8d68931-5986-4704-99ac-1f606dac48ae</td>\n",
       "      <td>pasar</td>\n",
       "      <td>El Jose</td>\n",
       "      <td>80</td>\n",
       "      <td>Masculino</td>\n",
       "      <td>NaN</td>\n",
       "      <td>NaN</td>\n",
       "      <td>Usher</td>\n",
       "      <td>Facil</td>\n",
       "      <td>2.525707</td>\n",
       "    </tr>\n",
       "    <tr>\n",
       "      <th>14</th>\n",
       "      <td>1.655432e+09</td>\n",
       "      <td>b8d68931-5986-4704-99ac-1f606dac48ae</td>\n",
       "      <td>pasar</td>\n",
       "      <td>El Jose</td>\n",
       "      <td>80</td>\n",
       "      <td>Masculino</td>\n",
       "      <td>NaN</td>\n",
       "      <td>NaN</td>\n",
       "      <td>Rihanna</td>\n",
       "      <td>Facil</td>\n",
       "      <td>3.123286</td>\n",
       "    </tr>\n",
       "  </tbody>\n",
       "</table>\n",
       "</div>"
      ],
      "text/plain": [
       "       timestamp                                    id          evento  \\\n",
       "0   1.655432e+09  db74505f-3fe3-476c-866d-872fea96a3b2  inicio_partida   \n",
       "1   1.655432e+09  db74505f-3fe3-476c-866d-872fea96a3b2         intento   \n",
       "2   1.655432e+09  db74505f-3fe3-476c-866d-872fea96a3b2         intento   \n",
       "3   1.655432e+09  db74505f-3fe3-476c-866d-872fea96a3b2         intento   \n",
       "4   1.655432e+09  db74505f-3fe3-476c-866d-872fea96a3b2         intento   \n",
       "5   1.655432e+09  db74505f-3fe3-476c-866d-872fea96a3b2           pasar   \n",
       "6   1.655432e+09  db74505f-3fe3-476c-866d-872fea96a3b2         intento   \n",
       "7   1.655432e+09  db74505f-3fe3-476c-866d-872fea96a3b2         intento   \n",
       "8   1.655432e+09  db74505f-3fe3-476c-866d-872fea96a3b2           pasar   \n",
       "9   1.655432e+09  db74505f-3fe3-476c-866d-872fea96a3b2         intento   \n",
       "10  1.655432e+09  db74505f-3fe3-476c-866d-872fea96a3b2         intento   \n",
       "11  1.655432e+09  b8d68931-5986-4704-99ac-1f606dac48ae  inicio_partida   \n",
       "12  1.655432e+09  b8d68931-5986-4704-99ac-1f606dac48ae         intento   \n",
       "13  1.655432e+09  b8d68931-5986-4704-99ac-1f606dac48ae           pasar   \n",
       "14  1.655432e+09  b8d68931-5986-4704-99ac-1f606dac48ae           pasar   \n",
       "\n",
       "   nombre_jugador  edad_jugador genero_jugador estado  texto_ingresado  \\\n",
       "0             NEO            80      Masculino    NaN              NaN   \n",
       "1             NEO            80      Masculino     ok  Christina Perri   \n",
       "2             NEO            80      Masculino  error            Bazzi   \n",
       "3             NEO            80      Masculino  error     Selena Gomez   \n",
       "4             NEO            80      Masculino  error             Lauv   \n",
       "5             NEO            80      Masculino    NaN              NaN   \n",
       "6             NEO            80      Masculino  error     XXXTENTACION   \n",
       "7             NEO            80      Masculino  error            Migos   \n",
       "8             NEO            80      Masculino    NaN              NaN   \n",
       "9             NEO            80      Masculino  error             Daya   \n",
       "10            NEO            80      Masculino  error               NF   \n",
       "11        El Jose            80      Masculino    NaN              NaN   \n",
       "12        El Jose            80      Masculino     ok     David Guetta   \n",
       "13        El Jose            80      Masculino    NaN              NaN   \n",
       "14        El Jose            80      Masculino    NaN              NaN   \n",
       "\n",
       "          respuesta  nivel   duracion  \n",
       "0               NaN  Facil   8.231454  \n",
       "1   Christina Perri  Facil   2.912129  \n",
       "2     Calvin Harris  Facil   5.803136  \n",
       "3      Rae Sremmurd  Facil   2.938909  \n",
       "4       Edward Maya  Facil   2.487448  \n",
       "5   Natalie La Rose  Facil   3.411873  \n",
       "6             Adele  Facil   2.898650  \n",
       "7            Future  Facil   2.527012  \n",
       "8      Taylor Swift  Facil   3.172239  \n",
       "9              Iyaz  Facil   3.349771  \n",
       "10     Lana Del Rey  Facil  63.821497  \n",
       "11              NaN  Facil   1.737765  \n",
       "12     David Guetta  Facil   2.554827  \n",
       "13            Usher  Facil   2.525707  \n",
       "14          Rihanna  Facil   3.123286  "
      ]
     },
     "execution_count": 348,
     "metadata": {},
     "output_type": "execute_result"
    }
   ],
   "source": [
    "palabras = partidas.copy()\n",
    "\n",
    "palabras[\"duracion\"] = fin[\"timestamp\"] - inicio[\"timestamp\"]\n",
    "palabras.head(15)"
   ]
  },
  {
   "cell_type": "markdown",
   "metadata": {},
   "source": [
    "1. Calcular las respuestas correctas \"ok\".\n",
    "2. Calcular las 10 con menor \"duracion\".\n",
    "3. Filtrar las columnas de \"respuesta\" y \"duracion\" para mostrar el top 10."
   ]
  },
  {
   "cell_type": "code",
   "execution_count": 349,
   "metadata": {},
   "outputs": [
    {
     "data": {
      "text/html": [
       "<div>\n",
       "<style scoped>\n",
       "    .dataframe tbody tr th:only-of-type {\n",
       "        vertical-align: middle;\n",
       "    }\n",
       "\n",
       "    .dataframe tbody tr th {\n",
       "        vertical-align: top;\n",
       "    }\n",
       "\n",
       "    .dataframe thead th {\n",
       "        text-align: right;\n",
       "    }\n",
       "</style>\n",
       "<table border=\"1\" class=\"dataframe\">\n",
       "  <thead>\n",
       "    <tr style=\"text-align: right;\">\n",
       "      <th></th>\n",
       "      <th>respuesta</th>\n",
       "      <th>duracion</th>\n",
       "    </tr>\n",
       "  </thead>\n",
       "  <tbody>\n",
       "    <tr>\n",
       "      <th>315</th>\n",
       "      <td>Marriage Story</td>\n",
       "      <td>1.958753</td>\n",
       "    </tr>\n",
       "    <tr>\n",
       "      <th>264</th>\n",
       "      <td>Tobias Kainz</td>\n",
       "      <td>2.089793</td>\n",
       "    </tr>\n",
       "    <tr>\n",
       "      <th>232</th>\n",
       "      <td>Dragons: Rescue Riders: Secrets of the Songwing</td>\n",
       "      <td>2.145125</td>\n",
       "    </tr>\n",
       "    <tr>\n",
       "      <th>233</th>\n",
       "      <td>Marriage Story</td>\n",
       "      <td>2.152889</td>\n",
       "    </tr>\n",
       "    <tr>\n",
       "      <th>254</th>\n",
       "      <td>Tullu Moje (Ethiopia)</td>\n",
       "      <td>2.286252</td>\n",
       "    </tr>\n",
       "    <tr>\n",
       "      <th>24</th>\n",
       "      <td>Snoop Dogg</td>\n",
       "      <td>2.528940</td>\n",
       "    </tr>\n",
       "    <tr>\n",
       "      <th>12</th>\n",
       "      <td>David Guetta</td>\n",
       "      <td>2.554827</td>\n",
       "    </tr>\n",
       "    <tr>\n",
       "      <th>164</th>\n",
       "      <td>Ariana Grande</td>\n",
       "      <td>2.579864</td>\n",
       "    </tr>\n",
       "    <tr>\n",
       "      <th>234</th>\n",
       "      <td>Sissi: The Fateful Years of an Empress</td>\n",
       "      <td>2.707720</td>\n",
       "    </tr>\n",
       "    <tr>\n",
       "      <th>271</th>\n",
       "      <td>The Legend of Drunken Master</td>\n",
       "      <td>2.755411</td>\n",
       "    </tr>\n",
       "  </tbody>\n",
       "</table>\n",
       "</div>"
      ],
      "text/plain": [
       "                                           respuesta  duracion\n",
       "315                                   Marriage Story  1.958753\n",
       "264                                     Tobias Kainz  2.089793\n",
       "232  Dragons: Rescue Riders: Secrets of the Songwing  2.145125\n",
       "233                                   Marriage Story  2.152889\n",
       "254                            Tullu Moje (Ethiopia)  2.286252\n",
       "24                                        Snoop Dogg  2.528940\n",
       "12                                      David Guetta  2.554827\n",
       "164                                    Ariana Grande  2.579864\n",
       "234           Sissi: The Fateful Years of an Empress  2.707720\n",
       "271                     The Legend of Drunken Master  2.755411"
      ]
     },
     "execution_count": 349,
     "metadata": {},
     "output_type": "execute_result"
    }
   ],
   "source": [
    "respuestas_ok = palabras[palabras[\"estado\"] == \"ok\"]\n",
    "\n",
    "respuestas_ok = respuestas_ok.nsmallest(10, 'duracion')\n",
    "\n",
    "respuestas_ok = respuestas_ok[[\"respuesta\", \"duracion\"]]\n",
    "\n",
    "respuestas_ok"
   ]
  },
  {
   "cell_type": "markdown",
   "metadata": {
    "pycharm": {
     "name": "#%% md\n"
    }
   },
   "source": [
    "### Porcentaje de palabras no encontradas en las partidas \"timeout\", es decir que finalizaron por falta de tiempo para completar."
   ]
  },
  {
   "cell_type": "markdown",
   "metadata": {
    "pycharm": {
     "name": "#%%\n"
    }
   },
   "source": [
    "* Me quedo con la cantidad de palabras, que no pudieron ser adivinadas, en el tiempo dado :"
   ]
  },
  {
   "cell_type": "code",
   "execution_count": 350,
   "metadata": {},
   "outputs": [],
   "source": [
    "cant_timeout = len(partidas[partidas['evento'] == 'timeout'])"
   ]
  },
  {
   "cell_type": "markdown",
   "metadata": {},
   "source": [
    "* Me quedo con la cantidad del resto de palabras, que no se quedaron sin tiempo para poder ser adivinadas o no :  "
   ]
  },
  {
   "cell_type": "code",
   "execution_count": 351,
   "metadata": {},
   "outputs": [],
   "source": [
    "cant_no_timeout = len(partidas[partidas['evento'] != 'timeout'])"
   ]
  },
  {
   "cell_type": "code",
   "execution_count": 352,
   "metadata": {},
   "outputs": [],
   "source": [
    "cant_total = pd.Series({'Sin Timeout': cant_no_timeout, 'Timeout': cant_timeout})"
   ]
  },
  {
   "cell_type": "code",
   "execution_count": 353,
   "metadata": {},
   "outputs": [
    {
     "data": {
      "image/png": "[encoded data removed]",
      "text/plain": [
       "<Figure size 1080x504 with 1 Axes>"
      ]
     },
     "metadata": {},
     "output_type": "display_data"
    }
   ],
   "source": [
    "colores = [\"#34BE82\", \"#EA4C4C\"]\n",
    "\n",
    "cant_total.plot(kind='pie', autopct='%1.1f%%', startangle=90, figsize=(15, 7),\n",
    "            pctdistance=0.7, radius=1.2, shadow=True, colors=colores,\n",
    "            textprops={'fontsize': 15, 'color': 'black', 'backgroundcolor': 'c'},\n",
    "            wedgeprops={'linewidth': 0.1, 'edgecolor': 'black'})\n",
    "\n",
    "plt.title(\"Porcentaje de partidas en Timeout\", pad=35, loc=\"center\",\n",
    "          fontdict={'fontsize': 25, 'fontweight': 'bold', 'backgroundcolor': 'white'})\n",
    "\n",
    "plt.legend(loc=2, fontsize=12)\n",
    "plt.axis('equal')\n",
    "plt.show()"
   ]
  },
  {
   "cell_type": "markdown",
   "metadata": {},
   "source": [
    "* Top 10 palabras NO encontradas por Timeout: "
   ]
  },
  {
   "cell_type": "code",
   "execution_count": 354,
   "metadata": {},
   "outputs": [
    {
     "data": {
      "text/html": [
       "<div>\n",
       "<style scoped>\n",
       "    .dataframe tbody tr th:only-of-type {\n",
       "        vertical-align: middle;\n",
       "    }\n",
       "\n",
       "    .dataframe tbody tr th {\n",
       "        vertical-align: top;\n",
       "    }\n",
       "\n",
       "    .dataframe thead th {\n",
       "        text-align: right;\n",
       "    }\n",
       "</style>\n",
       "<table border=\"1\" class=\"dataframe\">\n",
       "  <thead>\n",
       "    <tr style=\"text-align: right;\">\n",
       "      <th></th>\n",
       "      <th>Cantidad</th>\n",
       "    </tr>\n",
       "  </thead>\n",
       "  <tbody>\n",
       "    <tr>\n",
       "      <th>Dragonfly</th>\n",
       "      <td>1</td>\n",
       "    </tr>\n",
       "    <tr>\n",
       "      <th>PAW Patrol: Jet To The Rescue</th>\n",
       "      <td>1</td>\n",
       "    </tr>\n",
       "    <tr>\n",
       "      <th>Lords of Scam</th>\n",
       "      <td>1</td>\n",
       "    </tr>\n",
       "    <tr>\n",
       "      <th>Rachid Bouhenna</th>\n",
       "      <td>1</td>\n",
       "    </tr>\n",
       "    <tr>\n",
       "      <th>Kwame Poku</th>\n",
       "      <td>1</td>\n",
       "    </tr>\n",
       "    <tr>\n",
       "      <th>Transporter 2</th>\n",
       "      <td>1</td>\n",
       "    </tr>\n",
       "    <tr>\n",
       "      <th>Blue Crush</th>\n",
       "      <td>1</td>\n",
       "    </tr>\n",
       "    <tr>\n",
       "      <th>Saint Seiya: Legend of Crimson Youth</th>\n",
       "      <td>1</td>\n",
       "    </tr>\n",
       "    <tr>\n",
       "      <th>The Fixies: Top Secret</th>\n",
       "      <td>1</td>\n",
       "    </tr>\n",
       "    <tr>\n",
       "      <th>I Give My First Love to You</th>\n",
       "      <td>1</td>\n",
       "    </tr>\n",
       "  </tbody>\n",
       "</table>\n",
       "</div>"
      ],
      "text/plain": [
       "                                      Cantidad\n",
       "Dragonfly                                    1\n",
       "PAW Patrol: Jet To The Rescue                1\n",
       "Lords of Scam                                1\n",
       "Rachid Bouhenna                              1\n",
       "Kwame Poku                                   1\n",
       "Transporter 2                                1\n",
       "Blue Crush                                   1\n",
       "Saint Seiya: Legend of Crimson Youth         1\n",
       "The Fixies: Top Secret                       1\n",
       "I Give My First Love to You                  1"
      ]
     },
     "execution_count": 354,
     "metadata": {},
     "output_type": "execute_result"
    }
   ],
   "source": [
    "palabras_time_out = partidas[partidas['evento'] == 'timeout']['respuesta'].value_counts()\n",
    "\n",
    "top_10 = pd.concat([palabras_time_out[0:10]], axis=1, keys=['Cantidad'])\n",
    "\n",
    "top_10"
   ]
  }
 ],
 "metadata": {
  "kernelspec": {
   "display_name": "Python 3.10.4 ('grupo10')",
   "language": "python",
   "name": "python3"
  },
  "language_info": {
   "codemirror_mode": {
    "name": "ipython",
    "version": 3
   },
   "file_extension": ".py",
   "mimetype": "text/x-python",
   "name": "python",
   "nbconvert_exporter": "python",
   "pygments_lexer": "ipython3",
   "version": "3.10.4"
  },
  "vscode": {
   "interpreter": {
    "hash": "f74958d2c2063dfa50096d28483b11c3f9df58d37b8ca249bcb33f0785b7e6e5"
   }
  }
 },
 "nbformat": 4,
 "nbformat_minor": 4
}
