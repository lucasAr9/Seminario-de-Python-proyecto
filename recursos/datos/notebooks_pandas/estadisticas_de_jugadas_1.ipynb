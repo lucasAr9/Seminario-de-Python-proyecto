{
 "cells": [
  {
   "cell_type": "markdown",
   "metadata": {
    "pycharm": {
     "name": "#%% md\n"
    }
   },
   "source": [
    "# **Análisis de las partidas**\n",
    "___"
   ]
  },
  {
   "cell_type": "markdown",
   "metadata": {
    "pycharm": {
     "name": "#%% md\n"
    }
   },
   "source": [
    "### Instalar e importar las librerias para el analisis de las partidas"
   ]
  },
  {
   "cell_type": "code",
   "execution_count": null,
   "metadata": {
    "pycharm": {
     "name": "#%%\n"
    }
   },
   "outputs": [],
   "source": [
    "! pip install pandas\n",
    "! pip install matplotlib"
   ]
  },
  {
   "cell_type": "code",
   "execution_count": 164,
   "metadata": {
    "pycharm": {
     "name": "#%%\n"
    }
   },
   "outputs": [],
   "source": [
    "import pandas as pd\n",
    "import matplotlib.pyplot as plt\n",
    "import os"
   ]
  },
  {
   "cell_type": "markdown",
   "metadata": {
    "pycharm": {
     "name": "#%% md\n"
    }
   },
   "source": [
    "### Importamos el archivo con los datos y crear el DataFrame."
   ]
  },
  {
   "cell_type": "code",
   "execution_count": 165,
   "metadata": {
    "pycharm": {
     "name": "#%%\n"
    }
   },
   "outputs": [],
   "source": [
    "archivo = \"datos_de_jugadas.csv\"\n",
    "carpeta = os.path.join(os.getcwd(), \"..\", \"..\", \"registros\", archivo)"
   ]
  },
  {
   "cell_type": "code",
   "execution_count": 166,
   "metadata": {
    "pycharm": {
     "name": "#%%\n"
    }
   },
   "outputs": [],
   "source": [
    "partidas = pd.read_csv(carpeta)"
   ]
  },
  {
   "cell_type": "markdown",
   "metadata": {
    "pycharm": {
     "name": "#%% md\n"
    }
   },
   "source": [
    "### Conocer el DataFrame."
   ]
  },
  {
   "cell_type": "markdown",
   "metadata": {
    "pycharm": {
     "name": "#%% md\n"
    }
   },
   "source": [
    "* Ver las columnas, cuantos registros tiene cada columna y el tipo de dato."
   ]
  },
  {
   "cell_type": "code",
   "execution_count": 167,
   "metadata": {
    "pycharm": {
     "name": "#%%\n"
    }
   },
   "outputs": [
    {
     "name": "stdout",
     "output_type": "stream",
     "text": [
      "<class 'pandas.core.frame.DataFrame'>\n",
      "RangeIndex: 247 entries, 0 to 246\n",
      "Data columns (total 10 columns):\n",
      " #   Column           Non-Null Count  Dtype  \n",
      "---  ------           --------------  -----  \n",
      " 0   timestamp        247 non-null    float64\n",
      " 1   id               247 non-null    object \n",
      " 2   evento           247 non-null    object \n",
      " 3   nombre_jugador   247 non-null    object \n",
      " 4   edad_jugador     247 non-null    int64  \n",
      " 5   genero_jugador   247 non-null    object \n",
      " 6   estado           194 non-null    object \n",
      " 7   texto_ingresado  154 non-null    object \n",
      " 8   respuesta        187 non-null    object \n",
      " 9   nivel            247 non-null    object \n",
      "dtypes: float64(1), int64(1), object(8)\n",
      "memory usage: 19.4+ KB\n"
     ]
    }
   ],
   "source": [
    "partidas.info()"
   ]
  },
  {
   "cell_type": "markdown",
   "metadata": {
    "pycharm": {
     "name": "#%% md\n"
    }
   },
   "source": [
    "* Conocer la estructura del dataset."
   ]
  },
  {
   "cell_type": "code",
   "execution_count": 168,
   "metadata": {
    "pycharm": {
     "name": "#%%\n"
    }
   },
   "outputs": [
    {
     "data": {
      "text/html": [
       "<div>\n",
       "<style scoped>\n",
       "    .dataframe tbody tr th:only-of-type {\n",
       "        vertical-align: middle;\n",
       "    }\n",
       "\n",
       "    .dataframe tbody tr th {\n",
       "        vertical-align: top;\n",
       "    }\n",
       "\n",
       "    .dataframe thead th {\n",
       "        text-align: right;\n",
       "    }\n",
       "</style>\n",
       "<table border=\"1\" class=\"dataframe\">\n",
       "  <thead>\n",
       "    <tr style=\"text-align: right;\">\n",
       "      <th></th>\n",
       "      <th>timestamp</th>\n",
       "      <th>id</th>\n",
       "      <th>evento</th>\n",
       "      <th>nombre_jugador</th>\n",
       "      <th>edad_jugador</th>\n",
       "      <th>genero_jugador</th>\n",
       "      <th>estado</th>\n",
       "      <th>texto_ingresado</th>\n",
       "      <th>respuesta</th>\n",
       "      <th>nivel</th>\n",
       "    </tr>\n",
       "  </thead>\n",
       "  <tbody>\n",
       "    <tr>\n",
       "      <th>0</th>\n",
       "      <td>1.655432e+09</td>\n",
       "      <td>db74505f-3fe3-476c-866d-872fea96a3b2</td>\n",
       "      <td>inicio_partida</td>\n",
       "      <td>NEO</td>\n",
       "      <td>80</td>\n",
       "      <td>Masculino</td>\n",
       "      <td>NaN</td>\n",
       "      <td>NaN</td>\n",
       "      <td>NaN</td>\n",
       "      <td>Facil</td>\n",
       "    </tr>\n",
       "    <tr>\n",
       "      <th>1</th>\n",
       "      <td>1.655432e+09</td>\n",
       "      <td>db74505f-3fe3-476c-866d-872fea96a3b2</td>\n",
       "      <td>intento</td>\n",
       "      <td>NEO</td>\n",
       "      <td>80</td>\n",
       "      <td>Masculino</td>\n",
       "      <td>ok</td>\n",
       "      <td>Christina Perri</td>\n",
       "      <td>Christina Perri</td>\n",
       "      <td>Facil</td>\n",
       "    </tr>\n",
       "    <tr>\n",
       "      <th>2</th>\n",
       "      <td>1.655432e+09</td>\n",
       "      <td>db74505f-3fe3-476c-866d-872fea96a3b2</td>\n",
       "      <td>intento</td>\n",
       "      <td>NEO</td>\n",
       "      <td>80</td>\n",
       "      <td>Masculino</td>\n",
       "      <td>error</td>\n",
       "      <td>Bazzi</td>\n",
       "      <td>Calvin Harris</td>\n",
       "      <td>Facil</td>\n",
       "    </tr>\n",
       "    <tr>\n",
       "      <th>3</th>\n",
       "      <td>1.655432e+09</td>\n",
       "      <td>db74505f-3fe3-476c-866d-872fea96a3b2</td>\n",
       "      <td>intento</td>\n",
       "      <td>NEO</td>\n",
       "      <td>80</td>\n",
       "      <td>Masculino</td>\n",
       "      <td>error</td>\n",
       "      <td>Selena Gomez</td>\n",
       "      <td>Rae Sremmurd</td>\n",
       "      <td>Facil</td>\n",
       "    </tr>\n",
       "    <tr>\n",
       "      <th>4</th>\n",
       "      <td>1.655432e+09</td>\n",
       "      <td>db74505f-3fe3-476c-866d-872fea96a3b2</td>\n",
       "      <td>intento</td>\n",
       "      <td>NEO</td>\n",
       "      <td>80</td>\n",
       "      <td>Masculino</td>\n",
       "      <td>error</td>\n",
       "      <td>Lauv</td>\n",
       "      <td>Edward Maya</td>\n",
       "      <td>Facil</td>\n",
       "    </tr>\n",
       "    <tr>\n",
       "      <th>5</th>\n",
       "      <td>1.655432e+09</td>\n",
       "      <td>db74505f-3fe3-476c-866d-872fea96a3b2</td>\n",
       "      <td>pasar</td>\n",
       "      <td>NEO</td>\n",
       "      <td>80</td>\n",
       "      <td>Masculino</td>\n",
       "      <td>NaN</td>\n",
       "      <td>NaN</td>\n",
       "      <td>Natalie La Rose</td>\n",
       "      <td>Facil</td>\n",
       "    </tr>\n",
       "    <tr>\n",
       "      <th>6</th>\n",
       "      <td>1.655432e+09</td>\n",
       "      <td>db74505f-3fe3-476c-866d-872fea96a3b2</td>\n",
       "      <td>intento</td>\n",
       "      <td>NEO</td>\n",
       "      <td>80</td>\n",
       "      <td>Masculino</td>\n",
       "      <td>error</td>\n",
       "      <td>XXXTENTACION</td>\n",
       "      <td>Adele</td>\n",
       "      <td>Facil</td>\n",
       "    </tr>\n",
       "    <tr>\n",
       "      <th>7</th>\n",
       "      <td>1.655432e+09</td>\n",
       "      <td>db74505f-3fe3-476c-866d-872fea96a3b2</td>\n",
       "      <td>intento</td>\n",
       "      <td>NEO</td>\n",
       "      <td>80</td>\n",
       "      <td>Masculino</td>\n",
       "      <td>error</td>\n",
       "      <td>Migos</td>\n",
       "      <td>Future</td>\n",
       "      <td>Facil</td>\n",
       "    </tr>\n",
       "    <tr>\n",
       "      <th>8</th>\n",
       "      <td>1.655432e+09</td>\n",
       "      <td>db74505f-3fe3-476c-866d-872fea96a3b2</td>\n",
       "      <td>pasar</td>\n",
       "      <td>NEO</td>\n",
       "      <td>80</td>\n",
       "      <td>Masculino</td>\n",
       "      <td>NaN</td>\n",
       "      <td>NaN</td>\n",
       "      <td>Taylor Swift</td>\n",
       "      <td>Facil</td>\n",
       "    </tr>\n",
       "    <tr>\n",
       "      <th>9</th>\n",
       "      <td>1.655432e+09</td>\n",
       "      <td>db74505f-3fe3-476c-866d-872fea96a3b2</td>\n",
       "      <td>intento</td>\n",
       "      <td>NEO</td>\n",
       "      <td>80</td>\n",
       "      <td>Masculino</td>\n",
       "      <td>error</td>\n",
       "      <td>Daya</td>\n",
       "      <td>Iyaz</td>\n",
       "      <td>Facil</td>\n",
       "    </tr>\n",
       "    <tr>\n",
       "      <th>10</th>\n",
       "      <td>1.655432e+09</td>\n",
       "      <td>db74505f-3fe3-476c-866d-872fea96a3b2</td>\n",
       "      <td>intento</td>\n",
       "      <td>NEO</td>\n",
       "      <td>80</td>\n",
       "      <td>Masculino</td>\n",
       "      <td>error</td>\n",
       "      <td>NF</td>\n",
       "      <td>Lana Del Rey</td>\n",
       "      <td>Facil</td>\n",
       "    </tr>\n",
       "    <tr>\n",
       "      <th>11</th>\n",
       "      <td>1.655432e+09</td>\n",
       "      <td>db74505f-3fe3-476c-866d-872fea96a3b2</td>\n",
       "      <td>fin</td>\n",
       "      <td>NEO</td>\n",
       "      <td>80</td>\n",
       "      <td>Masculino</td>\n",
       "      <td>finalizada</td>\n",
       "      <td>NaN</td>\n",
       "      <td>NaN</td>\n",
       "      <td>Facil</td>\n",
       "    </tr>\n",
       "    <tr>\n",
       "      <th>12</th>\n",
       "      <td>1.655432e+09</td>\n",
       "      <td>b8d68931-5986-4704-99ac-1f606dac48ae</td>\n",
       "      <td>inicio_partida</td>\n",
       "      <td>El Jose</td>\n",
       "      <td>80</td>\n",
       "      <td>Masculino</td>\n",
       "      <td>NaN</td>\n",
       "      <td>NaN</td>\n",
       "      <td>NaN</td>\n",
       "      <td>Facil</td>\n",
       "    </tr>\n",
       "    <tr>\n",
       "      <th>13</th>\n",
       "      <td>1.655432e+09</td>\n",
       "      <td>b8d68931-5986-4704-99ac-1f606dac48ae</td>\n",
       "      <td>intento</td>\n",
       "      <td>El Jose</td>\n",
       "      <td>80</td>\n",
       "      <td>Masculino</td>\n",
       "      <td>ok</td>\n",
       "      <td>David Guetta</td>\n",
       "      <td>David Guetta</td>\n",
       "      <td>Facil</td>\n",
       "    </tr>\n",
       "    <tr>\n",
       "      <th>14</th>\n",
       "      <td>1.655432e+09</td>\n",
       "      <td>b8d68931-5986-4704-99ac-1f606dac48ae</td>\n",
       "      <td>pasar</td>\n",
       "      <td>El Jose</td>\n",
       "      <td>80</td>\n",
       "      <td>Masculino</td>\n",
       "      <td>NaN</td>\n",
       "      <td>NaN</td>\n",
       "      <td>Usher</td>\n",
       "      <td>Facil</td>\n",
       "    </tr>\n",
       "  </tbody>\n",
       "</table>\n",
       "</div>"
      ],
      "text/plain": [
       "       timestamp                                    id          evento  \\\n",
       "0   1.655432e+09  db74505f-3fe3-476c-866d-872fea96a3b2  inicio_partida   \n",
       "1   1.655432e+09  db74505f-3fe3-476c-866d-872fea96a3b2         intento   \n",
       "2   1.655432e+09  db74505f-3fe3-476c-866d-872fea96a3b2         intento   \n",
       "3   1.655432e+09  db74505f-3fe3-476c-866d-872fea96a3b2         intento   \n",
       "4   1.655432e+09  db74505f-3fe3-476c-866d-872fea96a3b2         intento   \n",
       "5   1.655432e+09  db74505f-3fe3-476c-866d-872fea96a3b2           pasar   \n",
       "6   1.655432e+09  db74505f-3fe3-476c-866d-872fea96a3b2         intento   \n",
       "7   1.655432e+09  db74505f-3fe3-476c-866d-872fea96a3b2         intento   \n",
       "8   1.655432e+09  db74505f-3fe3-476c-866d-872fea96a3b2           pasar   \n",
       "9   1.655432e+09  db74505f-3fe3-476c-866d-872fea96a3b2         intento   \n",
       "10  1.655432e+09  db74505f-3fe3-476c-866d-872fea96a3b2         intento   \n",
       "11  1.655432e+09  db74505f-3fe3-476c-866d-872fea96a3b2             fin   \n",
       "12  1.655432e+09  b8d68931-5986-4704-99ac-1f606dac48ae  inicio_partida   \n",
       "13  1.655432e+09  b8d68931-5986-4704-99ac-1f606dac48ae         intento   \n",
       "14  1.655432e+09  b8d68931-5986-4704-99ac-1f606dac48ae           pasar   \n",
       "\n",
       "   nombre_jugador  edad_jugador genero_jugador      estado  texto_ingresado  \\\n",
       "0             NEO            80      Masculino         NaN              NaN   \n",
       "1             NEO            80      Masculino          ok  Christina Perri   \n",
       "2             NEO            80      Masculino       error            Bazzi   \n",
       "3             NEO            80      Masculino       error     Selena Gomez   \n",
       "4             NEO            80      Masculino       error             Lauv   \n",
       "5             NEO            80      Masculino         NaN              NaN   \n",
       "6             NEO            80      Masculino       error     XXXTENTACION   \n",
       "7             NEO            80      Masculino       error            Migos   \n",
       "8             NEO            80      Masculino         NaN              NaN   \n",
       "9             NEO            80      Masculino       error             Daya   \n",
       "10            NEO            80      Masculino       error               NF   \n",
       "11            NEO            80      Masculino  finalizada              NaN   \n",
       "12        El Jose            80      Masculino         NaN              NaN   \n",
       "13        El Jose            80      Masculino          ok     David Guetta   \n",
       "14        El Jose            80      Masculino         NaN              NaN   \n",
       "\n",
       "          respuesta  nivel  \n",
       "0               NaN  Facil  \n",
       "1   Christina Perri  Facil  \n",
       "2     Calvin Harris  Facil  \n",
       "3      Rae Sremmurd  Facil  \n",
       "4       Edward Maya  Facil  \n",
       "5   Natalie La Rose  Facil  \n",
       "6             Adele  Facil  \n",
       "7            Future  Facil  \n",
       "8      Taylor Swift  Facil  \n",
       "9              Iyaz  Facil  \n",
       "10     Lana Del Rey  Facil  \n",
       "11              NaN  Facil  \n",
       "12              NaN  Facil  \n",
       "13     David Guetta  Facil  \n",
       "14            Usher  Facil  "
      ]
     },
     "execution_count": 168,
     "metadata": {},
     "output_type": "execute_result"
    }
   ],
   "source": [
    "partidas.head(15)"
   ]
  },
  {
   "cell_type": "markdown",
   "metadata": {
    "pycharm": {
     "name": "#%% md\n"
    }
   },
   "source": [
    "* Para conocer las medidas de tendencia central y de dispercion de las columnas cuantitativas del DataFrame.\n",
    "* En este caso solo es útil la columna de \"edad del jugador\"."
   ]
  },
  {
   "cell_type": "code",
   "execution_count": 169,
   "metadata": {
    "pycharm": {
     "name": "#%%\n"
    }
   },
   "outputs": [
    {
     "data": {
      "text/html": [
       "<div>\n",
       "<style scoped>\n",
       "    .dataframe tbody tr th:only-of-type {\n",
       "        vertical-align: middle;\n",
       "    }\n",
       "\n",
       "    .dataframe tbody tr th {\n",
       "        vertical-align: top;\n",
       "    }\n",
       "\n",
       "    .dataframe thead th {\n",
       "        text-align: right;\n",
       "    }\n",
       "</style>\n",
       "<table border=\"1\" class=\"dataframe\">\n",
       "  <thead>\n",
       "    <tr style=\"text-align: right;\">\n",
       "      <th></th>\n",
       "      <th>timestamp</th>\n",
       "      <th>edad_jugador</th>\n",
       "    </tr>\n",
       "  </thead>\n",
       "  <tbody>\n",
       "    <tr>\n",
       "      <th>count</th>\n",
       "      <td>2.470000e+02</td>\n",
       "      <td>247.000000</td>\n",
       "    </tr>\n",
       "    <tr>\n",
       "      <th>mean</th>\n",
       "      <td>1.655684e+09</td>\n",
       "      <td>69.817814</td>\n",
       "    </tr>\n",
       "    <tr>\n",
       "      <th>std</th>\n",
       "      <td>1.700546e+05</td>\n",
       "      <td>14.398058</td>\n",
       "    </tr>\n",
       "    <tr>\n",
       "      <th>min</th>\n",
       "      <td>1.655432e+09</td>\n",
       "      <td>55.000000</td>\n",
       "    </tr>\n",
       "    <tr>\n",
       "      <th>25%</th>\n",
       "      <td>1.655525e+09</td>\n",
       "      <td>55.000000</td>\n",
       "    </tr>\n",
       "    <tr>\n",
       "      <th>50%</th>\n",
       "      <td>1.655671e+09</td>\n",
       "      <td>80.000000</td>\n",
       "    </tr>\n",
       "    <tr>\n",
       "      <th>75%</th>\n",
       "      <td>1.655855e+09</td>\n",
       "      <td>80.000000</td>\n",
       "    </tr>\n",
       "    <tr>\n",
       "      <th>max</th>\n",
       "      <td>1.655934e+09</td>\n",
       "      <td>90.000000</td>\n",
       "    </tr>\n",
       "  </tbody>\n",
       "</table>\n",
       "</div>"
      ],
      "text/plain": [
       "          timestamp  edad_jugador\n",
       "count  2.470000e+02    247.000000\n",
       "mean   1.655684e+09     69.817814\n",
       "std    1.700546e+05     14.398058\n",
       "min    1.655432e+09     55.000000\n",
       "25%    1.655525e+09     55.000000\n",
       "50%    1.655671e+09     80.000000\n",
       "75%    1.655855e+09     80.000000\n",
       "max    1.655934e+09     90.000000"
      ]
     },
     "execution_count": 169,
     "metadata": {},
     "output_type": "execute_result"
    }
   ],
   "source": [
    "partidas.describe()"
   ]
  },
  {
   "cell_type": "markdown",
   "metadata": {
    "pycharm": {
     "name": "#%% md\n"
    }
   },
   "source": [
    "# Estadísticas y gráficos\n",
    "___"
   ]
  },
  {
   "cell_type": "markdown",
   "metadata": {
    "pycharm": {
     "name": "#%% md\n"
    }
   },
   "source": [
    "### Top 10 de palabras que se encuentran primero de todas las partidas."
   ]
  },
  {
   "cell_type": "code",
   "execution_count": 170,
   "metadata": {
    "pycharm": {
     "name": "#%%\n"
    }
   },
   "outputs": [],
   "source": [
    "# pendiente"
   ]
  },
  {
   "cell_type": "code",
   "execution_count": 171,
   "metadata": {
    "pycharm": {
     "name": "#%%\n"
    }
   },
   "outputs": [],
   "source": [
    "# pendiente"
   ]
  },
  {
   "cell_type": "markdown",
   "metadata": {
    "pycharm": {
     "name": "#%% md\n"
    }
   },
   "source": [
    "###  Gráfico que muestra el porcentaje de partidas por estado (error, ok, cancelado, finalizada)."
   ]
  },
  {
   "cell_type": "markdown",
   "metadata": {
    "pycharm": {
     "name": "#%% md\n"
    }
   },
   "source": [
    "* Sumar la cantidad de veces que aparece cada registro repetido en el dataset en la columna de \"estado\"."
   ]
  },
  {
   "cell_type": "code",
   "execution_count": 172,
   "metadata": {
    "pycharm": {
     "name": "#%%\n"
    }
   },
   "outputs": [],
   "source": [
    "estado = partidas['estado'].value_counts()"
   ]
  },
  {
   "cell_type": "code",
   "execution_count": 173,
   "metadata": {
    "pycharm": {
     "name": "#%%\n"
    }
   },
   "outputs": [
    {
     "data": {
      "image/png": "[encoded data removed]",
      "text/plain": [
       "<Figure size 432x432 with 1 Axes>"
      ]
     },
     "metadata": {},
     "output_type": "display_data"
    }
   ],
   "source": [
    "estado.plot(kind='pie', autopct='%1.1f%%', startangle=90, figsize=(6, 6), pctdistance=0.8, radius=1.2,\n",
    "            textprops={'fontsize': 16, 'color': 'black', 'backgroundcolor': 'c'},\n",
    "            wedgeprops={'linewidth': 1, 'edgecolor': 'black'})\n",
    "\n",
    "plt.title(\"Porcentaje de partidas según su estado\", pad=35, loc=\"center\",\n",
    "          fontdict={'fontsize': 20, 'fontweight': 'bold', 'backgroundcolor': 'white'})\n",
    "\n",
    "plt.axis('equal')\n",
    "plt.show()"
   ]
  },
  {
   "cell_type": "markdown",
   "metadata": {
    "pycharm": {
     "name": "#%% md\n"
    }
   },
   "source": [
    "* Calcular solo con los registros con partidas \"finalizada\" o \"cancelada\"."
   ]
  },
  {
   "cell_type": "code",
   "execution_count": 174,
   "metadata": {
    "pycharm": {
     "name": "#%%\n"
    }
   },
   "outputs": [
    {
     "data": {
      "image/png": "[encoded data removed]",
      "text/plain": [
       "<Figure size 360x360 with 1 Axes>"
      ]
     },
     "metadata": {},
     "output_type": "display_data"
    }
   ],
   "source": [
    "estado_fin = estado[['finalizada', 'cancelada']]\n",
    "\n",
    "estado_fin.plot(kind='pie', autopct='%1.1f%%', startangle=90, figsize=(5, 5), pctdistance=0.8, radius=1.0,\n",
    "                textprops={'fontsize': 16, 'color': 'black', 'backgroundcolor': 'c'},\n",
    "                wedgeprops={'linewidth': 1, 'edgecolor': 'black'})\n",
    "\n",
    "plt.title(\"Porcentaje de partidas finalizadas o canceladas\", pad=35, loc=\"center\",\n",
    "          fontdict={'fontsize': 20, 'fontweight': 'bold', 'backgroundcolor': 'white'})\n",
    "\n",
    "plt.axis('equal')\n",
    "plt.show()"
   ]
  },
  {
   "cell_type": "markdown",
   "metadata": {
    "pycharm": {
     "name": "#%% md\n"
    }
   },
   "source": [
    "* Calcular solo con los registros con rondas por \"error\" o \"ok\"."
   ]
  },
  {
   "cell_type": "code",
   "execution_count": 175,
   "metadata": {
    "pycharm": {
     "name": "#%%\n"
    }
   },
   "outputs": [
    {
     "data": {
      "image/png": "[encoded data removed]",
      "text/plain": [
       "<Figure size 360x360 with 1 Axes>"
      ]
     },
     "metadata": {},
     "output_type": "display_data"
    }
   ],
   "source": [
    "estado_respuestas = estado[['error', 'ok']]\n",
    "\n",
    "estado_respuestas.plot(kind='pie', autopct='%1.1f%%', startangle=90, figsize=(5, 5), pctdistance=0.8, radius=1.0,\n",
    "                       textprops={'fontsize': 16, 'color': 'black', 'backgroundcolor': 'c'},\n",
    "                       wedgeprops={'linewidth': 1, 'edgecolor': 'black'})\n",
    "\n",
    "plt.title(\"Porcentaje de rondas por errores o aciertos\", pad=35, loc=\"center\",\n",
    "          fontdict={'fontsize': 20, 'fontweight': 'bold', 'backgroundcolor': 'white'})\n",
    "\n",
    "plt.axis('equal')\n",
    "plt.show()"
   ]
  },
  {
   "cell_type": "markdown",
   "metadata": {
    "pycharm": {
     "name": "#%% md\n"
    }
   },
   "source": [
    "### Gráfico que muestra el porcentaje de partidas finalizadas según género."
   ]
  },
  {
   "cell_type": "markdown",
   "metadata": {
    "pycharm": {
     "name": "#%% md\n"
    }
   },
   "source": [
    "1. Filtrar todas las columnas con estado \"finalizada\".\n",
    "2. Agrupar por genero del jugador."
   ]
  },
  {
   "cell_type": "code",
   "execution_count": 176,
   "metadata": {
    "pycharm": {
     "name": "#%%\n"
    }
   },
   "outputs": [
    {
     "data": {
      "image/png": "[encoded data removed]",
      "text/plain": [
       "<Figure size 432x432 with 1 Axes>"
      ]
     },
     "metadata": {},
     "output_type": "display_data"
    }
   ],
   "source": [
    "estado_finalizadas = partidas[partidas['estado'] == 'finalizada']\n",
    "agrupar_genero = estado_finalizadas.groupby('genero_jugador')\n",
    "agrupar_genero = agrupar_genero.size()\n",
    "\n",
    "agrupar_genero.plot(kind='pie', autopct='%1.1f%%', startangle=90, figsize=(6, 6), pctdistance=0.8, radius=1.2,\n",
    "                    textprops={'fontsize': 16, 'color': 'black', 'backgroundcolor': 'c'},\n",
    "                    wedgeprops={'linewidth': 1, 'edgecolor': 'black'})\n",
    "\n",
    "plt.title(\"Porcentaje de partidas finalizadas por género\", pad=35, loc=\"center\",\n",
    "          fontdict={'fontsize': 20, 'fontweight': 'bold', 'backgroundcolor': 'white'})\n",
    "\n",
    "plt.axis('equal')\n",
    "plt.show()"
   ]
  },
  {
   "cell_type": "markdown",
   "metadata": {
    "pycharm": {
     "name": "#%% md\n"
    }
   },
   "source": [
    "### Gráfico que muestra el porcentaje de partidas finalizadas según nivel."
   ]
  },
  {
   "cell_type": "markdown",
   "metadata": {
    "pycharm": {
     "name": "#%% md\n"
    }
   },
   "source": [
    "* Sumar la cantidad de veces que aparece cada registro repetido en el dataset en la columna de \"nivel\"."
   ]
  },
  {
   "cell_type": "code",
   "execution_count": 177,
   "metadata": {
    "pycharm": {
     "name": "#%%\n"
    }
   },
   "outputs": [
    {
     "data": {
      "image/png": "[encoded data removed]",
      "text/plain": [
       "<Figure size 432x432 with 1 Axes>"
      ]
     },
     "metadata": {},
     "output_type": "display_data"
    }
   ],
   "source": [
    "nivel = partidas['nivel'].value_counts()\n",
    "\n",
    "nivel.plot(kind='pie', autopct='%1.1f%%', startangle=90, figsize=(6, 6), pctdistance=0.8, radius=1.2,\n",
    "           textprops={'fontsize': 16, 'color': 'black', 'backgroundcolor': 'c'},\n",
    "           wedgeprops={'linewidth': 1, 'edgecolor': 'black'})\n",
    "\n",
    "plt.title(\"Porcentaje de partidas finalizadas por nivel\", pad=35, loc=\"center\",\n",
    "          fontdict={'fontsize': 20, 'fontweight': 'bold', 'backgroundcolor': 'white'})\n",
    "\n",
    "plt.axis('equal')\n",
    "plt.show()"
   ]
  },
  {
   "cell_type": "markdown",
   "metadata": {
    "pycharm": {
     "name": "#%% md\n"
    }
   },
   "source": [
    "### Duración total de la partida (desde que el usuarie empieza a jugar hasta que presiona salir o pasan las N rondas definidas para el nivel de dificultad actual)."
   ]
  },
  {
   "cell_type": "code",
   "execution_count": 178,
   "metadata": {
    "pycharm": {
     "name": "#%%\n"
    }
   },
   "outputs": [
    {
     "data": {
      "text/html": [
       "<div>\n",
       "<style scoped>\n",
       "    .dataframe tbody tr th:only-of-type {\n",
       "        vertical-align: middle;\n",
       "    }\n",
       "\n",
       "    .dataframe tbody tr th {\n",
       "        vertical-align: top;\n",
       "    }\n",
       "\n",
       "    .dataframe thead th {\n",
       "        text-align: right;\n",
       "    }\n",
       "</style>\n",
       "<table border=\"1\" class=\"dataframe\">\n",
       "  <thead>\n",
       "    <tr style=\"text-align: right;\">\n",
       "      <th></th>\n",
       "      <th>timestamp</th>\n",
       "      <th>id</th>\n",
       "      <th>evento</th>\n",
       "      <th>nombre_jugador</th>\n",
       "      <th>edad_jugador</th>\n",
       "      <th>genero_jugador</th>\n",
       "      <th>estado</th>\n",
       "      <th>texto_ingresado</th>\n",
       "      <th>respuesta</th>\n",
       "      <th>nivel</th>\n",
       "    </tr>\n",
       "  </thead>\n",
       "  <tbody>\n",
       "    <tr>\n",
       "      <th>0</th>\n",
       "      <td>1.655432e+09</td>\n",
       "      <td>db74505f-3fe3-476c-866d-872fea96a3b2</td>\n",
       "      <td>inicio_partida</td>\n",
       "      <td>NEO</td>\n",
       "      <td>80</td>\n",
       "      <td>Masculino</td>\n",
       "      <td>NaN</td>\n",
       "      <td>NaN</td>\n",
       "      <td>NaN</td>\n",
       "      <td>Facil</td>\n",
       "    </tr>\n",
       "    <tr>\n",
       "      <th>1</th>\n",
       "      <td>1.655432e+09</td>\n",
       "      <td>db74505f-3fe3-476c-866d-872fea96a3b2</td>\n",
       "      <td>intento</td>\n",
       "      <td>NEO</td>\n",
       "      <td>80</td>\n",
       "      <td>Masculino</td>\n",
       "      <td>ok</td>\n",
       "      <td>Christina Perri</td>\n",
       "      <td>Christina Perri</td>\n",
       "      <td>Facil</td>\n",
       "    </tr>\n",
       "    <tr>\n",
       "      <th>2</th>\n",
       "      <td>1.655432e+09</td>\n",
       "      <td>db74505f-3fe3-476c-866d-872fea96a3b2</td>\n",
       "      <td>intento</td>\n",
       "      <td>NEO</td>\n",
       "      <td>80</td>\n",
       "      <td>Masculino</td>\n",
       "      <td>error</td>\n",
       "      <td>Bazzi</td>\n",
       "      <td>Calvin Harris</td>\n",
       "      <td>Facil</td>\n",
       "    </tr>\n",
       "    <tr>\n",
       "      <th>3</th>\n",
       "      <td>1.655432e+09</td>\n",
       "      <td>db74505f-3fe3-476c-866d-872fea96a3b2</td>\n",
       "      <td>intento</td>\n",
       "      <td>NEO</td>\n",
       "      <td>80</td>\n",
       "      <td>Masculino</td>\n",
       "      <td>error</td>\n",
       "      <td>Selena Gomez</td>\n",
       "      <td>Rae Sremmurd</td>\n",
       "      <td>Facil</td>\n",
       "    </tr>\n",
       "    <tr>\n",
       "      <th>4</th>\n",
       "      <td>1.655432e+09</td>\n",
       "      <td>db74505f-3fe3-476c-866d-872fea96a3b2</td>\n",
       "      <td>intento</td>\n",
       "      <td>NEO</td>\n",
       "      <td>80</td>\n",
       "      <td>Masculino</td>\n",
       "      <td>error</td>\n",
       "      <td>Lauv</td>\n",
       "      <td>Edward Maya</td>\n",
       "      <td>Facil</td>\n",
       "    </tr>\n",
       "    <tr>\n",
       "      <th>5</th>\n",
       "      <td>1.655432e+09</td>\n",
       "      <td>db74505f-3fe3-476c-866d-872fea96a3b2</td>\n",
       "      <td>pasar</td>\n",
       "      <td>NEO</td>\n",
       "      <td>80</td>\n",
       "      <td>Masculino</td>\n",
       "      <td>NaN</td>\n",
       "      <td>NaN</td>\n",
       "      <td>Natalie La Rose</td>\n",
       "      <td>Facil</td>\n",
       "    </tr>\n",
       "    <tr>\n",
       "      <th>6</th>\n",
       "      <td>1.655432e+09</td>\n",
       "      <td>db74505f-3fe3-476c-866d-872fea96a3b2</td>\n",
       "      <td>intento</td>\n",
       "      <td>NEO</td>\n",
       "      <td>80</td>\n",
       "      <td>Masculino</td>\n",
       "      <td>error</td>\n",
       "      <td>XXXTENTACION</td>\n",
       "      <td>Adele</td>\n",
       "      <td>Facil</td>\n",
       "    </tr>\n",
       "    <tr>\n",
       "      <th>7</th>\n",
       "      <td>1.655432e+09</td>\n",
       "      <td>db74505f-3fe3-476c-866d-872fea96a3b2</td>\n",
       "      <td>intento</td>\n",
       "      <td>NEO</td>\n",
       "      <td>80</td>\n",
       "      <td>Masculino</td>\n",
       "      <td>error</td>\n",
       "      <td>Migos</td>\n",
       "      <td>Future</td>\n",
       "      <td>Facil</td>\n",
       "    </tr>\n",
       "    <tr>\n",
       "      <th>8</th>\n",
       "      <td>1.655432e+09</td>\n",
       "      <td>db74505f-3fe3-476c-866d-872fea96a3b2</td>\n",
       "      <td>pasar</td>\n",
       "      <td>NEO</td>\n",
       "      <td>80</td>\n",
       "      <td>Masculino</td>\n",
       "      <td>NaN</td>\n",
       "      <td>NaN</td>\n",
       "      <td>Taylor Swift</td>\n",
       "      <td>Facil</td>\n",
       "    </tr>\n",
       "    <tr>\n",
       "      <th>9</th>\n",
       "      <td>1.655432e+09</td>\n",
       "      <td>db74505f-3fe3-476c-866d-872fea96a3b2</td>\n",
       "      <td>intento</td>\n",
       "      <td>NEO</td>\n",
       "      <td>80</td>\n",
       "      <td>Masculino</td>\n",
       "      <td>error</td>\n",
       "      <td>Daya</td>\n",
       "      <td>Iyaz</td>\n",
       "      <td>Facil</td>\n",
       "    </tr>\n",
       "    <tr>\n",
       "      <th>10</th>\n",
       "      <td>1.655432e+09</td>\n",
       "      <td>db74505f-3fe3-476c-866d-872fea96a3b2</td>\n",
       "      <td>intento</td>\n",
       "      <td>NEO</td>\n",
       "      <td>80</td>\n",
       "      <td>Masculino</td>\n",
       "      <td>error</td>\n",
       "      <td>NF</td>\n",
       "      <td>Lana Del Rey</td>\n",
       "      <td>Facil</td>\n",
       "    </tr>\n",
       "    <tr>\n",
       "      <th>11</th>\n",
       "      <td>1.655432e+09</td>\n",
       "      <td>db74505f-3fe3-476c-866d-872fea96a3b2</td>\n",
       "      <td>fin</td>\n",
       "      <td>NEO</td>\n",
       "      <td>80</td>\n",
       "      <td>Masculino</td>\n",
       "      <td>finalizada</td>\n",
       "      <td>NaN</td>\n",
       "      <td>NaN</td>\n",
       "      <td>Facil</td>\n",
       "    </tr>\n",
       "  </tbody>\n",
       "</table>\n",
       "</div>"
      ],
      "text/plain": [
       "       timestamp                                    id          evento  \\\n",
       "0   1.655432e+09  db74505f-3fe3-476c-866d-872fea96a3b2  inicio_partida   \n",
       "1   1.655432e+09  db74505f-3fe3-476c-866d-872fea96a3b2         intento   \n",
       "2   1.655432e+09  db74505f-3fe3-476c-866d-872fea96a3b2         intento   \n",
       "3   1.655432e+09  db74505f-3fe3-476c-866d-872fea96a3b2         intento   \n",
       "4   1.655432e+09  db74505f-3fe3-476c-866d-872fea96a3b2         intento   \n",
       "5   1.655432e+09  db74505f-3fe3-476c-866d-872fea96a3b2           pasar   \n",
       "6   1.655432e+09  db74505f-3fe3-476c-866d-872fea96a3b2         intento   \n",
       "7   1.655432e+09  db74505f-3fe3-476c-866d-872fea96a3b2         intento   \n",
       "8   1.655432e+09  db74505f-3fe3-476c-866d-872fea96a3b2           pasar   \n",
       "9   1.655432e+09  db74505f-3fe3-476c-866d-872fea96a3b2         intento   \n",
       "10  1.655432e+09  db74505f-3fe3-476c-866d-872fea96a3b2         intento   \n",
       "11  1.655432e+09  db74505f-3fe3-476c-866d-872fea96a3b2             fin   \n",
       "\n",
       "   nombre_jugador  edad_jugador genero_jugador      estado  texto_ingresado  \\\n",
       "0             NEO            80      Masculino         NaN              NaN   \n",
       "1             NEO            80      Masculino          ok  Christina Perri   \n",
       "2             NEO            80      Masculino       error            Bazzi   \n",
       "3             NEO            80      Masculino       error     Selena Gomez   \n",
       "4             NEO            80      Masculino       error             Lauv   \n",
       "5             NEO            80      Masculino         NaN              NaN   \n",
       "6             NEO            80      Masculino       error     XXXTENTACION   \n",
       "7             NEO            80      Masculino       error            Migos   \n",
       "8             NEO            80      Masculino         NaN              NaN   \n",
       "9             NEO            80      Masculino       error             Daya   \n",
       "10            NEO            80      Masculino       error               NF   \n",
       "11            NEO            80      Masculino  finalizada              NaN   \n",
       "\n",
       "          respuesta  nivel  \n",
       "0               NaN  Facil  \n",
       "1   Christina Perri  Facil  \n",
       "2     Calvin Harris  Facil  \n",
       "3      Rae Sremmurd  Facil  \n",
       "4       Edward Maya  Facil  \n",
       "5   Natalie La Rose  Facil  \n",
       "6             Adele  Facil  \n",
       "7            Future  Facil  \n",
       "8      Taylor Swift  Facil  \n",
       "9              Iyaz  Facil  \n",
       "10     Lana Del Rey  Facil  \n",
       "11              NaN  Facil  "
      ]
     },
     "execution_count": 178,
     "metadata": {},
     "output_type": "execute_result"
    }
   ],
   "source": [
    "partidas.head(12)"
   ]
  },
  {
   "cell_type": "markdown",
   "metadata": {
    "pycharm": {
     "name": "#%% md\n"
    }
   },
   "source": [
    "* Separar en dos DataFrame los inicios de partida y los fin de partida.\n",
    "1. Seleccionar las columnas que necesitamos.\n",
    "2. Filtrar en dos DataFrames los inicios y fin de partida segun el \"evento\".\n",
    "3. Cambiar el nombre de la columna timestamp por el nombre del evento de cada DataFrame.\n",
    "4. Eliminar la columna evento que ya no se necesita."
   ]
  },
  {
   "cell_type": "code",
   "execution_count": 179,
   "metadata": {
    "pycharm": {
     "name": "#%%\n"
    }
   },
   "outputs": [],
   "source": [
    "columnas = partidas[['id', 'timestamp', 'evento']]\n",
    "\n",
    "inicio = columnas[columnas['evento'].isin(['inicio_partida'])]\n",
    "fin = columnas[columnas['evento'].isin(['fin'])]\n",
    "\n",
    "inicio = inicio.rename(columns={'timestamp': 'tiempo_inicio'})\n",
    "fin = fin.rename(columns={'timestamp': 'tiempo_fin'})\n",
    "\n",
    "inicio = inicio.drop(columns=['evento'])\n",
    "fin = fin.drop(columns=['evento'])"
   ]
  },
  {
   "cell_type": "code",
   "execution_count": 180,
   "metadata": {
    "pycharm": {
     "name": "#%%\n"
    }
   },
   "outputs": [
    {
     "data": {
      "text/html": [
       "<div>\n",
       "<style scoped>\n",
       "    .dataframe tbody tr th:only-of-type {\n",
       "        vertical-align: middle;\n",
       "    }\n",
       "\n",
       "    .dataframe tbody tr th {\n",
       "        vertical-align: top;\n",
       "    }\n",
       "\n",
       "    .dataframe thead th {\n",
       "        text-align: right;\n",
       "    }\n",
       "</style>\n",
       "<table border=\"1\" class=\"dataframe\">\n",
       "  <thead>\n",
       "    <tr style=\"text-align: right;\">\n",
       "      <th></th>\n",
       "      <th>id</th>\n",
       "      <th>tiempo_inicio</th>\n",
       "    </tr>\n",
       "  </thead>\n",
       "  <tbody>\n",
       "    <tr>\n",
       "      <th>0</th>\n",
       "      <td>db74505f-3fe3-476c-866d-872fea96a3b2</td>\n",
       "      <td>1.655432e+09</td>\n",
       "    </tr>\n",
       "    <tr>\n",
       "      <th>12</th>\n",
       "      <td>b8d68931-5986-4704-99ac-1f606dac48ae</td>\n",
       "      <td>1.655432e+09</td>\n",
       "    </tr>\n",
       "    <tr>\n",
       "      <th>24</th>\n",
       "      <td>3c3f6710-3cef-459e-9013-0fbaf8af05f5</td>\n",
       "      <td>1.655432e+09</td>\n",
       "    </tr>\n",
       "  </tbody>\n",
       "</table>\n",
       "</div>"
      ],
      "text/plain": [
       "                                      id  tiempo_inicio\n",
       "0   db74505f-3fe3-476c-866d-872fea96a3b2   1.655432e+09\n",
       "12  b8d68931-5986-4704-99ac-1f606dac48ae   1.655432e+09\n",
       "24  3c3f6710-3cef-459e-9013-0fbaf8af05f5   1.655432e+09"
      ]
     },
     "execution_count": 180,
     "metadata": {},
     "output_type": "execute_result"
    }
   ],
   "source": [
    "inicio.head(3)"
   ]
  },
  {
   "cell_type": "code",
   "execution_count": 181,
   "metadata": {
    "pycharm": {
     "name": "#%%\n"
    }
   },
   "outputs": [
    {
     "data": {
      "text/html": [
       "<div>\n",
       "<style scoped>\n",
       "    .dataframe tbody tr th:only-of-type {\n",
       "        vertical-align: middle;\n",
       "    }\n",
       "\n",
       "    .dataframe tbody tr th {\n",
       "        vertical-align: top;\n",
       "    }\n",
       "\n",
       "    .dataframe thead th {\n",
       "        text-align: right;\n",
       "    }\n",
       "</style>\n",
       "<table border=\"1\" class=\"dataframe\">\n",
       "  <thead>\n",
       "    <tr style=\"text-align: right;\">\n",
       "      <th></th>\n",
       "      <th>id</th>\n",
       "      <th>tiempo_fin</th>\n",
       "    </tr>\n",
       "  </thead>\n",
       "  <tbody>\n",
       "    <tr>\n",
       "      <th>11</th>\n",
       "      <td>db74505f-3fe3-476c-866d-872fea96a3b2</td>\n",
       "      <td>1.655432e+09</td>\n",
       "    </tr>\n",
       "    <tr>\n",
       "      <th>23</th>\n",
       "      <td>b8d68931-5986-4704-99ac-1f606dac48ae</td>\n",
       "      <td>1.655432e+09</td>\n",
       "    </tr>\n",
       "    <tr>\n",
       "      <th>29</th>\n",
       "      <td>3c3f6710-3cef-459e-9013-0fbaf8af05f5</td>\n",
       "      <td>1.655432e+09</td>\n",
       "    </tr>\n",
       "  </tbody>\n",
       "</table>\n",
       "</div>"
      ],
      "text/plain": [
       "                                      id    tiempo_fin\n",
       "11  db74505f-3fe3-476c-866d-872fea96a3b2  1.655432e+09\n",
       "23  b8d68931-5986-4704-99ac-1f606dac48ae  1.655432e+09\n",
       "29  3c3f6710-3cef-459e-9013-0fbaf8af05f5  1.655432e+09"
      ]
     },
     "execution_count": 181,
     "metadata": {},
     "output_type": "execute_result"
    }
   ],
   "source": [
    "fin.head(3)"
   ]
  },
  {
   "cell_type": "markdown",
   "metadata": {
    "pycharm": {
     "name": "#%% md\n"
    }
   },
   "source": [
    "* Merge de las columnas de tiempo.\n",
    "* En el caso del \"id\" va a coincidir, y en el caso de los tiempos, se va a corresponder cada uno en la linea del \"id\"."
   ]
  },
  {
   "cell_type": "code",
   "execution_count": 182,
   "metadata": {
    "pycharm": {
     "name": "#%%\n"
    }
   },
   "outputs": [
    {
     "data": {
      "text/html": [
       "<div>\n",
       "<style scoped>\n",
       "    .dataframe tbody tr th:only-of-type {\n",
       "        vertical-align: middle;\n",
       "    }\n",
       "\n",
       "    .dataframe tbody tr th {\n",
       "        vertical-align: top;\n",
       "    }\n",
       "\n",
       "    .dataframe thead th {\n",
       "        text-align: right;\n",
       "    }\n",
       "</style>\n",
       "<table border=\"1\" class=\"dataframe\">\n",
       "  <thead>\n",
       "    <tr style=\"text-align: right;\">\n",
       "      <th></th>\n",
       "      <th>id</th>\n",
       "      <th>tiempo_inicio</th>\n",
       "      <th>tiempo_fin</th>\n",
       "    </tr>\n",
       "  </thead>\n",
       "  <tbody>\n",
       "    <tr>\n",
       "      <th>0</th>\n",
       "      <td>db74505f-3fe3-476c-866d-872fea96a3b2</td>\n",
       "      <td>1.655432e+09</td>\n",
       "      <td>1.655432e+09</td>\n",
       "    </tr>\n",
       "    <tr>\n",
       "      <th>1</th>\n",
       "      <td>b8d68931-5986-4704-99ac-1f606dac48ae</td>\n",
       "      <td>1.655432e+09</td>\n",
       "      <td>1.655432e+09</td>\n",
       "    </tr>\n",
       "    <tr>\n",
       "      <th>2</th>\n",
       "      <td>3c3f6710-3cef-459e-9013-0fbaf8af05f5</td>\n",
       "      <td>1.655432e+09</td>\n",
       "      <td>1.655432e+09</td>\n",
       "    </tr>\n",
       "    <tr>\n",
       "      <th>3</th>\n",
       "      <td>e1edc516-b996-42e9-97c3-a56a4080eaab</td>\n",
       "      <td>1.655495e+09</td>\n",
       "      <td>1.655495e+09</td>\n",
       "    </tr>\n",
       "    <tr>\n",
       "      <th>4</th>\n",
       "      <td>40d2a50d-2f04-44cc-9665-44a0f720d9a7</td>\n",
       "      <td>1.655525e+09</td>\n",
       "      <td>1.655525e+09</td>\n",
       "    </tr>\n",
       "  </tbody>\n",
       "</table>\n",
       "</div>"
      ],
      "text/plain": [
       "                                     id  tiempo_inicio    tiempo_fin\n",
       "0  db74505f-3fe3-476c-866d-872fea96a3b2   1.655432e+09  1.655432e+09\n",
       "1  b8d68931-5986-4704-99ac-1f606dac48ae   1.655432e+09  1.655432e+09\n",
       "2  3c3f6710-3cef-459e-9013-0fbaf8af05f5   1.655432e+09  1.655432e+09\n",
       "3  e1edc516-b996-42e9-97c3-a56a4080eaab   1.655495e+09  1.655495e+09\n",
       "4  40d2a50d-2f04-44cc-9665-44a0f720d9a7   1.655525e+09  1.655525e+09"
      ]
     },
     "execution_count": 182,
     "metadata": {},
     "output_type": "execute_result"
    }
   ],
   "source": [
    "tiempos = pd.merge(inicio, fin[['id', 'tiempo_fin']], how='left')\n",
    "tiempos.head(5)"
   ]
  },
  {
   "cell_type": "markdown",
   "metadata": {
    "pycharm": {
     "name": "#%% md\n"
    }
   },
   "source": [
    "* Restar el tiempo_fin por el tiempo_inicio y obtener el tiempo de cada partida en segundos.\n",
    "* Y agregarlo al DataFrame creando una nueva columna y ese es el tiempo que le corresponde a cada partida según su \"id\"."
   ]
  },
  {
   "cell_type": "code",
   "execution_count": 183,
   "metadata": {
    "pycharm": {
     "name": "#%%\n"
    }
   },
   "outputs": [
    {
     "data": {
      "text/html": [
       "<div>\n",
       "<style scoped>\n",
       "    .dataframe tbody tr th:only-of-type {\n",
       "        vertical-align: middle;\n",
       "    }\n",
       "\n",
       "    .dataframe tbody tr th {\n",
       "        vertical-align: top;\n",
       "    }\n",
       "\n",
       "    .dataframe thead th {\n",
       "        text-align: right;\n",
       "    }\n",
       "</style>\n",
       "<table border=\"1\" class=\"dataframe\">\n",
       "  <thead>\n",
       "    <tr style=\"text-align: right;\">\n",
       "      <th></th>\n",
       "      <th>id</th>\n",
       "      <th>tiempo_inicio</th>\n",
       "      <th>tiempo_fin</th>\n",
       "      <th>duracion</th>\n",
       "    </tr>\n",
       "  </thead>\n",
       "  <tbody>\n",
       "    <tr>\n",
       "      <th>0</th>\n",
       "      <td>db74505f-3fe3-476c-866d-872fea96a3b2</td>\n",
       "      <td>1.655432e+09</td>\n",
       "      <td>1.655432e+09</td>\n",
       "      <td>40.810952</td>\n",
       "    </tr>\n",
       "    <tr>\n",
       "      <th>1</th>\n",
       "      <td>b8d68931-5986-4704-99ac-1f606dac48ae</td>\n",
       "      <td>1.655432e+09</td>\n",
       "      <td>1.655432e+09</td>\n",
       "      <td>32.292118</td>\n",
       "    </tr>\n",
       "    <tr>\n",
       "      <th>2</th>\n",
       "      <td>3c3f6710-3cef-459e-9013-0fbaf8af05f5</td>\n",
       "      <td>1.655432e+09</td>\n",
       "      <td>1.655432e+09</td>\n",
       "      <td>13.458615</td>\n",
       "    </tr>\n",
       "    <tr>\n",
       "      <th>3</th>\n",
       "      <td>e1edc516-b996-42e9-97c3-a56a4080eaab</td>\n",
       "      <td>1.655495e+09</td>\n",
       "      <td>1.655495e+09</td>\n",
       "      <td>2.230888</td>\n",
       "    </tr>\n",
       "    <tr>\n",
       "      <th>4</th>\n",
       "      <td>40d2a50d-2f04-44cc-9665-44a0f720d9a7</td>\n",
       "      <td>1.655525e+09</td>\n",
       "      <td>1.655525e+09</td>\n",
       "      <td>64.529064</td>\n",
       "    </tr>\n",
       "  </tbody>\n",
       "</table>\n",
       "</div>"
      ],
      "text/plain": [
       "                                     id  tiempo_inicio    tiempo_fin  \\\n",
       "0  db74505f-3fe3-476c-866d-872fea96a3b2   1.655432e+09  1.655432e+09   \n",
       "1  b8d68931-5986-4704-99ac-1f606dac48ae   1.655432e+09  1.655432e+09   \n",
       "2  3c3f6710-3cef-459e-9013-0fbaf8af05f5   1.655432e+09  1.655432e+09   \n",
       "3  e1edc516-b996-42e9-97c3-a56a4080eaab   1.655495e+09  1.655495e+09   \n",
       "4  40d2a50d-2f04-44cc-9665-44a0f720d9a7   1.655525e+09  1.655525e+09   \n",
       "\n",
       "    duracion  \n",
       "0  40.810952  \n",
       "1  32.292118  \n",
       "2  13.458615  \n",
       "3   2.230888  \n",
       "4  64.529064  "
      ]
     },
     "execution_count": 183,
     "metadata": {},
     "output_type": "execute_result"
    }
   ],
   "source": [
    "tiempos['duracion'] = tiempos['tiempo_fin'] - tiempos['tiempo_inicio']\n",
    "tiempos.head(5)"
   ]
  },
  {
   "cell_type": "markdown",
   "metadata": {
    "pycharm": {
     "name": "#%% md\n"
    }
   },
   "source": [
    "### Promedio de tiempo de partidas finalizadas por nivel."
   ]
  },
  {
   "cell_type": "code",
   "execution_count": 184,
   "metadata": {
    "pycharm": {
     "name": "#%%\n"
    }
   },
   "outputs": [
    {
     "data": {
      "text/html": [
       "<div>\n",
       "<style scoped>\n",
       "    .dataframe tbody tr th:only-of-type {\n",
       "        vertical-align: middle;\n",
       "    }\n",
       "\n",
       "    .dataframe tbody tr th {\n",
       "        vertical-align: top;\n",
       "    }\n",
       "\n",
       "    .dataframe thead th {\n",
       "        text-align: right;\n",
       "    }\n",
       "</style>\n",
       "<table border=\"1\" class=\"dataframe\">\n",
       "  <thead>\n",
       "    <tr style=\"text-align: right;\">\n",
       "      <th></th>\n",
       "      <th>timestamp</th>\n",
       "      <th>id</th>\n",
       "      <th>evento</th>\n",
       "      <th>nombre_jugador</th>\n",
       "      <th>edad_jugador</th>\n",
       "      <th>genero_jugador</th>\n",
       "      <th>estado</th>\n",
       "      <th>texto_ingresado</th>\n",
       "      <th>respuesta</th>\n",
       "      <th>nivel</th>\n",
       "    </tr>\n",
       "  </thead>\n",
       "  <tbody>\n",
       "    <tr>\n",
       "      <th>0</th>\n",
       "      <td>1.655432e+09</td>\n",
       "      <td>db74505f-3fe3-476c-866d-872fea96a3b2</td>\n",
       "      <td>inicio_partida</td>\n",
       "      <td>NEO</td>\n",
       "      <td>80</td>\n",
       "      <td>Masculino</td>\n",
       "      <td>NaN</td>\n",
       "      <td>NaN</td>\n",
       "      <td>NaN</td>\n",
       "      <td>Facil</td>\n",
       "    </tr>\n",
       "    <tr>\n",
       "      <th>1</th>\n",
       "      <td>1.655432e+09</td>\n",
       "      <td>db74505f-3fe3-476c-866d-872fea96a3b2</td>\n",
       "      <td>intento</td>\n",
       "      <td>NEO</td>\n",
       "      <td>80</td>\n",
       "      <td>Masculino</td>\n",
       "      <td>ok</td>\n",
       "      <td>Christina Perri</td>\n",
       "      <td>Christina Perri</td>\n",
       "      <td>Facil</td>\n",
       "    </tr>\n",
       "    <tr>\n",
       "      <th>2</th>\n",
       "      <td>1.655432e+09</td>\n",
       "      <td>db74505f-3fe3-476c-866d-872fea96a3b2</td>\n",
       "      <td>intento</td>\n",
       "      <td>NEO</td>\n",
       "      <td>80</td>\n",
       "      <td>Masculino</td>\n",
       "      <td>error</td>\n",
       "      <td>Bazzi</td>\n",
       "      <td>Calvin Harris</td>\n",
       "      <td>Facil</td>\n",
       "    </tr>\n",
       "    <tr>\n",
       "      <th>3</th>\n",
       "      <td>1.655432e+09</td>\n",
       "      <td>db74505f-3fe3-476c-866d-872fea96a3b2</td>\n",
       "      <td>intento</td>\n",
       "      <td>NEO</td>\n",
       "      <td>80</td>\n",
       "      <td>Masculino</td>\n",
       "      <td>error</td>\n",
       "      <td>Selena Gomez</td>\n",
       "      <td>Rae Sremmurd</td>\n",
       "      <td>Facil</td>\n",
       "    </tr>\n",
       "    <tr>\n",
       "      <th>4</th>\n",
       "      <td>1.655432e+09</td>\n",
       "      <td>db74505f-3fe3-476c-866d-872fea96a3b2</td>\n",
       "      <td>intento</td>\n",
       "      <td>NEO</td>\n",
       "      <td>80</td>\n",
       "      <td>Masculino</td>\n",
       "      <td>error</td>\n",
       "      <td>Lauv</td>\n",
       "      <td>Edward Maya</td>\n",
       "      <td>Facil</td>\n",
       "    </tr>\n",
       "    <tr>\n",
       "      <th>5</th>\n",
       "      <td>1.655432e+09</td>\n",
       "      <td>db74505f-3fe3-476c-866d-872fea96a3b2</td>\n",
       "      <td>pasar</td>\n",
       "      <td>NEO</td>\n",
       "      <td>80</td>\n",
       "      <td>Masculino</td>\n",
       "      <td>NaN</td>\n",
       "      <td>NaN</td>\n",
       "      <td>Natalie La Rose</td>\n",
       "      <td>Facil</td>\n",
       "    </tr>\n",
       "    <tr>\n",
       "      <th>6</th>\n",
       "      <td>1.655432e+09</td>\n",
       "      <td>db74505f-3fe3-476c-866d-872fea96a3b2</td>\n",
       "      <td>intento</td>\n",
       "      <td>NEO</td>\n",
       "      <td>80</td>\n",
       "      <td>Masculino</td>\n",
       "      <td>error</td>\n",
       "      <td>XXXTENTACION</td>\n",
       "      <td>Adele</td>\n",
       "      <td>Facil</td>\n",
       "    </tr>\n",
       "    <tr>\n",
       "      <th>7</th>\n",
       "      <td>1.655432e+09</td>\n",
       "      <td>db74505f-3fe3-476c-866d-872fea96a3b2</td>\n",
       "      <td>intento</td>\n",
       "      <td>NEO</td>\n",
       "      <td>80</td>\n",
       "      <td>Masculino</td>\n",
       "      <td>error</td>\n",
       "      <td>Migos</td>\n",
       "      <td>Future</td>\n",
       "      <td>Facil</td>\n",
       "    </tr>\n",
       "    <tr>\n",
       "      <th>8</th>\n",
       "      <td>1.655432e+09</td>\n",
       "      <td>db74505f-3fe3-476c-866d-872fea96a3b2</td>\n",
       "      <td>pasar</td>\n",
       "      <td>NEO</td>\n",
       "      <td>80</td>\n",
       "      <td>Masculino</td>\n",
       "      <td>NaN</td>\n",
       "      <td>NaN</td>\n",
       "      <td>Taylor Swift</td>\n",
       "      <td>Facil</td>\n",
       "    </tr>\n",
       "    <tr>\n",
       "      <th>9</th>\n",
       "      <td>1.655432e+09</td>\n",
       "      <td>db74505f-3fe3-476c-866d-872fea96a3b2</td>\n",
       "      <td>intento</td>\n",
       "      <td>NEO</td>\n",
       "      <td>80</td>\n",
       "      <td>Masculino</td>\n",
       "      <td>error</td>\n",
       "      <td>Daya</td>\n",
       "      <td>Iyaz</td>\n",
       "      <td>Facil</td>\n",
       "    </tr>\n",
       "    <tr>\n",
       "      <th>10</th>\n",
       "      <td>1.655432e+09</td>\n",
       "      <td>db74505f-3fe3-476c-866d-872fea96a3b2</td>\n",
       "      <td>intento</td>\n",
       "      <td>NEO</td>\n",
       "      <td>80</td>\n",
       "      <td>Masculino</td>\n",
       "      <td>error</td>\n",
       "      <td>NF</td>\n",
       "      <td>Lana Del Rey</td>\n",
       "      <td>Facil</td>\n",
       "    </tr>\n",
       "    <tr>\n",
       "      <th>11</th>\n",
       "      <td>1.655432e+09</td>\n",
       "      <td>db74505f-3fe3-476c-866d-872fea96a3b2</td>\n",
       "      <td>fin</td>\n",
       "      <td>NEO</td>\n",
       "      <td>80</td>\n",
       "      <td>Masculino</td>\n",
       "      <td>finalizada</td>\n",
       "      <td>NaN</td>\n",
       "      <td>NaN</td>\n",
       "      <td>Facil</td>\n",
       "    </tr>\n",
       "  </tbody>\n",
       "</table>\n",
       "</div>"
      ],
      "text/plain": [
       "       timestamp                                    id          evento  \\\n",
       "0   1.655432e+09  db74505f-3fe3-476c-866d-872fea96a3b2  inicio_partida   \n",
       "1   1.655432e+09  db74505f-3fe3-476c-866d-872fea96a3b2         intento   \n",
       "2   1.655432e+09  db74505f-3fe3-476c-866d-872fea96a3b2         intento   \n",
       "3   1.655432e+09  db74505f-3fe3-476c-866d-872fea96a3b2         intento   \n",
       "4   1.655432e+09  db74505f-3fe3-476c-866d-872fea96a3b2         intento   \n",
       "5   1.655432e+09  db74505f-3fe3-476c-866d-872fea96a3b2           pasar   \n",
       "6   1.655432e+09  db74505f-3fe3-476c-866d-872fea96a3b2         intento   \n",
       "7   1.655432e+09  db74505f-3fe3-476c-866d-872fea96a3b2         intento   \n",
       "8   1.655432e+09  db74505f-3fe3-476c-866d-872fea96a3b2           pasar   \n",
       "9   1.655432e+09  db74505f-3fe3-476c-866d-872fea96a3b2         intento   \n",
       "10  1.655432e+09  db74505f-3fe3-476c-866d-872fea96a3b2         intento   \n",
       "11  1.655432e+09  db74505f-3fe3-476c-866d-872fea96a3b2             fin   \n",
       "\n",
       "   nombre_jugador  edad_jugador genero_jugador      estado  texto_ingresado  \\\n",
       "0             NEO            80      Masculino         NaN              NaN   \n",
       "1             NEO            80      Masculino          ok  Christina Perri   \n",
       "2             NEO            80      Masculino       error            Bazzi   \n",
       "3             NEO            80      Masculino       error     Selena Gomez   \n",
       "4             NEO            80      Masculino       error             Lauv   \n",
       "5             NEO            80      Masculino         NaN              NaN   \n",
       "6             NEO            80      Masculino       error     XXXTENTACION   \n",
       "7             NEO            80      Masculino       error            Migos   \n",
       "8             NEO            80      Masculino         NaN              NaN   \n",
       "9             NEO            80      Masculino       error             Daya   \n",
       "10            NEO            80      Masculino       error               NF   \n",
       "11            NEO            80      Masculino  finalizada              NaN   \n",
       "\n",
       "          respuesta  nivel  \n",
       "0               NaN  Facil  \n",
       "1   Christina Perri  Facil  \n",
       "2     Calvin Harris  Facil  \n",
       "3      Rae Sremmurd  Facil  \n",
       "4       Edward Maya  Facil  \n",
       "5   Natalie La Rose  Facil  \n",
       "6             Adele  Facil  \n",
       "7            Future  Facil  \n",
       "8      Taylor Swift  Facil  \n",
       "9              Iyaz  Facil  \n",
       "10     Lana Del Rey  Facil  \n",
       "11              NaN  Facil  "
      ]
     },
     "execution_count": 184,
     "metadata": {},
     "output_type": "execute_result"
    }
   ],
   "source": [
    "partidas.head(12)"
   ]
  },
  {
   "cell_type": "markdown",
   "metadata": {
    "pycharm": {
     "name": "#%% md\n"
    }
   },
   "source": [
    "* Separar en dos DataFrame los \"inicios de partida\" y los \"fin de partida\", pero ahora con el estado y nivel para calcular.\n",
    "1. Seleccionar las columnas que necesitamos.\n",
    "2. Filtrar en dos DataFrames los inicios y fin de partida segun el \"evento\".\n",
    "3. Cambiar el nombre de la columna timestamp por el nombre del evento de cada DataFrame."
   ]
  },
  {
   "cell_type": "code",
   "execution_count": 185,
   "metadata": {
    "pycharm": {
     "name": "#%%\n"
    }
   },
   "outputs": [],
   "source": [
    "columnas = partidas[['id', 'timestamp', 'evento', 'estado', 'nivel']]\n",
    "\n",
    "inicio = columnas[columnas['evento'].isin(['inicio_partida'])]\n",
    "fin = columnas[columnas['evento'].isin(['fin'])]\n",
    "\n",
    "inicio = inicio.rename(columns={'timestamp': 'tiempo_inicio'})\n",
    "fin = fin.rename(columns={'timestamp': 'tiempo_fin'})"
   ]
  },
  {
   "cell_type": "code",
   "execution_count": 186,
   "metadata": {
    "pycharm": {
     "name": "#%%\n"
    }
   },
   "outputs": [
    {
     "data": {
      "text/html": [
       "<div>\n",
       "<style scoped>\n",
       "    .dataframe tbody tr th:only-of-type {\n",
       "        vertical-align: middle;\n",
       "    }\n",
       "\n",
       "    .dataframe tbody tr th {\n",
       "        vertical-align: top;\n",
       "    }\n",
       "\n",
       "    .dataframe thead th {\n",
       "        text-align: right;\n",
       "    }\n",
       "</style>\n",
       "<table border=\"1\" class=\"dataframe\">\n",
       "  <thead>\n",
       "    <tr style=\"text-align: right;\">\n",
       "      <th></th>\n",
       "      <th>id</th>\n",
       "      <th>tiempo_inicio</th>\n",
       "      <th>evento</th>\n",
       "      <th>estado</th>\n",
       "      <th>nivel</th>\n",
       "    </tr>\n",
       "  </thead>\n",
       "  <tbody>\n",
       "    <tr>\n",
       "      <th>0</th>\n",
       "      <td>db74505f-3fe3-476c-866d-872fea96a3b2</td>\n",
       "      <td>1.655432e+09</td>\n",
       "      <td>inicio_partida</td>\n",
       "      <td>NaN</td>\n",
       "      <td>Facil</td>\n",
       "    </tr>\n",
       "    <tr>\n",
       "      <th>12</th>\n",
       "      <td>b8d68931-5986-4704-99ac-1f606dac48ae</td>\n",
       "      <td>1.655432e+09</td>\n",
       "      <td>inicio_partida</td>\n",
       "      <td>NaN</td>\n",
       "      <td>Facil</td>\n",
       "    </tr>\n",
       "    <tr>\n",
       "      <th>24</th>\n",
       "      <td>3c3f6710-3cef-459e-9013-0fbaf8af05f5</td>\n",
       "      <td>1.655432e+09</td>\n",
       "      <td>inicio_partida</td>\n",
       "      <td>NaN</td>\n",
       "      <td>Facil</td>\n",
       "    </tr>\n",
       "  </tbody>\n",
       "</table>\n",
       "</div>"
      ],
      "text/plain": [
       "                                      id  tiempo_inicio          evento  \\\n",
       "0   db74505f-3fe3-476c-866d-872fea96a3b2   1.655432e+09  inicio_partida   \n",
       "12  b8d68931-5986-4704-99ac-1f606dac48ae   1.655432e+09  inicio_partida   \n",
       "24  3c3f6710-3cef-459e-9013-0fbaf8af05f5   1.655432e+09  inicio_partida   \n",
       "\n",
       "   estado  nivel  \n",
       "0     NaN  Facil  \n",
       "12    NaN  Facil  \n",
       "24    NaN  Facil  "
      ]
     },
     "execution_count": 186,
     "metadata": {},
     "output_type": "execute_result"
    }
   ],
   "source": [
    "inicio.head(3)"
   ]
  },
  {
   "cell_type": "code",
   "execution_count": 187,
   "metadata": {
    "pycharm": {
     "name": "#%%\n"
    }
   },
   "outputs": [
    {
     "data": {
      "text/html": [
       "<div>\n",
       "<style scoped>\n",
       "    .dataframe tbody tr th:only-of-type {\n",
       "        vertical-align: middle;\n",
       "    }\n",
       "\n",
       "    .dataframe tbody tr th {\n",
       "        vertical-align: top;\n",
       "    }\n",
       "\n",
       "    .dataframe thead th {\n",
       "        text-align: right;\n",
       "    }\n",
       "</style>\n",
       "<table border=\"1\" class=\"dataframe\">\n",
       "  <thead>\n",
       "    <tr style=\"text-align: right;\">\n",
       "      <th></th>\n",
       "      <th>id</th>\n",
       "      <th>tiempo_fin</th>\n",
       "      <th>evento</th>\n",
       "      <th>estado</th>\n",
       "      <th>nivel</th>\n",
       "    </tr>\n",
       "  </thead>\n",
       "  <tbody>\n",
       "    <tr>\n",
       "      <th>11</th>\n",
       "      <td>db74505f-3fe3-476c-866d-872fea96a3b2</td>\n",
       "      <td>1.655432e+09</td>\n",
       "      <td>fin</td>\n",
       "      <td>finalizada</td>\n",
       "      <td>Facil</td>\n",
       "    </tr>\n",
       "    <tr>\n",
       "      <th>23</th>\n",
       "      <td>b8d68931-5986-4704-99ac-1f606dac48ae</td>\n",
       "      <td>1.655432e+09</td>\n",
       "      <td>fin</td>\n",
       "      <td>finalizada</td>\n",
       "      <td>Facil</td>\n",
       "    </tr>\n",
       "    <tr>\n",
       "      <th>29</th>\n",
       "      <td>3c3f6710-3cef-459e-9013-0fbaf8af05f5</td>\n",
       "      <td>1.655432e+09</td>\n",
       "      <td>fin</td>\n",
       "      <td>cancelada</td>\n",
       "      <td>Facil</td>\n",
       "    </tr>\n",
       "  </tbody>\n",
       "</table>\n",
       "</div>"
      ],
      "text/plain": [
       "                                      id    tiempo_fin evento      estado  \\\n",
       "11  db74505f-3fe3-476c-866d-872fea96a3b2  1.655432e+09    fin  finalizada   \n",
       "23  b8d68931-5986-4704-99ac-1f606dac48ae  1.655432e+09    fin  finalizada   \n",
       "29  3c3f6710-3cef-459e-9013-0fbaf8af05f5  1.655432e+09    fin   cancelada   \n",
       "\n",
       "    nivel  \n",
       "11  Facil  \n",
       "23  Facil  \n",
       "29  Facil  "
      ]
     },
     "execution_count": 187,
     "metadata": {},
     "output_type": "execute_result"
    }
   ],
   "source": [
    "fin.head(3)"
   ]
  },
  {
   "cell_type": "markdown",
   "metadata": {
    "pycharm": {
     "name": "#%% md\n"
    }
   },
   "source": [
    "* Merge de las columnas.\n",
    ">* En el caso de las columnas de \"id\" y \"nivel\" coinciden en las lineas.\n",
    ">* De ambos DataFrames nos interesa unir el valor del tiempo de inicio y fin, así que se unen en la misma linea que coincida el \"id\" y \"nivel\".\n",
    ">* En el caso de la columna de \"estado\" solo hacer merge del \"estado\" del DataFrame de fin para saber si el estado de la partida fue finalizado o cancelado, en el caso del DataFrame de inicio la columna \"estado\" no sirve para este caso.\n",
    "\n",
    "1. Filtrar las lineas según si tiene el valor de \"finalizada\" que son las filas para calcular.\n",
    "2. Restar el tiempo_fin por el tiempo_inicio y obtener el tiempo de cada partida en segundos.\n",
    "3. Crear una nueva columna con la duración en el DataFrame.\n",
    "4. Seleccionar las columnas de \"nivel\" y \"duracion\"."
   ]
  },
  {
   "cell_type": "code",
   "execution_count": 188,
   "metadata": {
    "pycharm": {
     "name": "#%%\n"
    }
   },
   "outputs": [
    {
     "data": {
      "text/html": [
       "<div>\n",
       "<style scoped>\n",
       "    .dataframe tbody tr th:only-of-type {\n",
       "        vertical-align: middle;\n",
       "    }\n",
       "\n",
       "    .dataframe tbody tr th {\n",
       "        vertical-align: top;\n",
       "    }\n",
       "\n",
       "    .dataframe thead th {\n",
       "        text-align: right;\n",
       "    }\n",
       "</style>\n",
       "<table border=\"1\" class=\"dataframe\">\n",
       "  <thead>\n",
       "    <tr style=\"text-align: right;\">\n",
       "      <th></th>\n",
       "      <th>id</th>\n",
       "      <th>tiempo_inicio</th>\n",
       "      <th>nivel</th>\n",
       "      <th>tiempo_fin</th>\n",
       "      <th>estado</th>\n",
       "      <th>duracion</th>\n",
       "    </tr>\n",
       "  </thead>\n",
       "  <tbody>\n",
       "    <tr>\n",
       "      <th>0</th>\n",
       "      <td>db74505f-3fe3-476c-866d-872fea96a3b2</td>\n",
       "      <td>1.655432e+09</td>\n",
       "      <td>Facil</td>\n",
       "      <td>1.655432e+09</td>\n",
       "      <td>finalizada</td>\n",
       "      <td>40.810952</td>\n",
       "    </tr>\n",
       "    <tr>\n",
       "      <th>1</th>\n",
       "      <td>b8d68931-5986-4704-99ac-1f606dac48ae</td>\n",
       "      <td>1.655432e+09</td>\n",
       "      <td>Facil</td>\n",
       "      <td>1.655432e+09</td>\n",
       "      <td>finalizada</td>\n",
       "      <td>32.292118</td>\n",
       "    </tr>\n",
       "    <tr>\n",
       "      <th>4</th>\n",
       "      <td>40d2a50d-2f04-44cc-9665-44a0f720d9a7</td>\n",
       "      <td>1.655525e+09</td>\n",
       "      <td>Normal</td>\n",
       "      <td>1.655525e+09</td>\n",
       "      <td>finalizada</td>\n",
       "      <td>64.529064</td>\n",
       "    </tr>\n",
       "    <tr>\n",
       "      <th>5</th>\n",
       "      <td>8bb4f470-0e9b-4584-a181-df7cf94d801d</td>\n",
       "      <td>1.655525e+09</td>\n",
       "      <td>Dificil</td>\n",
       "      <td>1.655525e+09</td>\n",
       "      <td>finalizada</td>\n",
       "      <td>31.441335</td>\n",
       "    </tr>\n",
       "    <tr>\n",
       "      <th>6</th>\n",
       "      <td>0d173ffa-5cb1-4980-bb53-a21beb15b960</td>\n",
       "      <td>1.655525e+09</td>\n",
       "      <td>Facil</td>\n",
       "      <td>1.655525e+09</td>\n",
       "      <td>finalizada</td>\n",
       "      <td>122.371170</td>\n",
       "    </tr>\n",
       "  </tbody>\n",
       "</table>\n",
       "</div>"
      ],
      "text/plain": [
       "                                     id  tiempo_inicio    nivel    tiempo_fin  \\\n",
       "0  db74505f-3fe3-476c-866d-872fea96a3b2   1.655432e+09    Facil  1.655432e+09   \n",
       "1  b8d68931-5986-4704-99ac-1f606dac48ae   1.655432e+09    Facil  1.655432e+09   \n",
       "4  40d2a50d-2f04-44cc-9665-44a0f720d9a7   1.655525e+09   Normal  1.655525e+09   \n",
       "5  8bb4f470-0e9b-4584-a181-df7cf94d801d   1.655525e+09  Dificil  1.655525e+09   \n",
       "6  0d173ffa-5cb1-4980-bb53-a21beb15b960   1.655525e+09    Facil  1.655525e+09   \n",
       "\n",
       "       estado    duracion  \n",
       "0  finalizada   40.810952  \n",
       "1  finalizada   32.292118  \n",
       "4  finalizada   64.529064  \n",
       "5  finalizada   31.441335  \n",
       "6  finalizada  122.371170  "
      ]
     },
     "execution_count": 188,
     "metadata": {},
     "output_type": "execute_result"
    }
   ],
   "source": [
    "por_nivel = pd.merge(inicio[['id', 'tiempo_inicio', 'nivel']], fin[['id', 'tiempo_fin', 'nivel', 'estado']], how='left')\n",
    "\n",
    "las_finalizadas = por_nivel[por_nivel['estado'].isin(['finalizada'])]\n",
    "\n",
    "los_f = las_finalizadas.copy()\n",
    "los_f['duracion'] = las_finalizadas['tiempo_fin'] - las_finalizadas['tiempo_inicio']\n",
    "\n",
    "por_nivel = los_f[['nivel', 'duracion']]\n",
    "los_f.head(5)"
   ]
  },
  {
   "cell_type": "markdown",
   "metadata": {
    "pycharm": {
     "name": "#%% md\n"
    }
   },
   "source": [
    "* El promedio y la tiempo total de la duración en segundos por nivel."
   ]
  },
  {
   "cell_type": "code",
   "execution_count": 189,
   "metadata": {
    "pycharm": {
     "name": "#%%\n"
    }
   },
   "outputs": [
    {
     "data": {
      "text/html": [
       "<div>\n",
       "<style scoped>\n",
       "    .dataframe tbody tr th:only-of-type {\n",
       "        vertical-align: middle;\n",
       "    }\n",
       "\n",
       "    .dataframe tbody tr th {\n",
       "        vertical-align: top;\n",
       "    }\n",
       "\n",
       "    .dataframe thead th {\n",
       "        text-align: right;\n",
       "    }\n",
       "</style>\n",
       "<table border=\"1\" class=\"dataframe\">\n",
       "  <thead>\n",
       "    <tr style=\"text-align: right;\">\n",
       "      <th></th>\n",
       "      <th>promedio</th>\n",
       "      <th>total_seg</th>\n",
       "    </tr>\n",
       "    <tr>\n",
       "      <th>nivel</th>\n",
       "      <th></th>\n",
       "      <th></th>\n",
       "    </tr>\n",
       "  </thead>\n",
       "  <tbody>\n",
       "    <tr>\n",
       "      <th>Dificil</th>\n",
       "      <td>26.494264</td>\n",
       "      <td>132.471320</td>\n",
       "    </tr>\n",
       "    <tr>\n",
       "      <th>Facil</th>\n",
       "      <td>48.837175</td>\n",
       "      <td>439.534573</td>\n",
       "    </tr>\n",
       "    <tr>\n",
       "      <th>Normal</th>\n",
       "      <td>64.529064</td>\n",
       "      <td>64.529064</td>\n",
       "    </tr>\n",
       "    <tr>\n",
       "      <th>Personalizado</th>\n",
       "      <td>27.554431</td>\n",
       "      <td>192.881016</td>\n",
       "    </tr>\n",
       "  </tbody>\n",
       "</table>\n",
       "</div>"
      ],
      "text/plain": [
       "                promedio   total_seg\n",
       "nivel                               \n",
       "Dificil        26.494264  132.471320\n",
       "Facil          48.837175  439.534573\n",
       "Normal         64.529064   64.529064\n",
       "Personalizado  27.554431  192.881016"
      ]
     },
     "execution_count": 189,
     "metadata": {},
     "output_type": "execute_result"
    }
   ],
   "source": [
    "promedio = por_nivel.groupby('nivel').mean('duracion').rename(columns={'duracion': 'promedio'})\n",
    "total_seg = por_nivel.groupby('nivel').sum('duracion').rename(columns={'duracion': 'total_seg'})\n",
    "total_y_promedio = pd.concat([promedio, total_seg], axis=1)\n",
    "\n",
    "total_y_promedio"
   ]
  },
  {
   "cell_type": "markdown",
   "metadata": {
    "pycharm": {
     "name": "#%% md\n"
    }
   },
   "source": [
    "### Porcentaje de palabras no encontradas en las partidas \"timeout\", es decir que finalizaron por falta de tiempo para completar."
   ]
  },
  {
   "cell_type": "code",
   "execution_count": null,
   "metadata": {
    "pycharm": {
     "name": "#%%\n"
    }
   },
   "outputs": [],
   "source": []
  }
 ],
 "metadata": {
  "kernelspec": {
   "display_name": "Python 3 (ipykernel)",
   "language": "python",
   "name": "python3"
  },
  "language_info": {
   "codemirror_mode": {
    "name": "ipython",
    "version": 3
   },
   "file_extension": ".py",
   "mimetype": "text/x-python",
   "name": "python",
   "nbconvert_exporter": "python",
   "pygments_lexer": "ipython3",
   "version": "3.10.4"
  },
  "vscode": {
   "interpreter": {
    "hash": "f74958d2c2063dfa50096d28483b11c3f9df58d37b8ca249bcb33f0785b7e6e5"
   }
  }
 },
 "nbformat": 4,
 "nbformat_minor": 4
}