{
 "cells": [
  {
   "cell_type": "markdown",
   "metadata": {},
   "source": [
    "<center>\n",
    "\n",
    "# **Análisis de las jugadas 2**\n",
    "\n",
    "</center>\n",
    "\n",
    "___"
   ]
  },
  {
   "cell_type": "code",
   "execution_count": null,
   "metadata": {},
   "outputs": [],
   "source": [
    "# Instalar las librerias para el analisis de las partidas\n",
    "! pip install pandas\n",
    "! pip install matplotlib"
   ]
  },
  {
   "cell_type": "code",
   "execution_count": 2,
   "metadata": {},
   "outputs": [],
   "source": [
    "import pandas as pd\n",
    "import os\n",
    "import matplotlib.pyplot as plt\n",
    "import time"
   ]
  },
  {
   "cell_type": "markdown",
   "metadata": {},
   "source": [
    "#### Se importa el archivo y se crea el dataFrame"
   ]
  },
  {
   "cell_type": "code",
   "execution_count": 3,
   "metadata": {},
   "outputs": [],
   "source": [
    "path_archivo = os.path.join(os.path.realpath('..'), '..', 'registros', 'datos_de_jugadas.csv')\n",
    "try:\n",
    "    data_set = pd.read_csv(path_archivo, encoding='utf-8')\n",
    "except FileNotFoundError:\n",
    "    print('No se encontró el registro de jugadas')"
   ]
  },
  {
   "cell_type": "code",
   "execution_count": 4,
   "metadata": {},
   "outputs": [
    {
     "name": "stdout",
     "output_type": "stream",
     "text": [
      "<class 'pandas.core.frame.DataFrame'>\n",
      "RangeIndex: 282 entries, 0 to 281\n",
      "Data columns (total 10 columns):\n",
      " #   Column           Non-Null Count  Dtype  \n",
      "---  ------           --------------  -----  \n",
      " 0   timestamp        282 non-null    float64\n",
      " 1   id               282 non-null    object \n",
      " 2   evento           282 non-null    object \n",
      " 3   nombre_jugador   282 non-null    object \n",
      " 4   edad_jugador     282 non-null    int64  \n",
      " 5   genero_jugador   282 non-null    object \n",
      " 6   estado           222 non-null    object \n",
      " 7   texto_ingresado  175 non-null    object \n",
      " 8   respuesta        212 non-null    object \n",
      " 9   nivel            282 non-null    object \n",
      "dtypes: float64(1), int64(1), object(8)\n",
      "memory usage: 22.2+ KB\n"
     ]
    }
   ],
   "source": [
    "data_set.info()"
   ]
  },
  {
   "cell_type": "markdown",
   "metadata": {},
   "source": [
    "# Estadísticas"
   ]
  },
  {
   "cell_type": "markdown",
   "metadata": {},
   "source": [
    "### Mejor Tiempo de Respuesta Correcta"
   ]
  },
  {
   "cell_type": "markdown",
   "metadata": {},
   "source": [
    "* Tomo las filas que me sirven para hacer los cálculos."
   ]
  },
  {
   "cell_type": "code",
   "execution_count": 5,
   "metadata": {},
   "outputs": [],
   "source": [
    "jugadas = data_set[(data_set[\"evento\"] == \"intento\") | (data_set[\"evento\"] == \"inicio_partida\")]"
   ]
  },
  {
   "cell_type": "markdown",
   "metadata": {},
   "source": [
    "* Duplico el dataFrame, uno de sin la primer fila y el otro sin la última. Lugo resto para obtener la duración de la respuesta."
   ]
  },
  {
   "cell_type": "code",
   "execution_count": 6,
   "metadata": {},
   "outputs": [],
   "source": [
    "last = jugadas.index[len(jugadas.index) - 1]\n",
    "jugadas_resta = jugadas.drop(last).reset_index()\n",
    "jugadas = jugadas.drop(0).reset_index()\n",
    "\n",
    "jugadas['timestamp'] = jugadas['timestamp'] - jugadas_resta['timestamp']"
   ]
  },
  {
   "cell_type": "markdown",
   "metadata": {},
   "source": [
    "* Busco el que tenga menor tiempo y acomodo para mostrar."
   ]
  },
  {
   "cell_type": "code",
   "execution_count": 7,
   "metadata": {},
   "outputs": [
    {
     "data": {
      "text/html": [
       "<div>\n",
       "<style scoped>\n",
       "    .dataframe tbody tr th:only-of-type {\n",
       "        vertical-align: middle;\n",
       "    }\n",
       "\n",
       "    .dataframe tbody tr th {\n",
       "        vertical-align: top;\n",
       "    }\n",
       "\n",
       "    .dataframe thead th {\n",
       "        text-align: right;\n",
       "    }\n",
       "</style>\n",
       "<table border=\"1\" class=\"dataframe\">\n",
       "  <thead>\n",
       "    <tr style=\"text-align: right;\">\n",
       "      <th></th>\n",
       "      <th>tiempo</th>\n",
       "      <th>id</th>\n",
       "      <th>evento</th>\n",
       "      <th>nombre_jugador</th>\n",
       "      <th>edad_jugador</th>\n",
       "      <th>genero_jugador</th>\n",
       "      <th>estado</th>\n",
       "      <th>texto_ingresado</th>\n",
       "      <th>respuesta</th>\n",
       "      <th>nivel</th>\n",
       "    </tr>\n",
       "  </thead>\n",
       "  <tbody>\n",
       "    <tr>\n",
       "      <th>142</th>\n",
       "      <td>1.112036</td>\n",
       "      <td>eea14e95-9cbb-4e8d-99b4-86bc8773340b</td>\n",
       "      <td>intento</td>\n",
       "      <td>Trinity</td>\n",
       "      <td>55</td>\n",
       "      <td>Femenino</td>\n",
       "      <td>ok</td>\n",
       "      <td>Adam Hloušek</td>\n",
       "      <td>Adam Hloušek</td>\n",
       "      <td>Personalizado</td>\n",
       "    </tr>\n",
       "  </tbody>\n",
       "</table>\n",
       "</div>"
      ],
      "text/plain": [
       "       tiempo                                    id   evento nombre_jugador  \\\n",
       "142  1.112036  eea14e95-9cbb-4e8d-99b4-86bc8773340b  intento        Trinity   \n",
       "\n",
       "     edad_jugador genero_jugador estado texto_ingresado     respuesta  \\\n",
       "142            55       Femenino     ok    Adam Hloušek  Adam Hloušek   \n",
       "\n",
       "             nivel  \n",
       "142  Personalizado  "
      ]
     },
     "execution_count": 7,
     "metadata": {},
     "output_type": "execute_result"
    }
   ],
   "source": [
    "jugadas = jugadas[(jugadas[\"evento\"] == \"intento\") & (jugadas[\"estado\"] == \"ok\")]\n",
    "tiempo_min = jugadas['timestamp'].min()\n",
    "\n",
    "jugadas = jugadas.rename(columns={'timestamp': 'tiempo'}).drop('index', axis='columns')\n",
    "jugadas[jugadas['tiempo'] == tiempo_min]"
   ]
  },
  {
   "cell_type": "markdown",
   "metadata": {},
   "source": [
    "### Promedio de tiempo de respuestas exitosas"
   ]
  },
  {
   "cell_type": "markdown",
   "metadata": {},
   "source": [
    "* Tomo las filas que me sirven para hacer los cálculos."
   ]
  },
  {
   "cell_type": "code",
   "execution_count": 8,
   "metadata": {},
   "outputs": [],
   "source": [
    "jugadas = data_set[(data_set[\"evento\"] == \"intento\") | (data_set[\"evento\"] == \"inicio_partida\")]"
   ]
  },
  {
   "cell_type": "markdown",
   "metadata": {},
   "source": [
    "* Duplico el dataFrame, uno de sin la primer fila y el otro sin la última. Lugo resto para obtener la duración de la respuesta."
   ]
  },
  {
   "cell_type": "code",
   "execution_count": 9,
   "metadata": {},
   "outputs": [],
   "source": [
    "last = jugadas.index[len(jugadas.index) - 1]\n",
    "jugadas_resta = jugadas.drop(last).reset_index()\n",
    "jugadas = jugadas.drop(0).reset_index()\n",
    "\n",
    "jugadas['timestamp'] = jugadas['timestamp'] - jugadas_resta['timestamp']"
   ]
  },
  {
   "cell_type": "markdown",
   "metadata": {},
   "source": [
    "* Filtro el dataFrame por respuesta correcta y obtengo el promedio de tiempo. Luego adapto para mostrar."
   ]
  },
  {
   "cell_type": "code",
   "execution_count": 10,
   "metadata": {},
   "outputs": [
    {
     "data": {
      "text/html": [
       "<div>\n",
       "<style scoped>\n",
       "    .dataframe tbody tr th:only-of-type {\n",
       "        vertical-align: middle;\n",
       "    }\n",
       "\n",
       "    .dataframe tbody tr th {\n",
       "        vertical-align: top;\n",
       "    }\n",
       "\n",
       "    .dataframe thead th {\n",
       "        text-align: right;\n",
       "    }\n",
       "</style>\n",
       "<table border=\"1\" class=\"dataframe\">\n",
       "  <thead>\n",
       "    <tr style=\"text-align: right;\">\n",
       "      <th></th>\n",
       "      <th>promedio de tiempo</th>\n",
       "    </tr>\n",
       "  </thead>\n",
       "  <tbody>\n",
       "    <tr>\n",
       "      <th>0</th>\n",
       "      <td>4.405802</td>\n",
       "    </tr>\n",
       "  </tbody>\n",
       "</table>\n",
       "</div>"
      ],
      "text/plain": [
       "   promedio de tiempo\n",
       "0            4.405802"
      ]
     },
     "execution_count": 10,
     "metadata": {},
     "output_type": "execute_result"
    }
   ],
   "source": [
    "jugadas = jugadas[jugadas[\"estado\"] == \"ok\"]\n",
    "tiempo = jugadas['timestamp'].sum() / len(jugadas)\n",
    "\n",
    "jugadas = jugadas.loc[ :0, ['timestamp']].rename(columns={'timestamp': 'promedio de tiempo'})\n",
    "jugadas['promedio de tiempo'] = tiempo\n",
    "jugadas"
   ]
  },
  {
   "cell_type": "markdown",
   "metadata": {},
   "source": [
    "### Promedio de tiempo de partida"
   ]
  },
  {
   "cell_type": "markdown",
   "metadata": {},
   "source": [
    "* Hago dos variables, uno con el inicio de partida y otro con el fin."
   ]
  },
  {
   "cell_type": "code",
   "execution_count": 11,
   "metadata": {},
   "outputs": [],
   "source": [
    "partida = data_set[data_set[\"evento\"] == \"inicio_partida\"].reset_index()\n",
    "partida_fin = data_set[data_set[\"evento\"] == \"fin\"].reset_index()"
   ]
  },
  {
   "cell_type": "markdown",
   "metadata": {},
   "source": [
    "* Obtengo el promedio del tiempo de partida."
   ]
  },
  {
   "cell_type": "code",
   "execution_count": 12,
   "metadata": {},
   "outputs": [],
   "source": [
    "partida['timestamp'] = partida_fin['timestamp'] - partida['timestamp']\n",
    "tiempo = partida['timestamp'].sum() / len(partida)"
   ]
  },
  {
   "cell_type": "markdown",
   "metadata": {},
   "source": [
    "* Acomodo para presentar el resultado."
   ]
  },
  {
   "cell_type": "code",
   "execution_count": 13,
   "metadata": {},
   "outputs": [
    {
     "data": {
      "text/html": [
       "<div>\n",
       "<style scoped>\n",
       "    .dataframe tbody tr th:only-of-type {\n",
       "        vertical-align: middle;\n",
       "    }\n",
       "\n",
       "    .dataframe tbody tr th {\n",
       "        vertical-align: top;\n",
       "    }\n",
       "\n",
       "    .dataframe thead th {\n",
       "        text-align: right;\n",
       "    }\n",
       "</style>\n",
       "<table border=\"1\" class=\"dataframe\">\n",
       "  <thead>\n",
       "    <tr style=\"text-align: right;\">\n",
       "      <th></th>\n",
       "      <th>promedio de tiempo</th>\n",
       "    </tr>\n",
       "  </thead>\n",
       "  <tbody>\n",
       "    <tr>\n",
       "      <th>0</th>\n",
       "      <td>28.388803</td>\n",
       "    </tr>\n",
       "  </tbody>\n",
       "</table>\n",
       "</div>"
      ],
      "text/plain": [
       "   promedio de tiempo\n",
       "0           28.388803"
      ]
     },
     "execution_count": 13,
     "metadata": {},
     "output_type": "execute_result"
    }
   ],
   "source": [
    "partida = partida.loc[ :0, ['timestamp']].rename(columns={'timestamp': 'promedio de tiempo'})\n",
    "partida['promedio de tiempo'] = tiempo\n",
    "partida"
   ]
  },
  {
   "cell_type": "markdown",
   "metadata": {},
   "source": [
    "### Porcentaje de aciertos por usuario"
   ]
  },
  {
   "cell_type": "markdown",
   "metadata": {},
   "source": [
    "* Filtro el dataFrame por las filas que necesito y obtengo cuantas veces aparece el mismo usuario."
   ]
  },
  {
   "cell_type": "code",
   "execution_count": 14,
   "metadata": {},
   "outputs": [],
   "source": [
    "jugadas = data_set[data_set[\"evento\"] == \"intento\"]\n",
    "jugadores = jugadas[\"nombre_jugador\"].value_counts()"
   ]
  },
  {
   "cell_type": "markdown",
   "metadata": {},
   "source": [
    "* Genero el dataFrame para los resultados."
   ]
  },
  {
   "cell_type": "code",
   "execution_count": 15,
   "metadata": {},
   "outputs": [],
   "source": [
    "res = pd.DataFrame({'jugador' : [], 'aciertos': [], 'errores': [], 'porcentaje de aciertos' : []})"
   ]
  },
  {
   "cell_type": "markdown",
   "metadata": {},
   "source": [
    "* Para cada usuario guardo en los resultados la cantidad de aciertos y errores, además del porcentaje de acierto."
   ]
  },
  {
   "cell_type": "code",
   "execution_count": 16,
   "metadata": {},
   "outputs": [
    {
     "data": {
      "text/html": [
       "<div>\n",
       "<style scoped>\n",
       "    .dataframe tbody tr th:only-of-type {\n",
       "        vertical-align: middle;\n",
       "    }\n",
       "\n",
       "    .dataframe tbody tr th {\n",
       "        vertical-align: top;\n",
       "    }\n",
       "\n",
       "    .dataframe thead th {\n",
       "        text-align: right;\n",
       "    }\n",
       "</style>\n",
       "<table border=\"1\" class=\"dataframe\">\n",
       "  <thead>\n",
       "    <tr style=\"text-align: right;\">\n",
       "      <th></th>\n",
       "      <th>jugador</th>\n",
       "      <th>aciertos</th>\n",
       "      <th>errores</th>\n",
       "      <th>porcentaje de aciertos</th>\n",
       "    </tr>\n",
       "  </thead>\n",
       "  <tbody>\n",
       "    <tr>\n",
       "      <th>0</th>\n",
       "      <td>NEO</td>\n",
       "      <td>10</td>\n",
       "      <td>36</td>\n",
       "      <td>21%</td>\n",
       "    </tr>\n",
       "    <tr>\n",
       "      <th>1</th>\n",
       "      <td>Trinity</td>\n",
       "      <td>9</td>\n",
       "      <td>36</td>\n",
       "      <td>20%</td>\n",
       "    </tr>\n",
       "    <tr>\n",
       "      <th>2</th>\n",
       "      <td>Yoda</td>\n",
       "      <td>9</td>\n",
       "      <td>24</td>\n",
       "      <td>27%</td>\n",
       "    </tr>\n",
       "    <tr>\n",
       "      <th>3</th>\n",
       "      <td>Yayo</td>\n",
       "      <td>10</td>\n",
       "      <td>21</td>\n",
       "      <td>32%</td>\n",
       "    </tr>\n",
       "    <tr>\n",
       "      <th>4</th>\n",
       "      <td>El Jose</td>\n",
       "      <td>2</td>\n",
       "      <td>7</td>\n",
       "      <td>22%</td>\n",
       "    </tr>\n",
       "    <tr>\n",
       "      <th>5</th>\n",
       "      <td>kaggel</td>\n",
       "      <td>1</td>\n",
       "      <td>5</td>\n",
       "      <td>16%</td>\n",
       "    </tr>\n",
       "    <tr>\n",
       "      <th>6</th>\n",
       "      <td>Amelia</td>\n",
       "      <td>0</td>\n",
       "      <td>5</td>\n",
       "      <td>0%</td>\n",
       "    </tr>\n",
       "  </tbody>\n",
       "</table>\n",
       "</div>"
      ],
      "text/plain": [
       "   jugador  aciertos  errores porcentaje de aciertos\n",
       "0      NEO        10       36                    21%\n",
       "1  Trinity         9       36                    20%\n",
       "2     Yoda         9       24                    27%\n",
       "3     Yayo        10       21                    32%\n",
       "4  El Jose         2        7                    22%\n",
       "5   kaggel         1        5                    16%\n",
       "6   Amelia         0        5                     0%"
      ]
     },
     "execution_count": 16,
     "metadata": {},
     "output_type": "execute_result"
    }
   ],
   "source": [
    "for x in jugadores.keys():\n",
    "    jugador = jugadas[jugadas['nombre_jugador'] == x]['estado'].value_counts()\n",
    "    if 'ok' in jugador:\n",
    "        aciertos = jugador['ok']\n",
    "    else:\n",
    "        aciertos = 0\n",
    "    if 'error' in jugador:\n",
    "        errores = jugador['error']\n",
    "    fila = pd.DataFrame({'jugador' : [x], 'aciertos': [aciertos], 'errores': errores, \n",
    "            'porcentaje de aciertos' : [f'{int(aciertos / jugadores[x] * 100)}%']})\n",
    "    res = pd.concat([res, fila], ignore_index=True)\n",
    "res = res.astype({'aciertos': 'int64', 'errores': 'int64'})\n",
    "\n",
    "res"
   ]
  },
  {
   "cell_type": "markdown",
   "metadata": {},
   "source": [
    "### Cantidad de tarjetas para las que el usuarie no dió respuesta (timeout)."
   ]
  },
  {
   "cell_type": "markdown",
   "metadata": {},
   "source": [
    "* Obtengo la cantidad de veces que un jugador no respondió y el total de jugadores."
   ]
  },
  {
   "cell_type": "code",
   "execution_count": 17,
   "metadata": {},
   "outputs": [],
   "source": [
    "jugadas = data_set[data_set[\"evento\"] == \"timeout\"][\"nombre_jugador\"].value_counts()\n",
    "jugadores = data_set[\"nombre_jugador\"].value_counts().keys()"
   ]
  },
  {
   "cell_type": "markdown",
   "metadata": {},
   "source": [
    "* Adapto el dataFrame para mostrar."
   ]
  },
  {
   "cell_type": "code",
   "execution_count": 18,
   "metadata": {},
   "outputs": [
    {
     "data": {
      "text/html": [
       "<div>\n",
       "<style scoped>\n",
       "    .dataframe tbody tr th:only-of-type {\n",
       "        vertical-align: middle;\n",
       "    }\n",
       "\n",
       "    .dataframe tbody tr th {\n",
       "        vertical-align: top;\n",
       "    }\n",
       "\n",
       "    .dataframe thead th {\n",
       "        text-align: right;\n",
       "    }\n",
       "</style>\n",
       "<table border=\"1\" class=\"dataframe\">\n",
       "  <thead>\n",
       "    <tr style=\"text-align: right;\">\n",
       "      <th></th>\n",
       "      <th>jugador</th>\n",
       "      <th>Cantidad de tarjetas sin responder</th>\n",
       "    </tr>\n",
       "  </thead>\n",
       "  <tbody>\n",
       "    <tr>\n",
       "      <th>0</th>\n",
       "      <td>Yayo</td>\n",
       "      <td>5</td>\n",
       "    </tr>\n",
       "    <tr>\n",
       "      <th>1</th>\n",
       "      <td>NEO</td>\n",
       "      <td>3</td>\n",
       "    </tr>\n",
       "    <tr>\n",
       "      <th>2</th>\n",
       "      <td>Trinity</td>\n",
       "      <td>2</td>\n",
       "    </tr>\n",
       "    <tr>\n",
       "      <th>3</th>\n",
       "      <td>kaggel</td>\n",
       "      <td>2</td>\n",
       "    </tr>\n",
       "  </tbody>\n",
       "</table>\n",
       "</div>"
      ],
      "text/plain": [
       "   jugador  Cantidad de tarjetas sin responder\n",
       "0     Yayo                                   5\n",
       "1      NEO                                   3\n",
       "2  Trinity                                   2\n",
       "3   kaggel                                   2"
      ]
     },
     "execution_count": 18,
     "metadata": {},
     "output_type": "execute_result"
    }
   ],
   "source": [
    "jugadas = pd.DataFrame(jugadas).reset_index()\n",
    "jugadas.columns = ['jugador', 'Cantidad de tarjetas sin responder']\n",
    "jugadas"
   ]
  },
  {
   "cell_type": "markdown",
   "metadata": {},
   "source": [
    "### Cantidad de tarjetas en las que el usuarie dió una respuesta errónea."
   ]
  },
  {
   "cell_type": "markdown",
   "metadata": {},
   "source": [
    "* Obtengo la cantidad de veces que un jugador respondió mal y el total de jugadores."
   ]
  },
  {
   "cell_type": "code",
   "execution_count": 19,
   "metadata": {},
   "outputs": [],
   "source": [
    "jugadas = data_set[(data_set[\"evento\"] == \"intento\") & (data_set[\"estado\"] == \"error\")][\"nombre_jugador\"].value_counts()\n",
    "jugadores = data_set[\"nombre_jugador\"].value_counts().keys()"
   ]
  },
  {
   "cell_type": "markdown",
   "metadata": {},
   "source": [
    "* Adapto el dataFrame para mostrar."
   ]
  },
  {
   "cell_type": "code",
   "execution_count": 20,
   "metadata": {},
   "outputs": [
    {
     "data": {
      "text/html": [
       "<div>\n",
       "<style scoped>\n",
       "    .dataframe tbody tr th:only-of-type {\n",
       "        vertical-align: middle;\n",
       "    }\n",
       "\n",
       "    .dataframe tbody tr th {\n",
       "        vertical-align: top;\n",
       "    }\n",
       "\n",
       "    .dataframe thead th {\n",
       "        text-align: right;\n",
       "    }\n",
       "</style>\n",
       "<table border=\"1\" class=\"dataframe\">\n",
       "  <thead>\n",
       "    <tr style=\"text-align: right;\">\n",
       "      <th></th>\n",
       "      <th>jugador</th>\n",
       "      <th>Cantidad de respuestas erroneas</th>\n",
       "    </tr>\n",
       "  </thead>\n",
       "  <tbody>\n",
       "    <tr>\n",
       "      <th>0</th>\n",
       "      <td>NEO</td>\n",
       "      <td>36</td>\n",
       "    </tr>\n",
       "    <tr>\n",
       "      <th>1</th>\n",
       "      <td>Trinity</td>\n",
       "      <td>36</td>\n",
       "    </tr>\n",
       "    <tr>\n",
       "      <th>2</th>\n",
       "      <td>Yoda</td>\n",
       "      <td>24</td>\n",
       "    </tr>\n",
       "    <tr>\n",
       "      <th>3</th>\n",
       "      <td>Yayo</td>\n",
       "      <td>21</td>\n",
       "    </tr>\n",
       "    <tr>\n",
       "      <th>4</th>\n",
       "      <td>El Jose</td>\n",
       "      <td>7</td>\n",
       "    </tr>\n",
       "    <tr>\n",
       "      <th>5</th>\n",
       "      <td>Amelia</td>\n",
       "      <td>5</td>\n",
       "    </tr>\n",
       "    <tr>\n",
       "      <th>6</th>\n",
       "      <td>kaggel</td>\n",
       "      <td>5</td>\n",
       "    </tr>\n",
       "  </tbody>\n",
       "</table>\n",
       "</div>"
      ],
      "text/plain": [
       "   jugador  Cantidad de respuestas erroneas\n",
       "0      NEO                               36\n",
       "1  Trinity                               36\n",
       "2     Yoda                               24\n",
       "3     Yayo                               21\n",
       "4  El Jose                                7\n",
       "5   Amelia                                5\n",
       "6   kaggel                                5"
      ]
     },
     "execution_count": 20,
     "metadata": {},
     "output_type": "execute_result"
    }
   ],
   "source": [
    "jugadas = pd.DataFrame(jugadas).reset_index()\n",
    "jugadas.columns = ['jugador', 'Cantidad de respuestas erroneas']\n",
    "jugadas"
   ]
  },
  {
   "cell_type": "markdown",
   "metadata": {},
   "source": [
    "###  Gráfico que muestre el porcentaje de partidas que se juegan para cada día de la semana."
   ]
  },
  {
   "cell_type": "markdown",
   "metadata": {},
   "source": [
    "* Para obtener un registro por día elimino duplicados según la columna que identifica cada jugada. De cada fila del DataFrame me quedo con la columna de marca temporal, le aplico una función para obtener la descripción de ese tiempo y me quedo con las primeras posiciones del str que identifican el día de la semana."
   ]
  },
  {
   "cell_type": "code",
   "execution_count": 32,
   "metadata": {},
   "outputs": [
    {
     "data": {
      "text/plain": [
       "0     Thu\n",
       "12    Thu\n",
       "24    Thu\n",
       "30    Fri\n",
       "32    Sat\n",
       "40    Sat\n",
       "47    Sat\n",
       "59    Sat\n",
       "66    Sat\n",
       "73    Sat\n",
       "Name: timestamp, dtype: object"
      ]
     },
     "execution_count": 32,
     "metadata": {},
     "output_type": "execute_result"
    }
   ],
   "source": [
    "calculo_por_dia = data_set.drop_duplicates('id')\n",
    "calculo_por_dia = calculo_por_dia.timestamp.apply(lambda x: time.ctime(x)).str[:3]\n",
    "calculo_por_dia.head(10)"
   ]
  },
  {
   "cell_type": "markdown",
   "metadata": {},
   "source": [
    "* Aplico una función para obtener el nombre del día en castellano a partir del diccionario _traduccion_. Cuento las apariciones de cada día y paso esos valores a porcentajes"
   ]
  },
  {
   "cell_type": "code",
   "execution_count": 33,
   "metadata": {},
   "outputs": [
    {
     "data": {
      "text/plain": [
       "Sábado       31.428571\n",
       "Jueves       22.857143\n",
       "Martes       17.142857\n",
       "Miércoles    17.142857\n",
       "Lunes         5.714286\n",
       "Viernes       2.857143\n",
       "Domingo       2.857143\n",
       "Name: timestamp, dtype: float64"
      ]
     },
     "execution_count": 33,
     "metadata": {},
     "output_type": "execute_result"
    }
   ],
   "source": [
    "traduccion = {'Mon': 'Lunes', 'Tue': 'Martes', 'Wed': 'Miércoles', 'Thu': 'Jueves', 'Fri': 'Viernes', 'Sat': 'Sábado', 'Sun': 'Domingo'}\n",
    "calculo_por_dia = calculo_por_dia.apply(lambda x: traduccion[x])\n",
    "calculo_por_dia = calculo_por_dia.value_counts()\n",
    "calculo_por_dia = calculo_por_dia / calculo_por_dia.sum() *100\n",
    "calculo_por_dia"
   ]
  },
  {
   "cell_type": "markdown",
   "metadata": {},
   "source": [
    "* Utilizando Matplotlib configuro el gráfico para mostrar los datos obtenidos"
   ]
  },
  {
   "cell_type": "code",
   "execution_count": 38,
   "metadata": {},
   "outputs": [
    {
     "data": {
      "image/png": "[encoded data removed]",
      "text/plain": [
       "<Figure size 576x432 with 1 Axes>"
      ]
     },
     "metadata": {
      "needs_background": "light"
     },
     "output_type": "display_data"
    }
   ],
   "source": [
    "valores = [calculo_por_dia[list(traduccion.values())[i]] for i in range(7)]\n",
    "colores = [\"#6897BB\", \"#FFD97D\", \"#BD4267\", \"#39B7AC\", \"#CC7832\", \"#60D394\", \"#EE6055\"]\n",
    "plt.figure(figsize=(8, 6))\n",
    "plt.rcParams.update({'font.size': 12})\n",
    "plt.bar(traduccion.values(), valores, color=colores)\n",
    "plt.title('Porcentaje de partidas por día de la semana', fontdict=dict(fontsize=16, fontweight='bold'), pad=20, color='Black')\n",
    "plt.ylabel('Porcentaje sobre el total de partidas')\n",
    "plt.xlabel('Día de la semana')\n",
    "plt.yticks([num for num in range(0, 101, 10)])\n",
    "for indice, valor in enumerate(valores):\n",
    "    plt.text(indice, valor+3, f'{valor.round(2):.2f}%', ha='center', fontdict=dict(fontsize=12, fontweight='bold'), va='center')\n",
    "plt.show()"
   ]
  }
 ],
 "metadata": {
  "interpreter": {
   "hash": "5f9139f9df703c4900791d724667c4274e3438d1e3cc064cf63d94dba106917f"
  },
  "kernelspec": {
   "display_name": "Python 3 (ipykernel)",
   "language": "python",
   "name": "python3"
  },
  "language_info": {
   "codemirror_mode": {
    "name": "ipython",
    "version": 3
   },
   "file_extension": ".py",
   "mimetype": "text/x-python",
   "name": "python",
   "nbconvert_exporter": "python",
   "pygments_lexer": "ipython3",
   "version": "3.10.0"
  }
 },
 "nbformat": 4,
 "nbformat_minor": 2
}
