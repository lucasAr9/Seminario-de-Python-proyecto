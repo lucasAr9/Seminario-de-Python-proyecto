{
 "cells": [
  {
   "cell_type": "markdown",
   "metadata": {},
   "source": [
    "<center>\n",
    "\n",
    "# **Análisis de las jugadas 2**\n",
    "\n",
    "</center>\n",
    "\n",
    "___"
   ]
  },
  {
   "cell_type": "code",
   "execution_count": null,
   "metadata": {},
   "outputs": [],
   "source": [
    "# Instalar las librerias para el analisis de las partidas\n",
    "! pip install pandas"
   ]
  },
  {
   "cell_type": "code",
   "execution_count": 1,
   "metadata": {},
   "outputs": [],
   "source": [
    "import pandas as pd\n",
    "import os"
   ]
  },
  {
   "cell_type": "markdown",
   "metadata": {},
   "source": [
    "#### Se importa el archivo y se crea el dataFrame"
   ]
  },
  {
   "cell_type": "code",
   "execution_count": 2,
   "metadata": {},
   "outputs": [],
   "source": [
    "path_archivo = os.path.join(os.path.realpath('..'), '..', 'registros', 'datos_de_jugadas.csv')\n",
    "try:\n",
    "    data_set = pd.read_csv(path_archivo, encoding='utf-8')\n",
    "except FileNotFoundError:\n",
    "    print('No se encontró el dataset mymoviedb.csv')"
   ]
  },
  {
   "cell_type": "code",
   "execution_count": 3,
   "metadata": {},
   "outputs": [
    {
     "name": "stdout",
     "output_type": "stream",
     "text": [
      "<class 'pandas.core.frame.DataFrame'>\n",
      "RangeIndex: 244 entries, 0 to 243\n",
      "Data columns (total 10 columns):\n",
      " #   Column           Non-Null Count  Dtype  \n",
      "---  ------           --------------  -----  \n",
      " 0   timestamp        244 non-null    float64\n",
      " 1   id               244 non-null    object \n",
      " 2   evento           244 non-null    object \n",
      " 3   nombre_jugador   244 non-null    object \n",
      " 4   edad_jugador     244 non-null    int64  \n",
      " 5   genero_jugador   244 non-null    object \n",
      " 6   estado           192 non-null    object \n",
      " 7   texto_ingresado  153 non-null    object \n",
      " 8   respuesta        186 non-null    object \n",
      "           244 non-null    object \n",
      "dtypes: float64(1), int64(1), object(8)\n",
      "memory usage: 19.2+ KB\n"
     ]
    }
   ],
   "source": [
    "data_set.info()"
   ]
  },
  {
   "cell_type": "markdown",
   "metadata": {},
   "source": [
    "# Estadísticas"
   ]
  },
  {
   "cell_type": "markdown",
   "metadata": {},
   "source": [
    "### Mejor Tiempo de Respuesta Correcta"
   ]
  },
  {
   "cell_type": "markdown",
   "metadata": {},
   "source": [
    "* Tomo las filas que me sirven para hacer los cálculos."
   ]
  },
  {
   "cell_type": "code",
   "execution_count": 18,
   "metadata": {},
   "outputs": [],
   "source": [
    "jugadas = data_set[(data_set[\"evento\"] == \"intento\") | (data_set[\"evento\"] == \"inicio_partida\")]"
   ]
  },
  {
   "cell_type": "markdown",
   "metadata": {},
   "source": [
    "* Duplico el dataFrame, uno de sin la primer fila y el otro sin la última. Lugo resto para obtener la duración de la respuesta."
   ]
  },
  {
   "cell_type": "code",
   "execution_count": 19,
   "metadata": {},
   "outputs": [],
   "source": [
    "last = jugadas.index[len(jugadas.index) - 1]\n",
    "jugadas_resta = jugadas.drop(last).reset_index()\n",
    "jugadas = jugadas.drop(0).reset_index()\n",
    "\n",
    "jugadas['timestamp'] = jugadas['timestamp'] - jugadas_resta['timestamp']"
   ]
  },
  {
   "cell_type": "markdown",
   "metadata": {},
   "source": [
    "* Busco el que tenga menor tiempo y acomodo para mostrar."
   ]
  },
  {
   "cell_type": "code",
   "execution_count": 20,
   "metadata": {},
   "outputs": [
    {
     "data": {
      "text/html": [
       "<div>\n",
       "<style scoped>\n",
       "    .dataframe tbody tr th:only-of-type {\n",
       "        vertical-align: middle;\n",
       "    }\n",
       "\n",
       "    .dataframe tbody tr th {\n",
       "        vertical-align: top;\n",
       "    }\n",
       "\n",
       "    .dataframe thead th {\n",
       "        text-align: right;\n",
       "    }\n",
       "</style>\n",
       "<table border=\"1\" class=\"dataframe\">\n",
       "  <thead>\n",
       "    <tr style=\"text-align: right;\">\n",
       "      <th></th>\n",
       "      <th>tiempo</th>\n",
       "      <th>id</th>\n",
       "      <th>evento</th>\n",
       "      <th>nombre_jugador</th>\n",
       "      <th>edad_jugador</th>\n",
       "      <th>genero_jugador</th>\n",
       "      <th>estado</th>\n",
       "      <th>texto_ingresado</th>\n",
       "      <th>respuesta</th>\n",
       "      <th>nivel</th>\n",
       "    </tr>\n",
       "  </thead>\n",
       "  <tbody>\n",
       "    <tr>\n",
       "      <th>142</th>\n",
       "      <td>1.112036</td>\n",
       "      <td>eea14e95-9cbb-4e8d-99b4-86bc8773340b</td>\n",
       "      <td>intento</td>\n",
       "      <td>Trinity</td>\n",
       "      <td>55</td>\n",
       "      <td>Femenino</td>\n",
       "      <td>ok</td>\n",
       "      <td>Adam Hloušek</td>\n",
       "      <td>Adam Hloušek</td>\n",
       "      <td>Personalizado</td>\n",
       "    </tr>\n",
       "  </tbody>\n",
       "</table>\n",
       "</div>"
      ],
      "text/plain": [
       "       tiempo                                    id   evento nombre_jugador  \\\n",
       "142  1.112036  eea14e95-9cbb-4e8d-99b4-86bc8773340b  intento        Trinity   \n",
       "\n",
       "     edad_jugador genero_jugador estado texto_ingresado     respuesta  \\\n",
       "142            55       Femenino     ok    Adam Hloušek  Adam Hloušek   \n",
       "\n",
       "             nivel  \n",
       "142  Personalizado  "
      ]
     },
     "execution_count": 20,
     "metadata": {},
     "output_type": "execute_result"
    }
   ],
   "source": [
    "jugadas = jugadas[(jugadas[\"evento\"] == \"intento\") & (jugadas[\"estado\"] == \"ok\")]\n",
    "tiempo_min = jugadas['timestamp'].min()\n",
    "\n",
    "jugadas = jugadas.rename(columns={'timestamp': 'tiempo'}).drop('index', axis='columns')\n",
    "jugadas[jugadas['tiempo'] == tiempo_min]"
   ]
  },
  {
   "cell_type": "markdown",
   "metadata": {},
   "source": [
    "### Promedio de tiempo de respuestas exitosas"
   ]
  },
  {
   "cell_type": "markdown",
   "metadata": {},
   "source": [
    "* Tomo las filas que me sirven para hacer los cálculos."
   ]
  },
  {
   "cell_type": "code",
   "execution_count": 63,
   "metadata": {},
   "outputs": [],
   "source": [
    "jugadas = data_set[(data_set[\"evento\"] == \"intento\") | (data_set[\"evento\"] == \"inicio_partida\")]"
   ]
  },
  {
   "cell_type": "markdown",
   "metadata": {},
   "source": [
    "* Duplico el dataFrame, uno de sin la primer fila y el otro sin la última. Lugo resto para obtener la duración de la respuesta."
   ]
  },
  {
   "cell_type": "code",
   "execution_count": 64,
   "metadata": {},
   "outputs": [],
   "source": [
    "last = jugadas.index[len(jugadas.index) - 1]\n",
    "jugadas_resta = jugadas.drop(last).reset_index()\n",
    "jugadas = jugadas.drop(0).reset_index()\n",
    "\n",
    "jugadas['timestamp'] = jugadas['timestamp'] - jugadas_resta['timestamp']"
   ]
  },
  {
   "cell_type": "markdown",
   "metadata": {},
   "source": [
    "* Filtro el dataFrame por respuesta correcta y obtengo el promedio de tiempo. Luego adapto para mostrar."
   ]
  },
  {
   "cell_type": "code",
   "execution_count": 65,
   "metadata": {},
   "outputs": [
    {
     "data": {
      "text/html": [
       "<div>\n",
       "<style scoped>\n",
       "    .dataframe tbody tr th:only-of-type {\n",
       "        vertical-align: middle;\n",
       "    }\n",
       "\n",
       "    .dataframe tbody tr th {\n",
       "        vertical-align: top;\n",
       "    }\n",
       "\n",
       "    .dataframe thead th {\n",
       "        text-align: right;\n",
       "    }\n",
       "</style>\n",
       "<table border=\"1\" class=\"dataframe\">\n",
       "  <thead>\n",
       "    <tr style=\"text-align: right;\">\n",
       "      <th></th>\n",
       "      <th>promedio de tiempo</th>\n",
       "    </tr>\n",
       "  </thead>\n",
       "  <tbody>\n",
       "    <tr>\n",
       "      <th>0</th>\n",
       "      <td>4.627463</td>\n",
       "    </tr>\n",
       "  </tbody>\n",
       "</table>\n",
       "</div>"
      ],
      "text/plain": [
       "   promedio de tiempo\n",
       "0            4.627463"
      ]
     },
     "execution_count": 65,
     "metadata": {},
     "output_type": "execute_result"
    }
   ],
   "source": [
    "jugadas = jugadas[jugadas[\"estado\"] == \"ok\"]\n",
    "tiempo = jugadas['timestamp'].sum() / len(jugadas)\n",
    "\n",
    "jugadas = jugadas.loc[ :0, ['timestamp']].rename(columns={'timestamp': 'promedio de tiempo'})\n",
    "jugadas['promedio de tiempo'] = tiempo\n",
    "jugadas"
   ]
  },
  {
   "cell_type": "markdown",
   "metadata": {},
   "source": [
    "### Promedio de tiempo de partida"
   ]
  },
  {
   "cell_type": "markdown",
   "metadata": {},
   "source": [
    "* Hago dos variables, uno con el inicio de partida y otro con el fin."
   ]
  },
  {
   "cell_type": "code",
   "execution_count": null,
   "metadata": {},
   "outputs": [],
   "source": [
    "partida = data_set[data_set[\"evento\"] == \"inicio_partida\"].reset_index()\n",
    "partida_fin = data_set[data_set[\"evento\"] == \"fin\"].reset_index()"
   ]
  },
  {
   "cell_type": "markdown",
   "metadata": {},
   "source": [
    "* Obtengo el promedio del tiempo de partida."
   ]
  },
  {
   "cell_type": "code",
   "execution_count": null,
   "metadata": {},
   "outputs": [],
   "source": [
    "partida['timestamp'] = partida_fin['timestamp'] - partida['timestamp']\n",
    "tiempo = partida['timestamp'].sum() / len(partida)"
   ]
  },
  {
   "cell_type": "markdown",
   "metadata": {},
   "source": [
    "* Acomodo para presentar el resultado."
   ]
  },
  {
   "cell_type": "code",
   "execution_count": 78,
   "metadata": {},
   "outputs": [
    {
     "data": {
      "text/html": [
       "<div>\n",
       "<style scoped>\n",
       "    .dataframe tbody tr th:only-of-type {\n",
       "        vertical-align: middle;\n",
       "    }\n",
       "\n",
       "    .dataframe tbody tr th {\n",
       "        vertical-align: top;\n",
       "    }\n",
       "\n",
       "    .dataframe thead th {\n",
       "        text-align: right;\n",
       "    }\n",
       "</style>\n",
       "<table border=\"1\" class=\"dataframe\">\n",
       "  <thead>\n",
       "    <tr style=\"text-align: right;\">\n",
       "      <th></th>\n",
       "      <th>promedio de tiempo</th>\n",
       "    </tr>\n",
       "  </thead>\n",
       "  <tbody>\n",
       "    <tr>\n",
       "      <th>0</th>\n",
       "      <td>31.513179</td>\n",
       "    </tr>\n",
       "  </tbody>\n",
       "</table>\n",
       "</div>"
      ],
      "text/plain": [
       "   promedio de tiempo\n",
       "0           31.513179"
      ]
     },
     "execution_count": 78,
     "metadata": {},
     "output_type": "execute_result"
    }
   ],
   "source": [
    "partida = partida.loc[ :0, ['timestamp']].rename(columns={'timestamp': 'promedio de tiempo'})\n",
    "partida['promedio de tiempo'] = tiempo\n",
    "partida"
   ]
  },
  {
   "cell_type": "markdown",
   "metadata": {},
   "source": [
    "### Porcentaje de aciertos por usuario"
   ]
  },
  {
   "cell_type": "markdown",
   "metadata": {},
   "source": [
    "* Filtro el dataFrame por las filas que necesito y obtengo cuantas veces aparece el mismo usuario."
   ]
  },
  {
   "cell_type": "code",
   "execution_count": 36,
   "metadata": {},
   "outputs": [],
   "source": [
    "jugadas = data_set[data_set[\"evento\"] == \"intento\"]\n",
    "jugadores = jugadas[\"nombre_jugador\"].value_counts()"
   ]
  },
  {
   "cell_type": "markdown",
   "metadata": {},
   "source": [
    "* Genero el dataFrame para los resultados."
   ]
  },
  {
   "cell_type": "code",
   "execution_count": 37,
   "metadata": {},
   "outputs": [],
   "source": [
    "res = pd.DataFrame({'jugador' : [], 'aciertos': [], 'errores': [], 'porcentaje de aciertos' : []})"
   ]
  },
  {
   "cell_type": "markdown",
   "metadata": {},
   "source": [
    "* Para cada usuario guardo en los resultados la cantidad de aciertos y errores, además del porcentaje de acierto."
   ]
  },
  {
   "cell_type": "code",
   "execution_count": 38,
   "metadata": {},
   "outputs": [
    {
     "data": {
      "text/html": [
       "<div>\n",
       "<style scoped>\n",
       "    .dataframe tbody tr th:only-of-type {\n",
       "        vertical-align: middle;\n",
       "    }\n",
       "\n",
       "    .dataframe tbody tr th {\n",
       "        vertical-align: top;\n",
       "    }\n",
       "\n",
       "    .dataframe thead th {\n",
       "        text-align: right;\n",
       "    }\n",
       "</style>\n",
       "<table border=\"1\" class=\"dataframe\">\n",
       "  <thead>\n",
       "    <tr style=\"text-align: right;\">\n",
       "      <th></th>\n",
       "      <th>jugador</th>\n",
       "      <th>aciertos</th>\n",
       "      <th>errores</th>\n",
       "      <th>porcentaje de aciertos</th>\n",
       "    </tr>\n",
       "  </thead>\n",
       "  <tbody>\n",
       "    <tr>\n",
       "      <th>0</th>\n",
       "      <td>Trinity</td>\n",
       "      <td>9</td>\n",
       "      <td>36</td>\n",
       "      <td>20%</td>\n",
       "    </tr>\n",
       "    <tr>\n",
       "      <th>1</th>\n",
       "      <td>NEO</td>\n",
       "      <td>8</td>\n",
       "      <td>27</td>\n",
       "      <td>22%</td>\n",
       "    </tr>\n",
       "    <tr>\n",
       "      <th>2</th>\n",
       "      <td>Yoda</td>\n",
       "      <td>9</td>\n",
       "      <td>24</td>\n",
       "      <td>27%</td>\n",
       "    </tr>\n",
       "    <tr>\n",
       "      <th>3</th>\n",
       "      <td>Yayo</td>\n",
       "      <td>10</td>\n",
       "      <td>21</td>\n",
       "      <td>32%</td>\n",
       "    </tr>\n",
       "    <tr>\n",
       "      <th>4</th>\n",
       "      <td>El Jose</td>\n",
       "      <td>2</td>\n",
       "      <td>7</td>\n",
       "      <td>22%</td>\n",
       "    </tr>\n",
       "  </tbody>\n",
       "</table>\n",
       "</div>"
      ],
      "text/plain": [
       "   jugador  aciertos  errores porcentaje de aciertos\n",
       "0  Trinity         9       36                    20%\n",
       "1      NEO         8       27                    22%\n",
       "2     Yoda         9       24                    27%\n",
       "3     Yayo        10       21                    32%\n",
       "4  El Jose         2        7                    22%"
      ]
     },
     "execution_count": 38,
     "metadata": {},
     "output_type": "execute_result"
    }
   ],
   "source": [
    "for x in jugadores.keys():\n",
    "    jugador = jugadas[jugadas['nombre_jugador'] == x]['estado'].value_counts()\n",
    "    porcentaje = int(jugador['ok'] / jugadores[x] * 100)\n",
    "    fila = pd.DataFrame({'jugador' : [x], 'aciertos': [jugador['ok']], 'errores': [jugador['error']], \n",
    "            'porcentaje de aciertos' : [f'{porcentaje}%']})\n",
    "    res = pd.concat([res, fila], ignore_index=True)\n",
    "res = res.astype({'aciertos': 'int64', 'errores': 'int64'})\n",
    "\n",
    "res"
   ]
  },
  {
   "cell_type": "markdown",
   "metadata": {},
   "source": [
    "### Cantidad de tarjetas para las que el usuarie no dió respuesta (timeout)."
   ]
  },
  {
   "cell_type": "markdown",
   "metadata": {},
   "source": [
    "* Obtengo la cantidad de veces que un jugador no respondió y el total de jugadores."
   ]
  },
  {
   "cell_type": "code",
   "execution_count": 59,
   "metadata": {},
   "outputs": [],
   "source": [
    "jugadas = data_set[data_set[\"evento\"] == \"timeout\"][\"nombre_jugador\"].value_counts()\n",
    "jugadores = data_set[\"nombre_jugador\"].value_counts().keys()"
   ]
  },
  {
   "cell_type": "markdown",
   "metadata": {},
   "source": [
    "* Guardo en una variable los usuarios y en otro cuantas veces no respondió."
   ]
  },
  {
   "cell_type": "code",
   "execution_count": 60,
   "metadata": {},
   "outputs": [],
   "source": [
    "nombre = []\n",
    "cant = []\n",
    "for x in jugadores:\n",
    "    nombre.append(x)\n",
    "    if x in jugadas:\n",
    "        cant.append(jugadas[x])\n",
    "    else:\n",
    "        cant.append(0)"
   ]
  },
  {
   "cell_type": "markdown",
   "metadata": {},
   "source": [
    "* Genero un dataFrame para mostrar los resultados."
   ]
  },
  {
   "cell_type": "code",
   "execution_count": 61,
   "metadata": {},
   "outputs": [
    {
     "data": {
      "text/html": [
       "<div>\n",
       "<style scoped>\n",
       "    .dataframe tbody tr th:only-of-type {\n",
       "        vertical-align: middle;\n",
       "    }\n",
       "\n",
       "    .dataframe tbody tr th {\n",
       "        vertical-align: top;\n",
       "    }\n",
       "\n",
       "    .dataframe thead th {\n",
       "        text-align: right;\n",
       "    }\n",
       "</style>\n",
       "<table border=\"1\" class=\"dataframe\">\n",
       "  <thead>\n",
       "    <tr style=\"text-align: right;\">\n",
       "      <th></th>\n",
       "      <th>jugador</th>\n",
       "      <th>cantidad de tarjetas sin respuesta</th>\n",
       "    </tr>\n",
       "  </thead>\n",
       "  <tbody>\n",
       "    <tr>\n",
       "      <th>0</th>\n",
       "      <td>Trinity</td>\n",
       "      <td>2</td>\n",
       "    </tr>\n",
       "    <tr>\n",
       "      <th>1</th>\n",
       "      <td>NEO</td>\n",
       "      <td>3</td>\n",
       "    </tr>\n",
       "    <tr>\n",
       "      <th>2</th>\n",
       "      <td>Yayo</td>\n",
       "      <td>5</td>\n",
       "    </tr>\n",
       "    <tr>\n",
       "      <th>3</th>\n",
       "      <td>Yoda</td>\n",
       "      <td>0</td>\n",
       "    </tr>\n",
       "    <tr>\n",
       "      <th>4</th>\n",
       "      <td>El Jose</td>\n",
       "      <td>0</td>\n",
       "    </tr>\n",
       "  </tbody>\n",
       "</table>\n",
       "</div>"
      ],
      "text/plain": [
       "   jugador  cantidad de tarjetas sin respuesta\n",
       "0  Trinity                                   2\n",
       "1      NEO                                   3\n",
       "2     Yayo                                   5\n",
       "3     Yoda                                   0\n",
       "4  El Jose                                   0"
      ]
     },
     "execution_count": 61,
     "metadata": {},
     "output_type": "execute_result"
    }
   ],
   "source": [
    "res = pd.DataFrame({'jugador' : nombre, 'cantidad de tarjetas sin respuesta': cant})\n",
    "res"
   ]
  },
  {
   "cell_type": "markdown",
   "metadata": {},
   "source": [
    "### Cantidad de tarjetas en las que el usuarie dió una respuesta errónea."
   ]
  },
  {
   "cell_type": "markdown",
   "metadata": {},
   "source": [
    "* Obtengo la cantidad de veces que un jugador respondió mal y el total de jugadores."
   ]
  },
  {
   "cell_type": "code",
   "execution_count": 62,
   "metadata": {},
   "outputs": [],
   "source": [
    "jugadas = data_set[(data_set[\"evento\"] == \"intento\") & (data_set[\"estado\"] == \"error\")][\"nombre_jugador\"].value_counts()\n",
    "jugadores = data_set[\"nombre_jugador\"].value_counts().keys()"
   ]
  },
  {
   "cell_type": "markdown",
   "metadata": {},
   "source": [
    "* Guardo en una variable los usuarios y en otro cuantas veces respondió mal."
   ]
  },
  {
   "cell_type": "code",
   "execution_count": 63,
   "metadata": {},
   "outputs": [],
   "source": [
    "nombre = []\n",
    "cant = []\n",
    "for x in jugadores:\n",
    "    nombre.append(x)\n",
    "    if x in jugadas:\n",
    "        cant.append(jugadas[x])\n",
    "    else:\n",
    "        cant.append(0)"
   ]
  },
  {
   "cell_type": "markdown",
   "metadata": {},
   "source": [
    "* Genero un dataFrame para mostrar los resultados."
   ]
  },
  {
   "cell_type": "code",
   "execution_count": 64,
   "metadata": {},
   "outputs": [
    {
     "data": {
      "text/html": [
       "<div>\n",
       "<style scoped>\n",
       "    .dataframe tbody tr th:only-of-type {\n",
       "        vertical-align: middle;\n",
       "    }\n",
       "\n",
       "    .dataframe tbody tr th {\n",
       "        vertical-align: top;\n",
       "    }\n",
       "\n",
       "    .dataframe thead th {\n",
       "        text-align: right;\n",
       "    }\n",
       "</style>\n",
       "<table border=\"1\" class=\"dataframe\">\n",
       "  <thead>\n",
       "    <tr style=\"text-align: right;\">\n",
       "      <th></th>\n",
       "      <th>jugador</th>\n",
       "      <th>cantidad de respuestas erroneas</th>\n",
       "    </tr>\n",
       "  </thead>\n",
       "  <tbody>\n",
       "    <tr>\n",
       "      <th>0</th>\n",
       "      <td>Trinity</td>\n",
       "      <td>36</td>\n",
       "    </tr>\n",
       "    <tr>\n",
       "      <th>1</th>\n",
       "      <td>NEO</td>\n",
       "      <td>27</td>\n",
       "    </tr>\n",
       "    <tr>\n",
       "      <th>2</th>\n",
       "      <td>Yayo</td>\n",
       "      <td>21</td>\n",
       "    </tr>\n",
       "    <tr>\n",
       "      <th>3</th>\n",
       "      <td>Yoda</td>\n",
       "      <td>24</td>\n",
       "    </tr>\n",
       "    <tr>\n",
       "      <th>4</th>\n",
       "      <td>El Jose</td>\n",
       "      <td>7</td>\n",
       "    </tr>\n",
       "  </tbody>\n",
       "</table>\n",
       "</div>"
      ],
      "text/plain": [
       "   jugador  cantidad de respuestas erroneas\n",
       "0  Trinity                               36\n",
       "1      NEO                               27\n",
       "2     Yayo                               21\n",
       "3     Yoda                               24\n",
       "4  El Jose                                7"
      ]
     },
     "execution_count": 64,
     "metadata": {},
     "output_type": "execute_result"
    }
   ],
   "source": [
    "res = pd.DataFrame({'jugador' : nombre, 'cantidad de respuestas erroneas': cant})\n",
    "res"
   ]
  }
 ],
 "metadata": {
  "interpreter": {
   "hash": "5f9139f9df703c4900791d724667c4274e3438d1e3cc064cf63d94dba106917f"
  },
  "kernelspec": {
   "display_name": "Python 3.10.3 64-bit",
   "language": "python",
   "name": "python3"
  },
  "language_info": {
   "codemirror_mode": {
    "name": "ipython",
    "version": 3
   },
   "file_extension": ".py",
   "mimetype": "text/x-python",
   "name": "python",
   "nbconvert_exporter": "python",
   "pygments_lexer": "ipython3",
   "version": "3.10.3"
  },
  "orig_nbformat": 4
 },
 "nbformat": 4,
 "nbformat_minor": 2
}
