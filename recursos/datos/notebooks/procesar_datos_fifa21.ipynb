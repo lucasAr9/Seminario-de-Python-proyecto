{
  "cells": [
    {
      "cell_type": "markdown",
      "metadata": {},
      "source": [
        "# DATA SETS"
      ]
    },
    {
      "cell_type": "markdown",
      "metadata": {},
      "source": [
        "* FIFA 21: Archivo *=>* [ FIFA-21 Complete.csv ](https://www.kaggle.com/datasets/aayushmishra1512/fifa-2021-complete-player-data?resource=download)"
      ]
    },
    {
      "cell_type": "markdown",
      "metadata": {},
      "source": [
        "El data set original cuenta con 9 columnas: \"player_id\", \"name\", \"nationality\", \"position\", \"overall\", \"age\", \"hits\", \"potential\" y \"team\". En ese orden.\n",
        "\n",
        "El objetivo es obtener un archivo csv, con las columnas: \"Team\", \"Nationality\", \"Position\", \"Age\", \"Potential\" y \"Name\". En ese orde. Sin embargo, antes, se debe hacer algunas conversiones de datos para poder ser utilizados."
      ]
    },
    {
      "cell_type": "markdown",
      "metadata": {},
      "source": [
        "* Traducción de las posiciones de los jugadores, del ingles al español. \"DK\" debe pasar a ser \"Portero\", por ejemplo.\n",
        "\n",
        "Para ello, se utiliza la siguiente función: "
      ]
    },
    {
      "cell_type": "code",
      "execution_count": 2,
      "metadata": {
        "trusted": true
      },
      "outputs": [],
      "source": [
        "#imports necesarios\n",
        "import csv\n",
        "import json\n",
        "from os import path #utilizado para obtener la rutas de archivos"
      ]
    },
    {
      "cell_type": "code",
      "execution_count": 3,
      "metadata": {},
      "outputs": [],
      "source": [
        "def traducir_pos(pos):\n",
        "    \"\"\"Esta funcion retorna en pos, la traducion del ingles al español,\n",
        "    de una determinada posicion. \n",
        "    Utilizando los datos de un archivo con las traducciones\n",
        "    pos : Es el dato almacenado en la columna \n",
        "    'position' de una determinada fila.\"\"\"\n",
        "    # Se almacena, en un diccionario, la traduccion (valor) \n",
        "    # de la posicion (clave)\n",
        "    try:\n",
        "        ruta_completa = path.join(path.realpath(\n",
        "            '.'), \"datos_csv\", \"traducciones\", \"fifa_pos_ENG_ESP.json\")\n",
        "\n",
        "        with open(ruta_completa, 'r', encoding=\"utf-8\") as traduccion:\n",
        "            trad = json.load(traduccion)\n",
        "            return trad[pos]\n",
        "    except FileNotFoundError:\n",
        "        return (\"No encontrado\")"
      ]
    },
    {
      "cell_type": "markdown",
      "metadata": {},
      "source": [
        "* Reemplazar el valor de 'potential', que contiene un valor numerico fijo, a su equivalente en palabras.\n",
        "\n",
        "Para ello, se utiliza la siguiente función: "
      ]
    },
    {
      "cell_type": "code",
      "execution_count": 4,
      "metadata": {
        "trusted": true
      },
      "outputs": [],
      "source": [
        "def conversion_del_potencial(potencial):\n",
        "    \"\"\"Esta funcion retorna en potencial, su equivalenete en string\n",
        "    potencial: es el valor de la columna 'Potential' de una determinada fila\"\"\"\n",
        "    if(potencial < \"60\"):\n",
        "        potencial = \"Regular\"\n",
        "    elif(potencial > \"60\" and potencial <= \"79\"):\n",
        "        potencial = \"Bueno\"\n",
        "    elif(potencial > \"79\" and potencial <= \"89\"):\n",
        "        potencial = \"Muy bueno\"\n",
        "    else:\n",
        "        potencial = \"Sobresaliente\"\n",
        "    return potencial"
      ]
    },
    {
      "cell_type": "markdown",
      "metadata": {},
      "source": [
        "* Las funciones anteriores, son implementadas en otra función que recibirá el iterador del csv y aplicará, a cada fila, las anteriores funciones. Retornando el resultado en una lista."
      ]
    },
    {
      "cell_type": "code",
      "execution_count": 5,
      "metadata": {
        "trusted": true
      },
      "outputs": [],
      "source": [
        "def filtro_fifa(csvreader):\n",
        "    \"\"\"Esta funcion retorna en una lista las \n",
        "    lineas filtradas del csvreader de acuerdo al criterio adoptado\"\"\"\n",
        "    lista_filtrada = []\n",
        "    for ln in csvreader:\n",
        "        # conversion de numero a strig segun el potencial\n",
        "        ln[7] = conversion_del_potencial(ln[7])\n",
        "        # traduccion de las posiciones\n",
        "        # se aplica un split ya que, un jugador, puede tener varias posiciones \n",
        "        ln[3] = '|'.join(\n",
        "            list(map(lambda pos: traducir_pos(pos), ln[3].split('|'))))\n",
        "        lista_filtrada.append(ln)\n",
        "\n",
        "    return lista_filtrada"
      ]
    },
    {
      "cell_type": "markdown",
      "metadata": {},
      "source": [
        "* Teniendo lo anterior en cuenta, solo queda reacomodar las columnas y descartar aquellas que no serán utilizadas.\n",
        "\n",
        "Para ello se utiliza la siguiente funcion:"
      ]
    },
    {
      "cell_type": "code",
      "execution_count": 6,
      "metadata": {
        "trusted": true
      },
      "outputs": [],
      "source": [
        "def reacomodar_columnas(lista_filtrada):\n",
        "    \"\"\"Esta funcion reacomoda las columnas de acuerdo al criterio elegido.\n",
        "    lista_filtada: Es la lista retornada por \n",
        "    la funcion [filtro_fifa(csvreader)]\"\"\"\n",
        "    # “Team”, “Nationality”, “Position”, “Age”, “Potential” y “Name”\n",
        "    for ln in lista_filtrada:\n",
        "        # a, b = b, a # Swapping\n",
        "        ln[8], ln[0] = ln[0], ln[8]\n",
        "        ln[2], ln[1] = ln[1], ln[2]\n",
        "        ln[3], ln[2] = ln[2], ln[3]\n",
        "        ln[5], ln[3] = ln[3], ln[5]\n",
        "        ln[7], ln[4] = ln[4], ln[7]\n",
        "        # name ya quedo en la posicion que le corresponde\n",
        "    lista_filtrada = list(map(lambda ln: ln[0:6], lista_filtrada))\n",
        "    return lista_filtrada"
      ]
    },
    {
      "cell_type": "markdown",
      "metadata": {},
      "source": [
        "* Invocación de todo lo anterior, para luego generar un nuevo archivo csv que cumpla con las condiciones planteadas para ser utilizado."
      ]
    },
    {
      "cell_type": "code",
      "execution_count": 7,
      "metadata": {
        "trusted": true
      },
      "outputs": [],
      "source": [
        "try:\n",
        "    ruta_completa = path.join(path.realpath(\n",
        "        '.'), \"datos_csv\", \"FIFA-21 Complete.csv\")\n",
        "    \n",
        "    with open(ruta_completa, 'r', encoding=\"utf-8\") as fifa:\n",
        "        csvreader = csv.reader(fifa, delimiter=';')\n",
        "        next(csvreader)  # omito el encabezado\n",
        "        lista_filtrada = filtro_fifa(csvreader)\n",
        "        lista_filtrada = reacomodar_columnas(lista_filtrada)\n",
        "\n",
        "    ruta_completa = path.join(path.realpath(\n",
        "        '.'), \"datos_csv\", \"fifa_21_filtrado.csv\")\n",
        "\n",
        "    with open(ruta_completa, 'w', encoding=\"utf-8\") as fifa:\n",
        "        writer = csv.writer(fifa)\n",
        "        # Escribo el nuevo encabezado\n",
        "        writer.writerow([\"Team\", \"Nationality\", \"Position\",\n",
        "                        \"Age\", \"Potential\", \"Name\"])\n",
        "        for ln in lista_filtrada:\n",
        "            writer.writerow(ln)\n",
        "except FileNotFoundError:\n",
        "    print(\"Archivo csv 'FIFA-21 complete.csv' no encontrado\")"
      ]
    },
    {
      "cell_type": "code",
      "execution_count": null,
      "metadata": {},
      "outputs": [],
      "source": []
    }
  ],
  "metadata": {
    "interpreter": {
      "hash": "6474a192782b2b61fa8d16e72a9b67453e4bbbba10107a85e06f4a0609198ae7"
    },
    "kernelspec": {
      "display_name": "Python 3.10.2 64-bit",
      "language": "python",
      "name": "python3"
    },
    "language_info": {
      "codemirror_mode": {
        "name": "ipython",
        "version": 3
      },
      "file_extension": ".py",
      "mimetype": "text/x-python",
      "name": "python",
      "nbconvert_exporter": "python",
      "pygments_lexer": "ipython3",
      "version": "3.10.2"
    }
  },
  "nbformat": 4,
  "nbformat_minor": 4
}
