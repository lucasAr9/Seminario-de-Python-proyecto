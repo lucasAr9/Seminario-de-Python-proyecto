{
  "cells": [
    {
      "cell_type": "markdown",
      "metadata": {},
      "source": [
        "# DATA SETS"
      ]
    },
    {
      "cell_type": "markdown",
      "metadata": {},
      "source": [
        "* FIFA 21: Archivo *=>* [ FIFA-21 Complete.csv ](https://www.kaggle.com/datasets/aayushmishra1512/fifa-2021-complete-player-data?resource=download)"
      ]
    },
    {
      "cell_type": "markdown",
      "metadata": {},
      "source": [
        "El data set original cuenta con 9 columnas: \"player_id\", \"name\", \"nationality\", \"position\", \"overall\", \"age\", \"hits\", \"potential\" y \"team\". En ese orden.\n",
        "\n",
        "El objetivo es obtener un archivo csv, con las columnas: \"Team\", \"Nationality\", \"Position\", \"Age\", \"Potential\" y \"Name\". En ese orde. Sin embargo, antes, se debe hacer algunas conversiones de datos para poder ser utilizados."
      ]
    },
    {
      "cell_type": "markdown",
      "metadata": {},
      "source": [
        "* Traducción de las posiciones de los jugadores, del ingles al español. \"DK\" debe pasar a ser \"Portero\", por ejemplo.\n",
        "\n",
        "Para ello, se utiliza la siguiente función: "
      ]
    },
    {
      "cell_type": "code",
      "execution_count": 1,
      "metadata": {
        "trusted": true
      },
      "outputs": [],
      "source": [
        "#imports necesarios\n",
        "import csv\n",
        "import json\n",
        "from os import path #utilizado para obtener la rutas de archivos"
      ]
    },
    {
      "cell_type": "code",
      "execution_count": 2,
      "metadata": {},
      "outputs": [],
      "source": [
        "def traducir_pos(pos):\n",
        "    \"\"\"\n",
        "    :param pos: la posicion en ingles de un jugador\n",
        "    :return: la traduccion de la posicion\n",
        "    \"\"\"\n",
        "    # Se almacena, en un diccionario, la traduccion (valor) \n",
        "    # de la posicion (clave)\n",
        "    try:\n",
        "        with open('fifa_pos_ENG_ESP.json', 'r', encoding=\"utf-8\") as traduccion:\n",
        "            trad = json.load(traduccion)\n",
        "            return trad[pos]\n",
        "    except FileNotFoundError:\n",
        "        return (\"No encontrado\")"
      ]
    },
    {
      "cell_type": "markdown",
      "metadata": {},
      "source": [
        "* Reemplazar el valor de 'potential', que contiene un valor numerico fijo, a su equivalente en palabras.\n",
        "\n",
        "Para ello, se utiliza la siguiente función: "
      ]
    },
    {
      "cell_type": "code",
      "execution_count": 3,
      "metadata": {
        "trusted": true
      },
      "outputs": [],
      "source": [
        "def conversion_del_potencial(potencial):\n",
        "    \"\"\"\n",
        "    :param potencial: el valor de la columna 'Potential'\n",
        "    :return: el equivalente a potencial en string\n",
        "    \"\"\"\n",
        "    if(potencial < \"60\"):\n",
        "        potencial = \"Regular\"\n",
        "    elif(potencial > \"60\" and potencial <= \"79\"):\n",
        "        potencial = \"Bueno\"\n",
        "    elif(potencial > \"79\" and potencial <= \"89\"):\n",
        "        potencial = \"Muy bueno\"\n",
        "    else:\n",
        "        potencial = \"Sobresaliente\"\n",
        "    return potencial"
      ]
    },
    {
      "cell_type": "markdown",
      "metadata": {},
      "source": [
        "* Las funciones anteriores, son implementadas en otra función que recibirá el iterador del csv y aplicará, a cada fila, las anteriores funciones. Retornando el resultado en una lista."
      ]
    },
    {
      "cell_type": "code",
      "execution_count": 4,
      "metadata": {
        "trusted": true
      },
      "outputs": [],
      "source": [
        "def filtro_fifa(csvreader):\n",
        "    \"\"\"\n",
        "    :param csvreader: el contenido del archivo en una lista\n",
        "    :return: una lista filtrada segun los criterios adoptados\n",
        "    \"\"\"\n",
        "    lista_filtrada = []\n",
        "    for ln in csvreader:\n",
        "        # conversion de numero a strig segun el potencial\n",
        "        ln[7] = conversion_del_potencial(ln[7])\n",
        "        # traduccion de las posiciones\n",
        "        # se aplica un split ya que, un jugador, puede tener varias posiciones \n",
        "        ln[3] = '|'.join(\n",
        "            list(map(lambda pos: traducir_pos(pos), ln[3].split('|'))))\n",
        "        lista_filtrada.append(ln)\n",
        "\n",
        "    return lista_filtrada"
      ]
    },
    {
      "cell_type": "markdown",
      "metadata": {},
      "source": [
        "* Teniendo lo anterior en cuenta, solo queda reacomodar las columnas y descartar aquellas que no serán utilizadas.\n",
        "\n",
        "Para ello se utiliza la siguiente funcion:"
      ]
    },
    {
      "cell_type": "code",
      "execution_count": 5,
      "metadata": {
        "trusted": true
      },
      "outputs": [],
      "source": [
        "def reacomodar_columnas(lista_filtrada):\n",
        "    \"\"\"\n",
        "    :param lista_filtrada: lista retornada por la funcion [filto_fifa(csvreader)]\n",
        "    :return: la misma lista pero con las columnas intercambiadas y algunas eliminadas\n",
        "    \"\"\"\n",
        "    # “Team”, “Nationality”, “Position”, “Age”, “Potential” y “Name”\n",
        "    for ln in lista_filtrada:\n",
        "        # a, b = b, a # Swapping\n",
        "        ln[8], ln[0] = ln[0], ln[8]\n",
        "        ln[2], ln[1] = ln[1], ln[2]\n",
        "        ln[3], ln[2] = ln[2], ln[3]\n",
        "        ln[5], ln[3] = ln[3], ln[5]\n",
        "        ln[7], ln[4] = ln[4], ln[7]\n",
        "        # name ya quedo en la posicion que le corresponde\n",
        "    lista_filtrada = list(map(lambda ln: ln[0:6], lista_filtrada))\n",
        "    return lista_filtrada"
      ]
    },
    {
      "cell_type": "markdown",
      "metadata": {},
      "source": [
        "* Invocación de todo lo anterior, para luego generar un nuevo archivo csv que cumpla con las condiciones planteadas para ser utilizado."
      ]
    },
    {
      "cell_type": "code",
      "execution_count": 6,
      "metadata": {
        "trusted": true
      },
      "outputs": [],
      "source": [
        "try:\n",
        "    with open(\"FIFA-21 Complete.csv\", 'r', encoding=\"utf-8\") as fifa:\n",
        "        csvreader = csv.reader(fifa, delimiter=';')\n",
        "        next(csvreader)  # omito el encabezado\n",
        "        lista_filtrada = filtro_fifa(csvreader)\n",
        "        lista_filtrada = reacomodar_columnas(lista_filtrada)\n",
        "\n",
        "    ruta_completa = path.join(path.realpath('..'), \"dataset_fifa21.csv\")\n",
        "\n",
        "    with open(ruta_completa, 'w', encoding=\"utf-8\", newline='') as fifa:\n",
        "        writer = csv.writer(fifa)\n",
        "        # Escribo el nuevo encabezado\n",
        "        writer.writerow([\"Team\", \"Nationality\", \"Position\", \"Age\", \"Potential\", \"Name\"])\n",
        "        for ln in lista_filtrada:\n",
        "            writer.writerow(ln)\n",
        "except FileNotFoundError:\n",
        "    print(\"Archivo csv 'FIFA-21 complete.csv' no encontrado\")"
      ]
    },
    {
      "cell_type": "code",
      "execution_count": null,
      "metadata": {},
      "outputs": [],
      "source": []
    }
  ],
  "metadata": {
    "interpreter": {
      "hash": "f74958d2c2063dfa50096d28483b11c3f9df58d37b8ca249bcb33f0785b7e6e5"
    },
    "kernelspec": {
      "display_name": "Python 3.10.4 ('grupo10')",
      "language": "python",
      "name": "python3"
    },
    "language_info": {
      "codemirror_mode": {
        "name": "ipython",
        "version": 3
      },
      "file_extension": ".py",
      "mimetype": "text/x-python",
      "name": "python",
      "nbconvert_exporter": "python",
      "pygments_lexer": "ipython3",
      "version": "3.10.4"
    }
  },
  "nbformat": 4,
  "nbformat_minor": 4
}
