{
  "cells": [
    {
      "cell_type": "markdown",
      "metadata": {},
      "source": [
        "# DATA SETS"
      ]
    },
    {
      "cell_type": "markdown",
      "metadata": {},
      "source": [
        "* FIFA 21: Archivo *=>* [ FIFA-21 Complete.csv ](https://www.kaggle.com/datasets/aayushmishra1512/fifa-2021-complete-player-data?resource=download)"
      ]
    },
    {
      "cell_type": "markdown",
      "metadata": {},
      "source": [
        "El data set original cuenta con 9 columnas: \"player_id\", \"name\", \"nationality\", \"position\", \"overall\", \"age\", \"hits\", \"potential\" y \"team\". En ese orden.\n",
        "\n",
        "El objetivo es obtener un archivo csv, con las columnas: \"Team\", \"Nationality\", \"Position\", \"Age\", \"Potential\" y \"Name\". En ese orde. Sin embargo, antes, se debe hacer algunas conversiones de datos para poder ser utilizados."
      ]
    },
    {
      "cell_type": "markdown",
      "metadata": {},
      "source": [
        "* Traducción de las posiciones de los jugadores, del ingles al español. \"DK\" debe pasar a ser \"Portero\", por ejemplo.\n",
        "\n",
        "Para ello, se utiliza la siguiente función: "
      ]
    },
    {
      "cell_type": "code",
      "execution_count": 31,
      "metadata": {
        "trusted": true
      },
      "outputs": [],
      "source": [
        "#imports necesarios\n",
        "import csv\n",
        "import json\n",
        "from os import path #utilizado para obtener la rutas de archivos"
      ]
    },
    {
      "cell_type": "code",
      "execution_count": 32,
      "metadata": {},
      "outputs": [],
      "source": [
        "def traduciones():\n",
        "    \"\"\"\n",
        "    :return: las traducciones de las posiciones de los jugadores\n",
        "    \"\"\"\n",
        "    # Se almacena, en un diccionario, la traduccion (valor) \n",
        "    # de la posicion (clave)\n",
        "    try:\n",
        "        ruta_completa = path.join(path.realpath('..'), \"csv_originales\" ,\"fifa_pos_ENG_ESP.json\")\n",
        "        with open(ruta_completa, 'r', encoding=\"utf-8\") as traduccion:\n",
        "            return json.load(traduccion)\n",
        "    except FileNotFoundError:\n",
        "        return (\"No encontrado\")"
      ]
    },
    {
      "cell_type": "markdown",
      "metadata": {},
      "source": [
        "* Reemplazar el valor de 'potential', que contiene un valor numerico fijo, a su equivalente en palabras.\n",
        "\n",
        "Para ello, se utiliza la siguiente función: "
      ]
    },
    {
      "cell_type": "code",
      "execution_count": 33,
      "metadata": {
        "trusted": true
      },
      "outputs": [],
      "source": [
        "def conversion_del_potencial(potencial):\n",
        "    \"\"\"\n",
        "    :param potencial: el valor de la columna 'Potential'\n",
        "    :return: el equivalente a potencial en string\n",
        "    \"\"\"\n",
        "    if(potencial < \"60\"):\n",
        "        potencial = \"Regular\"\n",
        "    elif(potencial > \"60\" and potencial <= \"79\"):\n",
        "        potencial = \"Bueno\"\n",
        "    elif(potencial > \"79\" and potencial <= \"89\"):\n",
        "        potencial = \"Muy bueno\"\n",
        "    else:\n",
        "        potencial = \"Sobresaliente\"\n",
        "    return potencial"
      ]
    },
    {
      "cell_type": "markdown",
      "metadata": {},
      "source": [
        "* Las funciones anteriores, son implementadas en otra función que recibirá el iterador del csv y aplicará, a cada fila, las anteriores funciones. Retornando el resultado en una lista."
      ]
    },
    {
      "cell_type": "code",
      "execution_count": 34,
      "metadata": {
        "trusted": true
      },
      "outputs": [],
      "source": [
        "def procesar_filas(csvreader):\n",
        "    \"\"\"\n",
        "    :param csvreader: el contenido del archivo en una lista\n",
        "    :return: una lista filtrada segun los criterios adoptados\n",
        "    \"\"\"\n",
        "    lista_filtrada = []\n",
        "    trad = traduciones()\n",
        "    for ln in csvreader:\n",
        "        # conversion de numero a strig segun el potencial\n",
        "        ln[7] = conversion_del_potencial(ln[7])\n",
        "        # traduccion de las posiciones\n",
        "        # se aplica un split ya que, un jugador, puede tener varias posiciones \n",
        "        ln[3] = '|'.join(\n",
        "            list(map(lambda pos: trad[pos], ln[3].split('|'))))\n",
        "        lista_filtrada.append(ln)\n",
        "\n",
        "    return lista_filtrada"
      ]
    },
    {
      "cell_type": "markdown",
      "metadata": {},
      "source": [
        "* Invocación de todo lo anterior, para luego generar un nuevo archivo csv que cumpla con las condiciones planteadas para ser utilizado."
      ]
    },
    {
      "cell_type": "code",
      "execution_count": 41,
      "metadata": {
        "trusted": true
      },
      "outputs": [],
      "source": [
        "try:\n",
        "    ruta_completa = path.join(path.realpath('..'), \"csv_originales\" ,\"FIFA-21 Complete.csv\")\n",
        "    with open(ruta_completa, 'r', encoding=\"utf-8\") as fifa:\n",
        "        csvreader = csv.reader(fifa, delimiter=';')\n",
        "        next(csvreader)  # omito el encabezado\n",
        "        filas = procesar_filas(csvreader)\n",
        "        # reacomodo las columnas, por fila\n",
        "        lista_filtrada = list(map(lambda fila: [fila[8], fila[2], fila[3], fila[5], fila[7], fila[1]][0:6], filas))\n",
        "\n",
        "    ruta_completa = path.join(path.realpath('..'), \"dataset_fifa.csv\")\n",
        "\n",
        "    with open(ruta_completa, 'w', encoding=\"utf-8\", newline='') as fifa:\n",
        "        writer = csv.writer(fifa)\n",
        "        # Escribo el nuevo encabezado\n",
        "        writer.writerow([\"Team\", \"Nationality\", \"Position\", \"Age\", \"Potential\", \"Name\"])\n",
        "        writer.writerows(lista_filtrada)\n",
        "except FileNotFoundError:\n",
        "    print(\"Archivo csv 'FIFA-21 complete.csv' no encontrado\")"
      ]
    }
  ],
  "metadata": {
    "kernelspec": {
      "display_name": "Python 3.10.2 ('venv': venv)",
      "language": "python",
      "name": "python3"
    },
    "language_info": {
      "codemirror_mode": {
        "name": "ipython",
        "version": 3
      },
      "file_extension": ".py",
      "mimetype": "text/x-python",
      "name": "python",
      "nbconvert_exporter": "python",
      "pygments_lexer": "ipython3",
      "version": "3.10.2"
    },
    "vscode": {
      "interpreter": {
        "hash": "5dfe342e989f4cba730e21fba9c97b2ddf6474f7c6b1ff374d0cabb2201fa71f"
      }
    }
  },
  "nbformat": 4,
  "nbformat_minor": 4
}
