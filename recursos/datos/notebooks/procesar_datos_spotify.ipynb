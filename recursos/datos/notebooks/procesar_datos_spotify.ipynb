{
 "cells": [
  {
   "cell_type": "markdown",
   "metadata": {
    "pycharm": {
     "name": "#%% md\n"
    }
   },
   "source": [
    "# Data Set Spotify\n",
    "* Archivo en -> [Spotify 2010 - 2019 Top 100.csv](https://www.kaggle.com/datasets/muhmores/spotify-top-100-songs-of-20152019)\n",
    "\n",
    "1. Se quiere reemplazar los nombres de los géneros a title case exceptuando las palabras con iniciales.\n",
    "2. Se utilizarán como datos de las tarjetas “Top Genre”, “Year Released”, “BPM”, “Top Year” y “Artist Type”. Como dato a adivinar se utilizará “Artist”. \n",
    "3. El archivo resultante tiene las columnas “Top Genre”, “Artist Type”, “Year Released”, “Top Year”, “BPM” y “Artist” en este orden.\n",
    "___"
   ]
  },
  {
   "cell_type": "markdown",
   "metadata": {
    "pycharm": {
     "name": "#%% md\n"
    }
   },
   "source": [
    "* Imports necesarios para resolver el problema."
   ]
  },
  {
   "cell_type": "code",
   "execution_count": 2,
   "metadata": {
    "pycharm": {
     "name": "#%%\n"
    }
   },
   "outputs": [],
   "source": [
    "import os\n",
    "import csv"
   ]
  },
  {
   "cell_type": "markdown",
   "metadata": {
    "pycharm": {
     "name": "#%% md\n"
    }
   },
   "source": [
    "* Para cambiar los nombres de los géneros creo una función que contenga las palabras con iniciales que se quiere poner en mayúsculas y el resto de géneros se pasan a title case."
   ]
  },
  {
   "cell_type": "code",
   "execution_count": 3,
   "metadata": {
    "pycharm": {
     "name": "#%%\n"
    }
   },
   "outputs": [],
   "source": [
    "def title_case(genero):\n",
    "    \"\"\"\n",
    "    Función para cambiar los géneros de las canciones.\n",
    "    :param genero: el género de la canción en string.\n",
    "    :return: el género con title_case.\n",
    "    \"\"\"\n",
    "    mayusculas = ['edm', 'dfw', 'uk', 'r&b', 'lgbtq+']\n",
    "    titulo = map(lambda x: x.upper() if x in mayusculas else x.title(), genero.split(' '))\n",
    "    return titulo"
   ]
  },
  {
   "cell_type": "markdown",
   "metadata": {
    "pycharm": {
     "name": "#%% md\n"
    }
   },
   "source": [
    "* Además, necesitamos cambiar el orden de las columnas del csv y quitando algunas, para eso recorremos el csv con la funciónrecorrer_procesando, que recibe el iterador del csv. Primero llama a la función title_case para cambiar los géneros y luego ordena las columnas y lo almacena en la variable a retornar datos_filt."
   ]
  },
  {
   "cell_type": "code",
   "execution_count": 4,
   "metadata": {
    "pycharm": {
     "name": "#%%\n"
    }
   },
   "outputs": [],
   "source": [
    "def recorrer_procesando(datos):\n",
    "    \"\"\"\n",
    "    Función para recorrer el archivo csv de spotify.\n",
    "    :param datos: los datos del csv reader.\n",
    "    :return: la lista con los datos filtrados y con las columnas ordenadas.\n",
    "    \"\"\"\n",
    "    datos_filt = []\n",
    "    for linea in datos:\n",
    "        # cambiar en nombre de genero a title_case\n",
    "        linea[2] = title_case(linea[2])\n",
    "        linea[2] = ' '.join(linea[2])\n",
    "        # ordenar las columnas\n",
    "        datos_filt.append([linea[2], linea[16], linea[3], linea[15], linea[5], linea[1]])\n",
    "    return datos_filt"
   ]
  },
  {
   "cell_type": "markdown",
   "metadata": {
    "pycharm": {
     "name": "#%% md\n"
    }
   },
   "source": [
    "* Rutas de los archivos."
   ]
  },
  {
   "cell_type": "code",
   "execution_count": 5,
   "metadata": {
    "pycharm": {
     "name": "#%%\n"
    }
   },
   "outputs": [],
   "source": [
    "ruta_carpeta = os.path.join(os.getcwd(), '..')\n",
    "\n",
    "# ruta del archivo csv con los datos de spotify\n",
    "nombre_archivo = \"Spotify 2010 - 2019 Top 100.csv\"\n",
    "ruta_completa = os.path.join(ruta_carpeta, 'csv_originales', nombre_archivo)\n",
    "\n",
    "# ruta del nuevo archivo csv con los datos filtrados\n",
    "nombre_nuevo = \"dataset_spotify.csv\"\n",
    "nuevo_arch = os.path.join(ruta_carpeta, nombre_nuevo)"
   ]
  },
  {
   "cell_type": "markdown",
   "metadata": {
    "pycharm": {
     "name": "#%% md\n"
    }
   },
   "source": [
    "* Abrir el archivo a procesar en un try except verificando que se encontró el archivo, si no avisa del error."
   ]
  },
  {
   "cell_type": "code",
   "execution_count": 6,
   "metadata": {
    "pycharm": {
     "name": "#%%\n"
    }
   },
   "outputs": [],
   "source": [
    "try:\n",
    "    with open(ruta_completa, 'r', encoding='utf-8') as spotify:\n",
    "        csv_reader = csv.reader(spotify, delimiter=',')\n",
    "        header_csv, datos_csv = next(csv_reader), list(csv_reader)\n",
    "        datos_filtrados = recorrer_procesando(datos_csv)\n",
    "\n",
    "    with open(nuevo_arch, 'w', encoding='utf-8', newline='') as columnas:\n",
    "        csv_writer = csv.writer(columnas)\n",
    "        csv_writer.writerow(['top genre', 'artist type', 'year released', 'top year', 'bpm', 'artist'])\n",
    "        for linea in datos_filtrados:\n",
    "            csv_writer.writerow(linea)\n",
    "except FileNotFoundError:\n",
    "    print('No se encontró el archivo \"Spotify 2010 - 2019 Top 100.csv\"')"
   ]
  }
 ],
 "metadata": {
  "interpreter": {
   "hash": "4d77ae738600f747b105c6d85e862b2c29e9ca3791a44bcb19cb523baf9e461d"
  },
  "kernelspec": {
   "display_name": "Python 3 (ipykernel)",
   "language": "python",
   "name": "python3"
  },
  "language_info": {
   "codemirror_mode": {
    "name": "ipython",
    "version": 3
   },
   "file_extension": ".py",
   "mimetype": "text/x-python",
   "name": "python",
   "nbconvert_exporter": "python",
   "pygments_lexer": "ipython3",
   "version": "3.10.4"
  }
 },
 "nbformat": 4,
 "nbformat_minor": 4
}