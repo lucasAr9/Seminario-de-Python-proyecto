{
 "cells": [
  {
   "cell_type": "markdown",
   "metadata": {},
   "source": [
    "Lo que tiene que hacer:\n",
    "- Descartar las películas que no tienen “overview”. \n",
    "- Descartar las películas cuyo idioma original tenga más de 2 caracteres.\n",
    "- Tomar las 100 palabras más comunes de todos los overviews combinados.\n",
    "- Para generar el ”Overview” de cada película para el archivo de salida se deberán descartar las palabras que se encuentren dentro de las 100 más comunes de todos los overviews y se deberá generar un string con 3 palabras tomadas al azar y ordenadas al azar (ver random.sample()) de ese resultado.\n",
    "- Se utilizarán como datos de las tarjetas: “Genre”, “Original_Language”, “Vote_Average”, “Release_Date” y 3 palabras aleatorias del overview separadas por “;”. Como dato a adivinar se utilizará “Title”. Descartar el resto de las columnas.\n",
    "- El archivo resultante deberá tener las siguientes columnas (en este orden específico): “Genre”, “Original_Language”, “Release_Date”,“Vote_Average”, “Overview” y “Title”."
   ]
  },
  {
   "cell_type": "markdown",
   "metadata": {},
   "source": [
    "Una de las filas del dataset se encuentra dividia en varias lineas, entonces esto las junta en una sola linea y elimina las restantes."
   ]
  },
  {
   "cell_type": "code",
   "execution_count": 1,
   "metadata": {},
   "outputs": [],
   "source": [
    "import os\n",
    "import csv\n",
    "import collections\n",
    "import random\n",
    "import string\n",
    "\n",
    "def ordenar_datos(lista):\n",
    "    \"\"\"Ordena una seguidilla de lineas que forman parte de una sola: desde el 1105 al 1115\"\"\"\n",
    "    for i in range(1106,1115): \n",
    "        lista[1105][2] += lista[i][0]\n",
    "    lista[1105][2] = lista[1105][2] + lista[1115][0]\n",
    "    for i in range(1, len(lista[1115])): \n",
    "        lista[1105].append(lista[1115][i])\n",
    "    for i in range(1115,1105,-1):\n",
    "        lista.pop(i)\n",
    "    return lista"
   ]
  },
  {
   "cell_type": "markdown",
   "metadata": {},
   "source": [
    "Limpia los overviews de ciertos caracteres que no son letras."
   ]
  },
  {
   "cell_type": "code",
   "execution_count": 2,
   "metadata": {},
   "outputs": [],
   "source": [
    "def limpiar(cadena):\n",
    "    \"\"\"Elimina una serie de caracteres de la cadena ingresada.\"\"\"\n",
    "    for c in string.punctuation:\n",
    "        cadena = cadena.replace(c, \"\")\n",
    "    return cadena"
   ]
  },
  {
   "cell_type": "markdown",
   "metadata": {},
   "source": [
    "Filtra los datos según si tienen overview y si el idioma es menor o igual a dos caracteres. Además se guardan las cien palabras más utilizadas en la suma de los overviews."
   ]
  },
  {
   "cell_type": "code",
   "execution_count": 3,
   "metadata": {},
   "outputs": [],
   "source": [
    "def filtrar(datos):\n",
    "    #Filtro las peliculas por el overview y guardo las palabras que aparecen\n",
    "    lista = []\n",
    "    overview = \"\"\n",
    "    for a in datos:\n",
    "        if datos[2] != \"\":\n",
    "            if len(datos[6]) <= 2: \n",
    "                lista.append([datos[7], datos[6], datos[0], datos[5], datos[2], datos[1]])\n",
    "            overview += f\"{datos[2]} \"\n",
    "    \n",
    "    #Ordeno las palabras segun las veces que aparecen y tomo las 100 más repetidas.\n",
    "    overview = sorted(dict(collections.Counter(limpiar(overview).split())).items(), key=lambda x: x[1])[-100:]\n",
    "    overview = [x[0] for x in overview]\n",
    "    return lista, overview"
   ]
  },
  {
   "cell_type": "markdown",
   "metadata": {},
   "source": [
    "Devuelve tres palabras random del overview de la pelicula."
   ]
  },
  {
   "cell_type": "code",
   "execution_count": 4,
   "metadata": {},
   "outputs": [],
   "source": [
    "def filtrar_cien(cad, cien):\n",
    "    \"\"\"Elimina las palabras que estén en los cien y toma 3\"\"\"\n",
    "    cad = limpiar(cad).split()\n",
    "    cad = [c for c in cad if not c in cien]\n",
    "    if len(cad) >= 3:\n",
    "        cad = str(random.sample(cad,3))\n",
    "    else:\n",
    "        cad = str(random.sample(cad,len(cad)))\n",
    "    return cad.replace(\"[\",\"\").replace(\"]\",\"\").replace(\",\",\";\").replace(\"'\",\"\").replace('\"',\"\")"
   ]
  },
  {
   "cell_type": "markdown",
   "metadata": {},
   "source": [
    "Codigo Principal.  \n",
    "Se utilizan las funciones anteriores con el dataset para generar otro que esté filtrado con los puntos que se pidieron."
   ]
  },
  {
   "cell_type": "code",
   "execution_count": 6,
   "metadata": {},
   "outputs": [],
   "source": [
    "try:\n",
    "    path_dataset = os.path.join(os.getcwd(), \"..\", \"csv_originales\", \"mymoviedb.csv\")\n",
    "    with open(path_dataset, \"r\", encoding=\"utf-8\") as dataset:\n",
    "        csvreader = csv.reader(dataset, delimiter=\",\")\n",
    "        head_csv, data_csv = next(csvreader), list(csvreader)\n",
    "\n",
    "        ordenar_datos(data_csv)\n",
    "        filtrado, cien_palabras = filtrar(data_csv)\n",
    "        \n",
    "    path_dataset = os.path.join(os.getcwd(), \"..\", \"dataset_peliculas.csv\")\n",
    "    with open(path_dataset, \"w\", encoding=\"utf-8\", newline=\"\") as new_dataset:\n",
    "        csvwriter = csv.writer(new_dataset, delimiter=\",\")\n",
    "            \n",
    "        csvwriter.writerow([\"Genre\", \"Original_Language\", \"Release_Date\", \"Vote_Average\", \"Overview\", \"Title\"])\n",
    "        for dato in filtrado:\n",
    "            dato[4] = filtrar_cien(dato[4], cien_palabras)\n",
    "            csvwriter.writerow(dato)\n",
    "            \n",
    "except FileNotFoundError:\n",
    "    print(\"El archivo mymoviedb.csv no se encontró\")"
   ]
  }
 ],
 "metadata": {
  "interpreter": {
   "hash": "5f9139f9df703c4900791d724667c4274e3438d1e3cc064cf63d94dba106917f"
  },
  "kernelspec": {
   "display_name": "Python 3.10.3 64-bit",
   "language": "python",
   "name": "python3"
  },
  "language_info": {
   "codemirror_mode": {
    "name": "ipython",
    "version": 3
   },
   "file_extension": ".py",
   "mimetype": "text/x-python",
   "name": "python",
   "nbconvert_exporter": "python",
   "pygments_lexer": "ipython3",
   "version": "3.10.3"
  },
  "orig_nbformat": 4
 },
 "nbformat": 4,
 "nbformat_minor": 2
}
