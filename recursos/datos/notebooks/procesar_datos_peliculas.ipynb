{
 "cells": [
  {
   "cell_type": "markdown",
   "metadata": {},
   "source": [
    "Lo que tiene que hacer:\n",
    "- Descartar las películas que no tienen “overview”. \n",
    "- Descartar las películas cuyo idioma original tenga más de 2 caracteres.\n",
    "- Tomar las 100 palabras más comunes de todos los overviews combinados.\n",
    "- Para generar el ”Overview” de cada película para el archivo de salida se deberán descartar las palabras que se encuentren dentro de las 100 más comunes de todos los overviews y se deberá generar un string con 3 palabras tomadas al azar y ordenadas al azar (ver random.sample()) de ese resultado.\n",
    "- Se utilizarán como datos de las tarjetas: “Genre”, “Original_Language”, “Vote_Average”, “Release_Date” y 3 palabras aleatorias del overview separadas por “;”. Como dato a adivinar se utilizará “Title”. Descartar el resto de las columnas.\n",
    "- El archivo resultante deberá tener las siguientes columnas (en este orden específico): “Genre”, “Original_Language”, “Release_Date”,“Vote_Average”, “Overview” y “Title”."
   ]
  },
  {
   "cell_type": "markdown",
   "metadata": {},
   "source": [
    "## Imports Necesarios"
   ]
  },
  {
   "cell_type": "code",
   "execution_count": 1,
   "metadata": {},
   "outputs": [],
   "source": [
    "import os\n",
    "import pandas as pd\n",
    "import string\n",
    "import collections\n",
    "import random"
   ]
  },
  {
   "cell_type": "markdown",
   "metadata": {},
   "source": [
    "## Funciones\n",
    "limpiar: Elimina los caracteres especiales del string enviado.  \n",
    "filtrar_cien: Se queda con a lo sumo tres palabras del string que no estén en las cien palabras más usadas"
   ]
  },
  {
   "cell_type": "code",
   "execution_count": 2,
   "metadata": {},
   "outputs": [],
   "source": [
    "def limpiar(cadena):\n",
    "    \"\"\"Elimina una serie de caracteres de la cadena ingresada.\"\"\"\n",
    "    for c in string.punctuation:\n",
    "        cadena = cadena.replace(c, \"\")\n",
    "    return cadena\n",
    "\n",
    "def filtrar_cien(cad, cien):\n",
    "    \"\"\"Elimina las palabras que estén en los cien y toma 3\"\"\"\n",
    "    cad = cad.split()\n",
    "    cad = [c for c in cad if not c in cien]\n",
    "    if len(cad) >= 3:\n",
    "        cad = str(random.sample(cad,3))\n",
    "    else:\n",
    "        cad = str(random.sample(cad,len(cad)))\n",
    "    return cad.replace(\"[\",\"\").replace(\"]\",\"\").replace(\",\",\";\").replace(\"'\",\"\").replace('\"',\"\")"
   ]
  },
  {
   "cell_type": "markdown",
   "metadata": {},
   "source": [
    "Leo el dataset mediante pandas."
   ]
  },
  {
   "cell_type": "code",
   "execution_count": 3,
   "metadata": {},
   "outputs": [
    {
     "name": "stdout",
     "output_type": "stream",
     "text": [
      "     Release_Date                                 Title  \\\n",
      "0      2021-12-15               Spider-Man: No Way Home   \n",
      "1      2022-03-01                            The Batman   \n",
      "2      2022-02-25                               No Exit   \n",
      "3      2021-11-24                               Encanto   \n",
      "4      2021-12-22                        The King's Man   \n",
      "...           ...                                   ...   \n",
      "9822   1973-10-15                              Badlands   \n",
      "9823   2020-10-01                      Violent Delights   \n",
      "9824   2016-05-06                          The Offering   \n",
      "9825   2021-03-31  The United States vs. Billie Holiday   \n",
      "9826   1984-09-23                               Threads   \n",
      "\n",
      "                                               Overview  Popularity  \\\n",
      "0     Peter Parker is unmasked and no longer able to...    5083.954   \n",
      "1     In his second year of fighting crime, Batman u...    3827.658   \n",
      "2     Stranded at a rest stop in the mountains durin...    2618.087   \n",
      "3     The tale of an extraordinary family, the Madri...    2402.201   \n",
      "4     As a collection of history's worst tyrants and...    1895.511   \n",
      "...                                                 ...         ...   \n",
      "9822  A dramatization of the Starkweather-Fugate kil...      13.357   \n",
      "9823  A female vampire falls in love with a man she ...      13.356   \n",
      "9824  When young and successful reporter Jamie finds...      13.355   \n",
      "9825  Billie Holiday spent much of her career being ...      13.354   \n",
      "9826  Documentary style account of a nuclear holocau...      13.354   \n",
      "\n",
      "      Vote_Count  Vote_Average Original_Language  \\\n",
      "0           8940           8.3                en   \n",
      "1           1151           8.1                en   \n",
      "2            122           6.3                en   \n",
      "3           5076           7.7                en   \n",
      "4           1793           7.0                en   \n",
      "...          ...           ...               ...   \n",
      "9822         896           7.6                en   \n",
      "9823           8           3.5                es   \n",
      "9824          94           5.0                en   \n",
      "9825         152           6.7                en   \n",
      "9826         186           7.8                en   \n",
      "\n",
      "                                   Genre  \\\n",
      "0     Action, Adventure, Science Fiction   \n",
      "1               Crime, Mystery, Thriller   \n",
      "2                               Thriller   \n",
      "3     Animation, Comedy, Family, Fantasy   \n",
      "4       Action, Adventure, Thriller, War   \n",
      "...                                  ...   \n",
      "9822                        Drama, Crime   \n",
      "9823                              Horror   \n",
      "9824           Mystery, Thriller, Horror   \n",
      "9825               Music, Drama, History   \n",
      "9826         War, Drama, Science Fiction   \n",
      "\n",
      "                                             Poster_Url  \n",
      "0     https://image.tmdb.org/t/p/original/1g0dhYtq4i...  \n",
      "1     https://image.tmdb.org/t/p/original/74xTEgt7R3...  \n",
      "2     https://image.tmdb.org/t/p/original/vDHsLnOWKl...  \n",
      "3     https://image.tmdb.org/t/p/original/4j0PNHkMr5...  \n",
      "4     https://image.tmdb.org/t/p/original/aq4Pwv5Xeu...  \n",
      "...                                                 ...  \n",
      "9822  https://image.tmdb.org/t/p/original/z81rBzHNgi...  \n",
      "9823  https://image.tmdb.org/t/p/original/4b6HY7rud6...  \n",
      "9824  https://image.tmdb.org/t/p/original/h4uMM1wOhz...  \n",
      "9825  https://image.tmdb.org/t/p/original/vEzkxuE2sJ...  \n",
      "9826  https://image.tmdb.org/t/p/original/lBhU4U9Eeh...  \n",
      "\n",
      "[9827 rows x 9 columns]\n"
     ]
    }
   ],
   "source": [
    "path_dataset = os.path.join(os.getcwd(),\"mymoviedb.csv\")\n",
    "try:\n",
    "    data_set = pd.read_csv(path_dataset, encoding='utf-8', lineterminator='\\n')\n",
    "except FileNotFoundError:\n",
    "    print(\"No se encontró el dataset mymoviedb.csv\")\n",
    "else:\n",
    "    print(data_set)"
   ]
  },
  {
   "cell_type": "markdown",
   "metadata": {},
   "source": [
    "Descarto las filas que no tengan overview.  \n",
    "Después elimino los caracteres especiales de los overviews"
   ]
  },
  {
   "cell_type": "code",
   "execution_count": 4,
   "metadata": {},
   "outputs": [
    {
     "name": "stdout",
     "output_type": "stream",
     "text": [
      "The history saving thread hit an unexpected error (OperationalError('database or disk is full')).History will not be written to the database.\n",
      "0       Peter Parker is unmasked and no longer able to...\n",
      "1       In his second year of fighting crime Batman un...\n",
      "2       Stranded at a rest stop in the mountains durin...\n",
      "3       The tale of an extraordinary family the Madrig...\n",
      "4       As a collection of historys worst tyrants and ...\n",
      "                              ...                        \n",
      "9822    A dramatization of the StarkweatherFugate kill...\n",
      "9823    A female vampire falls in love with a man she ...\n",
      "9824    When young and successful reporter Jamie finds...\n",
      "9825    Billie Holiday spent much of her career being ...\n",
      "9826    Documentary style account of a nuclear holocau...\n",
      "Name: Overview, Length: 9827, dtype: object\n"
     ]
    }
   ],
   "source": [
    "data_set = data_set[data_set['Overview'] != \"\"]\n",
    "data_set['Overview'] = list(map(limpiar, data_set['Overview']))\n",
    "print(data_set['Overview'])"
   ]
  },
  {
   "cell_type": "markdown",
   "metadata": {},
   "source": [
    "Obtengo en la variable cien las cien palabras más repetidas en la suma de los overviews.  \n",
    "Luego para cada overview me quedo con tres palabras que no se encuentren en la variable cien."
   ]
  },
  {
   "cell_type": "code",
   "execution_count": 5,
   "metadata": {},
   "outputs": [
    {
     "name": "stdout",
     "output_type": "stream",
     "text": [
      "0                  Strange; separate; Doctor\n",
      "1                Batman; corruption; Riddler\n",
      "2             discovers; mountains; building\n",
      "3                       magical; last; child\n",
      "4                    tyrants; criminal; race\n",
      "                        ...                 \n",
      "9822    spree; boyfriend; StarkweatherFugate\n",
      "9823                  pregnant; wife; female\n",
      "9824               husband; entity; reporter\n",
      "9825                 Holiday; ballad; effort\n",
      "9826                 nuclear; run; holocaust\n",
      "Name: Overview, Length: 9827, dtype: object\n"
     ]
    }
   ],
   "source": [
    "cien = []\n",
    "for dat in data_set['Overview']:\n",
    "    cien += dat.split()\n",
    "cien = sorted(dict(collections.Counter(cien)).items(), key=lambda x: x[1])[-100:]\n",
    "cien = [x[0] for x in cien]\n",
    "\n",
    "data_set['Overview'] = list(map(lambda cad: filtrar_cien(cad, cien), data_set['Overview']))\n",
    "print(data_set['Overview'])"
   ]
  },
  {
   "cell_type": "markdown",
   "metadata": {},
   "source": [
    "Elimino las columnas que no sirven: Popularity, Vote_Count, Poster_Url.  \n",
    "Reordeno las columnas restantes a como se piden: Genre, Original_Language, Release_Date, Vote_Average, Overview, Title."
   ]
  },
  {
   "cell_type": "code",
   "execution_count": 6,
   "metadata": {},
   "outputs": [
    {
     "name": "stdout",
     "output_type": "stream",
     "text": [
      "                                   Genre Original_Language Release_Date  \\\n",
      "0     Action, Adventure, Science Fiction                en   2021-12-15   \n",
      "1               Crime, Mystery, Thriller                en   2022-03-01   \n",
      "2                               Thriller                en   2022-02-25   \n",
      "3     Animation, Comedy, Family, Fantasy                en   2021-11-24   \n",
      "4       Action, Adventure, Thriller, War                en   2021-12-22   \n",
      "...                                  ...               ...          ...   \n",
      "9822                        Drama, Crime                en   1973-10-15   \n",
      "9823                              Horror                es   2020-10-01   \n",
      "9824           Mystery, Thriller, Horror                en   2016-05-06   \n",
      "9825               Music, Drama, History                en   2021-03-31   \n",
      "9826         War, Drama, Science Fiction                en   1984-09-23   \n",
      "\n",
      "      Vote_Average                              Overview  \\\n",
      "0              8.3             Strange; separate; Doctor   \n",
      "1              8.1           Batman; corruption; Riddler   \n",
      "2              6.3        discovers; mountains; building   \n",
      "3              7.7                  magical; last; child   \n",
      "4              7.0               tyrants; criminal; race   \n",
      "...            ...                                   ...   \n",
      "9822           7.6  spree; boyfriend; StarkweatherFugate   \n",
      "9823           3.5                pregnant; wife; female   \n",
      "9824           5.0             husband; entity; reporter   \n",
      "9825           6.7               Holiday; ballad; effort   \n",
      "9826           7.8               nuclear; run; holocaust   \n",
      "\n",
      "                                     Title  \n",
      "0                  Spider-Man: No Way Home  \n",
      "1                               The Batman  \n",
      "2                                  No Exit  \n",
      "3                                  Encanto  \n",
      "4                           The King's Man  \n",
      "...                                    ...  \n",
      "9822                              Badlands  \n",
      "9823                      Violent Delights  \n",
      "9824                          The Offering  \n",
      "9825  The United States vs. Billie Holiday  \n",
      "9826                               Threads  \n",
      "\n",
      "[9827 rows x 6 columns]\n"
     ]
    }
   ],
   "source": [
    "columnas = [\"Popularity\", \"Vote_Count\", \"Poster_Url\"]\n",
    "data_set = data_set.drop(columnas, axis='columns')\n",
    "\n",
    "columnas = [\"Genre\",\"Original_Language\",\"Release_Date\",\"Vote_Average\",\"Overview\",\"Title\"]\n",
    "data_set = data_set.reindex(columns=columnas)\n",
    "print(data_set)"
   ]
  },
  {
   "cell_type": "markdown",
   "metadata": {},
   "source": [
    "Por ultimo, guardo los datos en dataset_peliculas.csv"
   ]
  },
  {
   "cell_type": "code",
   "execution_count": 7,
   "metadata": {},
   "outputs": [],
   "source": [
    "path_dataset = os.path.join(os.path.realpath(\"..\"), \"dataset_peliculas.csv\")\n",
    "data_set.to_csv(path_dataset, index=False)"
   ]
  }
 ],
 "metadata": {
  "interpreter": {
   "hash": "5f9139f9df703c4900791d724667c4274e3438d1e3cc064cf63d94dba106917f"
  },
  "kernelspec": {
   "display_name": "Python 3.10.3 64-bit",
   "language": "python",
   "name": "python3"
  },
  "language_info": {
   "codemirror_mode": {
    "name": "ipython",
    "version": 3
   },
   "file_extension": ".py",
   "mimetype": "text/x-python",
   "name": "python",
   "nbconvert_exporter": "python",
   "pygments_lexer": "ipython3",
   "version": "3.10.3"
  },
  "orig_nbformat": 4
 },
 "nbformat": 4,
 "nbformat_minor": 2
}
