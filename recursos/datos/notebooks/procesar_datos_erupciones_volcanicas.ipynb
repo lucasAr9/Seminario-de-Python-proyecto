{
 "cells": [
  {
   "cell_type": "markdown",
   "id": "62ca5929",
   "metadata": {
    "slideshow": {
     "slide_type": "slide"
    }
   },
   "source": [
    "# Dataset Erupciones volcánicas"
   ]
  },
  {
   "cell_type": "markdown",
   "id": "c14cd0dd",
   "metadata": {
    "slideshow": {
     "slide_type": "fragment"
    }
   },
   "source": [
    "## Objetivo:\n",
    "\n",
    "Trabajando con el dataset descargado del siguiente [link](https://public.opendatasoft.com/explore/dataset/significant-volcanic-eruption-database/table/), armar un nuevo archivo modificando los datos y reorganizando las columnas"
   ]
  },
  {
   "cell_type": "markdown",
   "id": "1a53df6d",
   "metadata": {
    "slideshow": {
     "slide_type": "slide"
    }
   },
   "source": [
    "Primero importo los módulos con los que voy a trabajar:\n",
    "- El módulo os para definir las rutas de los archivos\n",
    "- El múdulo csv para trabajar con el archivo de origen de datos y crear el nuevo\n",
    "- El módulo json para trabajar con el archivo de traducción de palabaras\n",
    "- El módulo sys para cortar la ejecución en caso de error"
   ]
  },
  {
   "cell_type": "code",
   "execution_count": 1,
   "id": "a60568c3",
   "metadata": {
    "slideshow": {
     "slide_type": "fragment"
    }
   },
   "outputs": [],
   "source": [
    "import os\n",
    "import csv\n",
    "import json\n",
    "import sys\n"
   ]
  },
  {
   "cell_type": "markdown",
   "id": "ce1002ee",
   "metadata": {
    "slideshow": {
     "slide_type": "slide"
    }
   },
   "source": [
    "### 1. Obtención de datos de los archivos"
   ]
  },
  {
   "cell_type": "markdown",
   "id": "d453632b",
   "metadata": {
    "slideshow": {
     "slide_type": "subslide"
    }
   },
   "source": [
    "Uilizo una función para obetener los datos del dataset original \n",
    "- La ruta para acceder al archivo la armo de acuerdo a la posición en la que se encuentra el archivo en el que estoy trabajando.\n",
    "- Ultilizo with para abrir el archivo y asegurarme que se cierre una vez finalizado el proceso.\n",
    "- Dado que es un archivo csv itero con el objeto reader del módulo csv para devolver:\n",
    " - Una variable con los nombres de las columnas (primera fila del archivo). Es una lista de strings.\n",
    " - Una variable con el resto de los datos. Es una lista de listas de strings, cada lista interna se corresponde a una fila.\n",
    "- En caso de que no se encuentre el archivo original el controlador de excepciones termina la ejecución con un mensaje de error."
   ]
  },
  {
   "cell_type": "code",
   "execution_count": 2,
   "id": "9418fae9",
   "metadata": {
    "slideshow": {
     "slide_type": "subslide"
    }
   },
   "outputs": [],
   "source": [
    "def contenido_archivo_csv():\n",
    "    \"\"\"Devolver la cabecera y el contenido de un archivo de tipo csv.\"\"\"\n",
    "    nombre_archivo = \"significant-volcanic-eruption-database.csv\"\n",
    "    ruta_particular = \"\"\n",
    "    ruta_archivo_erupciones = os.path.join(os.getcwd(), ruta_particular, nombre_archivo)\n",
    "    try:\n",
    "        with open(ruta_archivo_erupciones, \"r\", newline=\"\", encoding=\"UTF-8\") as archivo_erupciones:\n",
    "            csv_reader = csv.reader(archivo_erupciones, delimiter=\";\")\n",
    "            cabecera = csv_reader.__next__()\n",
    "            contenido = [line for line in csv_reader]\n",
    "    except FileNotFoundError:\n",
    "        print(f\"Error: No se encontró el archivo '{nombre_archivo}'\")\n",
    "        sys.exit(1)\n",
    "    else:\n",
    "        return cabecera, contenido\n",
    "\n",
    "cabecera, erupciones_original = contenido_archivo_csv()\n"
   ]
  },
  {
   "cell_type": "markdown",
   "id": "a5b19039",
   "metadata": {
    "slideshow": {
     "slide_type": "subslide"
    }
   },
   "source": [
    "En otra función obtengo los datos del archivo de traducciones:\n",
    "- Con la función load del módulo json cargo a una variable los datos del archivo json que contiene las traducciones para el tipo de volcán. Es un diccionario que contiene como pares clave: valor cada tipo y su traducción.\n",
    "- Al igual que antes armo la ruta a partir de la posición del archivo actual, uso with para abrir y cerrar el archivo y doy un mensaje de error si no se encuentra el archivo.\n"
   ]
  },
  {
   "cell_type": "code",
   "execution_count": 3,
   "id": "cd603daf",
   "metadata": {
    "slideshow": {
     "slide_type": "fragment"
    }
   },
   "outputs": [],
   "source": [
    "def contenido_archivo_json():\n",
    "    \"\"\"Devolver el contenido de un archivo de tipo json.\"\"\"\n",
    "    nombre_archivo = \"tipo_volcan_ENG_ESP.json\"\n",
    "    ruta_particular = \"\"\n",
    "    ruta_archivo_traduccion = os.path.join(os.getcwd(), ruta_particular, nombre_archivo)\n",
    "    try:\n",
    "        with open(ruta_archivo_traduccion, \"r\", newline=\"\", encoding=\"UTF-8\") as archivo_traduccion:\n",
    "            contenido = json.load(archivo_traduccion)\n",
    "    except FileNotFoundError:\n",
    "        print(f\"Error: No se encontró el archivo '{nombre_archivo}'\")\n",
    "        sys.exit(1)\n",
    "    else:\n",
    "        return contenido\n",
    "\n",
    "traducciones = contenido_archivo_json()\n"
   ]
  },
  {
   "cell_type": "markdown",
   "id": "406a9e9c",
   "metadata": {
    "slideshow": {
     "slide_type": "slide"
    }
   },
   "source": [
    "### 2. Procesamiento de los datos"
   ]
  },
  {
   "cell_type": "markdown",
   "id": "b424de0a",
   "metadata": {
    "slideshow": {
     "slide_type": "subslide"
    }
   },
   "source": [
    "Realizo los cambios requeridos a los datos:\n",
    "- _Traducir el tipo de volcán al español_: la función recibe el tipo de volcán y lo utiliza como clave para acceder al diccionario de traducciones, obteniendo como valor el tipo en español.\n",
    "- _Convertir “Flag Tsunami” y “Flag Earthquake” a booleanos_: la función recibe el string de la columna y devuelve False si es una cadena vacía y True si tiene valor.\n",
    "- _Transformar la columna “Name” en una nueva columna “Name and country” para que tenga una combinación del nombre del volcán con el país entre paréntesis_: la función recibe el nombre y el país y devuelve una sola variable con el formato deseado.\n"
   ]
  },
  {
   "cell_type": "code",
   "execution_count": 4,
   "id": "2f3f52c2",
   "metadata": {
    "slideshow": {
     "slide_type": "subslide"
    }
   },
   "outputs": [],
   "source": [
    "def traducir(cadena, traducciones):\n",
    "    \"\"\"Devolver la traducción de la palabra de acuerdo al diccionario recibido como parámtro. El diccionario tiene\n",
    "    como pares clave-valor la palabra y su traducción.\"\"\"\n",
    "    traduccion = traducciones[cadena]\n",
    "    return traduccion\n"
   ]
  },
  {
   "cell_type": "code",
   "execution_count": 5,
   "id": "e8c04d29",
   "metadata": {
    "slideshow": {
     "slide_type": "-"
    }
   },
   "outputs": [],
   "source": [
    "def convertir_a_booleano(dato):\n",
    "    \"\"\"Convertir el dato de texto a booleano de acuerdo a la presencia o ausencia de valor.\"\"\"\n",
    "    bandera_a_booleano = True if dato != \"\" else False\n",
    "    return bandera_a_booleano\n"
   ]
  },
  {
   "cell_type": "code",
   "execution_count": 6,
   "id": "dd3e22bb",
   "metadata": {
    "slideshow": {
     "slide_type": "-"
    }
   },
   "outputs": [],
   "source": [
    "def nombre_pais(nombre, pais):\n",
    "    \"\"\"Unir el nombre del volcán con el país entre paréntesis.\"\"\"\n",
    "    return nombre + \" (\" + pais + \")\"\n"
   ]
  },
  {
   "cell_type": "markdown",
   "id": "8ff5009d",
   "metadata": {
    "slideshow": {
     "slide_type": "subslide"
    }
   },
   "source": [
    "Iterando en un list comprehension sobre la variable con los datos originales, aplico los cambios a los datos y me quedo con las columnas pedidas en el orden especificado (_“Year”, “Volcanic Explosivity Index”, “Volcano Type”, “Flag Tsunami”, “Flag Earthquake” y “Name and country”_)"
   ]
  },
  {
   "cell_type": "code",
   "execution_count": 7,
   "id": "bf8d50e2",
   "metadata": {
    "slideshow": {
     "slide_type": "fragment"
    }
   },
   "outputs": [],
   "source": [
    "def procesar_datos(datos):\n",
    "    erupciones_procesado = [\n",
    "        [linea[0], linea[11], traducir(linea[9], traducciones),\n",
    "         convertir_a_booleano(linea[3]), convertir_a_booleano(linea[4]), nombre_pais(linea[5], linea[7])]\n",
    "        for linea in datos\n",
    "        ]\n",
    "    return erupciones_procesado\n",
    "\n",
    "erupciones_procesado = procesar_datos(erupciones_original)\n"
   ]
  },
  {
   "cell_type": "markdown",
   "id": "87e646bd",
   "metadata": {
    "slideshow": {
     "slide_type": "slide"
    }
   },
   "source": [
    "### 3. Armado del dataset con las modificaciones"
   ]
  },
  {
   "cell_type": "markdown",
   "id": "7d592201",
   "metadata": {
    "slideshow": {
     "slide_type": "subslide"
    }
   },
   "source": [
    "Para finalizar genero el archivo csv a partir de la variable con las modificaciones.\n",
    "- Armo la ruta a partir de la posición del archivo actual y uso with para abrir y cerrar el archivo.\n",
    "- Creo el archivo utilizando el modo escritura e itero con el objeto writer de csv para escribir primero la cabecera y luego cada fila de datos."
   ]
  },
  {
   "cell_type": "code",
   "execution_count": 8,
   "id": "6a219f6b",
   "metadata": {
    "slideshow": {
     "slide_type": "fragment"
    }
   },
   "outputs": [],
   "source": [
    "nombre_archivo = \"dataset_volcanes.csv\"\n",
    "ruta_particular = \"..\"\n",
    "ruta_archivo_modificaciones = os.path.join(os.getcwd(), ruta_particular, nombre_archivo)\n",
    "with open(ruta_archivo_modificaciones, \"w\", newline=\"\", encoding=\"UTF-8\") as archivo_modificaciones:\n",
    "    writer = csv.writer(archivo_modificaciones)\n",
    "    writer.writerow([cabecera[0], cabecera[11], cabecera[9],\n",
    "                     cabecera[3], cabecera[4], \"Name and country\"\n",
    "                     ])\n",
    "    writer.writerows(erupciones_procesado)\n"
   ]
  }
 ],
 "metadata": {
  "celltoolbar": "Slideshow",
  "kernelspec": {
   "display_name": "Python 3 (ipykernel)",
   "language": "python",
   "name": "python3"
  },
  "language_info": {
   "codemirror_mode": {
    "name": "ipython",
    "version": 3
   },
   "file_extension": ".py",
   "mimetype": "text/x-python",
   "name": "python",
   "nbconvert_exporter": "python",
   "pygments_lexer": "ipython3",
   "version": "3.10.2"
  }
 },
 "nbformat": 4,
 "nbformat_minor": 5
}
