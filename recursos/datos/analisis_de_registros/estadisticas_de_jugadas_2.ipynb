{
 "cells": [
  {
   "cell_type": "markdown",
   "metadata": {},
   "source": [
    "# **Análisis de las jugadas 2**"
   ]
  },
  {
   "cell_type": "markdown",
   "metadata": {},
   "source": [
    "### Instalar e importar las librerias para el analisis de las partidas"
   ]
  },
  {
   "cell_type": "code",
   "execution_count": 6,
   "metadata": {},
   "outputs": [
    {
     "name": "stdout",
     "output_type": "stream",
     "text": [
      "Requirement already satisfied: pandas in f:\\cosas\\lenguajes y programacion\\python\\lib\\site-packages (1.4.2)\n",
      "Requirement already satisfied: pytz>=2020.1 in f:\\cosas\\lenguajes y programacion\\python\\lib\\site-packages (from pandas) (2022.1)\n",
      "Requirement already satisfied: python-dateutil>=2.8.1 in f:\\cosas\\lenguajes y programacion\\python\\lib\\site-packages (from pandas) (2.8.2)\n",
      "Requirement already satisfied: numpy>=1.21.0 in f:\\cosas\\lenguajes y programacion\\python\\lib\\site-packages (from pandas) (1.22.4)\n",
      "Requirement already satisfied: six>=1.5 in f:\\cosas\\lenguajes y programacion\\python\\lib\\site-packages (from python-dateutil>=2.8.1->pandas) (1.16.0)\n"
     ]
    },
    {
     "name": "stderr",
     "output_type": "stream",
     "text": [
      "WARNING: You are using pip version 22.0.4; however, version 22.1.2 is available.\n",
      "You should consider upgrading via the 'F:\\Cosas\\Lenguajes y Programacion\\Python\\python.exe -m pip install --upgrade pip' command.\n",
      "ERROR: Could not install packages due to an OSError: (\"Connection broken: OSError(28, 'No space left on device')\", OSError(28, 'No space left on device'))\n",
      "\n",
      "WARNING: You are using pip version 22.0.4; however, version 22.1.2 is available.\n",
      "You should consider upgrading via the 'F:\\Cosas\\Lenguajes y Programacion\\Python\\python.exe -m pip install --upgrade pip' command.\n"
     ]
    }
   ],
   "source": [
    "! pip install pandas\n",
    "! pip install matplotlib"
   ]
  },
  {
   "cell_type": "code",
   "execution_count": 7,
   "metadata": {},
   "outputs": [
    {
     "ename": "ModuleNotFoundError",
     "evalue": "No module named 'matplotlib'",
     "output_type": "error",
     "traceback": [
      "\u001b[1;31m---------------------------------------------------------------------------\u001b[0m",
      "\u001b[1;31mModuleNotFoundError\u001b[0m                       Traceback (most recent call last)",
      "\u001b[1;32md:\\unlp\\TP Integrador\\grupo10\\recursos\\datos\\notebooks_pandas\\estadisticas_de_jugadas_2.ipynb Cell 4'\u001b[0m in \u001b[0;36m<cell line: 3>\u001b[1;34m()\u001b[0m\n\u001b[0;32m      <a href='vscode-notebook-cell:/d%3A/unlp/TP%20Integrador/grupo10/recursos/datos/notebooks_pandas/estadisticas_de_jugadas_2.ipynb#ch0000003?line=0'>1</a>\u001b[0m \u001b[39mimport\u001b[39;00m \u001b[39mpandas\u001b[39;00m \u001b[39mas\u001b[39;00m \u001b[39mpd\u001b[39;00m\n\u001b[0;32m      <a href='vscode-notebook-cell:/d%3A/unlp/TP%20Integrador/grupo10/recursos/datos/notebooks_pandas/estadisticas_de_jugadas_2.ipynb#ch0000003?line=1'>2</a>\u001b[0m \u001b[39mimport\u001b[39;00m \u001b[39mos\u001b[39;00m\n\u001b[1;32m----> <a href='vscode-notebook-cell:/d%3A/unlp/TP%20Integrador/grupo10/recursos/datos/notebooks_pandas/estadisticas_de_jugadas_2.ipynb#ch0000003?line=2'>3</a>\u001b[0m \u001b[39mimport\u001b[39;00m \u001b[39mmatplotlib\u001b[39;00m\u001b[39m.\u001b[39;00m\u001b[39mpyplot\u001b[39;00m \u001b[39mas\u001b[39;00m \u001b[39mplt\u001b[39;00m\n\u001b[0;32m      <a href='vscode-notebook-cell:/d%3A/unlp/TP%20Integrador/grupo10/recursos/datos/notebooks_pandas/estadisticas_de_jugadas_2.ipynb#ch0000003?line=3'>4</a>\u001b[0m \u001b[39mimport\u001b[39;00m \u001b[39mtime\u001b[39;00m\n",
      "\u001b[1;31mModuleNotFoundError\u001b[0m: No module named 'matplotlib'"
     ]
    }
   ],
   "source": [
    "import pandas as pd\n",
    "import os\n",
    "import matplotlib.pyplot as plt\n",
    "import time"
   ]
  },
  {
   "cell_type": "markdown",
   "metadata": {},
   "source": [
    "#### Se importa el archivo y se crea el dataFrame"
   ]
  },
  {
   "cell_type": "code",
   "execution_count": null,
   "metadata": {},
   "outputs": [],
   "source": [
    "path_archivo = os.path.join(os.path.realpath('..'), '..', 'registros', 'datos_de_jugadas.csv')\n",
    "try:\n",
    "    data_set = pd.read_csv(path_archivo, encoding='utf-8')\n",
    "except FileNotFoundError:\n",
    "    print('No se encontró el registro de jugadas')"
   ]
  },
  {
   "cell_type": "code",
   "execution_count": null,
   "metadata": {},
   "outputs": [
    {
     "name": "stdout",
     "output_type": "stream",
     "text": [
      "<class 'pandas.core.frame.DataFrame'>\n",
      "RangeIndex: 370 entries, 0 to 369\n",
      "Data columns (total 10 columns):\n",
      " #   Column           Non-Null Count  Dtype  \n",
      "---  ------           --------------  -----  \n",
      " 0   timestamp        370 non-null    float64\n",
      " 1   id               370 non-null    object \n",
      " 2   evento           370 non-null    object \n",
      " 3   nombre_jugador   370 non-null    object \n",
      " 4   edad_jugador     370 non-null    int64  \n",
      " 5   genero_jugador   370 non-null    object \n",
      " 6   estado           296 non-null    object \n",
      " 7   texto_ingresado  238 non-null    object \n",
      " 8   respuesta        283 non-null    object \n",
      " 9   nivel            370 non-null    object \n",
      "dtypes: float64(1), int64(1), object(8)\n",
      "memory usage: 29.0+ KB\n"
     ]
    }
   ],
   "source": [
    "data_set.info()"
   ]
  },
  {
   "cell_type": "markdown",
   "metadata": {},
   "source": [
    "# Estadísticas"
   ]
  },
  {
   "cell_type": "markdown",
   "metadata": {},
   "source": [
    "### Mejor Tiempo de Respuesta Correcta"
   ]
  },
  {
   "cell_type": "markdown",
   "metadata": {},
   "source": [
    "* Tomo las filas que me sirven para hacer los cálculos."
   ]
  },
  {
   "cell_type": "code",
   "execution_count": null,
   "metadata": {},
   "outputs": [],
   "source": [
    "jugadas = data_set[(data_set[\"evento\"] == \"intento\") | (data_set[\"evento\"] == \"inicio_partida\")]"
   ]
  },
  {
   "cell_type": "markdown",
   "metadata": {},
   "source": [
    "* Duplico el dataFrame, uno de sin la primer fila y el otro sin la última. Lugo resto para obtener la duración de la respuesta."
   ]
  },
  {
   "cell_type": "code",
   "execution_count": null,
   "metadata": {},
   "outputs": [],
   "source": [
    "last = jugadas.index[len(jugadas.index) - 1]\n",
    "jugadas_resta = jugadas.drop(last).reset_index()\n",
    "jugadas = jugadas.drop(0).reset_index()\n",
    "\n",
    "jugadas['timestamp'] = jugadas['timestamp'] - jugadas_resta['timestamp']"
   ]
  },
  {
   "cell_type": "markdown",
   "metadata": {},
   "source": [
    "* Busco el que tenga menor tiempo y acomodo para mostrar."
   ]
  },
  {
   "cell_type": "code",
   "execution_count": null,
   "metadata": {},
   "outputs": [
    {
     "data": {
      "text/html": [
       "<div>\n",
       "<style scoped>\n",
       "    .dataframe tbody tr th:only-of-type {\n",
       "        vertical-align: middle;\n",
       "    }\n",
       "\n",
       "    .dataframe tbody tr th {\n",
       "        vertical-align: top;\n",
       "    }\n",
       "\n",
       "    .dataframe thead th {\n",
       "        text-align: right;\n",
       "    }\n",
       "</style>\n",
       "<table border=\"1\" class=\"dataframe\">\n",
       "  <thead>\n",
       "    <tr style=\"text-align: right;\">\n",
       "      <th></th>\n",
       "      <th>tiempo</th>\n",
       "      <th>id</th>\n",
       "      <th>evento</th>\n",
       "      <th>nombre_jugador</th>\n",
       "      <th>edad_jugador</th>\n",
       "      <th>genero_jugador</th>\n",
       "      <th>estado</th>\n",
       "      <th>texto_ingresado</th>\n",
       "      <th>respuesta</th>\n",
       "      <th>nivel</th>\n",
       "    </tr>\n",
       "  </thead>\n",
       "  <tbody>\n",
       "    <tr>\n",
       "      <th>142</th>\n",
       "      <td>1.112036</td>\n",
       "      <td>eea14e95-9cbb-4e8d-99b4-86bc8773340b</td>\n",
       "      <td>intento</td>\n",
       "      <td>Trinity</td>\n",
       "      <td>55</td>\n",
       "      <td>Femenino</td>\n",
       "      <td>ok</td>\n",
       "      <td>Adam Hloušek</td>\n",
       "      <td>Adam Hloušek</td>\n",
       "      <td>Personalizado</td>\n",
       "    </tr>\n",
       "  </tbody>\n",
       "</table>\n",
       "</div>"
      ],
      "text/plain": [
       "       tiempo                                    id   evento nombre_jugador  \\\n",
       "142  1.112036  eea14e95-9cbb-4e8d-99b4-86bc8773340b  intento        Trinity   \n",
       "\n",
       "     edad_jugador genero_jugador estado texto_ingresado     respuesta  \\\n",
       "142            55       Femenino     ok    Adam Hloušek  Adam Hloušek   \n",
       "\n",
       "             nivel  \n",
       "142  Personalizado  "
      ]
     },
     "execution_count": 30,
     "metadata": {},
     "output_type": "execute_result"
    }
   ],
   "source": [
    "jugadas = jugadas[(jugadas[\"evento\"] == \"intento\") & (jugadas[\"estado\"] == \"ok\")]\n",
    "tiempo_min = jugadas['timestamp'].min()\n",
    "\n",
    "jugadas = jugadas.rename(columns={'timestamp': 'tiempo'}).drop('index', axis='columns')\n",
    "jugadas[jugadas['tiempo'] == tiempo_min]"
   ]
  },
  {
   "cell_type": "markdown",
   "metadata": {},
   "source": [
    "### Promedio de tiempo de respuestas exitosas"
   ]
  },
  {
   "cell_type": "markdown",
   "metadata": {},
   "source": [
    "* Tomo las filas que me sirven para hacer los cálculos."
   ]
  },
  {
   "cell_type": "code",
   "execution_count": null,
   "metadata": {},
   "outputs": [],
   "source": [
    "jugadas = data_set[(data_set[\"evento\"] == \"intento\") | (data_set[\"evento\"] == \"inicio_partida\")]"
   ]
  },
  {
   "cell_type": "markdown",
   "metadata": {},
   "source": [
    "* Duplico el dataFrame, uno de sin la primer fila y el otro sin la última. Lugo resto para obtener la duración de la respuesta."
   ]
  },
  {
   "cell_type": "code",
   "execution_count": null,
   "metadata": {},
   "outputs": [],
   "source": [
    "last = jugadas.index[len(jugadas.index) - 1]\n",
    "jugadas_resta = jugadas.drop(last).reset_index()\n",
    "jugadas = jugadas.drop(0).reset_index()\n",
    "\n",
    "jugadas['timestamp'] = jugadas['timestamp'] - jugadas_resta['timestamp']"
   ]
  },
  {
   "cell_type": "markdown",
   "metadata": {},
   "source": [
    "* Filtro el dataFrame por respuesta correcta y obtengo el promedio de tiempo. Luego adapto para mostrar."
   ]
  },
  {
   "cell_type": "code",
   "execution_count": null,
   "metadata": {},
   "outputs": [
    {
     "data": {
      "text/html": [
       "<div>\n",
       "<style scoped>\n",
       "    .dataframe tbody tr th:only-of-type {\n",
       "        vertical-align: middle;\n",
       "    }\n",
       "\n",
       "    .dataframe tbody tr th {\n",
       "        vertical-align: top;\n",
       "    }\n",
       "\n",
       "    .dataframe thead th {\n",
       "        text-align: right;\n",
       "    }\n",
       "</style>\n",
       "<table border=\"1\" class=\"dataframe\">\n",
       "  <thead>\n",
       "    <tr style=\"text-align: right;\">\n",
       "      <th></th>\n",
       "      <th>promedio de tiempo</th>\n",
       "    </tr>\n",
       "  </thead>\n",
       "  <tbody>\n",
       "    <tr>\n",
       "      <th>0</th>\n",
       "      <td>5.070452</td>\n",
       "    </tr>\n",
       "  </tbody>\n",
       "</table>\n",
       "</div>"
      ],
      "text/plain": [
       "   promedio de tiempo\n",
       "0            5.070452"
      ]
     },
     "execution_count": 33,
     "metadata": {},
     "output_type": "execute_result"
    }
   ],
   "source": [
    "jugadas = jugadas[jugadas[\"estado\"] == \"ok\"]\n",
    "tiempo = jugadas['timestamp'].sum() / len(jugadas)\n",
    "\n",
    "jugadas = jugadas.loc[ :0, ['timestamp']].rename(columns={'timestamp': 'promedio de tiempo'})\n",
    "jugadas['promedio de tiempo'] = tiempo\n",
    "jugadas"
   ]
  },
  {
   "cell_type": "markdown",
   "metadata": {},
   "source": [
    "### Promedio de tiempo de partida"
   ]
  },
  {
   "cell_type": "markdown",
   "metadata": {},
   "source": [
    "* Tomo las filas que me sirven. "
   ]
  },
  {
   "cell_type": "code",
   "execution_count": null,
   "metadata": {},
   "outputs": [],
   "source": [
    "partida = data_set[data_set[\"evento\"] == \"inicio_partida\"].reset_index()\n",
    "fin = data_set[data_set[\"evento\"] == \"fin\"].reset_index()\n",
    "\n",
    "columnas = data_set[['id', 'timestamp', 'evento']]\n",
    "partida = columnas[columnas['evento'].isin(['inicio_partida'])]\n",
    "fin = columnas[columnas['evento'].isin(['fin'])]\n",
    "\n",
    "partida = partida.rename(columns={'timestamp': 'tiempo_inicio'})\n",
    "fin = fin.rename(columns={'timestamp': 'tiempo_fin'})\n"
   ]
  },
  {
   "cell_type": "markdown",
   "metadata": {},
   "source": [
    "* Hago un merge de las partidas por id y obtengo el promedio del tiempo de partida."
   ]
  },
  {
   "cell_type": "code",
   "execution_count": null,
   "metadata": {},
   "outputs": [],
   "source": [
    "partida = pd.merge(partida, fin[['id', 'tiempo_fin']], how='right')\n",
    "\n",
    "partida['duracion'] = partida['tiempo_fin'] - partida['tiempo_inicio']\n",
    "tiempo = partida['duracion'].sum() / len(partida)"
   ]
  },
  {
   "cell_type": "markdown",
   "metadata": {},
   "source": [
    "* Acomodo para presentar el resultado."
   ]
  },
  {
   "cell_type": "code",
   "execution_count": null,
   "metadata": {},
   "outputs": [
    {
     "data": {
      "text/html": [
       "<div>\n",
       "<style scoped>\n",
       "    .dataframe tbody tr th:only-of-type {\n",
       "        vertical-align: middle;\n",
       "    }\n",
       "\n",
       "    .dataframe tbody tr th {\n",
       "        vertical-align: top;\n",
       "    }\n",
       "\n",
       "    .dataframe thead th {\n",
       "        text-align: right;\n",
       "    }\n",
       "</style>\n",
       "<table border=\"1\" class=\"dataframe\">\n",
       "  <thead>\n",
       "    <tr style=\"text-align: right;\">\n",
       "      <th></th>\n",
       "      <th>promedio de tiempo</th>\n",
       "    </tr>\n",
       "  </thead>\n",
       "  <tbody>\n",
       "    <tr>\n",
       "      <th>0</th>\n",
       "      <td>30.729038</td>\n",
       "    </tr>\n",
       "  </tbody>\n",
       "</table>\n",
       "</div>"
      ],
      "text/plain": [
       "   promedio de tiempo\n",
       "0           30.729038"
      ]
     },
     "execution_count": 5,
     "metadata": {},
     "output_type": "execute_result"
    }
   ],
   "source": [
    "partida = partida.loc[ :0, ['duracion']].rename(columns={'duracion': 'promedio de tiempo'})\n",
    "partida['promedio de tiempo'] = tiempo\n",
    "partida"
   ]
  },
  {
   "cell_type": "markdown",
   "metadata": {},
   "source": [
    "### Porcentaje de aciertos por usuario"
   ]
  },
  {
   "cell_type": "markdown",
   "metadata": {},
   "source": [
    "* Filtro el dataFrame por las filas que necesito y obtengo cuantas veces aparece el mismo usuario."
   ]
  },
  {
   "cell_type": "code",
   "execution_count": null,
   "metadata": {},
   "outputs": [],
   "source": [
    "jugadas = data_set[data_set[\"evento\"] == \"intento\"]\n",
    "jugadores = jugadas[\"nombre_jugador\"].value_counts()"
   ]
  },
  {
   "cell_type": "markdown",
   "metadata": {},
   "source": [
    "* Genero el dataFrame para los resultados."
   ]
  },
  {
   "cell_type": "code",
   "execution_count": null,
   "metadata": {},
   "outputs": [],
   "source": [
    "res = pd.DataFrame({'jugador' : [], 'aciertos': [], 'errores': [], 'porcentaje de aciertos' : []})"
   ]
  },
  {
   "cell_type": "markdown",
   "metadata": {},
   "source": [
    "* Para cada usuario guardo en los resultados la cantidad de aciertos y errores, además del porcentaje de acierto."
   ]
  },
  {
   "cell_type": "code",
   "execution_count": null,
   "metadata": {},
   "outputs": [
    {
     "data": {
      "text/html": [
       "<div>\n",
       "<style scoped>\n",
       "    .dataframe tbody tr th:only-of-type {\n",
       "        vertical-align: middle;\n",
       "    }\n",
       "\n",
       "    .dataframe tbody tr th {\n",
       "        vertical-align: top;\n",
       "    }\n",
       "\n",
       "    .dataframe thead th {\n",
       "        text-align: right;\n",
       "    }\n",
       "</style>\n",
       "<table border=\"1\" class=\"dataframe\">\n",
       "  <thead>\n",
       "    <tr style=\"text-align: right;\">\n",
       "      <th></th>\n",
       "      <th>jugador</th>\n",
       "      <th>aciertos</th>\n",
       "      <th>errores</th>\n",
       "      <th>porcentaje de aciertos</th>\n",
       "    </tr>\n",
       "  </thead>\n",
       "  <tbody>\n",
       "    <tr>\n",
       "      <th>0</th>\n",
       "      <td>Fuwa</td>\n",
       "      <td>16</td>\n",
       "      <td>38</td>\n",
       "      <td>29%</td>\n",
       "    </tr>\n",
       "    <tr>\n",
       "      <th>1</th>\n",
       "      <td>NEO</td>\n",
       "      <td>10</td>\n",
       "      <td>41</td>\n",
       "      <td>19%</td>\n",
       "    </tr>\n",
       "    <tr>\n",
       "      <th>2</th>\n",
       "      <td>Trinity</td>\n",
       "      <td>9</td>\n",
       "      <td>36</td>\n",
       "      <td>20%</td>\n",
       "    </tr>\n",
       "    <tr>\n",
       "      <th>3</th>\n",
       "      <td>Yoda</td>\n",
       "      <td>9</td>\n",
       "      <td>24</td>\n",
       "      <td>27%</td>\n",
       "    </tr>\n",
       "    <tr>\n",
       "      <th>4</th>\n",
       "      <td>Yayo</td>\n",
       "      <td>10</td>\n",
       "      <td>21</td>\n",
       "      <td>32%</td>\n",
       "    </tr>\n",
       "    <tr>\n",
       "      <th>5</th>\n",
       "      <td>El Jose</td>\n",
       "      <td>2</td>\n",
       "      <td>7</td>\n",
       "      <td>22%</td>\n",
       "    </tr>\n",
       "    <tr>\n",
       "      <th>6</th>\n",
       "      <td>Amelia</td>\n",
       "      <td>0</td>\n",
       "      <td>9</td>\n",
       "      <td>0%</td>\n",
       "    </tr>\n",
       "    <tr>\n",
       "      <th>7</th>\n",
       "      <td>kaggel</td>\n",
       "      <td>1</td>\n",
       "      <td>5</td>\n",
       "      <td>16%</td>\n",
       "    </tr>\n",
       "  </tbody>\n",
       "</table>\n",
       "</div>"
      ],
      "text/plain": [
       "   jugador  aciertos  errores porcentaje de aciertos\n",
       "0     Fuwa        16       38                    29%\n",
       "1      NEO        10       41                    19%\n",
       "2  Trinity         9       36                    20%\n",
       "3     Yoda         9       24                    27%\n",
       "4     Yayo        10       21                    32%\n",
       "5  El Jose         2        7                    22%\n",
       "6   Amelia         0        9                     0%\n",
       "7   kaggel         1        5                    16%"
      ]
     },
     "execution_count": 39,
     "metadata": {},
     "output_type": "execute_result"
    }
   ],
   "source": [
    "for x in jugadores.keys():\n",
    "    jugador = jugadas[jugadas['nombre_jugador'] == x]['estado'].value_counts()\n",
    "    if 'ok' in jugador:\n",
    "        aciertos = jugador['ok']\n",
    "    else:\n",
    "        aciertos = 0\n",
    "    if 'error' in jugador:\n",
    "        errores = jugador['error']\n",
    "    fila = pd.DataFrame({'jugador' : [x], 'aciertos': [aciertos], 'errores': errores, \n",
    "            'porcentaje de aciertos' : [f'{int(aciertos / jugadores[x] * 100)}%']})\n",
    "    res = pd.concat([res, fila], ignore_index=True)\n",
    "res = res.astype({'aciertos': 'int64', 'errores': 'int64'})\n",
    "\n",
    "res"
   ]
  },
  {
   "cell_type": "markdown",
   "metadata": {},
   "source": [
    "### Cantidad de tarjetas para las que el usuarie no dió respuesta (timeout)."
   ]
  },
  {
   "cell_type": "markdown",
   "metadata": {},
   "source": [
    "* Obtengo la cantidad de veces que un jugador no respondió y el total de jugadores."
   ]
  },
  {
   "cell_type": "code",
   "execution_count": null,
   "metadata": {},
   "outputs": [],
   "source": [
    "jugadas = data_set[data_set[\"evento\"] == \"timeout\"][\"nombre_jugador\"].value_counts()\n",
    "jugadores = data_set[\"nombre_jugador\"].value_counts().keys()"
   ]
  },
  {
   "cell_type": "markdown",
   "metadata": {},
   "source": [
    "* Adapto el dataFrame para mostrar."
   ]
  },
  {
   "cell_type": "code",
   "execution_count": null,
   "metadata": {},
   "outputs": [
    {
     "data": {
      "text/html": [
       "<div>\n",
       "<style scoped>\n",
       "    .dataframe tbody tr th:only-of-type {\n",
       "        vertical-align: middle;\n",
       "    }\n",
       "\n",
       "    .dataframe tbody tr th {\n",
       "        vertical-align: top;\n",
       "    }\n",
       "\n",
       "    .dataframe thead th {\n",
       "        text-align: right;\n",
       "    }\n",
       "</style>\n",
       "<table border=\"1\" class=\"dataframe\">\n",
       "  <thead>\n",
       "    <tr style=\"text-align: right;\">\n",
       "      <th></th>\n",
       "      <th>jugador</th>\n",
       "      <th>Cantidad de tarjetas sin responder</th>\n",
       "    </tr>\n",
       "  </thead>\n",
       "  <tbody>\n",
       "    <tr>\n",
       "      <th>0</th>\n",
       "      <td>Yayo</td>\n",
       "      <td>5</td>\n",
       "    </tr>\n",
       "    <tr>\n",
       "      <th>1</th>\n",
       "      <td>NEO</td>\n",
       "      <td>3</td>\n",
       "    </tr>\n",
       "    <tr>\n",
       "      <th>2</th>\n",
       "      <td>Trinity</td>\n",
       "      <td>2</td>\n",
       "    </tr>\n",
       "    <tr>\n",
       "      <th>3</th>\n",
       "      <td>kaggel</td>\n",
       "      <td>2</td>\n",
       "    </tr>\n",
       "    <tr>\n",
       "      <th>4</th>\n",
       "      <td>Fuwa</td>\n",
       "      <td>2</td>\n",
       "    </tr>\n",
       "    <tr>\n",
       "      <th>5</th>\n",
       "      <td>Amelia</td>\n",
       "      <td>1</td>\n",
       "    </tr>\n",
       "  </tbody>\n",
       "</table>\n",
       "</div>"
      ],
      "text/plain": [
       "   jugador  Cantidad de tarjetas sin responder\n",
       "0     Yayo                                   5\n",
       "1      NEO                                   3\n",
       "2  Trinity                                   2\n",
       "3   kaggel                                   2\n",
       "4     Fuwa                                   2\n",
       "5   Amelia                                   1"
      ]
     },
     "execution_count": 41,
     "metadata": {},
     "output_type": "execute_result"
    }
   ],
   "source": [
    "jugadas = pd.DataFrame(jugadas).reset_index()\n",
    "jugadas.columns = ['jugador', 'Cantidad de tarjetas sin responder']\n",
    "jugadas"
   ]
  },
  {
   "cell_type": "markdown",
   "metadata": {},
   "source": [
    "### Cantidad de tarjetas en las que el usuarie dió una respuesta errónea."
   ]
  },
  {
   "cell_type": "markdown",
   "metadata": {},
   "source": [
    "* Obtengo la cantidad de veces que un jugador respondió mal y el total de jugadores."
   ]
  },
  {
   "cell_type": "code",
   "execution_count": null,
   "metadata": {},
   "outputs": [],
   "source": [
    "jugadas = data_set[(data_set[\"evento\"] == \"intento\") & (data_set[\"estado\"] == \"error\")][\"nombre_jugador\"].value_counts()\n",
    "jugadores = data_set[\"nombre_jugador\"].value_counts().keys()"
   ]
  },
  {
   "cell_type": "markdown",
   "metadata": {},
   "source": [
    "* Adapto el dataFrame para mostrar."
   ]
  },
  {
   "cell_type": "code",
   "execution_count": null,
   "metadata": {},
   "outputs": [
    {
     "data": {
      "text/html": [
       "<div>\n",
       "<style scoped>\n",
       "    .dataframe tbody tr th:only-of-type {\n",
       "        vertical-align: middle;\n",
       "    }\n",
       "\n",
       "    .dataframe tbody tr th {\n",
       "        vertical-align: top;\n",
       "    }\n",
       "\n",
       "    .dataframe thead th {\n",
       "        text-align: right;\n",
       "    }\n",
       "</style>\n",
       "<table border=\"1\" class=\"dataframe\">\n",
       "  <thead>\n",
       "    <tr style=\"text-align: right;\">\n",
       "      <th></th>\n",
       "      <th>jugador</th>\n",
       "      <th>Cantidad de respuestas erroneas</th>\n",
       "    </tr>\n",
       "  </thead>\n",
       "  <tbody>\n",
       "    <tr>\n",
       "      <th>0</th>\n",
       "      <td>NEO</td>\n",
       "      <td>41</td>\n",
       "    </tr>\n",
       "    <tr>\n",
       "      <th>1</th>\n",
       "      <td>Fuwa</td>\n",
       "      <td>38</td>\n",
       "    </tr>\n",
       "    <tr>\n",
       "      <th>2</th>\n",
       "      <td>Trinity</td>\n",
       "      <td>36</td>\n",
       "    </tr>\n",
       "    <tr>\n",
       "      <th>3</th>\n",
       "      <td>Yoda</td>\n",
       "      <td>24</td>\n",
       "    </tr>\n",
       "    <tr>\n",
       "      <th>4</th>\n",
       "      <td>Yayo</td>\n",
       "      <td>21</td>\n",
       "    </tr>\n",
       "    <tr>\n",
       "      <th>5</th>\n",
       "      <td>Amelia</td>\n",
       "      <td>9</td>\n",
       "    </tr>\n",
       "    <tr>\n",
       "      <th>6</th>\n",
       "      <td>El Jose</td>\n",
       "      <td>7</td>\n",
       "    </tr>\n",
       "    <tr>\n",
       "      <th>7</th>\n",
       "      <td>kaggel</td>\n",
       "      <td>5</td>\n",
       "    </tr>\n",
       "  </tbody>\n",
       "</table>\n",
       "</div>"
      ],
      "text/plain": [
       "   jugador  Cantidad de respuestas erroneas\n",
       "0      NEO                               41\n",
       "1     Fuwa                               38\n",
       "2  Trinity                               36\n",
       "3     Yoda                               24\n",
       "4     Yayo                               21\n",
       "5   Amelia                                9\n",
       "6  El Jose                                7\n",
       "7   kaggel                                5"
      ]
     },
     "execution_count": 43,
     "metadata": {},
     "output_type": "execute_result"
    }
   ],
   "source": [
    "jugadas = pd.DataFrame(jugadas).reset_index()\n",
    "jugadas.columns = ['jugador', 'Cantidad de respuestas erroneas']\n",
    "jugadas"
   ]
  },
  {
   "cell_type": "markdown",
   "metadata": {},
   "source": [
    "###  Gráfico que muestre el porcentaje de partidas que se juegan para cada día de la semana."
   ]
  },
  {
   "cell_type": "markdown",
   "metadata": {},
   "source": [
    "* Para obtener un registro por día elimino duplicados según la columna que identifica cada jugada. De cada fila del DataFrame me quedo con la columna de marca temporal, le aplico una función para obtener la descripción de ese tiempo y me quedo con las primeras posiciones del str que identifican el día de la semana."
   ]
  },
  {
   "cell_type": "code",
   "execution_count": null,
   "metadata": {},
   "outputs": [
    {
     "data": {
      "text/plain": [
       "0     Thu\n",
       "11    Thu\n",
       "23    Thu\n",
       "29    Fri\n",
       "31    Sat\n",
       "39    Sat\n",
       "46    Sat\n",
       "58    Sat\n",
       "65    Sat\n",
       "72    Sat\n",
       "Name: timestamp, dtype: object"
      ]
     },
     "execution_count": 44,
     "metadata": {},
     "output_type": "execute_result"
    }
   ],
   "source": [
    "calculo_por_dia = data_set.drop_duplicates('id')\n",
    "calculo_por_dia = calculo_por_dia.timestamp.apply(lambda x: time.ctime(x)).str[:3]\n",
    "calculo_por_dia.head(10)"
   ]
  },
  {
   "cell_type": "markdown",
   "metadata": {},
   "source": [
    "* Aplico una función para obtener el nombre del día en castellano a partir del diccionario _traduccion_. Cuento las apariciones de cada día y paso esos valores a porcentajes"
   ]
  },
  {
   "cell_type": "code",
   "execution_count": null,
   "metadata": {},
   "outputs": [
    {
     "data": {
      "text/plain": [
       "Sábado       25.000000\n",
       "Viernes      22.727273\n",
       "Jueves       18.181818\n",
       "Martes       13.636364\n",
       "Miércoles    13.636364\n",
       "Lunes         4.545455\n",
       "Domingo       2.272727\n",
       "Name: timestamp, dtype: float64"
      ]
     },
     "execution_count": 45,
     "metadata": {},
     "output_type": "execute_result"
    }
   ],
   "source": [
    "traduccion = {'Mon': 'Lunes', 'Tue': 'Martes', 'Wed': 'Miércoles', 'Thu': 'Jueves', 'Fri': 'Viernes', 'Sat': 'Sábado', 'Sun': 'Domingo'}\n",
    "calculo_por_dia = calculo_por_dia.apply(lambda x: traduccion[x])\n",
    "calculo_por_dia = calculo_por_dia.value_counts()\n",
    "calculo_por_dia = calculo_por_dia / calculo_por_dia.sum() *100\n",
    "calculo_por_dia"
   ]
  },
  {
   "cell_type": "markdown",
   "metadata": {},
   "source": [
    "* Utilizando Matplotlib configuro el gráfico para mostrar los datos obtenidos"
   ]
  },
  {
   "cell_type": "code",
   "execution_count": null,
   "metadata": {},
   "outputs": [
    {
     "data": {
      "image/png": "[encoded data removed]",
      "text/plain": [
       "<Figure size 576x432 with 1 Axes>"
      ]
     },
     "metadata": {
      "needs_background": "light"
     },
     "output_type": "display_data"
    }
   ],
   "source": [
    "valores = [calculo_por_dia[list(traduccion.values())[i]] for i in range(7)]\n",
    "colores = [\"#6897BB\", \"#FFD97D\", \"#BD4267\", \"#39B7AC\", \"#CC7832\", \"#60D394\", \"#EE6055\"]\n",
    "plt.figure(figsize=(8, 6))\n",
    "plt.rcParams.update({'font.size': 12})\n",
    "plt.bar(traduccion.values(), valores, color=colores)\n",
    "plt.title('Porcentaje de partidas por día de la semana', fontdict=dict(fontsize=16, fontweight='bold'), pad=20, color='Black')\n",
    "plt.ylabel('Porcentaje sobre el total de partidas')\n",
    "plt.xlabel('Día de la semana')\n",
    "plt.yticks([num for num in range(0, 101, 10)])\n",
    "for indice, valor in enumerate(valores):\n",
    "    plt.text(indice, valor+3, f'{valor.round(2):.2f}%', ha='center', fontdict=dict(fontsize=12, fontweight='bold'), va='center')\n",
    "plt.show()"
   ]
  }
 ],
 "metadata": {
  "interpreter": {
   "hash": "5f9139f9df703c4900791d724667c4274e3438d1e3cc064cf63d94dba106917f"
  },
  "kernelspec": {
   "display_name": "Python 3.10.3 64-bit",
   "language": "python",
   "name": "python3"
  },
  "language_info": {
   "codemirror_mode": {
    "name": "ipython",
    "version": 3
   },
   "file_extension": ".py",
   "mimetype": "text/x-python",
   "name": "python",
   "nbconvert_exporter": "python",
   "pygments_lexer": "ipython3",
   "version": "3.10.3"
  },
  "vscode": {
   "interpreter": {
    "hash": "f74958d2c2063dfa50096d28483b11c3f9df58d37b8ca249bcb33f0785b7e6e5"
   }
  }
 },
 "nbformat": 4,
 "nbformat_minor": 2
}
